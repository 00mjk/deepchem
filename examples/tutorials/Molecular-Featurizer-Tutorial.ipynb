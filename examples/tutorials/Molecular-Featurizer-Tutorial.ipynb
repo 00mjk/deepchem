{
 "cells": [
  {
   "cell_type": "markdown",
   "metadata": {},
   "source": [
    "## Molecular Featurization Tutorial\n",
    "\n",
    "In this tutorial,  we explore the different featurization methods available for molecules. These featurization methods include:\n",
    "\n",
    "1. `ConvMolFeaturizer`, \n",
    "2. `WeaveFeaturizer`, \n",
    "3. `CircularFingerprints`\n",
    "4. `RDKitDescriptors`\n",
    "5. `BPSymmetryFunction`\n",
    "6. `CoulombMatrix`\n",
    "7. `CoulombMatrixEig`\n",
    "8. `AdjacencyFingerprints`"
   ]
  },
  {
   "cell_type": "markdown",
   "metadata": {},
   "source": [
    "Let's start with some basic imports"
   ]
  },
  {
   "cell_type": "code",
   "execution_count": null,
   "metadata": {},
   "outputs": [],
   "source": [
    "from __future__ import print_function\n",
    "from __future__ import division\n",
    "from __future__ import unicode_literals\n",
    "\n",
    "import numpy as np\n",
    "from rdkit import Chem\n",
    "\n",
    "from deepchem.feat import ConvMolFeaturizer, WeaveFeaturizer, CircularFingerprint\n",
    "from deepchem.feat import AdjacencyFingerprint, RDKitDescriptors\n",
    "from deepchem.feat import BPSymmetryFunction, CoulombMatrix, CoulombMatrixEig\n",
    "from deepchem.utils import conformers"
   ]
  },
  {
   "cell_type": "markdown",
   "metadata": {},
   "source": [
    "We use `propane`( $CH_3 CH_2 CH_3 $ ) as a running example throughout this tutorial. Many of the featurization methods use conformers or the molecules. A conformer can be generated using the `ConformerGenerator` class in `deepchem.utils.conformers`. "
   ]
  },
  {
   "cell_type": "markdown",
   "metadata": {},
   "source": [
    "### RDKitDescriptors"
   ]
  },
  {
   "cell_type": "markdown",
   "metadata": {},
   "source": [
    "`RDKitDescriptors` featurizes a molecule by computing descriptors values for specified descriptors. Intrinsic to the featurizer is a set of allowed descriptors, which can be accessed using `RDKitDescriptors.allowedDescriptors`.\n",
    "\n",
    "The featurizer uses the descriptors in `rdkit.Chem.Descriptors.descList`, checks if they are in the list of allowed descriptors and computes the descriptor value for the molecule."
   ]
  },
  {
   "cell_type": "code",
   "execution_count": null,
   "metadata": {},
   "outputs": [],
   "source": [
    "example_smile = \"CCC\"\n",
    "example_mol = Chem.MolFromSmiles(example_smile)"
   ]
  },
  {
   "cell_type": "markdown",
   "metadata": {},
   "source": [
    "Let's check the allowed list of descriptors (Uncomment code below when needed)"
   ]
  },
  {
   "cell_type": "code",
   "execution_count": null,
   "metadata": {},
   "outputs": [],
   "source": [
    "# for descriptor in RDKitDescriptors.allowedDescriptors:\n",
    "#     print(descriptor)"
   ]
  },
  {
   "cell_type": "code",
   "execution_count": null,
   "metadata": {},
   "outputs": [],
   "source": [
    "rdkit_desc = RDKitDescriptors()\n",
    "features = rdkit_desc._featurize(example_mol)\n",
    "\n",
    "print('The number of descriptors present are: ', len(features))"
   ]
  },
  {
   "cell_type": "markdown",
   "metadata": {},
   "source": [
    "### BPSymmetryFunction"
   ]
  },
  {
   "cell_type": "markdown",
   "metadata": {},
   "source": [
    "`Behler-Parinello Symmetry function` or `BPSymmetryFunction` featurizes a molecule by computing the atomic number and coordinates for each atom in the molecule. The features can be used as input for symmetry functions, like `RadialSymmetry`, `DistanceMatrix` and `DistanceCutoff` . More details on these symmetry functions can be found in [this paper](https://journals.aps.org/prl/pdf/10.1103/PhysRevLett.98.146401). These functions can be found in `deepchem.models.tensorgraph.symmetry_functions`\n",
    "\n",
    "The featurizer takes in `max_atoms` as an argument. As input, it takes in a conformer of the molecule and computes:\n",
    "\n",
    "1. coordinates of every atom in the molecule (in Bohr units)\n",
    "2. the atomic numbers for all atoms. \n",
    "\n",
    "These features are concantenated and padded with zeros to account for different number of atoms, across molecules."
   ]
  },
  {
   "cell_type": "code",
   "execution_count": null,
   "metadata": {},
   "outputs": [],
   "source": [
    "example_smile = \"CCC\"\n",
    "example_mol = Chem.MolFromSmiles(example_smile)\n",
    "engine = conformers.ConformerGenerator(max_conformers=1)\n",
    "example_mol = engine.generate_conformers(example_mol)"
   ]
  },
  {
   "cell_type": "code",
   "execution_count": null,
   "metadata": {},
   "outputs": [],
   "source": [
    "bp_sym = BPSymmetryFunction(max_atoms=20)\n",
    "features = bp_sym._featurize(mol=example_mol)"
   ]
  },
  {
   "cell_type": "markdown",
   "metadata": {},
   "source": [
    "A simple check for the featurization would be to count the different atomic numbers present in the features."
   ]
  },
  {
   "cell_type": "code",
   "execution_count": null,
   "metadata": {},
   "outputs": [],
   "source": [
    "atomic_numbers = features[:, 0]\n",
    "from collections import Counter\n",
    "\n",
    "unique_numbers = Counter(atomic_numbers)\n",
    "print(unique_numbers)"
   ]
  },
  {
   "cell_type": "markdown",
   "metadata": {},
   "source": [
    "For propane, we have $3$ `C-atoms` and $8$ `H-atoms`, and these numbers are in agreement with the results shown above. There's also the additional padding of 9 atoms, to equalize with `max_atoms`."
   ]
  },
  {
   "cell_type": "markdown",
   "metadata": {},
   "source": [
    "### CoulombMatrix"
   ]
  },
  {
   "cell_type": "markdown",
   "metadata": {},
   "source": [
    "`CoulombMatrix`, featurizes a molecule by computing the coulomb matrices for different conformers of the molecule, and returning it as a list.\n",
    "\n",
    "A Coulomb matrix tries to encode the energy structure of a molecule. The matrix is symmetric, with the off-diagonal elements capturing the Coulombic repulsion between pairs of atoms and the diagonal elements capturing atomic energies using the atomic numbers. More information on the functional forms used can be found [here](https://journals.aps.org/prl/pdf/10.1103/PhysRevLett.108.058301).\n",
    "\n",
    "The featurizer takes in `max_atoms` as an argument and also has options for removing hydrogens from the molecule (`remove_hydrogens`), generating additional random coulomb matrices(`randomize`), and getting only the upper triangular matrix (`upper_tri`)."
   ]
  },
  {
   "cell_type": "code",
   "execution_count": null,
   "metadata": {},
   "outputs": [],
   "source": [
    "example_smile = \"CCC\"\n",
    "example_mol = Chem.MolFromSmiles(example_smile)\n",
    "\n",
    "engine = conformers.ConformerGenerator(max_conformers=1)\n",
    "example_mol = engine.generate_conformers(example_mol)\n",
    "\n",
    "print(\"Number of available conformers for propane: \", len(example_mol.GetConformers()))"
   ]
  },
  {
   "cell_type": "code",
   "execution_count": null,
   "metadata": {},
   "outputs": [],
   "source": [
    "coulomb_mat = CoulombMatrix(max_atoms=20, randomize=False, remove_hydrogens=False, upper_tri=False)\n",
    "features = coulomb_mat._featurize(mol=example_mol)"
   ]
  },
  {
   "cell_type": "markdown",
   "metadata": {},
   "source": [
    "A simple check for the featurization is to see if the feature list has the same length as the number of conformers"
   ]
  },
  {
   "cell_type": "code",
   "execution_count": null,
   "metadata": {},
   "outputs": [],
   "source": [
    "print(len(example_mol.GetConformers()) == len(features))"
   ]
  },
  {
   "cell_type": "markdown",
   "metadata": {},
   "source": [
    "### CoulombMatrixEig"
   ]
  },
  {
   "cell_type": "markdown",
   "metadata": {},
   "source": [
    "`CoulombMatrix` is invariant to molecular rotation and translation, since the interatomic distances or atomic numbers do not change. However the matrix is not invariant to random permutations of the atom's indices. To deal with this, the `CoulumbMatrixEig` featurizer was introduced, which uses the eigenvalue spectrum of the columb matrix, and is invariant to random permutations of the atom's indices.\n",
    "\n",
    "`CoulombMatrixEig` inherits from `CoulombMatrix` and featurizes a molecule by first computing the coulomb matrices for different conformers of the molecule and then computing the eigenvalues for each coulomb matrix. These eigenvalues are then padded to account for variation in number of atoms across molecules.\n",
    "\n",
    "The featurizer takes in `max_atoms` as an argument and also has options for removing hydrogens from the molecule (`remove_hydrogens`), generating additional random coulomb matrices(`randomize`)."
   ]
  },
  {
   "cell_type": "code",
   "execution_count": null,
   "metadata": {},
   "outputs": [],
   "source": [
    "example_smile = \"CCC\"\n",
    "example_mol = Chem.MolFromSmiles(example_smile)\n",
    "\n",
    "engine = conformers.ConformerGenerator(max_conformers=1)\n",
    "example_mol = engine.generate_conformers(example_mol)\n",
    "\n",
    "print(\"Number of available conformers for propane: \", len(example_mol.GetConformers()))"
   ]
  },
  {
   "cell_type": "code",
   "execution_count": null,
   "metadata": {},
   "outputs": [],
   "source": [
    "coulomb_mat_eig = CoulombMatrixEig(max_atoms=20, randomize=False, remove_hydrogens=False)\n",
    "features = coulomb_mat_eig._featurize(mol=example_mol)"
   ]
  },
  {
   "cell_type": "code",
   "execution_count": null,
   "metadata": {},
   "outputs": [],
   "source": [
    "print(len(example_mol.GetConformers()) == len(features))"
   ]
  },
  {
   "cell_type": "markdown",
   "metadata": {},
   "source": [
    "### Adjacency Fingerprints"
   ]
  },
  {
   "cell_type": "code",
   "execution_count": null,
   "metadata": {},
   "outputs": [],
   "source": []
  }
 ],
 "metadata": {
  "kernelspec": {
   "display_name": "Python 3",
   "language": "python",
   "name": "python3"
  },
  "language_info": {
   "codemirror_mode": {
    "name": "ipython",
    "version": 3
   },
   "file_extension": ".py",
   "mimetype": "text/x-python",
   "name": "python",
   "nbconvert_exporter": "python",
   "pygments_lexer": "ipython3",
   "version": "3.5.6"
  }
 },
 "nbformat": 4,
 "nbformat_minor": 2
}
