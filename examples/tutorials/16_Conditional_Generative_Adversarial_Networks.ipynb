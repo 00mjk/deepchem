{
  "nbformat": 4,
  "nbformat_minor": 0,
  "metadata": {
    "kernelspec": {
      "name": "python3",
      "display_name": "Python 3"
    },
    "language_info": {
      "codemirror_mode": {
        "name": "ipython",
        "version": 3
      },
      "file_extension": ".py",
      "mimetype": "text/x-python",
      "name": "python",
      "nbconvert_exporter": "python",
      "pygments_lexer": "ipython3",
      "version": "3.6.10"
    },
    "colab": {
      "name": "16_Conditional_Generative_Adversarial_Networks.ipynb",
      "provenance": []
    },
    "accelerator": "GPU"
  },
  "cells": [
    {
      "cell_type": "markdown",
      "metadata": {
        "id": "gG-V_KZzqSSr",
        "colab_type": "text"
      },
      "source": [
        "# Tutorial Part 16: Conditional Generative Adversarial Network\n",
        "\n",
        "*Note: This example implements a GAN from scratch.  The same model could be implemented much more easily with the `dc.models.GAN` class.  See the MNIST GAN notebook for an example of using that class.  It can still be useful to know how to implement a GAN from scratch for advanced situations that are beyond the scope of what the standard GAN class supports.*\n",
        "\n",
        "A Generative Adversarial Network (GAN) is a type of generative model.  It consists of two parts called the \"generator\" and the \"discriminator\".  The generator takes random values as input and transforms them into an output that (hopefully) resembles the training data.  The discriminator takes a set of samples as input and tries to distinguish the real training samples from the ones created by the generator.  Both of them are trained together.  The discriminator tries to get better and better at telling real from false data, while the generator tries to get better and better at fooling the discriminator.\n",
        "\n",
        "A Conditional GAN (CGAN) allows additional inputs to the generator and discriminator that their output is conditioned on.  For example, this might be a class label, and the GAN tries to learn how the data distribution varies between classes.\n",
        "\n",
        "## Colab\n",
        "\n",
        "This tutorial and the rest in this sequence are designed to be done in Google colab. If you'd like to open this notebook in colab, you can use the following link.\n",
        "\n",
        "[![Open In Colab](https://colab.research.google.com/assets/colab-badge.svg)](https://colab.research.google.com/github/deepchem/deepchem/blob/master/examples/tutorials/16_Conditional_Generative_Adversarial_Networks.ipynb)\n",
        "\n",
        "## Setup\n",
        "\n",
        "To run DeepChem within Colab, you'll need to run the following cell of installation commands. This will take about 5 minutes to run to completion and install your environment."
      ]
    },
    {
      "cell_type": "code",
      "metadata": {
        "id": "gXeKc6O9qSSw",
        "colab_type": "code",
        "colab": {
          "base_uri": "https://localhost:8080/",
          "height": 170
        },
        "outputId": "9872d3b7-bf6d-4977-d064-ca122f539751"
      },
      "source": [
        "!curl -Lo conda_installer.py https://raw.githubusercontent.com/deepchem/deepchem/master/scripts/colab_install.py\n",
        "import conda_installer\n",
        "conda_installer.install()\n",
        "!/root/miniconda/bin/conda info -e"
      ],
      "execution_count": 1,
      "outputs": [
        {
          "output_type": "stream",
          "text": [
            "  % Total    % Received % Xferd  Average Speed   Time    Time     Time  Current\n",
            "                                 Dload  Upload   Total   Spent    Left  Speed\n",
            "\r  0     0    0     0    0     0      0      0 --:--:-- --:--:-- --:--:--     0\r100  3489  100  3489    0     0  57196      0 --:--:-- --:--:-- --:--:-- 57196\n"
          ],
          "name": "stdout"
        },
        {
          "output_type": "stream",
          "text": [
            "add /root/miniconda/lib/python3.6/site-packages to PYTHONPATH\n",
            "all packages is already installed\n"
          ],
          "name": "stderr"
        },
        {
          "output_type": "stream",
          "text": [
            "# conda environments:\n",
            "#\n",
            "base                  *  /root/miniconda\n",
            "\n"
          ],
          "name": "stdout"
        }
      ]
    },
    {
      "cell_type": "code",
      "metadata": {
        "id": "xDBRoR3pFeGs",
        "colab_type": "code",
        "colab": {
          "base_uri": "https://localhost:8080/",
          "height": 188
        },
        "outputId": "d336d18f-703d-4268-c5eb-e39d6ce86148"
      },
      "source": [
        "!pip install --pre deepchem\n",
        "import deepchem\n",
        "deepchem.__version__"
      ],
      "execution_count": 2,
      "outputs": [
        {
          "output_type": "stream",
          "text": [
            "Requirement already satisfied: deepchem in /usr/local/lib/python3.6/dist-packages (2.4.0rc1.dev20200805144807)\n",
            "Requirement already satisfied: scipy in /usr/local/lib/python3.6/dist-packages (from deepchem) (1.4.1)\n",
            "Requirement already satisfied: numpy in /usr/local/lib/python3.6/dist-packages (from deepchem) (1.18.5)\n",
            "Requirement already satisfied: scikit-learn in /usr/local/lib/python3.6/dist-packages (from deepchem) (0.22.2.post1)\n",
            "Requirement already satisfied: joblib in /usr/local/lib/python3.6/dist-packages (from deepchem) (0.16.0)\n",
            "Requirement already satisfied: pandas in /usr/local/lib/python3.6/dist-packages (from deepchem) (1.0.5)\n",
            "Requirement already satisfied: python-dateutil>=2.6.1 in /usr/local/lib/python3.6/dist-packages (from pandas->deepchem) (2.8.1)\n",
            "Requirement already satisfied: pytz>=2017.2 in /usr/local/lib/python3.6/dist-packages (from pandas->deepchem) (2018.9)\n",
            "Requirement already satisfied: six>=1.5 in /usr/local/lib/python3.6/dist-packages (from python-dateutil>=2.6.1->pandas->deepchem) (1.15.0)\n"
          ],
          "name": "stdout"
        },
        {
          "output_type": "execute_result",
          "data": {
            "application/vnd.google.colaboratory.intrinsic+json": {
              "type": "string"
            },
            "text/plain": [
              "'2.4.0-rc1.dev'"
            ]
          },
          "metadata": {
            "tags": []
          },
          "execution_count": 2
        }
      ]
    },
    {
      "cell_type": "markdown",
      "metadata": {
        "id": "Vr4T07_aqSS_",
        "colab_type": "text"
      },
      "source": [
        "For this example, we will create a data distribution consisting of a set of ellipses in 2D, each with a random position, shape, and orientation.  Each class corresponds to a different ellipse.  Let's randomly generate the ellipses."
      ]
    },
    {
      "cell_type": "code",
      "metadata": {
        "id": "IdfLLsjGqSTC",
        "colab_type": "code",
        "colab": {}
      },
      "source": [
        "import deepchem as dc\n",
        "import numpy as np\n",
        "import tensorflow as tf\n",
        "\n",
        "n_classes = 4\n",
        "class_centers = np.random.uniform(-4, 4, (n_classes, 2))\n",
        "class_transforms = []\n",
        "for i in range(n_classes):\n",
        "    xscale = np.random.uniform(0.5, 2)\n",
        "    yscale = np.random.uniform(0.5, 2)\n",
        "    angle = np.random.uniform(0, np.pi)\n",
        "    m = [[xscale*np.cos(angle), -yscale*np.sin(angle)],\n",
        "         [xscale*np.sin(angle), yscale*np.cos(angle)]]\n",
        "    class_transforms.append(m)\n",
        "class_transforms = np.array(class_transforms)"
      ],
      "execution_count": 3,
      "outputs": []
    },
    {
      "cell_type": "markdown",
      "metadata": {
        "id": "xPml_fFGqSTK",
        "colab_type": "text"
      },
      "source": [
        "This function generates random data from the distribution.  For each point it chooses a random class, then a random position in that class' ellipse."
      ]
    },
    {
      "cell_type": "code",
      "metadata": {
        "id": "ksP0E2KHqSTM",
        "colab_type": "code",
        "colab": {}
      },
      "source": [
        "def generate_data(n_points):\n",
        "    classes = np.random.randint(n_classes, size=n_points)\n",
        "    r = np.random.random(n_points)\n",
        "    angle = 2*np.pi*np.random.random(n_points)\n",
        "    points = (r*np.array([np.cos(angle), np.sin(angle)])).T\n",
        "    points = np.einsum('ijk,ik->ij', class_transforms[classes], points)\n",
        "    points += class_centers[classes]\n",
        "    return classes, points"
      ],
      "execution_count": 4,
      "outputs": []
    },
    {
      "cell_type": "markdown",
      "metadata": {
        "id": "yvf85D4KqSTW",
        "colab_type": "text"
      },
      "source": [
        "Let's plot a bunch of random points drawn from this distribution to see what it looks like.  Points are colored based on their class label."
      ]
    },
    {
      "cell_type": "code",
      "metadata": {
        "id": "CXy5-cJkqSTk",
        "colab_type": "code",
        "colab": {
          "base_uri": "https://localhost:8080/",
          "height": 282
        },
        "outputId": "afb38088-aa6f-4414-98b2-285b473b140c"
      },
      "source": [
        "%matplotlib inline\n",
        "import matplotlib.pyplot as plot\n",
        "classes, points = generate_data(1000)\n",
        "plot.scatter(x=points[:,0], y=points[:,1], c=classes)"
      ],
      "execution_count": 5,
      "outputs": [
        {
          "output_type": "execute_result",
          "data": {
            "text/plain": [
              "<matplotlib.collections.PathCollection at 0x7f14e24dee48>"
            ]
          },
          "metadata": {
            "tags": []
          },
          "execution_count": 5
        },
        {
          "output_type": "display_data",
          "data": {
            "image/png": "[encoded data removed]",
            "text/plain": [
              "<Figure size 432x288 with 1 Axes>"
            ]
          },
          "metadata": {
            "tags": [],
            "needs_background": "light"
          }
        }
      ]
    },
    {
      "cell_type": "markdown",
      "metadata": {
        "id": "rskLHEI9qSUg",
        "colab_type": "text"
      },
      "source": [
        "Now let's create the model for our CGAN."
      ]
    },
    {
      "cell_type": "code",
      "metadata": {
        "id": "Q5s_qNouqSUk",
        "colab_type": "code",
        "colab": {}
      },
      "source": [
        "# import deepchem.models.tensorgraph.layers as layers\n",
        "# model = dc.models.TensorGraph(learning_rate=1e-4, use_queue=False)\n",
        "\n",
        "# # Inputs to the model\n",
        "\n",
        "# random_in = layers.Feature(shape=(None, 10)) # Random input to the generator\n",
        "# generator_classes = layers.Feature(shape=(None, n_classes)) # The classes of the generated samples\n",
        "# real_data_points = layers.Feature(shape=(None, 2)) # The training samples\n",
        "# real_data_classes = layers.Feature(shape=(None, n_classes)) # The classes of the training samples\n",
        "# is_real = layers.Weights(shape=(None, 1)) # Flags to distinguish real from generated samples\n",
        "\n",
        "# # The generator\n",
        "\n",
        "# gen_in = layers.Concat([random_in, generator_classes])\n",
        "# gen_dense1 = layers.Dense(30, in_layers=gen_in, activation_fn=tf.nn.relu)\n",
        "# gen_dense2 = layers.Dense(30, in_layers=gen_dense1, activation_fn=tf.nn.relu)\n",
        "# generator_points = layers.Dense(2, in_layers=gen_dense2)\n",
        "# model.add_output(generator_points)\n",
        "\n",
        "# # The discriminator\n",
        "\n",
        "# all_points = layers.Concat([generator_points, real_data_points], axis=0)\n",
        "# all_classes = layers.Concat([generator_classes, real_data_classes], axis=0)\n",
        "# discrim_in = layers.Concat([all_points, all_classes])\n",
        "# discrim_dense1 = layers.Dense(30, in_layers=discrim_in, activation_fn=tf.nn.relu)\n",
        "# discrim_dense2 = layers.Dense(30, in_layers=discrim_dense1, activation_fn=tf.nn.relu)\n",
        "# discrim_prob = layers.Dense(1, in_layers=discrim_dense2, activation_fn=tf.sigmoid)"
      ],
      "execution_count": 6,
      "outputs": []
    },
    {
      "cell_type": "markdown",
      "metadata": {
        "id": "cAY2ZyrGqSU3",
        "colab_type": "text"
      },
      "source": [
        "We'll use different loss functions for training the generator and discriminator.  The discriminator outputs its predictions in the form of a probability that each sample is a real sample (that is, that it came from the training set rather than the generator).  Its loss consists of two terms.  The first term tries to maximize the output probability for real data, and the second term tries to minimize the output probability for generated samples.  The loss function for the generator is just a single term: it tries to maximize the discriminator's output probability for generated samples.\n",
        "\n",
        "For each one, we create a \"submodel\" specifying a set of layers that will be optimized based on a loss function."
      ]
    },
    {
      "cell_type": "code",
      "metadata": {
        "id": "tKzSpzBuqSU8",
        "colab_type": "code",
        "colab": {}
      },
      "source": [
        "# # Discriminator\n",
        "\n",
        "# discrim_real_data_loss = -layers.Log(discrim_prob+1e-10) * is_real\n",
        "# discrim_gen_data_loss = -layers.Log(1-discrim_prob+1e-10) * (1-is_real)\n",
        "# discrim_loss = layers.ReduceMean(discrim_real_data_loss + discrim_gen_data_loss)\n",
        "# discrim_submodel = model.create_submodel(layers=[discrim_dense1, discrim_dense2, discrim_prob], loss=discrim_loss)\n",
        "\n",
        "# # Generator\n",
        "\n",
        "# gen_loss = -layers.ReduceMean(layers.Log(discrim_prob+1e-10) * (1-is_real))\n",
        "# gen_submodel = model.create_submodel(layers=[gen_dense1, gen_dense2, generator_points], loss=gen_loss)"
      ],
      "execution_count": 7,
      "outputs": []
    },
    {
      "cell_type": "markdown",
      "metadata": {
        "id": "Lnd0Wk9WqSU_",
        "colab_type": "text"
      },
      "source": [
        "Now to fit the model.  Here are some important points to notice about the code.\n",
        "\n",
        "- We use `fit_generator()` to train only a single batch at a time, and we alternate between the discriminator and the generator.  That way. both parts of the model improve together.\n",
        "- We only train the generator half as often as the discriminator.  On this particular model, that gives much better results.  You will often need to adjust `(# of discriminator steps)/(# of generator steps)` to get good results on a given problem.\n",
        "- We disable checkpointing by specifying `checkpoint_interval=0`.  Since each call to `fit_generator()` includes only a single batch, it would otherwise save a checkpoint to disk after every batch, which would be very slow.  If this were a real project and not just an example, we would want to occasionally call `model.save_checkpoint()` to write checkpoints at a reasonable interval."
      ]
    },
    {
      "cell_type": "code",
      "metadata": {
        "scrolled": true,
        "id": "3o85U5VJqSVG",
        "colab_type": "code",
        "colab": {}
      },
      "source": [
        "# batch_size = model.batch_size\n",
        "# discrim_error = []\n",
        "# gen_error = []\n",
        "# for step in range(20000):\n",
        "#     classes, points = generate_data(batch_size)\n",
        "#     class_flags = dc.metrics.to_one_hot(classes, n_classes)\n",
        "#     feed_dict={random_in: np.random.random((batch_size, 10)),\n",
        "#                generator_classes: class_flags,\n",
        "#                real_data_points: points,\n",
        "#                real_data_classes: class_flags,\n",
        "#                is_real: np.concatenate([np.zeros((batch_size,1)), np.ones((batch_size,1))])}\n",
        "#     discrim_error.append(model.fit_generator([feed_dict],\n",
        "#                                              submodel=discrim_submodel,\n",
        "#                                              checkpoint_interval=0))\n",
        "#     if step%2 == 0:\n",
        "#         gen_error.append(model.fit_generator([feed_dict],\n",
        "#                                              submodel=gen_submodel,\n",
        "#                                              checkpoint_interval=0))\n",
        "#     if step%1000 == 999:\n",
        "#         print(step, np.mean(discrim_error), np.mean(gen_error))\n",
        "#         discrim_error = []\n",
        "#         gen_error = []"
      ],
      "execution_count": 8,
      "outputs": []
    },
    {
      "cell_type": "markdown",
      "metadata": {
        "id": "m91nmqWgqSV1",
        "colab_type": "text"
      },
      "source": [
        "Have the trained model generate some data, and see how well it matches the training distribution we plotted before."
      ]
    },
    {
      "cell_type": "code",
      "metadata": {
        "id": "JqJCBFIcqSV3",
        "colab_type": "code",
        "colab": {}
      },
      "source": [
        "# classes, points = generate_data(1000)\n",
        "# feed_dict = {random_in: np.random.random((1000, 10)),\n",
        "#              generator_classes: dc.metrics.to_one_hot(classes, n_classes)}\n",
        "# gen_points = model.predict_on_generator([feed_dict])\n",
        "# plot.scatter(x=gen_points[:,0], y=gen_points[:,1], c=classes)"
      ],
      "execution_count": 9,
      "outputs": []
    },
    {
      "cell_type": "markdown",
      "metadata": {
        "id": "StyDTNfRqSV8",
        "colab_type": "text"
      },
      "source": [
        "# Congratulations! Time to join the Community!\n",
        "\n",
        "Congratulations on completing this tutorial notebook! If you enjoyed working through the tutorial, and want to continue working with DeepChem, we encourage you to finish the rest of the tutorials in this series. You can also help the DeepChem community in the following ways:\n",
        "\n",
        "## Star DeepChem on [GitHub](https://github.com/deepchem/deepchem)\n",
        "This helps build awareness of the DeepChem project and the tools for open source drug discovery that we're trying to build.\n",
        "\n",
        "## Join the DeepChem Gitter\n",
        "The DeepChem [Gitter](https://gitter.im/deepchem/Lobby) hosts a number of scientists, developers, and enthusiasts interested in deep learning for the life sciences. Join the conversation!"
      ]
    }
  ]
}