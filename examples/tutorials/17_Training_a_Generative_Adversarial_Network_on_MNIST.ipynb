{
  "nbformat": 4,
  "nbformat_minor": 0,
  "metadata": {
    "kernelspec": {
      "name": "python3",
      "display_name": "Python 3"
    },
    "language_info": {
      "codemirror_mode": {
        "name": "ipython",
        "version": 3
      },
      "file_extension": ".py",
      "mimetype": "text/x-python",
      "name": "python",
      "nbconvert_exporter": "python",
      "pygments_lexer": "ipython3",
      "version": "3.6.10"
    },
    "colab": {
      "name": "17_Training_a_Generative_Adversarial_Network_on_MNIST.ipynb",
      "provenance": []
    },
    "accelerator": "GPU"
  },
  "cells": [
    {
      "cell_type": "markdown",
      "metadata": {
        "id": "_PGI_Rvgr0bo",
        "colab_type": "text"
      },
      "source": [
        "# Tutorial Part 17: Training a Generative Adversarial Network on MNIST\n",
        "\n",
        "\n",
        "In this tutorial, we will train a Generative Adversarial Network (GAN) on the MNIST dataset.  This is a large collection of 28x28 pixel images of handwritten digits.  We will try to train a network to produce new images of handwritten digits.\n",
        "\n",
        "\n",
        "## Colab\n",
        "\n",
        "This tutorial and the rest in this sequence are designed to be done in Google colab. If you'd like to open this notebook in colab, you can use the following link.\n",
        "\n",
        "[![Open In Colab](https://colab.research.google.com/assets/colab-badge.svg)](https://colab.research.google.com/github/deepchem/deepchem/blob/master/examples/tutorials/17_Training_a_Generative_Adversarial_Network_on_MNIST.ipynb)\n",
        "\n",
        "## Setup\n",
        "\n",
        "To run DeepChem within Colab, you'll need to run the following cell of installation commands. This will take about 5 minutes to run to completion and install your environment."
      ]
    },
    {
      "cell_type": "code",
      "metadata": {
        "id": "4qlydaTAr0bv",
        "colab_type": "code",
        "colab": {
          "base_uri": "https://localhost:8080/",
          "height": 170
        },
        "outputId": "d7d00b64-4281-4476-9912-822012906168"
      },
      "source": [
        "!curl -Lo conda_installer.py https://raw.githubusercontent.com/deepchem/deepchem/master/scripts/colab_install.py\n",
        "import conda_installer\n",
        "conda_installer.install()\n",
        "!/root/miniconda/bin/conda info -e"
      ],
      "execution_count": 1,
      "outputs": [
        {
          "output_type": "stream",
          "text": [
            "  % Total    % Received % Xferd  Average Speed   Time    Time     Time  Current\n",
            "                                 Dload  Upload   Total   Spent    Left  Speed\n",
            "\r  0     0    0     0    0     0      0      0 --:--:-- --:--:-- --:--:--     0\r100  3489  100  3489    0     0  42036      0 --:--:-- --:--:-- --:--:-- 42036\n"
          ],
          "name": "stdout"
        },
        {
          "output_type": "stream",
          "text": [
            "add /root/miniconda/lib/python3.6/site-packages to PYTHONPATH\n",
            "all packages is already installed\n"
          ],
          "name": "stderr"
        },
        {
          "output_type": "stream",
          "text": [
            "# conda environments:\n",
            "#\n",
            "base                  *  /root/miniconda\n",
            "\n"
          ],
          "name": "stdout"
        }
      ]
    },
    {
      "cell_type": "code",
      "metadata": {
        "id": "cyXeZ5zTFkah",
        "colab_type": "code",
        "colab": {
          "base_uri": "https://localhost:8080/",
          "height": 188
        },
        "outputId": "521d8d0b-3bbd-41ef-cb5f-06587d2679f8"
      },
      "source": [
        "!pip install --pre deepchem\n",
        "import deepchem\n",
        "deepchem.__version__"
      ],
      "execution_count": 2,
      "outputs": [
        {
          "output_type": "stream",
          "text": [
            "Requirement already satisfied: deepchem in /usr/local/lib/python3.6/dist-packages (2.4.0rc1.dev20200805145237)\n",
            "Requirement already satisfied: numpy in /usr/local/lib/python3.6/dist-packages (from deepchem) (1.18.5)\n",
            "Requirement already satisfied: scipy in /usr/local/lib/python3.6/dist-packages (from deepchem) (1.4.1)\n",
            "Requirement already satisfied: joblib in /usr/local/lib/python3.6/dist-packages (from deepchem) (0.16.0)\n",
            "Requirement already satisfied: scikit-learn in /usr/local/lib/python3.6/dist-packages (from deepchem) (0.22.2.post1)\n",
            "Requirement already satisfied: pandas in /usr/local/lib/python3.6/dist-packages (from deepchem) (1.0.5)\n",
            "Requirement already satisfied: pytz>=2017.2 in /usr/local/lib/python3.6/dist-packages (from pandas->deepchem) (2018.9)\n",
            "Requirement already satisfied: python-dateutil>=2.6.1 in /usr/local/lib/python3.6/dist-packages (from pandas->deepchem) (2.8.1)\n",
            "Requirement already satisfied: six>=1.5 in /usr/local/lib/python3.6/dist-packages (from python-dateutil>=2.6.1->pandas->deepchem) (1.15.0)\n"
          ],
          "name": "stdout"
        },
        {
          "output_type": "execute_result",
          "data": {
            "application/vnd.google.colaboratory.intrinsic+json": {
              "type": "string"
            },
            "text/plain": [
              "'2.4.0-rc1.dev'"
            ]
          },
          "metadata": {
            "tags": []
          },
          "execution_count": 2
        }
      ]
    },
    {
      "cell_type": "markdown",
      "metadata": {
        "id": "06xelFpir0b6",
        "colab_type": "text"
      },
      "source": [
        "To begin, let's import all the libraries we'll need and load the dataset (which comes bundled with Tensorflow)."
      ]
    },
    {
      "cell_type": "code",
      "metadata": {
        "id": "23zZTDoar0b7",
        "colab_type": "code",
        "colab": {}
      },
      "source": [
        "# import deepchem as dc\n",
        "# import tensorflow as tf\n",
        "# from deepchem.models.optimizers import ExponentialDecay\n",
        "# from tensorflow.keras.layers import Conv2D, Conv2DTranspose, Dense, Reshape\n",
        "# from tensorflow.examples.tutorials.mnist import input_data\n",
        "# import matplotlib.pyplot as plot\n",
        "# import matplotlib.gridspec as gridspec\n",
        "# %matplotlib inline\n",
        "\n",
        "# mnist = input_data.read_data_sets('MNIST_data', one_hot=True)\n",
        "# images = mnist.train.images.reshape((-1, 28, 28, 1))\n",
        "# dataset = dc.data.NumpyDataset(images)"
      ],
      "execution_count": 3,
      "outputs": []
    },
    {
      "cell_type": "markdown",
      "metadata": {
        "id": "qijPRZXOr0cI",
        "colab_type": "text"
      },
      "source": [
        "Let's view some of the images to get an idea of what they look like."
      ]
    },
    {
      "cell_type": "code",
      "metadata": {
        "id": "mmhulNHor0cK",
        "colab_type": "code",
        "colab": {}
      },
      "source": [
        "# def plot_digits(im):\n",
        "#   plot.figure(figsize=(3, 3))\n",
        "#   grid = gridspec.GridSpec(4, 4, wspace=0.05, hspace=0.05)\n",
        "#   for i, g in enumerate(grid):\n",
        "#     ax = plot.subplot(g)\n",
        "#     ax.set_xticks([])\n",
        "#     ax.set_yticks([])\n",
        "#     ax.imshow(im[i,:,:,0], cmap='gray')\n",
        "\n",
        "# plot_digits(images)"
      ],
      "execution_count": 4,
      "outputs": []
    },
    {
      "cell_type": "markdown",
      "metadata": {
        "id": "rVeSdnNJr0cV",
        "colab_type": "text"
      },
      "source": [
        "Now we can create our GAN.  It consists of two parts:\n",
        "\n",
        "1. The generator takes random noise as its input and produces output that will hopefully resemble the training data.\n",
        "2. The discriminator takes a set of samples as input (possibly training data, possibly created by the generator), and tries to determine which are which.  Its output is interpreted as a measure of how likely it is that each sample is from the training set."
      ]
    },
    {
      "cell_type": "code",
      "metadata": {
        "scrolled": true,
        "id": "8zLMNX5Xr0cW",
        "colab_type": "code",
        "colab": {}
      },
      "source": [
        "# class DigitGAN(dc.models.WGAN):\n",
        "\n",
        "#   def get_noise_input_shape(self):\n",
        "#     return (10,)\n",
        "\n",
        "#   def get_data_input_shapes(self):\n",
        "#     return [(28, 28, 1)]\n",
        "\n",
        "#   def create_generator(self):\n",
        "#     return tf.keras.Sequential([\n",
        "#         Dense(7*7*8, activation=tf.nn.relu),\n",
        "#         Reshape((7, 7, 8)),\n",
        "#         Conv2DTranspose(filters=16, kernel_size=5, strides=2, activation=tf.nn.relu, padding='same'),\n",
        "#         Conv2DTranspose(filters=1, kernel_size=5, strides=2, activation=tf.sigmoid, padding='same')\n",
        "#     ])\n",
        "\n",
        "#   def create_discriminator(self):\n",
        "#     return tf.keras.Sequential([\n",
        "#         Conv2D(filters=32, kernel_size=5, strides=2, activation=tf.nn.leaky_relu, padding='same'),\n",
        "#         Conv2D(filters=64, kernel_size=5, strides=2, activation=tf.nn.leaky_relu, padding='same'),\n",
        "#         Dense(1, activation=tf.math.softplus)\n",
        "#     ])\n",
        "\n",
        "# gan = DigitGAN(learning_rate=ExponentialDecay(0.001, 0.9, 5000))"
      ],
      "execution_count": 5,
      "outputs": []
    },
    {
      "cell_type": "markdown",
      "metadata": {
        "id": "69GHTt_2r0cb",
        "colab_type": "text"
      },
      "source": [
        "Now to train it.  The generator and discriminator are both trained together.  The generator tries to get better at fooling the discriminator, while the discriminator tries to get better at distinguishing real data from generated data (which in turn gives the generator a better training signal to learn from)."
      ]
    },
    {
      "cell_type": "code",
      "metadata": {
        "id": "lP7x5ZT1r0cc",
        "colab_type": "code",
        "colab": {}
      },
      "source": [
        "# def iterbatches(epochs):\n",
        "#   for i in range(epochs):\n",
        "#     for batch in dataset.iterbatches(batch_size=gan.batch_size):\n",
        "#       yield {gan.data_inputs[0]: batch[0]}\n",
        "\n",
        "# gan.fit_gan(iterbatches(100), generator_steps=0.2, checkpoint_interval=5000)"
      ],
      "execution_count": 6,
      "outputs": []
    },
    {
      "cell_type": "markdown",
      "metadata": {
        "id": "UW60zOZGr0ci",
        "colab_type": "text"
      },
      "source": [
        "Let's generate some data and see how the results look."
      ]
    },
    {
      "cell_type": "code",
      "metadata": {
        "id": "fSQtVhSer0ck",
        "colab_type": "code",
        "colab": {}
      },
      "source": [
        "# plot_digits(gan.predict_gan_generator(batch_size=16))"
      ],
      "execution_count": 7,
      "outputs": []
    },
    {
      "cell_type": "markdown",
      "metadata": {
        "id": "etw8X24pr0cr",
        "colab_type": "text"
      },
      "source": [
        "Not too bad.  Many of the generated images look plausibly like handwritten digits.  A larger model trained for a longer time can do much better, of course."
      ]
    },
    {
      "cell_type": "markdown",
      "metadata": {
        "id": "LTtjqIsnr0ct",
        "colab_type": "text"
      },
      "source": [
        "# Congratulations! Time to join the Community!\n",
        "\n",
        "Congratulations on completing this tutorial notebook! If you enjoyed working through the tutorial, and want to continue working with DeepChem, we encourage you to finish the rest of the tutorials in this series. You can also help the DeepChem community in the following ways:\n",
        "\n",
        "## Star DeepChem on [GitHub](https://github.com/deepchem/deepchem)\n",
        "This helps build awareness of the DeepChem project and the tools for open source drug discovery that we're trying to build.\n",
        "\n",
        "## Join the DeepChem Gitter\n",
        "The DeepChem [Gitter](https://gitter.im/deepchem/Lobby) hosts a number of scientists, developers, and enthusiasts interested in deep learning for the life sciences. Join the conversation!"
      ]
    }
  ]
}