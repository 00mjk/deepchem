{
  "nbformat": 4,
  "nbformat_minor": 0,
  "metadata": {
    "kernelspec": {
      "name": "python3",
      "display_name": "Python 3"
    },
    "language_info": {
      "codemirror_mode": {
        "name": "ipython",
        "version": 3
      },
      "file_extension": ".py",
      "mimetype": "text/x-python",
      "name": "python",
      "nbconvert_exporter": "python",
      "pygments_lexer": "ipython3",
      "version": "3.6.10"
    },
    "colab": {
      "name": "15_Synthetic_Feasibility_Scoring.ipynb",
      "provenance": []
    },
    "accelerator": "GPU"
  },
  "cells": [
    {
      "cell_type": "markdown",
      "metadata": {
        "id": "LOooVC6OpbFs",
        "colab_type": "text"
      },
      "source": [
        "# Tutorial Part 15: Synthetic Feasibility\n",
        "\n",
        "Synthetic feasibility is a problem when running large scale enumerations.  Ofen molecules that are enumerated are very difficult to make and thus not worth inspection even if their other chemical properties are good in silico.  This tutorial goes through how to train the [ScScore](https://pubs.acs.org/doi/abs/10.1021/acs.jcim.7b00622) model [1].\n",
        "\n",
        "The idea of the model is to train on pairs of molecules where one molecule is \"more complex\" than the other.  The neural network then can make scores which attempt to keep this pairwise ordering of molecules.  The final result is a model which can give a relative complexity of a molecule.\n",
        "\n",
        "The paper trains on every reaction in reaxys, declaring products more complex than reactions.  Since this training set is prohibitively expensive we will instead train on arbitrary molecules declaring one more complex if it's SMILES string is longer.  In the real world you can use whatever measure of complexity makes sense for the project.\n",
        "\n",
        "In this tutorial, we'll use the Tox21 dataset to train our simple synthetic feasibility model.\n",
        "\n",
        "## Colab\n",
        "\n",
        "This tutorial and the rest in this sequence are designed to be done in Google colab. If you'd like to open this notebook in colab, you can use the following link.\n",
        "\n",
        "[![Open In Colab](https://colab.research.google.com/assets/colab-badge.svg)](https://colab.research.google.com/github/deepchem/deepchem/blob/master/examples/tutorials/15_Synthetic_Feasibility_Scoring.ipynb)\n",
        "\n",
        "\n",
        "## Setup\n",
        "\n",
        "We recommend you run this tutorial on Google colab. You'll need to run the following commands to set up your colab environment to run the notebook."
      ]
    },
    {
      "cell_type": "code",
      "metadata": {
        "id": "IlFeRa3qpbFz",
        "colab_type": "code",
        "colab": {}
      },
      "source": [
        "%%capture\n",
        "!wget -c https://repo.anaconda.com/miniconda/Miniconda3-latest-Linux-x86_64.sh\n",
        "!chmod +x Miniconda3-latest-Linux-x86_64.sh\n",
        "!bash ./Miniconda3-latest-Linux-x86_64.sh -b -f -p /usr/local\n",
        "!conda install -y -c deepchem -c rdkit -c conda-forge -c omnia deepchem-gpu=2.3.0\n",
        "import sys\n",
        "sys.path.append('/usr/local/lib/python3.7/site-packages/')\n",
        "import deepchem as dc"
      ],
      "execution_count": 0,
      "outputs": []
    },
    {
      "cell_type": "code",
      "metadata": {
        "id": "d3QTjXKwpbF9",
        "colab_type": "code",
        "colab": {
          "base_uri": "https://localhost:8080/",
          "height": 306
        },
        "outputId": "5a4559b8-11bc-42f1-9e4d-a275fd36ed4b"
      },
      "source": [
        "# Lets get some molecules to play with\n",
        "\n",
        "from deepchem.molnet.load_function import tox21_datasets\n",
        "tasks, datasets, transformers = tox21_datasets.load_tox21(featurizer='Raw', split=None, reload=False)\n",
        "molecules = datasets[0].X"
      ],
      "execution_count": 2,
      "outputs": [
        {
          "output_type": "stream",
          "text": [
            "Loading raw samples now.\n",
            "shard_size: 8192\n",
            "About to start loading CSV from /tmp/tox21.csv.gz\n",
            "Loading shard 1 of size 8192.\n",
            "Featurizing sample 0\n",
            "Featurizing sample 1000\n",
            "Featurizing sample 2000\n",
            "Featurizing sample 3000\n",
            "Featurizing sample 4000\n",
            "Featurizing sample 5000\n",
            "Featurizing sample 6000\n",
            "Featurizing sample 7000\n",
            "TIMING: featurizing shard 0 took 5.910 s\n",
            "TIMING: dataset construction took 6.369 s\n",
            "Loading dataset from disk.\n",
            "TIMING: dataset construction took 0.473 s\n",
            "Loading dataset from disk.\n"
          ],
          "name": "stdout"
        }
      ]
    },
    {
      "cell_type": "markdown",
      "metadata": {
        "id": "Obts3nFSpbGC",
        "colab_type": "text"
      },
      "source": [
        "# Make The Datasets\n",
        "\n",
        "Because ScScore is trained on relative complexities we have our `X` tensor in our dataset has 3 dimensions `(sample_id, molecule_id, features)`.  the 1st dimension molecule_id is in \\[0, 1\\], because a sample is a pair of molecules.  The label is 1 if the zeroth molecule is more complex than the first molecule. The function `create_dataset` we introduce below pulls random pairs of smiles strings out of a given list and ranks them according to this complexity measure.\n",
        "\n",
        "In the real world you could use purchase cost, or number of reaction steps required as your complexity score. "
      ]
    },
    {
      "cell_type": "code",
      "metadata": {
        "id": "CN8YlS6YpbGD",
        "colab_type": "code",
        "colab": {}
      },
      "source": [
        "from rdkit import Chem\n",
        "import random\n",
        "from deepchem.feat import CircularFingerprint\n",
        "import deepchem as dc\n",
        "import numpy as np\n",
        "\n",
        "\n",
        "def create_dataset(fingerprints, smiles_lens, ds_size=100000):\n",
        "    \"\"\"\n",
        "    m1: list of np.Array\n",
        "        fingerprints for molecules\n",
        "    m2: list of int\n",
        "        length of a molecules SMILES string\n",
        "    \n",
        "    returns:\n",
        "        dc.data.Dataset for input into ScScore Model\n",
        "        \n",
        "    Dataset.X\n",
        "        shape is (sample_id, molecule_id, features)\n",
        "    Dataset.y\n",
        "        shape is (sample_id,)\n",
        "        values is 1 if the 0th index molecule is more complex\n",
        "                  0 if the 1st index molecule is more complex\n",
        "    \"\"\"\n",
        "    X, y = [], []\n",
        "    all_data = list(zip(fingerprints, smiles_lens))\n",
        "    while len(y) < ds_size:\n",
        "        i1 = random.randrange(0, len(smiles_lens))\n",
        "        i2 = random.randrange(0, len(smiles_lens))\n",
        "        m1 = all_data[i1]\n",
        "        m2 = all_data[i2]\n",
        "        if m1[1] == m2[1]:\n",
        "            continue\n",
        "        if m1[1] > m2[1]:\n",
        "            y.append(1.0)\n",
        "        else:\n",
        "            y.append(0.0)\n",
        "        X.append([m1[0], m2[0]])\n",
        "    return dc.data.NumpyDataset(np.array(X), np.expand_dims(np.array(y), axis=1))\n"
      ],
      "execution_count": 0,
      "outputs": []
    },
    {
      "cell_type": "markdown",
      "metadata": {
        "id": "Y57_UmtSpbGN",
        "colab_type": "text"
      },
      "source": [
        "With our complexity ranker in place we can now construct our dataset. Let's start by loading the molecules in the Tox21 dataset into memory. We split the dataset at this stage to ensure that the training and test set have non-overlapping sets of molecules."
      ]
    },
    {
      "cell_type": "code",
      "metadata": {
        "id": "PAhEBQSKpbGP",
        "colab_type": "code",
        "colab": {}
      },
      "source": [
        "# Lets split our dataset into a train set and a test set\n",
        "molecule_ds = dc.data.NumpyDataset(np.array(molecules))\n",
        "splitter = dc.splits.RandomSplitter()\n",
        "train_mols, test_mols = splitter.train_test_split(molecule_ds)"
      ],
      "execution_count": 0,
      "outputs": []
    },
    {
      "cell_type": "markdown",
      "metadata": {
        "id": "oREWA_U2pbGW",
        "colab_type": "text"
      },
      "source": [
        "We'll featurize all our molecules with the ECFP fingerprint with chirality (matching the source paper), and will then construct our pairwise dataset using the code from above."
      ]
    },
    {
      "cell_type": "code",
      "metadata": {
        "id": "r2M2fvvapbGY",
        "colab_type": "code",
        "colab": {}
      },
      "source": [
        "# In the paper they used 1024 bit fingerprints with chirality\n",
        "n_features=1024\n",
        "featurizer = dc.feat.CircularFingerprint(size=n_features, radius=2, chiral=True)\n",
        "train_features = featurizer.featurize(train_mols.X)\n",
        "train_smileslen = [len(Chem.MolToSmiles(x)) for x in train_mols.X]\n",
        "train_dataset = create_dataset(train_features, train_smileslen)"
      ],
      "execution_count": 0,
      "outputs": []
    },
    {
      "cell_type": "markdown",
      "metadata": {
        "id": "5jL9qNebpbGc",
        "colab_type": "text"
      },
      "source": [
        "Now that we have our dataset created, let's train a `ScScoreModel` on this dataset."
      ]
    },
    {
      "cell_type": "code",
      "metadata": {
        "id": "AZhS38JLpbGd",
        "colab_type": "code",
        "colab": {
          "base_uri": "https://localhost:8080/",
          "height": 34
        },
        "outputId": "c45a3112-07bd-47c4-cf51-801a4dee3010"
      },
      "source": [
        "from deepchem.models import ScScoreModel\n",
        "# Now to create the model and train it\n",
        "model = ScScoreModel(n_features=n_features)\n",
        "model.fit(train_dataset, nb_epoch=20)"
      ],
      "execution_count": 6,
      "outputs": [
        {
          "output_type": "execute_result",
          "data": {
            "text/plain": [
              "0.0"
            ]
          },
          "metadata": {
            "tags": []
          },
          "execution_count": 6
        }
      ]
    },
    {
      "cell_type": "markdown",
      "metadata": {
        "id": "nsBROH4WpbGi",
        "colab_type": "text"
      },
      "source": [
        "# Model Performance\n",
        "\n",
        "Lets evaluate how well the model does on our holdout molecules.  The SaScores should track the length of SMILES strings from never before seen molecules."
      ]
    },
    {
      "cell_type": "code",
      "metadata": {
        "id": "bIDZ3sZfpbGj",
        "colab_type": "code",
        "colab": {}
      },
      "source": [
        "import matplotlib.pyplot as plt\n",
        "%matplotlib inline"
      ],
      "execution_count": 0,
      "outputs": []
    },
    {
      "cell_type": "code",
      "metadata": {
        "id": "hsJdJTZKpbGu",
        "colab_type": "code",
        "colab": {}
      },
      "source": [
        "mol_scores = model.predict_mols(test_mols.X)\n",
        "smiles_lengths = [len(Chem.MolToSmiles(x)) for x in test_mols.X]"
      ],
      "execution_count": 0,
      "outputs": []
    },
    {
      "cell_type": "markdown",
      "metadata": {
        "id": "J9n6wK8fpbG1",
        "colab_type": "text"
      },
      "source": [
        "Let's now plot the length of the smiles string of the molecule against the SaScore using matplotlib."
      ]
    },
    {
      "cell_type": "code",
      "metadata": {
        "id": "CNgjQWQRpbG4",
        "colab_type": "code",
        "colab": {
          "base_uri": "https://localhost:8080/",
          "height": 920
        },
        "outputId": "90bd3386-3b9b-443f-c89e-d7ae1809435e"
      },
      "source": [
        "plt.figure(figsize=(20,16))\n",
        "plt.scatter(smiles_lengths, mol_scores)\n",
        "plt.xlim(0,80)\n",
        "plt.xlabel(\"SMILES length\")\n",
        "plt.ylabel(\"ScScore\")\n",
        "plt.show()"
      ],
      "execution_count": 9,
      "outputs": [
        {
          "output_type": "display_data",
          "data": {
            "image/png": "[encoded data removed]",
            "text/plain": [
              "<Figure size 1440x1152 with 1 Axes>"
            ]
          },
          "metadata": {
            "tags": []
          }
        }
      ]
    },
    {
      "cell_type": "markdown",
      "metadata": {
        "id": "riCGU3D4pbG8",
        "colab_type": "text"
      },
      "source": [
        "As we can see the model generally tracks SMILES length.  It has good enrichment between 8 and 30 characters and gets both small and large SMILES strings extremes dead on.\n",
        "\n",
        "Now you can train your own models on more meaningful metrics than SMILES length!"
      ]
    },
    {
      "cell_type": "markdown",
      "metadata": {
        "id": "eDugxI2PpbG-",
        "colab_type": "text"
      },
      "source": [
        "# Congratulations! Time to join the Community!\n",
        "\n",
        "Congratulations on completing this tutorial notebook! If you enjoyed working through the tutorial, and want to continue working with DeepChem, we encourage you to finish the rest of the tutorials in this series. You can also help the DeepChem community in the following ways:\n",
        "\n",
        "## Star DeepChem on [GitHub](https://github.com/deepchem/deepchem)\n",
        "This helps build awareness of the DeepChem project and the tools for open source drug discovery that we're trying to build.\n",
        "\n",
        "## Join the DeepChem Gitter\n",
        "The DeepChem [Gitter](https://gitter.im/deepchem/Lobby) hosts a number of scientists, developers, and enthusiasts interested in deep learning for the life sciences. Join the conversation!\n",
        "\n",
        "\n",
        "# Bibliography:\n",
        "\n",
        "[1] https://pubs.acs.org/doi/abs/10.1021/acs.jcim.7b00622"
      ]
    }
  ]
}