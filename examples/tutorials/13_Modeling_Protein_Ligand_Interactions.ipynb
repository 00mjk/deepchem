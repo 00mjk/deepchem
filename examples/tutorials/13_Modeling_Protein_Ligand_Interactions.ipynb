{
 "cells": [
  {
   "cell_type": "markdown",
   "metadata": {},
   "source": [
    "# Tutorial Part 13: Modeling Protein-Ligand Interactions\n",
    "\n",
    "In this tutorial, we'll walk you through the use of machine learning methods to predict the binding energy of a protein-ligand complex. Recall that a ligand is some small molecule which interacts (usually non-covalently) with a protein. As you work through the tutorial, you'll trace an arc from loading a raw dataset to fitting a random forest model to predict binding affinities. We'll take the following steps to get there:\n",
    "\n",
    "1. Loading a chemical dataset, consisting of a series of protein-ligand complexes.\n",
    "2. Featurizing each protein-ligand complexes with various featurization schemes. \n",
    "3. Fitting a series of models with these featurized protein-ligand complexes.\n",
    "4. Visualizing the results.\n",
    "\n",
    "To start the tutorial, we'll use a simple pre-processed dataset file that comes in the form of a gzipped file. Each row is a molecular system, and each column represents a different piece of information about that system. For instance, in this example, every row reflects a protein-ligand complex, and the following columns are present: a unique complex identifier; the SMILES string of the ligand; the binding affinity (Ki) of the ligand to the protein in the complex; a Python `list` of all lines in a PDB file for the protein alone; and a Python `list` of all lines in a ligand file for the ligand alone.\n",
    "\n",
    "## Colab\n",
    "\n",
    "This tutorial and the rest in this sequence are designed to be done in Google colab. If you'd like to open this notebook in colab, you can use the following link.\n",
    "\n",
    "[![Open In Colab](https://colab.research.google.com/assets/colab-badge.svg)](https://colab.research.google.com/github/deepchem/deepchem/blob/master/examples/tutorials/13_Modeling_Protein_Ligand_Interactions.ipynb)\n",
    "\n",
    "## Setup\n",
    "\n",
    "To run DeepChem within Colab, you'll need to run the following cell of installation commands. This will take about 5 minutes to run to completion and install your environment."
   ]
  },
  {
   "cell_type": "code",
   "execution_count": null,
   "metadata": {},
   "outputs": [],
   "source": [
    "!wget -c https://repo.anaconda.com/archive/Anaconda3-2019.10-Linux-x86_64.sh\n",
    "!chmod +x Anaconda3-2019.10-Linux-x86_64.sh\n",
    "!bash ./Anaconda3-2019.10-Linux-x86_64.sh -b -f -p /usr/local\n",
    "!conda install -y -c deepchem -c rdkit -c conda-forge -c omnia deepchem-gpu=2.3.0\n",
    "import sys\n",
    "sys.path.append('/usr/local/lib/python3.7/site-packages/')"
   ]
  },
  {
   "cell_type": "code",
   "execution_count": 35,
   "metadata": {},
   "outputs": [],
   "source": [
    "import deepchem as dc\n",
    "from deepchem.utils import download_url\n",
    "\n",
    "import os\n",
    "\n",
    "data_dir = dc.utils.get_data_dir()\n",
    "dataset_file = os.path.join(data_dir, \"pdbbind_core_df.csv.gz\")\n",
    "\n",
    "if not os.path.exists(dataset_file):\n",
    "    print('File does not exist. Downloading file...')\n",
    "    download_url(\"https://s3-us-west-1.amazonaws.com/deepchem.io/datasets/pdbbind_core_df.csv.gz\")\n",
    "    print('File downloaded...')\n",
    "\n",
    "raw_dataset = dc.utils.save.load_from_disk(dataset_file)"
   ]
  },
  {
   "cell_type": "markdown",
   "metadata": {},
   "source": [
    "Let's see what `dataset` looks like:"
   ]
  },
  {
   "cell_type": "code",
   "execution_count": 2,
   "metadata": {},
   "outputs": [
    {
     "name": "stdout",
     "output_type": "stream",
     "text": [
      "Type of dataset is: <class 'pandas.core.frame.DataFrame'>\n",
      "  pdb_id                                             smiles  \\\n",
      "0   2d3u        CC1CCCCC1S(O)(O)NC1CC(C2CCC(CN)CC2)SC1C(O)O   \n",
      "1   3cyx  CC(C)(C)NC(O)C1CC2CCCCC2C[NH+]1CC(O)C(CC1CCCCC...   \n",
      "2   3uo4        OC(O)C1CCC(NC2NCCC(NC3CCCCC3C3CCCCC3)N2)CC1   \n",
      "3   1p1q                         CC1ONC(O)C1CC([NH3+])C(O)O   \n",
      "4   3ag9  NC(O)C(CCC[NH2+]C([NH3+])[NH3+])NC(O)C(CCC[NH2...   \n",
      "\n",
      "                                          complex_id  \\\n",
      "0    2d3uCC1CCCCC1S(O)(O)NC1CC(C2CCC(CN)CC2)SC1C(O)O   \n",
      "1  3cyxCC(C)(C)NC(O)C1CC2CCCCC2C[NH+]1CC(O)C(CC1C...   \n",
      "2    3uo4OC(O)C1CCC(NC2NCCC(NC3CCCCC3C3CCCCC3)N2)CC1   \n",
      "3                     1p1qCC1ONC(O)C1CC([NH3+])C(O)O   \n",
      "4  3ag9NC(O)C(CCC[NH2+]C([NH3+])[NH3+])NC(O)C(CCC...   \n",
      "\n",
      "                                         protein_pdb  \\\n",
      "0  ['HEADER    2D3U PROTEIN\\n', 'COMPND    2D3U P...   \n",
      "1  ['HEADER    3CYX PROTEIN\\n', 'COMPND    3CYX P...   \n",
      "2  ['HEADER    3UO4 PROTEIN\\n', 'COMPND    3UO4 P...   \n",
      "3  ['HEADER    1P1Q PROTEIN\\n', 'COMPND    1P1Q P...   \n",
      "4  ['HEADER    3AG9 PROTEIN\\n', 'COMPND    3AG9 P...   \n",
      "\n",
      "                                          ligand_pdb  \\\n",
      "0  ['COMPND    2d3u ligand \\n', 'AUTHOR    GENERA...   \n",
      "1  ['COMPND    3cyx ligand \\n', 'AUTHOR    GENERA...   \n",
      "2  ['COMPND    3uo4 ligand \\n', 'AUTHOR    GENERA...   \n",
      "3  ['COMPND    1p1q ligand \\n', 'AUTHOR    GENERA...   \n",
      "4  ['COMPND    3ag9 ligand \\n', 'AUTHOR    GENERA...   \n",
      "\n",
      "                                         ligand_mol2  label  \n",
      "0  ['### \\n', '### Created by X-TOOL on Thu Aug 2...   6.92  \n",
      "1  ['### \\n', '### Created by X-TOOL on Thu Aug 2...   8.00  \n",
      "2  ['### \\n', '### Created by X-TOOL on Fri Aug 2...   6.52  \n",
      "3  ['### \\n', '### Created by X-TOOL on Thu Aug 2...   4.89  \n",
      "4  ['### \\n', '### Created by X-TOOL on Thu Aug 2...   8.05  \n",
      "Shape of dataset is: (193, 7)\n"
     ]
    }
   ],
   "source": [
    "print(\"Type of dataset is: %s\" % str(type(raw_dataset)))\n",
    "print(raw_dataset[:5])\n",
    "print(\"Shape of dataset is: %s\" % str(raw_dataset.shape))"
   ]
  },
  {
   "cell_type": "markdown",
   "metadata": {},
   "source": [
    "Visualizing what these proteins and ligands look like will help us build intuition and understanding about these systems. Let's write a bit of code to help us view our molecules. We'll use the `nglview` library to help us do this. You can install this library by calling `pip install nglview`."
   ]
  },
  {
   "cell_type": "code",
   "execution_count": 3,
   "metadata": {},
   "outputs": [
    {
     "data": {
      "application/vnd.jupyter.widget-view+json": {
       "model_id": "af7deefebf5f4f9b885c5e18fcf7a81f",
       "version_major": 2,
       "version_minor": 0
      },
      "text/plain": [
       "_ColormakerRegistry()"
      ]
     },
     "metadata": {},
     "output_type": "display_data"
    }
   ],
   "source": [
    "import nglview\n",
    "import tempfile\n",
    "import os\n",
    "import mdtraj as md\n",
    "import numpy as np"
   ]
  },
  {
   "cell_type": "markdown",
   "metadata": {},
   "source": [
    "We'll use the `mdtraj` library to help us manipulate both ligand and protein objects. We'll use the following convenience function to parse in the ligand and protein representations above into mdtraj."
   ]
  },
  {
   "cell_type": "code",
   "execution_count": 4,
   "metadata": {},
   "outputs": [],
   "source": [
    "def convert_lines_to_mdtraj(molecule_lines):\n",
    "  molecule_lines = molecule_lines.strip('[').strip(']').replace(\"'\",\"\").replace(\"\\\\n\", \"\").split(\", \")\n",
    "  tempdir = tempfile.mkdtemp()\n",
    "  molecule_file = os.path.join(tempdir, \"molecule.pdb\")\n",
    "  with open(molecule_file, \"w\") as f:\n",
    "    for line in molecule_lines:\n",
    "        f.write(\"%s\\n\" % line)\n",
    "  molecule_mdtraj = md.load(molecule_file)\n",
    "  return molecule_mdtraj"
   ]
  },
  {
   "cell_type": "markdown",
   "metadata": {},
   "source": [
    "Let's take a look at the first protein ligand pair in our dataset:"
   ]
  },
  {
   "cell_type": "code",
   "execution_count": 5,
   "metadata": {},
   "outputs": [],
   "source": [
    "first_protein, first_ligand = raw_dataset.iloc[0][\"protein_pdb\"], raw_dataset.iloc[0][\"ligand_pdb\"]\n",
    "protein_mdtraj = convert_lines_to_mdtraj(first_protein)\n",
    "ligand_mdtraj = convert_lines_to_mdtraj(first_ligand)"
   ]
  },
  {
   "cell_type": "markdown",
   "metadata": {},
   "source": [
    "We'll use the convenience function `nglview.show_mdtraj` in order to view our proteins and ligands."
   ]
  },
  {
   "cell_type": "code",
   "execution_count": 6,
   "metadata": {},
   "outputs": [
    {
     "data": {
      "application/vnd.jupyter.widget-view+json": {
       "model_id": "813bd1db316e4fe6a687e0c3607bb1e3",
       "version_major": 2,
       "version_minor": 0
      },
      "text/plain": [
       "NGLWidget()"
      ]
     },
     "metadata": {},
     "output_type": "display_data"
    }
   ],
   "source": [
    "v = nglview.show_mdtraj(ligand_mdtraj)\n",
    "v"
   ]
  },
  {
   "cell_type": "markdown",
   "metadata": {},
   "source": [
    "Now that we have an idea of what the ligand looks like, let's take a look at our protein:"
   ]
  },
  {
   "cell_type": "code",
   "execution_count": 7,
   "metadata": {},
   "outputs": [
    {
     "data": {
      "application/vnd.jupyter.widget-view+json": {
       "model_id": "82bdffe1b5cb4fa7a674f49338aecc29",
       "version_major": 2,
       "version_minor": 0
      },
      "text/plain": [
       "NGLWidget()"
      ]
     },
     "metadata": {},
     "output_type": "display_data"
    }
   ],
   "source": [
    "view = nglview.show_mdtraj(protein_mdtraj)\n",
    "view"
   ]
  },
  {
   "cell_type": "markdown",
   "metadata": {},
   "source": [
    "Can we view the complex with both protein and ligand? Yes, but we'll need the following helper function to join the two mdtraj files for the protein and ligand."
   ]
  },
  {
   "cell_type": "code",
   "execution_count": 8,
   "metadata": {},
   "outputs": [],
   "source": [
    "def combine_mdtraj(protein, ligand):\n",
    "  chain = protein.topology.add_chain()\n",
    "  residue = protein.topology.add_residue(\"LIG\", chain, resSeq=1)\n",
    "  for atom in ligand.topology.atoms:\n",
    "      protein.topology.add_atom(atom.name, atom.element, residue)\n",
    "  protein.xyz = np.hstack([protein.xyz, ligand.xyz])\n",
    "  protein.topology.create_standard_bonds()\n",
    "  return protein\n",
    "complex_mdtraj = combine_mdtraj(protein_mdtraj, ligand_mdtraj)"
   ]
  },
  {
   "cell_type": "markdown",
   "metadata": {},
   "source": [
    "Let's now visualize our complex"
   ]
  },
  {
   "cell_type": "code",
   "execution_count": 9,
   "metadata": {},
   "outputs": [
    {
     "data": {
      "application/vnd.jupyter.widget-view+json": {
       "model_id": "9f2875889cfa4756b93ecd768fbba575",
       "version_major": 2,
       "version_minor": 0
      },
      "text/plain": [
       "NGLWidget()"
      ]
     },
     "metadata": {},
     "output_type": "display_data"
    }
   ],
   "source": [
    "v = nglview.show_mdtraj(complex_mdtraj)\n",
    "v"
   ]
  },
  {
   "cell_type": "markdown",
   "metadata": {},
   "source": [
    "We can see that the ligand slots into a groove on the outer edge of the protein. Ok, now that we've got our basic visualization tools up and running, let's see if we can use some machine learning to understand our dataset of protein-ligand systems better.\n",
    "\n",
    "In order to do this, we'll need a way to transform our protein-ligand complexes into representations which can be used by learning algorithms. Ideally, we'd have neural protein-ligand complex fingerprints, but DeepChem doesn't yet have a good learned fingerprint of this sort. We do however have well tuned manual featurizers that can help us with our challenge here.\n",
    "\n",
    "We'll make of two types of fingerprints in the rest of the tutorial, the circular fingerprints and the grid descriptors. The grid descriptors convert a 3D volume containing an arragment of atoms into a fingerprint. This is really useful for understanding protein-ligand complexes since it will allow us to transfer protein-ligand complexes into vectors that can be passed into a simple machine learning algorithms. Let's see how we can create such a fingerprint in DeepChem. We'll make use of the `dc.feat.RdkitGridFeaturizer` class."
   ]
  },
  {
   "cell_type": "code",
   "execution_count": 14,
   "metadata": {},
   "outputs": [],
   "source": [
    "grid_featurizer = dc.feat.RdkitGridFeaturizer(\n",
    "    voxel_width=16.0, feature_types=[\"ecfp\", \"splif\", \"hbond\", \"pi_stack\", \"cation_pi\", \"salt_bridge\"], \n",
    "    ecfp_power=5, splif_power=5, parallel=True, flatten=True, sanitize=True)"
   ]
  },
  {
   "cell_type": "markdown",
   "metadata": {},
   "source": [
    "Next we'll create circular fingerprints. These convert small molecules into a vector of fragments. You can create these fingerprints with the `dc.feat.CircularFingerprint` class."
   ]
  },
  {
   "cell_type": "code",
   "execution_count": 13,
   "metadata": {},
   "outputs": [],
   "source": [
    "compound_featurizer = dc.feat.CircularFingerprint(size=128)"
   ]
  },
  {
   "cell_type": "markdown",
   "metadata": {},
   "source": [
    "The convenience loader `dc.molnet.load_pdbbind_grid` will take care of performing featurizing the pdbbind dataset under the hood for us. We'll use this helper method to perform our featurization for us. We'll featurize the \"refined\" subset of the PDBBIND dataset (which consists of only a couple thousand protein-ligand complexes) to keep this task manageable."
   ]
  },
  {
   "cell_type": "code",
   "execution_count": 25,
   "metadata": {},
   "outputs": [
    {
     "name": "stdout",
     "output_type": "stream",
     "text": [
      "Loading raw samples now.\n",
      "shard_size: 8192\n",
      "About to start loading CSV from /var/folders/st/ds45jcqj2232lvhr0y9qt5sc0000gn/T/refined_smiles_labels.csv\n",
      "Loading shard 1 of size 8192.\n",
      "Featurizing sample 0\n",
      "Featurizing sample 1000\n",
      "Featurizing sample 2000\n",
      "Featurizing sample 3000\n",
      "TIMING: featurizing shard 0 took 3.487 s\n",
      "TIMING: dataset construction took 3.594 s\n",
      "Loading dataset from disk.\n",
      "TIMING: dataset construction took 0.116 s\n",
      "Loading dataset from disk.\n",
      "TIMING: dataset construction took 0.061 s\n",
      "Loading dataset from disk.\n",
      "TIMING: dataset construction took 0.068 s\n",
      "Loading dataset from disk.\n",
      "TIMING: dataset construction took 0.089 s\n",
      "Loading dataset from disk.\n",
      "TIMING: dataset construction took 0.016 s\n",
      "Loading dataset from disk.\n",
      "TIMING: dataset construction took 0.014 s\n",
      "Loading dataset from disk.\n"
     ]
    }
   ],
   "source": [
    "pdbbind_tasks, (train_dataset, valid_dataset, test_dataset), transformers = dc.molnet.load_pdbbind_grid(\n",
    "    featurizer=\"ECFP\", subset=\"refined\")"
   ]
  },
  {
   "cell_type": "markdown",
   "metadata": {},
   "source": [
    "Now, we're ready to do some learning! \n",
    "\n",
    "To fit a deepchem model, first we instantiate one of the provided (or user-written) model classes. In this case, we have a created a convenience class to wrap around any ML model available in Sci-Kit Learn that can in turn be used to interoperate with deepchem. To instantiate an ```SklearnModel```, you will need (a) task_types, (b) model_params, another ```dict``` as illustrated below, and (c) a ```model_instance``` defining the type of model you would like to fit, in this case a ```RandomForestRegressor```."
   ]
  },
  {
   "cell_type": "code",
   "execution_count": 26,
   "metadata": {},
   "outputs": [],
   "source": [
    "from sklearn.ensemble import RandomForestRegressor\n",
    "\n",
    "seed=23 # Set a random seed to get stable results\n",
    "sklearn_model = RandomForestRegressor(n_estimators=10, max_features='sqrt')\n",
    "sklearn_model.random_state = seed\n",
    "model = dc.models.SklearnModel(sklearn_model)\n",
    "model.fit(train_dataset)"
   ]
  },
  {
   "cell_type": "code",
   "execution_count": 27,
   "metadata": {},
   "outputs": [
    {
     "name": "stdout",
     "output_type": "stream",
     "text": [
      "computed_metrics: [0.8426371735461211]\n",
      "RF Train set R^2 0.842637\n",
      "computed_metrics: [0.4889401215203093]\n",
      "RF Valid set R^2 0.488940\n"
     ]
    }
   ],
   "source": [
    "from deepchem.utils.evaluate import Evaluator\n",
    "import pandas as pd\n",
    "\n",
    "metric = dc.metrics.Metric(dc.metrics.r2_score)\n",
    "\n",
    "evaluator = Evaluator(model, train_dataset, transformers)\n",
    "train_r2score = evaluator.compute_model_performance([metric])\n",
    "print(\"RF Train set R^2 %f\" % (train_r2score[\"r2_score\"]))\n",
    "\n",
    "evaluator = Evaluator(model, valid_dataset, transformers)\n",
    "valid_r2score = evaluator.compute_model_performance([metric])\n",
    "print(\"RF Valid set R^2 %f\" % (valid_r2score[\"r2_score\"]))"
   ]
  },
  {
   "cell_type": "markdown",
   "metadata": {},
   "source": [
    "This is decent performance on a validation set! It's interesting to note that a trivial prediction from just the ligand can do reasonably on the task of predicting the binding energy."
   ]
  },
  {
   "cell_type": "code",
   "execution_count": 29,
   "metadata": {},
   "outputs": [
    {
     "name": "stdout",
     "output_type": "stream",
     "text": [
      "[-0.698915   -0.2038876  -0.83584868 -0.19569178 -0.52297811 -1.12700989\n",
      " -0.24781718 -0.95717433 -1.04587129  0.01657991]\n"
     ]
    }
   ],
   "source": [
    "predictions = model.predict(test_dataset)\n",
    "print(predictions[:10])"
   ]
  },
  {
   "cell_type": "markdown",
   "metadata": {},
   "source": [
    "# The protein-ligand complex view."
   ]
  },
  {
   "cell_type": "markdown",
   "metadata": {},
   "source": [
    "In the previous section, we featurized only the ligand. The signal we observed in R^2 reflects the ability of grid fingerprints and random forests to learn general features that make ligands \"drug-like.\" This time, let's see if we can do something sensible with our protein-ligand fingerprints that make use of our structural information. To start with, we need to re-featurize the dataset but using the \"grid\" fingerprints this time."
   ]
  },
  {
   "cell_type": "code",
   "execution_count": 30,
   "metadata": {},
   "outputs": [
    {
     "name": "stdout",
     "output_type": "stream",
     "text": [
      "Loading dataset from disk.\n",
      "TIMING: dataset construction took 0.167 s\n",
      "Loading dataset from disk.\n",
      "TIMING: dataset construction took 0.056 s\n",
      "Loading dataset from disk.\n",
      "TIMING: dataset construction took 0.067 s\n",
      "Loading dataset from disk.\n"
     ]
    }
   ],
   "source": [
    "pdbbind_tasks, (train_dataset, valid_dataset, test_dataset), transformers = dc.molnet.load_pdbbind_grid(\n",
    "    featurizer=\"grid\", subset=\"refined\")"
   ]
  },
  {
   "cell_type": "markdown",
   "metadata": {},
   "source": [
    "Let's now train a simple random forest model on this dataset."
   ]
  },
  {
   "cell_type": "code",
   "execution_count": 31,
   "metadata": {},
   "outputs": [],
   "source": [
    "seed=23 # Set a random seed to get stable results\n",
    "sklearn_model = RandomForestRegressor(n_estimators=10, max_features='sqrt')\n",
    "sklearn_model.random_state = seed\n",
    "model = dc.models.SklearnModel(sklearn_model)\n",
    "model.fit(train_dataset)"
   ]
  },
  {
   "cell_type": "markdown",
   "metadata": {},
   "source": [
    "Let's see what our accuracies looks like!"
   ]
  },
  {
   "cell_type": "code",
   "execution_count": 32,
   "metadata": {},
   "outputs": [
    {
     "name": "stdout",
     "output_type": "stream",
     "text": [
      "computed_metrics: [0.8981027537791372]\n",
      "RF Train set R^2 0.898103\n",
      "computed_metrics: [0.457958594329243]\n",
      "RF Valid set R^2 0.457959\n"
     ]
    }
   ],
   "source": [
    "metric = dc.metrics.Metric(dc.metrics.r2_score)\n",
    "\n",
    "evaluator = Evaluator(model, train_dataset, transformers)\n",
    "train_r2score = evaluator.compute_model_performance([metric])\n",
    "print(\"RF Train set R^2 %f\" % (train_r2score[\"r2_score\"]))\n",
    "\n",
    "evaluator = Evaluator(model, valid_dataset, transformers)\n",
    "valid_r2score = evaluator.compute_model_performance([metric])\n",
    "print(\"RF Valid set R^2 %f\" % (valid_r2score[\"r2_score\"]))"
   ]
  },
  {
   "cell_type": "markdown",
   "metadata": {},
   "source": [
    "Ok, there's some predictive performance here, but it looks like we have lower accuracy than the ligand-only dataset. What gives? There might be a few things going on. It's possible that for this particular dataset the pure ligand only features are quite predictive. But nonetheless, it's probably still useful to have a protein-ligand model since it's likely to learn different features than the the pure ligand-only model."
   ]
  },
  {
   "cell_type": "markdown",
   "metadata": {},
   "source": [
    "# Doing Some Hyperparameter Optimization"
   ]
  },
  {
   "cell_type": "markdown",
   "metadata": {},
   "source": [
    "Ok, now that we've built a few models, let's do some hyperparameter optimization to see if we can get our numbers to be a little better. We'll use the `dc.hyper` module to do this for us."
   ]
  },
  {
   "cell_type": "code",
   "execution_count": 33,
   "metadata": {},
   "outputs": [
    {
     "name": "stdout",
     "output_type": "stream",
     "text": [
      "Fitting model 1/12\n",
      "hyperparameters: {'n_estimators': 10, 'max_features': 'auto'}\n",
      "computed_metrics: [0.4764324138132032]\n",
      "Model 1/12, Metric r2_score, Validation set 0: 0.476432\n",
      "\tbest_validation_score so far: 0.476432\n",
      "Fitting model 2/12\n",
      "hyperparameters: {'n_estimators': 10, 'max_features': 'sqrt'}\n",
      "computed_metrics: [0.457958594329243]\n",
      "Model 2/12, Metric r2_score, Validation set 1: 0.457959\n",
      "\tbest_validation_score so far: 0.476432\n",
      "Fitting model 3/12\n",
      "hyperparameters: {'n_estimators': 10, 'max_features': 'log2'}\n",
      "computed_metrics: [0.4490199575272553]\n",
      "Model 3/12, Metric r2_score, Validation set 2: 0.449020\n",
      "\tbest_validation_score so far: 0.476432\n",
      "Fitting model 4/12\n",
      "hyperparameters: {'n_estimators': 10, 'max_features': None}\n",
      "computed_metrics: [0.4764324138132032]\n",
      "Model 4/12, Metric r2_score, Validation set 3: 0.476432\n",
      "\tbest_validation_score so far: 0.476432\n",
      "Fitting model 5/12\n",
      "hyperparameters: {'n_estimators': 50, 'max_features': 'auto'}\n",
      "computed_metrics: [0.5233787062200923]\n",
      "Model 5/12, Metric r2_score, Validation set 4: 0.523379\n",
      "\tbest_validation_score so far: 0.523379\n",
      "Fitting model 6/12\n",
      "hyperparameters: {'n_estimators': 50, 'max_features': 'sqrt'}\n",
      "computed_metrics: [0.5199897039641606]\n",
      "Model 6/12, Metric r2_score, Validation set 5: 0.519990\n",
      "\tbest_validation_score so far: 0.523379\n",
      "Fitting model 7/12\n",
      "hyperparameters: {'n_estimators': 50, 'max_features': 'log2'}\n",
      "computed_metrics: [0.49432826062655066]\n",
      "Model 7/12, Metric r2_score, Validation set 6: 0.494328\n",
      "\tbest_validation_score so far: 0.523379\n",
      "Fitting model 8/12\n",
      "hyperparameters: {'n_estimators': 50, 'max_features': None}\n",
      "computed_metrics: [0.5233787062200923]\n",
      "Model 8/12, Metric r2_score, Validation set 7: 0.523379\n",
      "\tbest_validation_score so far: 0.523379\n",
      "Fitting model 9/12\n",
      "hyperparameters: {'n_estimators': 100, 'max_features': 'auto'}\n",
      "computed_metrics: [0.5329568053100839]\n",
      "Model 9/12, Metric r2_score, Validation set 8: 0.532957\n",
      "\tbest_validation_score so far: 0.532957\n",
      "Fitting model 10/12\n",
      "hyperparameters: {'n_estimators': 100, 'max_features': 'sqrt'}\n",
      "computed_metrics: [0.513292992168339]\n",
      "Model 10/12, Metric r2_score, Validation set 9: 0.513293\n",
      "\tbest_validation_score so far: 0.532957\n",
      "Fitting model 11/12\n",
      "hyperparameters: {'n_estimators': 100, 'max_features': 'log2'}\n",
      "computed_metrics: [0.48901397189410456]\n",
      "Model 11/12, Metric r2_score, Validation set 10: 0.489014\n",
      "\tbest_validation_score so far: 0.532957\n",
      "Fitting model 12/12\n",
      "hyperparameters: {'n_estimators': 100, 'max_features': None}\n",
      "computed_metrics: [0.5329568053100839]\n",
      "Model 12/12, Metric r2_score, Validation set 11: 0.532957\n",
      "\tbest_validation_score so far: 0.532957\n",
      "computed_metrics: [0.9336377471642344]\n",
      "Best hyperparameters: (100, None)\n",
      "train_score: 0.933638\n",
      "validation_score: 0.532957\n"
     ]
    }
   ],
   "source": [
    "def rf_model_builder(model_params, model_dir):\n",
    "  sklearn_model = RandomForestRegressor(**model_params)\n",
    "  sklearn_model.random_state = seed\n",
    "  return dc.models.SklearnModel(sklearn_model, model_dir)\n",
    "\n",
    "params_dict = {\n",
    "    \"n_estimators\": [10, 50, 100],\n",
    "    \"max_features\": [\"auto\", \"sqrt\", \"log2\", None],\n",
    "}\n",
    "\n",
    "metric = dc.metrics.Metric(dc.metrics.r2_score)\n",
    "optimizer = dc.hyper.HyperparamOpt(rf_model_builder)\n",
    "best_rf, best_rf_hyperparams, all_rf_results = optimizer.hyperparam_search(\n",
    "    params_dict, train_dataset, valid_dataset, transformers,\n",
    "    metric=metric)"
   ]
  },
  {
   "cell_type": "markdown",
   "metadata": {},
   "source": [
    "Ok, our best validation score is now `0.53` R^2. Let's make some predictions on the test set and see what they look like."
   ]
  },
  {
   "cell_type": "code",
   "execution_count": 34,
   "metadata": {},
   "outputs": [
    {
     "data": {
      "image/png": "[encoded data removed]",
      "text/plain": [
       "<Figure size 432x288 with 1 Axes>"
      ]
     },
     "metadata": {
      "needs_background": "light"
     },
     "output_type": "display_data"
    }
   ],
   "source": [
    "%matplotlib inline\n",
    "\n",
    "import matplotlib\n",
    "import numpy as np\n",
    "import matplotlib.pyplot as plt\n",
    "\n",
    "rf_predicted_test = best_rf.predict(test_dataset)\n",
    "rf_true_test = test_dataset.y\n",
    "plt.scatter(rf_predicted_test, rf_true_test)\n",
    "plt.xlabel('Predicted pIC50s')\n",
    "plt.ylabel('True IC50')\n",
    "plt.title(r'RF predicted IC50 vs. True pIC50')\n",
    "plt.xlim([2, 11])\n",
    "plt.ylim([2, 11])\n",
    "plt.plot([2, 11], [2, 11], color='k')\n",
    "plt.show()"
   ]
  },
  {
   "cell_type": "markdown",
   "metadata": {},
   "source": [
    "This model seems reasonably predictive! It's likely that this model is still a ways from being good enough to use in a production setting, but this isn't bad for a quick and dirty tutorial."
   ]
  },
  {
   "cell_type": "markdown",
   "metadata": {},
   "source": [
    "# Congratulations! Time to join the Community!\n",
    "\n",
    "Congratulations on completing this tutorial notebook! If you enjoyed working through the tutorial, and want to continue working with DeepChem, we encourage you to finish the rest of the tutorials in this series. You can also help the DeepChem community in the following ways:\n",
    "\n",
    "## Star DeepChem on [GitHub](https://github.com/deepchem/deepchem)\n",
    "This helps build awareness of the DeepChem project and the tools for open source drug discovery that we're trying to build.\n",
    "\n",
    "## Join the DeepChem Gitter\n",
    "The DeepChem [Gitter](https://gitter.im/deepchem/Lobby) hosts a number of scientists, developers, and enthusiasts interested in deep learning for the life sciences. Join the conversation!"
   ]
  }
 ],
 "metadata": {
  "kernelspec": {
   "display_name": "Python 3",
   "language": "python",
   "name": "python3"
  },
  "language_info": {
   "codemirror_mode": {
    "name": "ipython",
    "version": 3
   },
   "file_extension": ".py",
   "mimetype": "text/x-python",
   "name": "python",
   "nbconvert_exporter": "python",
   "pygments_lexer": "ipython3",
   "version": "3.6.10"
  }
 },
 "nbformat": 4,
 "nbformat_minor": 4
}
