{
 "cells": [
  {
   "cell_type": "markdown",
   "metadata": {},
   "source": [
    "# Tutorial Part 4: Going Deeper On Molecular Featurizations\n",
    "\n",
    "One of the most important steps of doing machine learning on molecular data is transforming this data into a form amenable to the application of learning algorithms. This process is broadly called \"featurization\" and involves tutrning a molecule into a vector or tensor of some sort. There are a number of different ways of doing such transformations, and the choice of featurization is often dependent on the problem at hand.\n",
    "\n",
    "In this tutorial,  we explore the different featurization methods available for molecules. These featurization methods include:\n",
    "\n",
    "1. `ConvMolFeaturizer`, \n",
    "2. `WeaveFeaturizer`, \n",
    "3. `CircularFingerprints`\n",
    "4. `RDKitDescriptors`\n",
    "5. `BPSymmetryFunction`\n",
    "6. `CoulombMatrix`\n",
    "7. `CoulombMatrixEig`\n",
    "8. `AdjacencyFingerprints`"
   ]
  },
  {
   "cell_type": "markdown",
   "metadata": {},
   "source": [
    "Let's start with some basic imports"
   ]
  },
  {
   "cell_type": "code",
   "execution_count": 6,
   "metadata": {},
   "outputs": [],
   "source": [
    "from __future__ import print_function\n",
    "from __future__ import division\n",
    "from __future__ import unicode_literals\n",
    "\n",
    "import numpy as np\n",
    "from rdkit import Chem\n",
    "\n",
    "from deepchem.feat import ConvMolFeaturizer, WeaveFeaturizer, CircularFingerprint\n",
    "from deepchem.feat import AdjacencyFingerprint, RDKitDescriptors\n",
    "from deepchem.feat import BPSymmetryFunctionInput, CoulombMatrix, CoulombMatrixEig\n",
    "from deepchem.utils import conformers"
   ]
  },
  {
   "cell_type": "markdown",
   "metadata": {},
   "source": [
    "We use `propane`( $CH_3 CH_2 CH_3 $ ) as a running example throughout this tutorial. Many of the featurization methods use conformers or the molecules. A conformer can be generated using the `ConformerGenerator` class in `deepchem.utils.conformers`. "
   ]
  },
  {
   "cell_type": "markdown",
   "metadata": {},
   "source": [
    "### RDKitDescriptors"
   ]
  },
  {
   "cell_type": "markdown",
   "metadata": {},
   "source": [
    "`RDKitDescriptors` featurizes a molecule by computing descriptors values for specified descriptors. Intrinsic to the featurizer is a set of allowed descriptors, which can be accessed using `RDKitDescriptors.allowedDescriptors`.\n",
    "\n",
    "The featurizer uses the descriptors in `rdkit.Chem.Descriptors.descList`, checks if they are in the list of allowed descriptors and computes the descriptor value for the molecule."
   ]
  },
  {
   "cell_type": "code",
   "execution_count": 7,
   "metadata": {},
   "outputs": [],
   "source": [
    "example_smile = \"CCC\"\n",
    "example_mol = Chem.MolFromSmiles(example_smile)"
   ]
  },
  {
   "cell_type": "markdown",
   "metadata": {},
   "source": [
    "Let's check the allowed list of descriptors. As you will see shortly, there's a wide range of chemical properties that RDKit computes for us."
   ]
  },
  {
   "cell_type": "code",
   "execution_count": 8,
   "metadata": {},
   "outputs": [
    {
     "name": "stdout",
     "output_type": "stream",
     "text": [
      "NumAromaticHeterocycles\n",
      "EState_VSA7\n",
      "EState_VSA6\n",
      "MolMR\n",
      "BertzCT\n",
      "SMR_VSA10\n",
      "NHOHCount\n",
      "MinPartialCharge\n",
      "HallKierAlpha\n",
      "MinEStateIndex\n",
      "Chi1n\n",
      "Chi4n\n",
      "ExactMolWt\n",
      "VSA_EState8\n",
      "SMR_VSA5\n",
      "SMR_VSA9\n",
      "NumAliphaticCarbocycles\n",
      "VSA_EState2\n",
      "SlogP_VSA6\n",
      "VSA_EState7\n",
      "PEOE_VSA7\n",
      "NumHeteroatoms\n",
      "Chi1v\n",
      "PEOE_VSA2\n",
      "SMR_VSA4\n",
      "PEOE_VSA9\n",
      "HeavyAtomCount\n",
      "NumRadicalElectrons\n",
      "EState_VSA3\n",
      "NumValenceElectrons\n",
      "EState_VSA5\n",
      "PEOE_VSA10\n",
      "EState_VSA11\n",
      "EState_VSA10\n",
      "SMR_VSA7\n",
      "Chi1\n",
      "RingCount\n",
      "NumHDonors\n",
      "LabuteASA\n",
      "VSA_EState1\n",
      "Chi2v\n",
      "NumSaturatedCarbocycles\n",
      "SMR_VSA8\n",
      "Chi3v\n",
      "EState_VSA9\n",
      "Kappa2\n",
      "NumAliphaticHeterocycles\n",
      "Chi0\n",
      "SMR_VSA1\n",
      "SMR_VSA2\n",
      "PEOE_VSA1\n",
      "MolLogP\n",
      "NumAliphaticRings\n",
      "MinAbsPartialCharge\n",
      "BalabanJ\n",
      "Kappa1\n",
      "PEOE_VSA13\n",
      "EState_VSA4\n",
      "SlogP_VSA11\n",
      "MolWt\n",
      "SMR_VSA3\n",
      "Chi2n\n",
      "VSA_EState3\n",
      "MaxEStateIndex\n",
      "PEOE_VSA11\n",
      "Ipc\n",
      "MaxAbsPartialCharge\n",
      "Chi0n\n",
      "VSA_EState10\n",
      "VSA_EState5\n",
      "EState_VSA1\n",
      "FractionCSP3\n",
      "Kappa3\n",
      "MaxPartialCharge\n",
      "PEOE_VSA6\n",
      "SlogP_VSA7\n",
      "NumHAcceptors\n",
      "NumAromaticCarbocycles\n",
      "SMR_VSA6\n",
      "Chi3n\n",
      "HeavyAtomMolWt\n",
      "SlogP_VSA8\n",
      "VSA_EState9\n",
      "PEOE_VSA3\n",
      "SlogP_VSA5\n",
      "NumRotatableBonds\n",
      "PEOE_VSA14\n",
      "SlogP_VSA9\n",
      "NOCount\n",
      "VSA_EState4\n",
      "PEOE_VSA5\n",
      "Chi0v\n",
      "NumSaturatedHeterocycles\n",
      "EState_VSA8\n",
      "SlogP_VSA12\n",
      "Chi4v\n",
      "SlogP_VSA10\n",
      "NumSaturatedRings\n",
      "MinAbsEStateIndex\n",
      "SlogP_VSA2\n",
      "SlogP_VSA1\n",
      "PEOE_VSA8\n",
      "PEOE_VSA4\n",
      "TPSA\n",
      "SlogP_VSA4\n",
      "SlogP_VSA3\n",
      "NumAromaticRings\n",
      "MaxAbsEStateIndex\n",
      "EState_VSA2\n",
      "VSA_EState6\n",
      "PEOE_VSA12\n"
     ]
    }
   ],
   "source": [
    "for descriptor in RDKitDescriptors.allowedDescriptors:\n",
    "    print(descriptor)"
   ]
  },
  {
   "cell_type": "code",
   "execution_count": 9,
   "metadata": {},
   "outputs": [
    {
     "name": "stdout",
     "output_type": "stream",
     "text": [
      "The number of descriptors present are:  111\n"
     ]
    }
   ],
   "source": [
    "rdkit_desc = RDKitDescriptors()\n",
    "features = rdkit_desc._featurize(example_mol)\n",
    "\n",
    "print('The number of descriptors present are: ', len(features))"
   ]
  },
  {
   "cell_type": "markdown",
   "metadata": {},
   "source": [
    "### BPSymmetryFunction"
   ]
  },
  {
   "cell_type": "markdown",
   "metadata": {},
   "source": [
    "`Behler-Parinello Symmetry function` or `BPSymmetryFunction` featurizes a molecule by computing the atomic number and coordinates for each atom in the molecule. The features can be used as input for symmetry functions, like `RadialSymmetry`, `DistanceMatrix` and `DistanceCutoff` . More details on these symmetry functions can be found in [this paper](https://journals.aps.org/prl/pdf/10.1103/PhysRevLett.98.146401). These functions can be found in `deepchem.feat.coulomb_matrices`\n",
    "\n",
    "The featurizer takes in `max_atoms` as an argument. As input, it takes in a conformer of the molecule and computes:\n",
    "\n",
    "1. coordinates of every atom in the molecule (in Bohr units)\n",
    "2. the atomic numbers for all atoms. \n",
    "\n",
    "These features are concantenated and padded with zeros to account for different number of atoms, across molecules."
   ]
  },
  {
   "cell_type": "code",
   "execution_count": 10,
   "metadata": {},
   "outputs": [],
   "source": [
    "example_smile = \"CCC\"\n",
    "example_mol = Chem.MolFromSmiles(example_smile)\n",
    "engine = conformers.ConformerGenerator(max_conformers=1)\n",
    "example_mol = engine.generate_conformers(example_mol)"
   ]
  },
  {
   "cell_type": "markdown",
   "metadata": {},
   "source": [
    "Let's now take a look at the actual featurized matrix that comes out."
   ]
  },
  {
   "cell_type": "code",
   "execution_count": 12,
   "metadata": {},
   "outputs": [
    {
     "data": {
      "text/plain": [
       "array([[ 6.        ,  2.33166293, -0.52962788, -0.48097309],\n",
       "       [ 6.        ,  0.0948792 ,  1.07597567, -1.33579553],\n",
       "       [ 6.        , -2.40436371, -0.29483572, -0.90388318],\n",
       "       [ 1.        ,  2.18166462, -0.95639011,  1.569049  ],\n",
       "       [ 1.        ,  4.1178375 ,  0.51816193, -0.81949623],\n",
       "       [ 1.        ,  2.39319787, -2.32844253, -1.56157176],\n",
       "       [ 1.        ,  0.29919987,  1.51730566, -3.37889252],\n",
       "       [ 1.        ,  0.08875543,  2.88229706, -0.26437996],\n",
       "       [ 1.        , -3.99100651,  0.92016315, -1.54358853],\n",
       "       [ 1.        , -2.66167993, -0.71627602,  1.136556  ],\n",
       "       [ 1.        , -2.45014726, -2.08833123, -1.99406318],\n",
       "       [ 0.        ,  0.        ,  0.        ,  0.        ],\n",
       "       [ 0.        ,  0.        ,  0.        ,  0.        ],\n",
       "       [ 0.        ,  0.        ,  0.        ,  0.        ],\n",
       "       [ 0.        ,  0.        ,  0.        ,  0.        ],\n",
       "       [ 0.        ,  0.        ,  0.        ,  0.        ],\n",
       "       [ 0.        ,  0.        ,  0.        ,  0.        ],\n",
       "       [ 0.        ,  0.        ,  0.        ,  0.        ],\n",
       "       [ 0.        ,  0.        ,  0.        ,  0.        ],\n",
       "       [ 0.        ,  0.        ,  0.        ,  0.        ]])"
      ]
     },
     "execution_count": 12,
     "metadata": {},
     "output_type": "execute_result"
    }
   ],
   "source": [
    "bp_sym = BPSymmetryFunctionInput(max_atoms=20)\n",
    "features = bp_sym._featurize(mol=example_mol)\n",
    "features"
   ]
  },
  {
   "cell_type": "markdown",
   "metadata": {},
   "source": [
    "A simple check for the featurization would be to count the different atomic numbers present in the features."
   ]
  },
  {
   "cell_type": "code",
   "execution_count": 13,
   "metadata": {},
   "outputs": [
    {
     "name": "stdout",
     "output_type": "stream",
     "text": [
      "Counter({0.0: 9, 1.0: 8, 6.0: 3})\n"
     ]
    }
   ],
   "source": [
    "atomic_numbers = features[:, 0]\n",
    "from collections import Counter\n",
    "\n",
    "unique_numbers = Counter(atomic_numbers)\n",
    "print(unique_numbers)"
   ]
  },
  {
   "cell_type": "markdown",
   "metadata": {},
   "source": [
    "For propane, we have $3$ `C-atoms` and $8$ `H-atoms`, and these numbers are in agreement with the results shown above. There's also the additional padding of 9 atoms, to equalize with `max_atoms`."
   ]
  },
  {
   "cell_type": "markdown",
   "metadata": {},
   "source": [
    "### CoulombMatrix"
   ]
  },
  {
   "cell_type": "markdown",
   "metadata": {},
   "source": [
    "`CoulombMatrix`, featurizes a molecule by computing the coulomb matrices for different conformers of the molecule, and returning it as a list.\n",
    "\n",
    "A Coulomb matrix tries to encode the energy structure of a molecule. The matrix is symmetric, with the off-diagonal elements capturing the Coulombic repulsion between pairs of atoms and the diagonal elements capturing atomic energies using the atomic numbers. More information on the functional forms used can be found [here](https://journals.aps.org/prl/pdf/10.1103/PhysRevLett.108.058301).\n",
    "\n",
    "The featurizer takes in `max_atoms` as an argument and also has options for removing hydrogens from the molecule (`remove_hydrogens`), generating additional random coulomb matrices(`randomize`), and getting only the upper triangular matrix (`upper_tri`)."
   ]
  },
  {
   "cell_type": "code",
   "execution_count": 14,
   "metadata": {},
   "outputs": [
    {
     "name": "stdout",
     "output_type": "stream",
     "text": [
      "Number of available conformers for propane:  1\n"
     ]
    }
   ],
   "source": [
    "example_smile = \"CCC\"\n",
    "example_mol = Chem.MolFromSmiles(example_smile)\n",
    "\n",
    "engine = conformers.ConformerGenerator(max_conformers=1)\n",
    "example_mol = engine.generate_conformers(example_mol)\n",
    "\n",
    "print(\"Number of available conformers for propane: \", len(example_mol.GetConformers()))"
   ]
  },
  {
   "cell_type": "code",
   "execution_count": 15,
   "metadata": {},
   "outputs": [],
   "source": [
    "coulomb_mat = CoulombMatrix(max_atoms=20, randomize=False, remove_hydrogens=False, upper_tri=False)\n",
    "features = coulomb_mat._featurize(mol=example_mol)"
   ]
  },
  {
   "cell_type": "markdown",
   "metadata": {},
   "source": [
    "A simple check for the featurization is to see if the feature list has the same length as the number of conformers"
   ]
  },
  {
   "cell_type": "code",
   "execution_count": 16,
   "metadata": {},
   "outputs": [
    {
     "name": "stdout",
     "output_type": "stream",
     "text": [
      "True\n"
     ]
    }
   ],
   "source": [
    "print(len(example_mol.GetConformers()) == len(features))"
   ]
  },
  {
   "cell_type": "markdown",
   "metadata": {},
   "source": [
    "### CoulombMatrixEig"
   ]
  },
  {
   "cell_type": "markdown",
   "metadata": {},
   "source": [
    "`CoulombMatrix` is invariant to molecular rotation and translation, since the interatomic distances or atomic numbers do not change. However the matrix is not invariant to random permutations of the atom's indices. To deal with this, the `CoulumbMatrixEig` featurizer was introduced, which uses the eigenvalue spectrum of the columb matrix, and is invariant to random permutations of the atom's indices.\n",
    "\n",
    "`CoulombMatrixEig` inherits from `CoulombMatrix` and featurizes a molecule by first computing the coulomb matrices for different conformers of the molecule and then computing the eigenvalues for each coulomb matrix. These eigenvalues are then padded to account for variation in number of atoms across molecules.\n",
    "\n",
    "The featurizer takes in `max_atoms` as an argument and also has options for removing hydrogens from the molecule (`remove_hydrogens`), generating additional random coulomb matrices(`randomize`)."
   ]
  },
  {
   "cell_type": "code",
   "execution_count": 17,
   "metadata": {},
   "outputs": [
    {
     "name": "stdout",
     "output_type": "stream",
     "text": [
      "Number of available conformers for propane:  1\n"
     ]
    }
   ],
   "source": [
    "example_smile = \"CCC\"\n",
    "example_mol = Chem.MolFromSmiles(example_smile)\n",
    "\n",
    "engine = conformers.ConformerGenerator(max_conformers=1)\n",
    "example_mol = engine.generate_conformers(example_mol)\n",
    "\n",
    "print(\"Number of available conformers for propane: \", len(example_mol.GetConformers()))"
   ]
  },
  {
   "cell_type": "code",
   "execution_count": 18,
   "metadata": {},
   "outputs": [],
   "source": [
    "coulomb_mat_eig = CoulombMatrixEig(max_atoms=20, randomize=False, remove_hydrogens=False)\n",
    "features = coulomb_mat_eig._featurize(mol=example_mol)"
   ]
  },
  {
   "cell_type": "code",
   "execution_count": 19,
   "metadata": {},
   "outputs": [
    {
     "name": "stdout",
     "output_type": "stream",
     "text": [
      "True\n"
     ]
    }
   ],
   "source": [
    "print(len(example_mol.GetConformers()) == len(features))"
   ]
  },
  {
   "cell_type": "markdown",
   "metadata": {},
   "source": [
    "### Adjacency Fingerprints"
   ]
  },
  {
   "cell_type": "code",
   "execution_count": null,
   "metadata": {},
   "outputs": [],
   "source": []
  }
 ],
 "metadata": {
  "kernelspec": {
   "display_name": "Python 3",
   "language": "python",
   "name": "python3"
  },
  "language_info": {
   "codemirror_mode": {
    "name": "ipython",
    "version": 3
   },
   "file_extension": ".py",
   "mimetype": "text/x-python",
   "name": "python",
   "nbconvert_exporter": "python",
   "pygments_lexer": "ipython3",
   "version": "3.6.10"
  }
 },
 "nbformat": 4,
 "nbformat_minor": 2
}
