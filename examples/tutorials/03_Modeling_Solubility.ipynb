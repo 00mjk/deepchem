{
  "nbformat": 4,
  "nbformat_minor": 0,
  "metadata": {
    "kernelspec": {
      "display_name": "Python 3",
      "language": "python",
      "name": "python3"
    },
    "language_info": {
      "codemirror_mode": {
        "name": "ipython",
        "version": 3
      },
      "file_extension": ".py",
      "mimetype": "text/x-python",
      "name": "python",
      "nbconvert_exporter": "python",
      "pygments_lexer": "ipython3",
      "version": "3.6.10"
    },
    "colab": {
      "name": "03_Modeling_Solubility.ipynb",
      "provenance": []
    }
  },
  "cells": [
    {
      "cell_type": "markdown",
      "metadata": {
        "id": "xz586Jg2c_87",
        "colab_type": "text"
      },
      "source": [
        "# Tutorial Part 3: Modeling Solubility\n"
      ]
    },
    {
      "cell_type": "markdown",
      "metadata": {
        "id": "GdibQzeVc_8-",
        "colab_type": "text"
      },
      "source": [
        "Computationally predicting molecular solubility through is useful for drug-discovery. In this tutorial, we will use the `deepchem` library to fit a simple statistical model that predicts the solubility of drug-like compounds. The process of fitting this model involves four steps:\n",
        "\n",
        "1. Loading a chemical dataset, consisting of a series of compounds along with aqueous solubility measurements.\n",
        "2. Transforming each compound into a feature vector $v \\in \\mathbb{R}^n$ comprehensible to statistical learning methods.\n",
        "3. Fitting a simple model that maps feature vectors to estimates of aqueous solubility.\n",
        "4. Visualizing the results.\n",
        "\n",
        "## Colab\n",
        "\n",
        "This tutorial and the rest in this sequence are designed to be done in Google colab. If you'd like to open this notebook in colab, you can use the following link.\n",
        "\n",
        "[![Open In Colab](https://colab.research.google.com/assets/colab-badge.svg)](https://colab.research.google.com/github/deepchem/deepchem/blob/master/examples/tutorials/03_Modeling_Solubility.ipynb)\n",
        "\n",
        "## Setup\n",
        "\n",
        "To run DeepChem within Colab, you'll need to run the following cell of installation commands. This will take about 5 minutes to run to completion and install your environment."
      ]
    },
    {
      "cell_type": "code",
      "metadata": {
        "id": "hagObl_sc_8_",
        "colab_type": "code",
        "colab": {
          "base_uri": "https://localhost:8080/",
          "height": 1000
        },
        "outputId": "cff62c11-7dd1-4516-fde2-f49b7efbd8a7"
      },
      "source": [
        "!wget -c https://repo.anaconda.com/archive/Anaconda3-2019.10-Linux-x86_64.sh\n",
        "!chmod +x Anaconda3-2019.10-Linux-x86_64.sh\n",
        "!bash ./Anaconda3-2019.10-Linux-x86_64.sh -b -f -p /usr/local\n",
        "!conda install -y -c deepchem -c rdkit -c conda-forge -c omnia deepchem-gpu=2.3.0\n",
        "import sys\n",
        "sys.path.append('/usr/local/lib/python3.7/site-packages/')"
      ],
      "execution_count": 21,
      "outputs": [
        {
          "output_type": "stream",
          "text": [
            "--2020-03-07 00:45:21--  https://repo.anaconda.com/archive/Anaconda3-2019.10-Linux-x86_64.sh\n",
            "Resolving repo.anaconda.com (repo.anaconda.com)... 104.16.131.3, 104.16.130.3, 2606:4700::6810:8203, ...\n",
            "Connecting to repo.anaconda.com (repo.anaconda.com)|104.16.131.3|:443... connected.\n",
            "HTTP request sent, awaiting response... 416 Requested Range Not Satisfiable\n",
            "\n",
            "    The file is already fully retrieved; nothing to do.\n",
            "\n",
            "PREFIX=/usr/local\n",
            "Unpacking payload ...\n",
            "Collecting package metadata (current_repodata.json): - \b\b\\ \b\b| \b\b/ \b\b- \b\b\\ \b\b| \b\b/ \b\b- \b\b\\ \b\b| \b\b/ \b\b- \b\b\\ \b\b| \b\b/ \b\b- \b\b\\ \b\b| \b\b/ \b\bdone\n",
            "Solving environment: \\ \b\b| \b\b/ \b\b- \b\b\\ \b\b| \b\b/ \b\b- \b\b\\ \b\b| \b\b/ \b\b- \b\b\\ \b\b| \b\b/ \b\b- \b\b\\ \b\b| \b\b/ \b\b- \b\b\\ \b\b| \b\b/ \b\b- \b\b\\ \b\b| \b\b/ \b\b- \b\b\\ \b\b| \b\b/ \b\b- \b\b\\ \b\b| \b\b/ \b\b- \b\b\\ \b\b| \b\b/ \b\b- \b\b\\ \b\b| \b\b/ \b\b- \b\b\\ \b\b| \b\b/ \b\b- \b\b\\ \b\b| \b\b/ \b\b- \b\b\\ \b\b| \b\b/ \b\b- \b\b\\ \b\b| \b\b/ \b\b- \b\b\\ \b\b| \b\b/ \b\b- \b\b\\ \b\b| \b\b/ \b\b- \b\b\\ \b\b| \b\b/ \b\b- \b\b\\ \b\b| \b\b/ \b\b- \b\b\\ \b\b| \b\b/ \b\b- \b\b\\ \b\b| \b\b/ \b\b- \b\b\\ \b\b| \b\b/ \b\b- \b\b\\ \b\b| \b\b/ \b\b- \b\b\\ \b\b| \b\b/ \b\b- \b\b\\ \b\b| \b\b/ \b\b- \b\b\\ \b\b| \b\b/ \b\b- \b\b\\ \b\b| \b\b/ \b\b- \b\b\\ \b\b| \b\b/ \b\b- \b\b\\ \b\b| \b\b/ \b\b- \b\b\\ \b\b| \b\b/ \b\b- \b\b\\ \b\b| \b\b/ \b\b- \b\b\\ \b\b| \b\b/ \b\b- \b\b\\ \b\b| \b\b/ \b\b- \b\b\\ \b\b| \b\b/ \b\b- \b\b\\ \b\b| \b\b/ \b\b- \b\b\\ \b\b| \b\b/ \b\b- \b\b\\ \b\b| \b\bdone\n",
            "\n",
            "## Package Plan ##\n",
            "\n",
            "  environment location: /usr/local\n",
            "\n",
            "  added / updated specs:\n",
            "    - _ipyw_jlab_nb_ext_conf==0.1.0=py37_0\n",
            "    - _libgcc_mutex==0.1=main\n",
            "    - alabaster==0.7.12=py37_0\n",
            "    - anaconda-client==1.7.2=py37_0\n",
            "    - anaconda-navigator==1.9.7=py37_0\n",
            "    - anaconda-project==0.8.3=py_0\n",
            "    - anaconda==2019.10=py37_0\n",
            "    - asn1crypto==1.0.1=py37_0\n",
            "    - astroid==2.3.1=py37_0\n",
            "    - astropy==3.2.2=py37h7b6447c_0\n",
            "    - atomicwrites==1.3.0=py37_1\n",
            "    - attrs==19.2.0=py_0\n",
            "    - babel==2.7.0=py_0\n",
            "    - backcall==0.1.0=py37_0\n",
            "    - backports.functools_lru_cache==1.5=py_2\n",
            "    - backports.os==0.1.1=py37_0\n",
            "    - backports.shutil_get_terminal_size==1.0.0=py37_2\n",
            "    - backports.tempfile==1.0=py_1\n",
            "    - backports.weakref==1.0.post1=py_1\n",
            "    - backports==1.0=py_2\n",
            "    - beautifulsoup4==4.8.0=py37_0\n",
            "    - bitarray==1.0.1=py37h7b6447c_0\n",
            "    - bkcharts==0.2=py37_0\n",
            "    - blas==1.0=mkl\n",
            "    - bleach==3.1.0=py37_0\n",
            "    - blosc==1.16.3=hd408876_0\n",
            "    - bokeh==1.3.4=py37_0\n",
            "    - boto==2.49.0=py37_0\n",
            "    - bottleneck==1.2.1=py37h035aef0_1\n",
            "    - bzip2==1.0.8=h7b6447c_0\n",
            "    - ca-certificates==2019.8.28=0\n",
            "    - cairo==1.14.12=h8948797_3\n",
            "    - certifi==2019.9.11=py37_0\n",
            "    - cffi==1.12.3=py37h2e261b9_0\n",
            "    - chardet==3.0.4=py37_1003\n",
            "    - click==7.0=py37_0\n",
            "    - cloudpickle==1.2.2=py_0\n",
            "    - clyent==1.2.2=py37_1\n",
            "    - colorama==0.4.1=py37_0\n",
            "    - conda-build==3.18.9=py37_3\n",
            "    - conda-env==2.6.0=1\n",
            "    - conda-package-handling==1.6.0=py37h7b6447c_0\n",
            "    - conda-verify==3.4.2=py_1\n",
            "    - conda==4.7.12=py37_0\n",
            "    - contextlib2==0.6.0=py_0\n",
            "    - cryptography==2.7=py37h1ba5d50_0\n",
            "    - curl==7.65.3=hbc83047_0\n",
            "    - cycler==0.10.0=py37_0\n",
            "    - cython==0.29.13=py37he6710b0_0\n",
            "    - cytoolz==0.10.0=py37h7b6447c_0\n",
            "    - dask-core==2.5.2=py_0\n",
            "    - dask==2.5.2=py_0\n",
            "    - dbus==1.13.6=h746ee38_0\n",
            "    - decorator==4.4.0=py37_1\n",
            "    - defusedxml==0.6.0=py_0\n",
            "    - distributed==2.5.2=py_0\n",
            "    - docutils==0.15.2=py37_0\n",
            "    - entrypoints==0.3=py37_0\n",
            "    - et_xmlfile==1.0.1=py37_0\n",
            "    - expat==2.2.6=he6710b0_0\n",
            "    - fastcache==1.1.0=py37h7b6447c_0\n",
            "    - filelock==3.0.12=py_0\n",
            "    - flask==1.1.1=py_0\n",
            "    - fontconfig==2.13.0=h9420a91_0\n",
            "    - freetype==2.9.1=h8a8886c_1\n",
            "    - fribidi==1.0.5=h7b6447c_0\n",
            "    - fsspec==0.5.2=py_0\n",
            "    - future==0.17.1=py37_0\n",
            "    - get_terminal_size==1.0.0=haa9412d_0\n",
            "    - gevent==1.4.0=py37h7b6447c_0\n",
            "    - glib==2.56.2=hd408876_0\n",
            "    - glob2==0.7=py_0\n",
            "    - gmp==6.1.2=h6c8ec71_1\n",
            "    - gmpy2==2.0.8=py37h10f8cd9_2\n",
            "    - graphite2==1.3.13=h23475e2_0\n",
            "    - greenlet==0.4.15=py37h7b6447c_0\n",
            "    - gst-plugins-base==1.14.0=hbbd80ab_1\n",
            "    - gstreamer==1.14.0=hb453b48_1\n",
            "    - h5py==2.9.0=py37h7918eee_0\n",
            "    - harfbuzz==1.8.8=hffaf4a1_0\n",
            "    - hdf5==1.10.4=hb1b8bf9_0\n",
            "    - heapdict==1.0.1=py_0\n",
            "    - html5lib==1.0.1=py37_0\n",
            "    - icu==58.2=h9c2bf20_1\n",
            "    - idna==2.8=py37_0\n",
            "    - imageio==2.6.0=py37_0\n",
            "    - imagesize==1.1.0=py37_0\n",
            "    - importlib_metadata==0.23=py37_0\n",
            "    - intel-openmp==2019.4=243\n",
            "    - ipykernel==5.1.2=py37h39e3cac_0\n",
            "    - ipython==7.8.0=py37h39e3cac_0\n",
            "    - ipython_genutils==0.2.0=py37_0\n",
            "    - ipywidgets==7.5.1=py_0\n",
            "    - isort==4.3.21=py37_0\n",
            "    - itsdangerous==1.1.0=py37_0\n",
            "    - jbig==2.1=hdba287a_0\n",
            "    - jdcal==1.4.1=py_0\n",
            "    - jedi==0.15.1=py37_0\n",
            "    - jeepney==0.4.1=py_0\n",
            "    - jinja2==2.10.3=py_0\n",
            "    - joblib==0.13.2=py37_0\n",
            "    - jpeg==9b=h024ee3a_2\n",
            "    - json5==0.8.5=py_0\n",
            "    - jsonschema==3.0.2=py37_0\n",
            "    - jupyter==1.0.0=py37_7\n",
            "    - jupyter_client==5.3.3=py37_1\n",
            "    - jupyter_console==6.0.0=py37_0\n",
            "    - jupyter_core==4.5.0=py_0\n",
            "    - jupyterlab==1.1.4=pyhf63ae98_0\n",
            "    - jupyterlab_server==1.0.6=py_0\n",
            "    - keyring==18.0.0=py37_0\n",
            "    - kiwisolver==1.1.0=py37he6710b0_0\n",
            "    - krb5==1.16.1=h173b8e3_7\n",
            "    - lazy-object-proxy==1.4.2=py37h7b6447c_0\n",
            "    - libarchive==3.3.3=h5d8350f_5\n",
            "    - libcurl==7.65.3=h20c2e04_0\n",
            "    - libedit==3.1.20181209=hc058e9b_0\n",
            "    - libffi==3.2.1=hd88cf55_4\n",
            "    - libgcc-ng==9.1.0=hdf63c60_0\n",
            "    - libgfortran-ng==7.3.0=hdf63c60_0\n",
            "    - liblief==0.9.0=h7725739_2\n",
            "    - libpng==1.6.37=hbc83047_0\n",
            "    - libsodium==1.0.16=h1bed415_0\n",
            "    - libssh2==1.8.2=h1ba5d50_0\n",
            "    - libstdcxx-ng==9.1.0=hdf63c60_0\n",
            "    - libtiff==4.0.10=h2733197_2\n",
            "    - libtool==2.4.6=h7b6447c_5\n",
            "    - libuuid==1.0.3=h1bed415_2\n",
            "    - libxcb==1.13=h1bed415_1\n",
            "    - libxml2==2.9.9=hea5a465_1\n",
            "    - libxslt==1.1.33=h7d1a2b0_0\n",
            "    - llvmlite==0.29.0=py37hd408876_0\n",
            "    - locket==0.2.0=py37_1\n",
            "    - lxml==4.4.1=py37hefd8a0e_0\n",
            "    - lz4-c==1.8.1.2=h14c3975_0\n",
            "    - lzo==2.10=h49e0be7_2\n",
            "    - markupsafe==1.1.1=py37h7b6447c_0\n",
            "    - matplotlib==3.1.1=py37h5429711_0\n",
            "    - mccabe==0.6.1=py37_1\n",
            "    - mistune==0.8.4=py37h7b6447c_0\n",
            "    - mkl-service==2.3.0=py37he904b0f_0\n",
            "    - mkl==2019.4=243\n",
            "    - mkl_fft==1.0.14=py37ha843d7b_0\n",
            "    - mkl_random==1.1.0=py37hd6b4f25_0\n",
            "    - mock==3.0.5=py37_0\n",
            "    - more-itertools==7.2.0=py37_0\n",
            "    - mpc==1.1.0=h10f8cd9_1\n",
            "    - mpfr==4.0.1=hdf1c602_3\n",
            "    - mpmath==1.1.0=py37_0\n",
            "    - msgpack-python==0.6.1=py37hfd86e86_1\n",
            "    - multipledispatch==0.6.0=py37_0\n",
            "    - navigator-updater==0.2.1=py37_0\n",
            "    - nbconvert==5.6.0=py37_1\n",
            "    - nbformat==4.4.0=py37_0\n",
            "    - ncurses==6.1=he6710b0_1\n",
            "    - networkx==2.3=py_0\n",
            "    - nltk==3.4.5=py37_0\n",
            "    - nose==1.3.7=py37_2\n",
            "    - notebook==6.0.1=py37_0\n",
            "    - numba==0.45.1=py37h962f231_0\n",
            "    - numexpr==2.7.0=py37h9e4a6bb_0\n",
            "    - numpy-base==1.17.2=py37hde5b4d6_0\n",
            "    - numpy==1.17.2=py37haad9e8e_0\n",
            "    - numpydoc==0.9.1=py_0\n",
            "    - olefile==0.46=py37_0\n",
            "    - openpyxl==3.0.0=py_0\n",
            "    - openssl==1.1.1d=h7b6447c_2\n",
            "    - packaging==19.2=py_0\n",
            "    - pandas==0.25.1=py37he6710b0_0\n",
            "    - pandoc==2.2.3.2=0\n",
            "    - pandocfilters==1.4.2=py37_1\n",
            "    - pango==1.42.4=h049681c_0\n",
            "    - parso==0.5.1=py_0\n",
            "    - partd==1.0.0=py_0\n",
            "    - patchelf==0.9=he6710b0_3\n",
            "    - path.py==12.0.1=py_0\n",
            "    - pathlib2==2.3.5=py37_0\n",
            "    - patsy==0.5.1=py37_0\n",
            "    - pcre==8.43=he6710b0_0\n",
            "    - pep8==1.7.1=py37_0\n",
            "    - pexpect==4.7.0=py37_0\n",
            "    - pickleshare==0.7.5=py37_0\n",
            "    - pillow==6.2.0=py37h34e0f95_0\n",
            "    - pip==19.2.3=py37_0\n",
            "    - pixman==0.38.0=h7b6447c_0\n",
            "    - pkginfo==1.5.0.1=py37_0\n",
            "    - pluggy==0.13.0=py37_0\n",
            "    - ply==3.11=py37_0\n",
            "    - prometheus_client==0.7.1=py_0\n",
            "    - prompt_toolkit==2.0.10=py_0\n",
            "    - psutil==5.6.3=py37h7b6447c_0\n",
            "    - ptyprocess==0.6.0=py37_0\n",
            "    - py-lief==0.9.0=py37h7725739_2\n",
            "    - py==1.8.0=py37_0\n",
            "    - pycodestyle==2.5.0=py37_0\n",
            "    - pycosat==0.6.3=py37h14c3975_0\n",
            "    - pycparser==2.19=py37_0\n",
            "    - pycrypto==2.6.1=py37h14c3975_9\n",
            "    - pycurl==7.43.0.3=py37h1ba5d50_0\n",
            "    - pyflakes==2.1.1=py37_0\n",
            "    - pygments==2.4.2=py_0\n",
            "    - pylint==2.4.2=py37_0\n",
            "    - pyodbc==4.0.27=py37he6710b0_0\n",
            "    - pyopenssl==19.0.0=py37_0\n",
            "    - pyparsing==2.4.2=py_0\n",
            "    - pyqt==5.9.2=py37h05f1152_2\n",
            "    - pyrsistent==0.15.4=py37h7b6447c_0\n",
            "    - pysocks==1.7.1=py37_0\n",
            "    - pytables==3.5.2=py37h71ec239_1\n",
            "    - pytest-arraydiff==0.3=py37h39e3cac_0\n",
            "    - pytest-astropy==0.5.0=py37_0\n",
            "    - pytest-doctestplus==0.4.0=py_0\n",
            "    - pytest-openfiles==0.4.0=py_0\n",
            "    - pytest-remotedata==0.3.2=py37_0\n",
            "    - pytest==5.2.1=py37_0\n",
            "    - python-dateutil==2.8.0=py37_0\n",
            "    - python-libarchive-c==2.8=py37_13\n",
            "    - python==3.7.4=h265db76_1\n",
            "    - pytz==2019.3=py_0\n",
            "    - pywavelets==1.0.3=py37hdd07704_1\n",
            "    - pyyaml==5.1.2=py37h7b6447c_0\n",
            "    - pyzmq==18.1.0=py37he6710b0_0\n",
            "    - qt==5.9.7=h5867ecd_1\n",
            "    - qtawesome==0.6.0=py_0\n",
            "    - qtconsole==4.5.5=py_0\n",
            "    - qtpy==1.9.0=py_0\n",
            "    - readline==7.0=h7b6447c_5\n",
            "    - requests==2.22.0=py37_0\n",
            "    - ripgrep==0.10.0=hc07d326_0\n",
            "    - rope==0.14.0=py_0\n",
            "    - ruamel_yaml==0.15.46=py37h14c3975_0\n",
            "    - scikit-image==0.15.0=py37he6710b0_0\n",
            "    - scikit-learn==0.21.3=py37hd81dba3_0\n",
            "    - scipy==1.3.1=py37h7c811a0_0\n",
            "    - seaborn==0.9.0=py37_0\n",
            "    - secretstorage==3.1.1=py37_0\n",
            "    - send2trash==1.5.0=py37_0\n",
            "    - setuptools==41.4.0=py37_0\n",
            "    - simplegeneric==0.8.1=py37_2\n",
            "    - singledispatch==3.4.0.3=py37_0\n",
            "    - sip==4.19.8=py37hf484d3e_0\n",
            "    - six==1.12.0=py37_0\n",
            "    - snappy==1.1.7=hbae5bb6_3\n",
            "    - snowballstemmer==2.0.0=py_0\n",
            "    - sortedcollections==1.1.2=py37_0\n",
            "    - sortedcontainers==2.1.0=py37_0\n",
            "    - soupsieve==1.9.3=py37_0\n",
            "    - sphinx==2.2.0=py_0\n",
            "    - sphinxcontrib-applehelp==1.0.1=py_0\n",
            "    - sphinxcontrib-devhelp==1.0.1=py_0\n",
            "    - sphinxcontrib-htmlhelp==1.0.2=py_0\n",
            "    - sphinxcontrib-jsmath==1.0.1=py_0\n",
            "    - sphinxcontrib-qthelp==1.0.2=py_0\n",
            "    - sphinxcontrib-serializinghtml==1.1.3=py_0\n",
            "    - sphinxcontrib-websupport==1.1.2=py_0\n",
            "    - sphinxcontrib==1.0=py37_1\n",
            "    - spyder-kernels==0.5.2=py37_0\n",
            "    - spyder==3.3.6=py37_0\n",
            "    - sqlalchemy==1.3.9=py37h7b6447c_0\n",
            "    - sqlite==3.30.0=h7b6447c_0\n",
            "    - statsmodels==0.10.1=py37hdd07704_0\n",
            "    - sympy==1.4=py37_0\n",
            "    - tbb==2019.4=hfd86e86_0\n",
            "    - tblib==1.4.0=py_0\n",
            "    - terminado==0.8.2=py37_0\n",
            "    - testpath==0.4.2=py37_0\n",
            "    - tk==8.6.8=hbc83047_0\n",
            "    - toolz==0.10.0=py_0\n",
            "    - tornado==6.0.3=py37h7b6447c_0\n",
            "    - tqdm==4.36.1=py_0\n",
            "    - traitlets==4.3.3=py37_0\n",
            "    - unicodecsv==0.14.1=py37_0\n",
            "    - unixodbc==2.3.7=h14c3975_0\n",
            "    - urllib3==1.24.2=py37_0\n",
            "    - wcwidth==0.1.7=py37_0\n",
            "    - webencodings==0.5.1=py37_1\n",
            "    - werkzeug==0.16.0=py_0\n",
            "    - wheel==0.33.6=py37_0\n",
            "    - widgetsnbextension==3.5.1=py37_0\n",
            "    - wrapt==1.11.2=py37h7b6447c_0\n",
            "    - wurlitzer==1.0.3=py37_0\n",
            "    - xlrd==1.2.0=py37_0\n",
            "    - xlsxwriter==1.2.1=py_0\n",
            "    - xlwt==1.3.0=py37_0\n",
            "    - xz==5.2.4=h14c3975_4\n",
            "    - yaml==0.1.7=had09818_2\n",
            "    - zeromq==4.3.1=he6710b0_3\n",
            "    - zict==1.0.0=py_0\n",
            "    - zipp==0.6.0=py_0\n",
            "    - zlib==1.2.11=h7b6447c_3\n",
            "    - zstd==1.3.7=h0b5b093_0\n",
            "\n",
            "\n",
            "The following packages will be downloaded:\n",
            "\n",
            "    package                    |            build\n",
            "    ---------------------------|-----------------\n",
            "    certifi-2019.9.11          |           py37_0         151 KB\n",
            "    ------------------------------------------------------------\n",
            "                                           Total:         151 KB\n",
            "\n",
            "The following packages will be SUPERSEDED by a higher-priority channel:\n",
            "\n",
            "  certifi                                       conda-forge --> pkgs/main\n",
            "  conda                     conda-forge::conda-4.8.2-py37_0 --> pkgs/main::conda-4.7.12-py37_0\n",
            "\n",
            "\n",
            "\n",
            "Downloading and Extracting Packages\n",
            "certifi-2019.9.11    | 151 KB    | :   0% 0/1 [00:00<?, ?it/s]\n",
            "\n",
            "RuntimeError('EnforceUnusedAdapter called with url https://repo.anaconda.com/pkgs/main/linux-64/certifi-2019.9.11-py37_0.conda\\nThis command is using a remote connection in offline mode.\\n')\n",
            "\n",
            "Collecting package metadata (current_repodata.json): - \b\b\\ \b\b| \b\b/ \b\b- \b\b\\ \b\b| \b\b/ \b\b- \b\b\\ \b\b| \b\b/ \b\b- \b\b\\ \b\b| \b\b/ \b\b- \b\b\\ \b\b| \b\b/ \b\b- \b\b\\ \b\b| \b\b/ \b\b- \b\b\\ \b\b| \b\b/ \b\b- \b\b\\ \b\b| \b\b/ \b\b- \b\b\\ \b\b| \b\b/ \b\b- \b\b\\ \b\b| \b\b/ \b\b- \b\b\\ \b\bdone\n",
            "Solving environment: / \b\b- \b\b\\ \b\b| \b\b/ \b\b- \b\b\\ \b\b| \b\b/ \b\b- \b\b\\ \b\b| \b\b/ \b\b- \b\b\\ \b\b| \b\b/ \b\b- \b\b\\ \b\b| \b\b/ \b\b- \b\b\\ \b\b| \b\b/ \b\b- \b\b\\ \b\b| \b\b/ \b\b- \b\b\\ \b\b| \b\b/ \b\b- \b\b\\ \b\b| \b\b/ \b\b- \b\b\\ \b\b| \b\b/ \b\b- \b\b\\ \b\b| \b\b/ \b\b- \b\b\\ \b\b| \b\b/ \b\b- \b\b\\ \b\b| \b\b/ \b\b- \b\b\\ \b\b| \b\b/ \b\b- \b\b\\ \b\b| \b\b/ \b\b- \b\b\\ \b\b| \b\b/ \b\b- \b\b\\ \b\b| \b\b/ \b\b- \b\b\\ \b\b| \b\b/ \b\b- \b\b\\ \b\b| \b\b/ \b\b- \b\b\\ \b\b| \b\b/ \b\b- \b\b\\ \b\b| \b\b/ \b\b- \b\b\\ \b\b| \b\b/ \b\b- \b\b\\ \b\b| \b\b/ \b\b- \b\b\\ \b\b| \b\b/ \b\b- \b\b\\ \b\b| \b\b/ \b\b- \b\b\\ \b\b| \b\b/ \b\b- \b\b\\ \b\b| \b\b/ \b\b- \b\b\\ \b\b| \b\b/ \b\b- \b\b\\ \b\b| \b\b/ \b\b- \b\b\\ \b\b| \b\b/ \b\b- \b\b\\ \b\b| \b\b/ \b\b- \b\b\\ \b\b| \b\b/ \b\b- \b\b\\ \b\b| \b\b/ \b\b- \b\b\\ \b\b| \b\b/ \b\b- \b\b\\ \b\b| \b\b/ \b\b- \b\b\\ \b\b| \b\b/ \b\b- \b\b\\ \b\b| \b\b/ \b\b- \b\b\\ \b\b| \b\b/ \b\b- \b\b\\ \b\b| \b\b/ \b\b- \b\b\\ \b\b| \b\b/ \b\b- \b\b\\ \b\b| \b\b/ \b\b- \b\b\\ \b\b| \b\b/ \b\b- \b\b\\ \b\b| \b\b/ \b\b- \b\b\\ \b\b| \b\b/ \b\b- \b\b\\ \b\b| \b\b/ \b\b- \b\b\\ \b\b| \b\b/ \b\b- \b\b\\ \b\b| \b\b/ \b\b- \b\b\\ \b\b| \b\b/ \b\b- \b\b\\ \b\b| \b\b/ \b\b- \b\b\\ \b\b| \b\b/ \b\b- \b\b\\ \b\b| \b\b/ \b\b- \b\b\\ \b\b| \b\b/ \b\b- \b\b\\ \b\b| \b\b/ \b\b- \b\b\\ \b\b| \b\b/ \b\b- \b\b\\ \b\b| \b\b/ \b\b- \b\b\\ \b\b| \b\b/ \b\b- \b\b\\ \b\b| \b\b/ \b\b- \b\b\\ \b\b| \b\b/ \b\b- \b\b\\ \b\b| \b\b/ \b\b- \b\b\\ \b\b| \b\b/ \b\b- \b\b\\ \b\b| \b\b/ \b\b- \b\b\\ \b\b| \b\b/ \b\b- \b\b\\ \b\b| \b\b/ \b\b- \b\b\\ \b\b| \b\b/ \b\b- \b\b\\ \b\b| \b\b/ \b\b- \b\b\\ \b\b| \b\b/ \b\b- \b\b\\ \b\b| \b\b/ \b\b- \b\b\\ \b\b| \b\b/ \b\b- \b\b\\ \b\b| \b\b/ \b\b- \b\b\\ \b\b| \b\b/ \b\b- \b\b\\ \b\b| \b\b/ \b\b- \b\bdone\n",
            "\n",
            "## Package Plan ##\n",
            "\n",
            "  environment location: /usr/local\n",
            "\n",
            "  added / updated specs:\n",
            "    - deepchem-gpu=2.3.0\n",
            "\n",
            "\n",
            "The following packages will be downloaded:\n",
            "\n",
            "    package                    |            build\n",
            "    ---------------------------|-----------------\n",
            "    _anaconda_depends-2019.03  |           py37_0           6 KB\n",
            "    anaconda-custom            |           py37_1           3 KB\n",
            "    ca-certificates-2019.11.28 |       hecc5488_0         145 KB  conda-forge\n",
            "    certifi-2019.11.28         |           py37_0         148 KB  conda-forge\n",
            "    openssl-1.1.1d             |       h516909a_0         2.1 MB  conda-forge\n",
            "    ------------------------------------------------------------\n",
            "                                           Total:         2.4 MB\n",
            "\n",
            "The following NEW packages will be INSTALLED:\n",
            "\n",
            "  _anaconda_depends  pkgs/main/linux-64::_anaconda_depends-2019.03-py37_0\n",
            "\n",
            "The following packages will be UPDATED:\n",
            "\n",
            "  ca-certificates    pkgs/main::ca-certificates-2019.8.28-0 --> conda-forge::ca-certificates-2019.11.28-hecc5488_0\n",
            "  certifi                                  2019.9.11-py37_0 --> 2019.11.28-py37_0\n",
            "\n",
            "The following packages will be SUPERSEDED by a higher-priority channel:\n",
            "\n",
            "  openssl              pkgs/main::openssl-1.1.1d-h7b6447c_2 --> conda-forge::openssl-1.1.1d-h516909a_0\n",
            "\n",
            "The following packages will be DOWNGRADED:\n",
            "\n",
            "  anaconda                                   2019.10-py37_0 --> custom-py37_1\n",
            "\n",
            "\n",
            "\n",
            "Downloading and Extracting Packages\n",
            "certifi-2019.11.28   | 148 KB    | : 100% 1.0/1 [00:00<00:00,  6.34it/s]                \n",
            "_anaconda_depends-20 | 6 KB      | : 100% 1.0/1 [00:00<00:00,  7.98it/s]\n",
            "openssl-1.1.1d       | 2.1 MB    | : 100% 1.0/1 [00:00<00:00,  2.16it/s]               \n",
            "anaconda-custom      | 3 KB      | : 100% 1.0/1 [00:00<00:00, 16.52it/s]\n",
            "ca-certificates-2019 | 145 KB    | : 100% 1.0/1 [00:00<00:00, 18.19it/s]\n",
            "Preparing transaction: | \b\bdone\n",
            "Verifying transaction: - \b\bdone\n",
            "Executing transaction: | \b\bdone\n"
          ],
          "name": "stdout"
        }
      ]
    },
    {
      "cell_type": "markdown",
      "metadata": {
        "id": "Jc4oiK4Bc_9C",
        "colab_type": "text"
      },
      "source": [
        "We need to load a dataset of estimated aqueous solubility measurements [1] into deepchem. The data is in CSV format and contains SMILES strings, predicted aqueaous solubilities, and a number of extraneous (for our purposes) molecular properties. Here is an example line from the dataset:\n",
        "\n",
        "<table style=\"width:100%\">\n",
        "  <tr>\n",
        "    <th> Compound ID </th>\n",
        "    <th> ESOL predicted log solubility (mols/liter) </th> \n",
        "      <th> Minimum Degree </th> \n",
        "      <th> Molecular Weight </th>\n",
        "      <th> # H-Bond Donors </th>\n",
        "      <th> # Rings </th>\n",
        "      <th> # Rotatable Bonds </th>\n",
        "      <th> Polar Surface Area </th>\n",
        "      <th> Measured log solubility (mols/liter) </th>\n",
        "      <th> smiles </th>\n",
        "  </tr>\n",
        "  <tr>\n",
        "    <td>benzothiazole</td>\n",
        "    <td>-2.733</td> \n",
        "    <td>2</td>\n",
        "      <td> 135.191 </td>\n",
        "      <td> 0 </td>\n",
        "      <td> 2 </td>\n",
        "      <td> 0 </td>\n",
        "      <td> 12.89 </td>\n",
        "      <td> -1.5 </td>\n",
        "      <td> c2ccc1scnc1c2 </td> \n",
        "  </tr>\n",
        "\n",
        "</table>\n",
        "\n",
        "\n",
        "Most of these fields are not useful for our purposes. The two fields that we will need are the \"smiles\" field and the \"measured log solubility in mols per litre\". The \"smiles\" field holds a SMILES string [2] that specifies the compound in question. Before we load this data into deepchem, we will load the data into python and do some simple preliminary analysis to gain some intuition for the dataset. We'll pull this dataset down from the DeepChem github repo. (If you're running this tutorial on a Mac, you may need to run `brew install wget` to get this command)"
      ]
    },
    {
      "cell_type": "code",
      "metadata": {
        "id": "58FAHaJOc_9D",
        "colab_type": "code",
        "colab": {
          "base_uri": "https://localhost:8080/",
          "height": 204
        },
        "outputId": "e8728015-987d-453c-8feb-d065a17cc039"
      },
      "source": [
        "!wget https://raw.githubusercontent.com/deepchem/deepchem/master/datasets/delaney-processed.csv"
      ],
      "execution_count": 22,
      "outputs": [
        {
          "output_type": "stream",
          "text": [
            "--2020-03-07 00:52:54--  https://raw.githubusercontent.com/deepchem/deepchem/master/datasets/delaney-processed.csv\n",
            "Resolving raw.githubusercontent.com (raw.githubusercontent.com)... 151.101.0.133, 151.101.64.133, 151.101.128.133, ...\n",
            "Connecting to raw.githubusercontent.com (raw.githubusercontent.com)|151.101.0.133|:443... connected.\n",
            "HTTP request sent, awaiting response... 200 OK\n",
            "Length: 96699 (94K) [text/plain]\n",
            "Saving to: ‘delaney-processed.csv.1’\n",
            "\n",
            "\rdelaney-processed.c   0%[                    ]       0  --.-KB/s               \rdelaney-processed.c 100%[===================>]  94.43K  --.-KB/s    in 0.01s   \n",
            "\n",
            "2020-03-07 00:52:54 (6.31 MB/s) - ‘delaney-processed.csv.1’ saved [96699/96699]\n",
            "\n"
          ],
          "name": "stdout"
        }
      ]
    },
    {
      "cell_type": "code",
      "metadata": {
        "id": "XXQteOIQc_9G",
        "colab_type": "code",
        "colab": {
          "base_uri": "https://localhost:8080/",
          "height": 102
        },
        "outputId": "2819cb8c-7c0b-4a00-a1d6-687d3d48408e"
      },
      "source": [
        "from deepchem.utils.save import load_from_disk\n",
        "\n",
        "dataset_file= \"delaney-processed.csv\"\n",
        "dataset = load_from_disk(dataset_file)\n",
        "print(\"Columns of dataset: %s\" % str(dataset.columns.values))\n",
        "print(\"Number of examples in dataset: %s\" % str(dataset.shape[0]))"
      ],
      "execution_count": 23,
      "outputs": [
        {
          "output_type": "stream",
          "text": [
            "Columns of dataset: ['Compound ID' 'ESOL predicted log solubility in mols per litre'\n",
            " 'Minimum Degree' 'Molecular Weight' 'Number of H-Bond Donors'\n",
            " 'Number of Rings' 'Number of Rotatable Bonds' 'Polar Surface Area'\n",
            " 'measured log solubility in mols per litre' 'smiles']\n",
            "Number of examples in dataset: 1128\n"
          ],
          "name": "stdout"
        }
      ]
    },
    {
      "cell_type": "markdown",
      "metadata": {
        "id": "x_pmi554c_9J",
        "colab_type": "text"
      },
      "source": [
        "To gain a visual understanding of compounds in our dataset, let's draw them using rdkit. We define a couple of helper functions to get started."
      ]
    },
    {
      "cell_type": "code",
      "metadata": {
        "id": "lpriB1Rfc_9J",
        "colab_type": "code",
        "colab": {}
      },
      "source": [
        "import tempfile\n",
        "from rdkit import Chem\n",
        "from rdkit.Chem import Draw\n",
        "from itertools import islice\n",
        "from IPython.display import Image, display\n",
        "\n",
        "def display_images(filenames):\n",
        "    \"\"\"Helper to pretty-print images.\"\"\"\n",
        "    for file in filenames:\n",
        "      display(Image(file))\n",
        "\n",
        "def mols_to_pngs(mols, basename=\"test\"):\n",
        "    \"\"\"Helper to write RDKit mols to png files.\"\"\"\n",
        "    filenames = []\n",
        "    for i, mol in enumerate(mols):\n",
        "        filename = \"%s%d.png\" % (basename, i)\n",
        "        Draw.MolToFile(mol, filename)\n",
        "        filenames.append(filename)\n",
        "    return filenames"
      ],
      "execution_count": 0,
      "outputs": []
    },
    {
      "cell_type": "markdown",
      "metadata": {
        "id": "dv3ZBhyQc_9M",
        "colab_type": "text"
      },
      "source": [
        "Now, we display some compounds from the dataset:"
      ]
    },
    {
      "cell_type": "code",
      "metadata": {
        "id": "iRNwkDU_c_9N",
        "colab_type": "code",
        "colab": {
          "base_uri": "https://localhost:8080/",
          "height": 1000
        },
        "outputId": "f72b04f3-41e9-4a56-d76d-7e8fd2025595"
      },
      "source": [
        "num_to_display = 14\n",
        "molecules = []\n",
        "for _, data in islice(dataset.iterrows(), num_to_display):\n",
        "    molecules.append(Chem.MolFromSmiles(data[\"smiles\"]))\n",
        "display_images(mols_to_pngs(molecules))"
      ],
      "execution_count": 25,
      "outputs": [
        {
          "output_type": "display_data",
          "data": {
            "image/png": "[encoded data removed]",
            "text/plain": [
              "<IPython.core.display.Image object>"
            ]
          },
          "metadata": {
            "tags": []
          }
        },
        {
          "output_type": "display_data",
          "data": {
            "image/png": "[encoded data removed]",
            "text/plain": [
              "<IPython.core.display.Image object>"
            ]
          },
          "metadata": {
            "tags": []
          }
        },
        {
          "output_type": "display_data",
          "data": {
            "image/png": "[encoded data removed]",
            "text/plain": [
              "<IPython.core.display.Image object>"
            ]
          },
          "metadata": {
            "tags": []
          }
        },
        {
          "output_type": "display_data",
          "data": {
            "image/png": "[encoded data removed]",
            "text/plain": [
              "<IPython.core.display.Image object>"
            ]
          },
          "metadata": {
            "tags": []
          }
        },
        {
          "output_type": "display_data",
          "data": {
            "image/png": "[encoded data removed]",
            "text/plain": [
              "<IPython.core.display.Image object>"
            ]
          },
          "metadata": {
            "tags": []
          }
        },
        {
          "output_type": "display_data",
          "data": {
            "image/png": "[encoded data removed]",
            "text/plain": [
              "<IPython.core.display.Image object>"
            ]
          },
          "metadata": {
            "tags": []
          }
        },
        {
          "output_type": "display_data",
          "data": {
            "image/png": "[encoded data removed]",
            "text/plain": [
              "<IPython.core.display.Image object>"
            ]
          },
          "metadata": {
            "tags": []
          }
        },
        {
          "output_type": "display_data",
          "data": {
            "image/png": "[encoded data removed]",
            "text/plain": [
              "<IPython.core.display.Image object>"
            ]
          },
          "metadata": {
            "tags": []
          }
        },
        {
          "output_type": "display_data",
          "data": {
            "image/png": "[encoded data removed]",
            "text/plain": [
              "<IPython.core.display.Image object>"
            ]
          },
          "metadata": {
            "tags": []
          }
        },
        {
          "output_type": "display_data",
          "data": {
            "image/png": "[encoded data removed]",
            "text/plain": [
              "<IPython.core.display.Image object>"
            ]
          },
          "metadata": {
            "tags": []
          }
        },
        {
          "output_type": "display_data",
          "data": {
            "image/png": "[encoded data removed]",
            "text/plain": [
              "<IPython.core.display.Image object>"
            ]
          },
          "metadata": {
            "tags": []
          }
        },
        {
          "output_type": "display_data",
          "data": {
            "image/png": "[encoded data removed]",
            "text/plain": [
              "<IPython.core.display.Image object>"
            ]
          },
          "metadata": {
            "tags": []
          }
        },
        {
          "output_type": "display_data",
          "data": {
            "image/png": "[encoded data removed]",
            "text/plain": [
              "<IPython.core.display.Image object>"
            ]
          },
          "metadata": {
            "tags": []
          }
        },
        {
          "output_type": "display_data",
          "data": {
            "image/png": "[encoded data removed]",
            "text/plain": [
              "<IPython.core.display.Image object>"
            ]
          },
          "metadata": {
            "tags": []
          }
        }
      ]
    },
    {
      "cell_type": "markdown",
      "metadata": {
        "id": "WtMyOYmYc_9R",
        "colab_type": "text"
      },
      "source": [
        "Analyzing the distribution of solubilities shows us a nice spread of data."
      ]
    },
    {
      "cell_type": "code",
      "metadata": {
        "id": "t7V7o6x8c_9S",
        "colab_type": "code",
        "colab": {
          "base_uri": "https://localhost:8080/",
          "height": 295
        },
        "outputId": "fb57c9bc-0a60-4e2c-e947-9c5beca7a5cf"
      },
      "source": [
        "%matplotlib inline\n",
        "import matplotlib\n",
        "import numpy as np\n",
        "import matplotlib.pyplot as plt\n",
        "\n",
        "solubilities = np.array(dataset[\"measured log solubility in mols per litre\"])\n",
        "n, bins, patches = plt.hist(solubilities, 50, facecolor='green', alpha=0.75)\n",
        "plt.xlabel('Measured log-solubility in mols/liter')\n",
        "plt.ylabel('Number of compounds')\n",
        "plt.title(r'Histogram of solubilities')\n",
        "plt.grid(True)\n",
        "plt.show()\n"
      ],
      "execution_count": 26,
      "outputs": [
        {
          "output_type": "display_data",
          "data": {
            "image/png": "[encoded data removed]",
            "text/plain": [
              "<Figure size 432x288 with 1 Axes>"
            ]
          },
          "metadata": {
            "tags": []
          }
        }
      ]
    },
    {
      "cell_type": "markdown",
      "metadata": {
        "id": "2-kQjl9Nc_9U",
        "colab_type": "text"
      },
      "source": [
        "With our preliminary analysis completed, we return to the original goal of constructing a predictive statistical model of molecular solubility using `deepchem`. The first step in creating such a molecule is translating each compound into a vectorial format that can be understood by statistical learning techniques. This process is commonly called featurization. `deepchem` packages a number of commonly used featurization for user convenience. In this tutorial, we will use ECPF4 fingeprints [3].\n",
        "\n",
        "`deepchem` offers an object-oriented API for featurization. To get started with featurization, we first construct a ```Featurizer``` object. `deepchem` provides the ```CircularFingeprint``` class (a subclass of ```Featurizer``` that performs ECFP4 featurization).\n"
      ]
    },
    {
      "cell_type": "code",
      "metadata": {
        "id": "rJ1fDb9tc_9V",
        "colab_type": "code",
        "colab": {}
      },
      "source": [
        "import deepchem as dc\n",
        "\n",
        "featurizer = dc.feat.CircularFingerprint(size=1024)"
      ],
      "execution_count": 0,
      "outputs": []
    },
    {
      "cell_type": "markdown",
      "metadata": {
        "id": "ZzMWdf5Yc_9Y",
        "colab_type": "text"
      },
      "source": [
        "Now, let's perform the actual featurization. `deepchem` provides the ```CSVLoader``` class for this purpose. The ```featurize()``` method for this class loads data from disk and uses provided ```Featurizer```instances to transform the provided data into feature vectors. \n",
        "\n",
        "To perform machine learning upon these datasets, we need to convert the samples into datasets suitable for machine-learning (that is, into data matrix $X \\in \\mathbb{R}^{n\\times d}$ where $n$ is the number of samples and $d$ the dimensionality of the feature vector, and into label vector $y \\in \\mathbb{R}^n$). `deepchem` provides the `Dataset` class to facilitate this transformation. This style lends itself easily to validation-set hyperparameter searches, which we illustate below. "
      ]
    },
    {
      "cell_type": "code",
      "metadata": {
        "id": "UUiC9Z52c_9Z",
        "colab_type": "code",
        "colab": {
          "base_uri": "https://localhost:8080/",
          "height": 170
        },
        "outputId": "aefa6328-4fda-483e-d65e-a8021a9aac45"
      },
      "source": [
        "loader = dc.data.CSVLoader(\n",
        "      tasks=[\"measured log solubility in mols per litre\"], smiles_field=\"smiles\",\n",
        "      featurizer=featurizer)\n",
        "dataset = loader.featurize(dataset_file)"
      ],
      "execution_count": 28,
      "outputs": [
        {
          "output_type": "stream",
          "text": [
            "Loading raw samples now.\n",
            "shard_size: 8192\n",
            "About to start loading CSV from delaney-processed.csv\n",
            "Loading shard 1 of size 8192.\n",
            "Featurizing sample 0\n",
            "Featurizing sample 1000\n",
            "TIMING: featurizing shard 0 took 4.486 s\n",
            "TIMING: dataset construction took 4.544 s\n",
            "Loading dataset from disk.\n"
          ],
          "name": "stdout"
        }
      ]
    },
    {
      "cell_type": "markdown",
      "metadata": {
        "id": "YWnh-dYOc_9b",
        "colab_type": "text"
      },
      "source": [
        "When constructing statistical models, it's necessary to separate the provided data into train/test subsets. The train subset is used to learn the statistical model, while the test subset is used to evaluate the learned model. In practice, it's often useful to elaborate this split further and perform a train/validation/test split. The validation set is used to perform model selection. Proposed models are evaluated on the validation-set, and the best performed model is at the end tested on the test-set.\n",
        "\n",
        "Choosing the proper method of performing a train/validation/test split can be challenging. Standard machine learning practice is to perform a random split of the data into train/validation/test, but random splits are not well suited for the purposes of chemical informatics. For our predictive models to be useful, we require them to have predictive power in portions of chemical space beyond the set of molecules in the training data. Consequently, our models should use splits of the data that separate compounds in the training set from those in the validation and test-sets. We use Bemis-Murcko scaffolds [5] to perform this separation (all compounds that share an underlying molecular scaffold will be placed into the same split in the train/test/validation split).\n"
      ]
    },
    {
      "cell_type": "code",
      "metadata": {
        "id": "_wEJ8mn_c_9c",
        "colab_type": "code",
        "colab": {
          "base_uri": "https://localhost:8080/",
          "height": 204
        },
        "outputId": "89f7e970-39c7-44bf-abc9-2dc57c95dc6c"
      },
      "source": [
        "splitter = dc.splits.ScaffoldSplitter(dataset_file)\n",
        "train_dataset, valid_dataset, test_dataset = splitter.train_valid_test_split(\n",
        "    dataset)"
      ],
      "execution_count": 29,
      "outputs": [
        {
          "output_type": "stream",
          "text": [
            "Computing train/valid/test indices\n",
            "About to generate scaffolds\n",
            "Generating scaffold 0/1128\n",
            "Generating scaffold 1000/1128\n",
            "About to sort in scaffold sets\n",
            "TIMING: dataset construction took 0.065 s\n",
            "Loading dataset from disk.\n",
            "TIMING: dataset construction took 0.036 s\n",
            "Loading dataset from disk.\n",
            "TIMING: dataset construction took 0.038 s\n",
            "Loading dataset from disk.\n"
          ],
          "name": "stdout"
        }
      ]
    },
    {
      "cell_type": "markdown",
      "metadata": {
        "id": "YsdH2vtqc_9f",
        "colab_type": "text"
      },
      "source": [
        "Let's visually inspect some of the molecules in the separate splits to verify that they appear structurally dissimilar. The `FeaturizedSamples` class provides an `itersamples` method that lets us obtain the underlying compounds in each split."
      ]
    },
    {
      "cell_type": "code",
      "metadata": {
        "scrolled": true,
        "id": "koTNAeQ8c_9g",
        "colab_type": "code",
        "colab": {
          "base_uri": "https://localhost:8080/",
          "height": 1000
        },
        "outputId": "2ea4a0a8-3e88-48a6-edfb-8900a43f57ed"
      },
      "source": [
        "train_mols = [Chem.MolFromSmiles(compound)\n",
        "              for compound in train_dataset.ids]\n",
        "display_images(mols_to_pngs(train_mols[:10], basename=\"train\"))"
      ],
      "execution_count": 30,
      "outputs": [
        {
          "output_type": "display_data",
          "data": {
            "image/png": "[encoded data removed]",
            "text/plain": [
              "<IPython.core.display.Image object>"
            ]
          },
          "metadata": {
            "tags": []
          }
        },
        {
          "output_type": "display_data",
          "data": {
            "image/png": "[encoded data removed]",
            "text/plain": [
              "<IPython.core.display.Image object>"
            ]
          },
          "metadata": {
            "tags": []
          }
        },
        {
          "output_type": "display_data",
          "data": {
            "image/png": "[encoded data removed]",
            "text/plain": [
              "<IPython.core.display.Image object>"
            ]
          },
          "metadata": {
            "tags": []
          }
        },
        {
          "output_type": "display_data",
          "data": {
            "image/png": "[encoded data removed]",
            "text/plain": [
              "<IPython.core.display.Image object>"
            ]
          },
          "metadata": {
            "tags": []
          }
        },
        {
          "output_type": "display_data",
          "data": {
            "image/png": "[encoded data removed]",
            "text/plain": [
              "<IPython.core.display.Image object>"
            ]
          },
          "metadata": {
            "tags": []
          }
        },
        {
          "output_type": "display_data",
          "data": {
            "image/png": "[encoded data removed]",
            "text/plain": [
              "<IPython.core.display.Image object>"
            ]
          },
          "metadata": {
            "tags": []
          }
        },
        {
          "output_type": "display_data",
          "data": {
            "image/png": "[encoded data removed]",
            "text/plain": [
              "<IPython.core.display.Image object>"
            ]
          },
          "metadata": {
            "tags": []
          }
        },
        {
          "output_type": "display_data",
          "data": {
            "image/png": "[encoded data removed]",
            "text/plain": [
              "<IPython.core.display.Image object>"
            ]
          },
          "metadata": {
            "tags": []
          }
        },
        {
          "output_type": "display_data",
          "data": {
            "image/png": "[encoded data removed]",
            "text/plain": [
              "<IPython.core.display.Image object>"
            ]
          },
          "metadata": {
            "tags": []
          }
        },
        {
          "output_type": "display_data",
          "data": {
            "image/png": "[encoded data removed]",
            "text/plain": [
              "<IPython.core.display.Image object>"
            ]
          },
          "metadata": {
            "tags": []
          }
        }
      ]
    },
    {
      "cell_type": "code",
      "metadata": {
        "id": "wizZIO-Ec_9i",
        "colab_type": "code",
        "colab": {
          "base_uri": "https://localhost:8080/",
          "height": 1000
        },
        "outputId": "7069b744-c220-4651-a430-f399a302b6ed"
      },
      "source": [
        "valid_mols = [Chem.MolFromSmiles(compound)\n",
        "              for compound in valid_dataset.ids]\n",
        "display_images(mols_to_pngs(valid_mols[:10], basename=\"valid\"))"
      ],
      "execution_count": 31,
      "outputs": [
        {
          "output_type": "display_data",
          "data": {
            "image/png": "[encoded data removed]",
            "text/plain": [
              "<IPython.core.display.Image object>"
            ]
          },
          "metadata": {
            "tags": []
          }
        },
        {
          "output_type": "display_data",
          "data": {
            "image/png": "[encoded data removed]",
            "text/plain": [
              "<IPython.core.display.Image object>"
            ]
          },
          "metadata": {
            "tags": []
          }
        },
        {
          "output_type": "display_data",
          "data": {
            "image/png": "[encoded data removed]",
            "text/plain": [
              "<IPython.core.display.Image object>"
            ]
          },
          "metadata": {
            "tags": []
          }
        },
        {
          "output_type": "display_data",
          "data": {
            "image/png": "[encoded data removed]",
            "text/plain": [
              "<IPython.core.display.Image object>"
            ]
          },
          "metadata": {
            "tags": []
          }
        },
        {
          "output_type": "display_data",
          "data": {
            "image/png": "[encoded data removed]",
            "text/plain": [
              "<IPython.core.display.Image object>"
            ]
          },
          "metadata": {
            "tags": []
          }
        },
        {
          "output_type": "display_data",
          "data": {
            "image/png": "[encoded data removed]",
            "text/plain": [
              "<IPython.core.display.Image object>"
            ]
          },
          "metadata": {
            "tags": []
          }
        },
        {
          "output_type": "display_data",
          "data": {
            "image/png": "[encoded data removed]",
            "text/plain": [
              "<IPython.core.display.Image object>"
            ]
          },
          "metadata": {
            "tags": []
          }
        },
        {
          "output_type": "display_data",
          "data": {
            "image/png": "[encoded data removed]",
            "text/plain": [
              "<IPython.core.display.Image object>"
            ]
          },
          "metadata": {
            "tags": []
          }
        },
        {
          "output_type": "display_data",
          "data": {
            "image/png": "[encoded data removed]",
            "text/plain": [
              "<IPython.core.display.Image object>"
            ]
          },
          "metadata": {
            "tags": []
          }
        },
        {
          "output_type": "display_data",
          "data": {
            "image/png": "[encoded data removed]",
            "text/plain": [
              "<IPython.core.display.Image object>"
            ]
          },
          "metadata": {
            "tags": []
          }
        }
      ]
    },
    {
      "cell_type": "markdown",
      "metadata": {
        "id": "xyHuYSjnc_9m",
        "colab_type": "text"
      },
      "source": [
        "Notice the visual distinction between the train/validation splits. The most-common scaffolds are reserved for the train split, with the rarer scaffolds allotted to validation/test."
      ]
    },
    {
      "cell_type": "markdown",
      "metadata": {
        "id": "51_rHNLPc_9n",
        "colab_type": "text"
      },
      "source": [
        "The performance of common machine-learning algorithms can be very sensitive to preprocessing of the data. One common transformation applied to data is to normalize it to have zero-mean and unit-standard-deviation. We will apply this transformation to the log-solubility (as seen above, the log-solubility ranges from -12 to 2)."
      ]
    },
    {
      "cell_type": "code",
      "metadata": {
        "id": "apAo3BJlc_9o",
        "colab_type": "code",
        "colab": {
          "base_uri": "https://localhost:8080/",
          "height": 119
        },
        "outputId": "fd10524a-0b17-4352-b704-5c8539ed44e4"
      },
      "source": [
        "transformers = [\n",
        "    dc.trans.NormalizationTransformer(transform_y=True, dataset=train_dataset)]\n",
        "\n",
        "for dataset in [train_dataset, valid_dataset, test_dataset]:\n",
        "  for transformer in transformers:\n",
        "      dataset = transformer.transform(dataset)"
      ],
      "execution_count": 32,
      "outputs": [
        {
          "output_type": "stream",
          "text": [
            "TIMING: dataset construction took 0.055 s\n",
            "Loading dataset from disk.\n",
            "TIMING: dataset construction took 0.011 s\n",
            "Loading dataset from disk.\n",
            "TIMING: dataset construction took 0.011 s\n",
            "Loading dataset from disk.\n"
          ],
          "name": "stdout"
        }
      ]
    },
    {
      "cell_type": "markdown",
      "metadata": {
        "id": "hqEjFjU4c_9q",
        "colab_type": "text"
      },
      "source": [
        "The next step after processing the data is to start fitting simple learning models to our data. `deepchem` provides a number of machine-learning model classes.\n",
        "\n",
        "In particular, `deepchem` provides a convenience class, ```SklearnModel``` that wraps any machine-learning model available in scikit-learn [6]. Consequently, we will start by building a simple random-forest regressor that attempts to predict the log-solubility from our computed ECFP4 features. To train the model, we instantiate the ```SklearnModel``` object, then call the ```fit()``` method on the ```train_dataset``` we constructed above. We then save the model to disk."
      ]
    },
    {
      "cell_type": "code",
      "metadata": {
        "id": "kSpYdUDkc_9r",
        "colab_type": "code",
        "colab": {}
      },
      "source": [
        "from sklearn.ensemble import RandomForestRegressor\n",
        "\n",
        "sklearn_model = RandomForestRegressor(n_estimators=100)\n",
        "model = dc.models.SklearnModel(sklearn_model)\n",
        "model.fit(train_dataset)"
      ],
      "execution_count": 0,
      "outputs": []
    },
    {
      "cell_type": "markdown",
      "metadata": {
        "id": "63-ylGaPc_9t",
        "colab_type": "text"
      },
      "source": [
        "We next evaluate the model on the validation set to see its predictive power. `deepchem` provides the `Evaluator` class to facilitate this process. To evaluate the constructed `model` object, create a new `Evaluator` instance and call the `compute_model_performance()` method."
      ]
    },
    {
      "cell_type": "code",
      "metadata": {
        "id": "OG3FfI20c_9u",
        "colab_type": "code",
        "colab": {
          "base_uri": "https://localhost:8080/",
          "height": 51
        },
        "outputId": "a1ecface-2698-4e2f-9446-e4832c7c44ac"
      },
      "source": [
        "from deepchem.utils.evaluate import Evaluator\n",
        "\n",
        "metric = dc.metrics.Metric(dc.metrics.r2_score)\n",
        "evaluator = Evaluator(model, valid_dataset, transformers)\n",
        "r2score = evaluator.compute_model_performance([metric])\n",
        "print(r2score)\n"
      ],
      "execution_count": 34,
      "outputs": [
        {
          "output_type": "stream",
          "text": [
            "computed_metrics: [0.15042795465788084]\n",
            "{'r2_score': 0.15042795465788084}\n"
          ],
          "name": "stdout"
        }
      ]
    },
    {
      "cell_type": "markdown",
      "metadata": {
        "id": "eDfVtZztc_9w",
        "colab_type": "text"
      },
      "source": [
        "The performance of this basic random-forest model isn't very strong. To construct stronger models, let's attempt to optimize the hyperparameters (choices made in the model-specification) to achieve better performance. For random forests, we can tweak `n_estimators` which controls the number of trees in the forest, and `max_features` which controls the number of features to consider when performing a split. We now build a series of `SklearnModel`s with different choices for `n_estimators` and `max_features` and evaluate performance on the validation set."
      ]
    },
    {
      "cell_type": "code",
      "metadata": {
        "id": "pT9oo7rUc_9x",
        "colab_type": "code",
        "colab": {
          "base_uri": "https://localhost:8080/",
          "height": 765
        },
        "outputId": "583fe521-0ff7-4eae-9230-282c3adc733f"
      },
      "source": [
        "def rf_model_builder(model_params, model_dir):\n",
        "  sklearn_model = RandomForestRegressor(**model_params)\n",
        "  return dc.models.SklearnModel(sklearn_model, model_dir)\n",
        "params_dict = {\n",
        "    \"n_estimators\": [10, 100],\n",
        "    \"max_features\": [\"auto\", \"sqrt\", \"log2\", None],\n",
        "}\n",
        "\n",
        "metric = dc.metrics.Metric(dc.metrics.r2_score)\n",
        "optimizer = dc.hyper.HyperparamOpt(rf_model_builder)\n",
        "best_rf, best_rf_hyperparams, all_rf_results = optimizer.hyperparam_search(\n",
        "    params_dict, train_dataset, valid_dataset, transformers,\n",
        "    metric=metric)"
      ],
      "execution_count": 35,
      "outputs": [
        {
          "output_type": "stream",
          "text": [
            "Fitting model 1/8\n",
            "hyperparameters: {'n_estimators': 10, 'max_features': 'auto'}\n",
            "computed_metrics: [0.09886964521512454]\n",
            "Model 1/8, Metric r2_score, Validation set 0: 0.098870\n",
            "\tbest_validation_score so far: 0.098870\n",
            "Fitting model 2/8\n",
            "hyperparameters: {'n_estimators': 10, 'max_features': 'sqrt'}\n",
            "computed_metrics: [0.1773003781766046]\n",
            "Model 2/8, Metric r2_score, Validation set 1: 0.177300\n",
            "\tbest_validation_score so far: 0.177300\n",
            "Fitting model 3/8\n",
            "hyperparameters: {'n_estimators': 10, 'max_features': 'log2'}\n",
            "computed_metrics: [0.24645264403519407]\n",
            "Model 3/8, Metric r2_score, Validation set 2: 0.246453\n",
            "\tbest_validation_score so far: 0.246453\n",
            "Fitting model 4/8\n",
            "hyperparameters: {'n_estimators': 10, 'max_features': None}\n",
            "computed_metrics: [0.06694623063508132]\n",
            "Model 4/8, Metric r2_score, Validation set 3: 0.066946\n",
            "\tbest_validation_score so far: 0.246453\n",
            "Fitting model 5/8\n",
            "hyperparameters: {'n_estimators': 100, 'max_features': 'auto'}\n",
            "computed_metrics: [0.1455371782339261]\n",
            "Model 5/8, Metric r2_score, Validation set 4: 0.145537\n",
            "\tbest_validation_score so far: 0.246453\n",
            "Fitting model 6/8\n",
            "hyperparameters: {'n_estimators': 100, 'max_features': 'sqrt'}\n",
            "computed_metrics: [0.28166477125276523]\n",
            "Model 6/8, Metric r2_score, Validation set 5: 0.281665\n",
            "\tbest_validation_score so far: 0.281665\n",
            "Fitting model 7/8\n",
            "hyperparameters: {'n_estimators': 100, 'max_features': 'log2'}\n",
            "computed_metrics: [0.25698170787396823]\n",
            "Model 7/8, Metric r2_score, Validation set 6: 0.256982\n",
            "\tbest_validation_score so far: 0.281665\n",
            "Fitting model 8/8\n",
            "hyperparameters: {'n_estimators': 100, 'max_features': None}\n",
            "computed_metrics: [0.1619632024696095]\n",
            "Model 8/8, Metric r2_score, Validation set 7: 0.161963\n",
            "\tbest_validation_score so far: 0.281665\n",
            "computed_metrics: [0.9448778108119258]\n",
            "Best hyperparameters: (100, 'sqrt')\n",
            "train_score: 0.944878\n",
            "validation_score: 0.281665\n"
          ],
          "name": "stdout"
        }
      ]
    },
    {
      "cell_type": "markdown",
      "metadata": {
        "id": "ytSp1h9Zc_9z",
        "colab_type": "text"
      },
      "source": [
        "The best model achieves significantly higher $R^2$ on the validation set than the first model we constructed. Now, let's perform the same sort of hyperparameter search, but with a simple deep-network instead."
      ]
    },
    {
      "cell_type": "code",
      "metadata": {
        "id": "TS0-7gVYc_90",
        "colab_type": "code",
        "colab": {
          "base_uri": "https://localhost:8080/",
          "height": 170
        },
        "outputId": "7674ccbc-f3c8-463d-d585-12812b163f7b"
      },
      "source": [
        "import numpy.random\n",
        "\n",
        "params_dict = {\"learning_rate\": np.power(10., np.random.uniform(-5, -3, size=1)),\n",
        "               \"decay\": np.power(10, np.random.uniform(-6, -4, size=1)),\n",
        "               \"nb_epoch\": [20] }\n",
        "n_features = train_dataset.get_data_shape()[0]\n",
        "def model_builder(model_params, model_dir):\n",
        "  model = dc.models.MultitaskRegressor(\n",
        "    1, n_features, layer_sizes=[1000], dropouts=[.25],\n",
        "    batch_size=50, **model_params)\n",
        "  return model\n",
        "\n",
        "optimizer = dc.hyper.HyperparamOpt(model_builder)\n",
        "best_dnn, best_dnn_hyperparams, all_dnn_results = optimizer.hyperparam_search(\n",
        "    params_dict, train_dataset, valid_dataset, transformers,\n",
        "    metric=metric)"
      ],
      "execution_count": 36,
      "outputs": [
        {
          "output_type": "stream",
          "text": [
            "Fitting model 1/1\n",
            "hyperparameters: {'learning_rate': 3.563727942943181e-05, 'decay': 1.7448481824491126e-06, 'nb_epoch': 20}\n",
            "computed_metrics: [-0.10252519581125363]\n",
            "Model 1/1, Metric r2_score, Validation set 0: -0.102525\n",
            "\tbest_validation_score so far: -0.102525\n",
            "computed_metrics: [0.1728650152585106]\n",
            "Best hyperparameters: (3.563727942943181e-05, 1.7448481824491126e-06, 20)\n",
            "train_score: 0.172865\n",
            "validation_score: -0.102525\n"
          ],
          "name": "stdout"
        }
      ]
    },
    {
      "cell_type": "markdown",
      "metadata": {
        "id": "Qcn6BidDc_93",
        "colab_type": "text"
      },
      "source": [
        "Now that we have a reasonable choice of hyperparameters, let's evaluate the performance of our best models on the test-set."
      ]
    },
    {
      "cell_type": "code",
      "metadata": {
        "id": "s8TqBD6pc_94",
        "colab_type": "code",
        "colab": {
          "base_uri": "https://localhost:8080/",
          "height": 51
        },
        "outputId": "1659bac1-17a7-4db5-c4fb-b4465a89416b"
      },
      "source": [
        "rf_test_evaluator = Evaluator(best_rf, test_dataset, transformers)\n",
        "rf_test_r2score = rf_test_evaluator.compute_model_performance([metric])\n",
        "print(\"RF Test set R^2 %f\" % (rf_test_r2score[\"r2_score\"]))"
      ],
      "execution_count": 37,
      "outputs": [
        {
          "output_type": "stream",
          "text": [
            "computed_metrics: [0.3892799987740313]\n",
            "RF Test set R^2 0.389280\n"
          ],
          "name": "stdout"
        }
      ]
    },
    {
      "cell_type": "code",
      "metadata": {
        "id": "U-clxvGhc_96",
        "colab_type": "code",
        "colab": {
          "base_uri": "https://localhost:8080/",
          "height": 51
        },
        "outputId": "7eee1532-460d-4f25-e478-71b6356158c7"
      },
      "source": [
        "dnn_test_evaluator = Evaluator(best_dnn, test_dataset, transformers)\n",
        "dnn_test_r2score = dnn_test_evaluator.compute_model_performance([metric])\n",
        "print(\"DNN Test set R^2 %f\" % (dnn_test_r2score[\"r2_score\"]))"
      ],
      "execution_count": 38,
      "outputs": [
        {
          "output_type": "stream",
          "text": [
            "computed_metrics: [-0.045662363436168585]\n",
            "DNN Test set R^2 -0.045662\n"
          ],
          "name": "stdout"
        }
      ]
    },
    {
      "cell_type": "markdown",
      "metadata": {
        "id": "k5yQytmUc_98",
        "colab_type": "text"
      },
      "source": [
        "Now, let's plot the predicted $R^2$ scores versus the true $R^2$ scores for the constructed model."
      ]
    },
    {
      "cell_type": "code",
      "metadata": {
        "id": "887Zb1-5c_98",
        "colab_type": "code",
        "colab": {
          "base_uri": "https://localhost:8080/",
          "height": 295
        },
        "outputId": "53f45947-ca11-4d0b-e673-f09f7bdc32ba"
      },
      "source": [
        "task = \"measured log solubility in mols per litre\"\n",
        "predicted_test = best_rf.predict(test_dataset)\n",
        "true_test = test_dataset.y\n",
        "plt.scatter(predicted_test, true_test)\n",
        "plt.xlabel('Predicted log-solubility in mols/liter')\n",
        "plt.ylabel('True log-solubility in mols/liter')\n",
        "plt.title(r'RF- predicted vs. true log-solubilities')\n",
        "plt.show()"
      ],
      "execution_count": 39,
      "outputs": [
        {
          "output_type": "display_data",
          "data": {
            "image/png": "[encoded data removed]",
            "text/plain": [
              "<Figure size 432x288 with 1 Axes>"
            ]
          },
          "metadata": {
            "tags": []
          }
        }
      ]
    },
    {
      "cell_type": "code",
      "metadata": {
        "id": "sai82xRPc_9-",
        "colab_type": "code",
        "colab": {
          "base_uri": "https://localhost:8080/",
          "height": 295
        },
        "outputId": "1b99cf44-b205-4163-c057-c6890a988527"
      },
      "source": [
        "task = \"measured log solubility in mols per litre\"\n",
        "predicted_test = best_dnn.predict(test_dataset)\n",
        "true_test = test_dataset.y\n",
        "plt.scatter(predicted_test, true_test)\n",
        "plt.xlabel('Predicted log-solubility in mols/liter')\n",
        "plt.ylabel('True log-solubility in mols/liter')\n",
        "plt.title(r'DNN predicted vs. true log-solubilities')\n",
        "plt.show()"
      ],
      "execution_count": 40,
      "outputs": [
        {
          "output_type": "display_data",
          "data": {
            "image/png": "[encoded data removed]",
            "text/plain": [
              "<Figure size 432x288 with 1 Axes>"
            ]
          },
          "metadata": {
            "tags": []
          }
        }
      ]
    },
    {
      "cell_type": "markdown",
      "metadata": {
        "id": "zjq2lDjvc_-B",
        "colab_type": "text"
      },
      "source": [
        "# Congratulations! Time to join the Community!\n",
        "\n",
        "Congratulations on completing this tutorial notebook! If you enjoyed working through the tutorial, and want to continue working with DeepChem, we encourage you to finish the rest of the tutorials in this series. You can also help the DeepChem community in the following ways:\n",
        "\n",
        "## Star DeepChem on [GitHub](https://github.com/deepchem/deepchem)\n",
        "This helps build awareness of the DeepChem project and the tools for open source drug discovery that we're trying to build.\n",
        "\n",
        "## Join the DeepChem Gitter\n",
        "The DeepChem [Gitter](https://gitter.im/deepchem/Lobby) hosts a number of scientists, developers, and enthusiasts interested in deep learning for the life sciences. Join the conversation!"
      ]
    },
    {
      "cell_type": "markdown",
      "metadata": {
        "id": "LnfcVQsNc_-C",
        "colab_type": "text"
      },
      "source": [
        "# Bibliography\n",
        "\n",
        "[1] John S. Delaney. ESOL: Estimating aqueous solubility directly from molecular structure. Journal\n",
        "of Chemical Information and Computer Sciences, 44(3):1000–1005, 2004.\n",
        "\n",
        "[2] Anderson, Eric, Gilman D. Veith, and David Weininger. SMILES, a line notation and computerized\n",
        "interpreter for chemical structures. US Environmental Protection Agency, Environmental Research Laboratory, 1987.\n",
        "\n",
        "[3] Rogers, David, and Mathew Hahn. \"Extended-connectivity fingerprints.\" Journal of chemical information\n",
        "and modeling 50.5 (2010): 742-754.\n",
        "    \n",
        "[4] Van Der Walt, Stefan, S. Chris Colbert, and Gael Varoquaux.\n",
        "\"The NumPy array:a structure for efficient numerical computation.\" Computing in Science & Engineering 13.2 (2011): 22-30.\n",
        "    \n",
        "[5] Bemis, Guy W., and Mark A. Murcko. \"The properties of known drugs. 1. Molecular frameworks.\"\n",
        "Journal of medicinal chemistry 39.15 (1996): 2887-2893.\n",
        "\n",
        "[6] Pedregosa, Fabian, et al. \"Scikit-learn: Machine learning in Python.\" The Journal of Machine Learning Research 12 (2011): 2825-2830."
      ]
    }
  ]
}