{
  "nbformat": 4,
  "nbformat_minor": 0,
  "metadata": {
    "kernelspec": {
      "name": "python3",
      "display_name": "Python 3"
    },
    "language_info": {
      "codemirror_mode": {
        "name": "ipython",
        "version": 3
      },
      "file_extension": ".py",
      "mimetype": "text/x-python",
      "name": "python",
      "nbconvert_exporter": "python",
      "pygments_lexer": "ipython3",
      "version": "3.6.10"
    },
    "colab": {
      "name": "03_Modeling_Solubility.ipynb",
      "provenance": []
    },
    "accelerator": "GPU"
  },
  "cells": [
    {
      "cell_type": "markdown",
      "metadata": {
        "id": "xz586Jg2c_87",
        "colab_type": "text"
      },
      "source": [
        "# Tutorial Part 3: Modeling Solubility\n"
      ]
    },
    {
      "cell_type": "markdown",
      "metadata": {
        "id": "GdibQzeVc_8-",
        "colab_type": "text"
      },
      "source": [
        "Computationally predicting molecular solubility through is useful for drug-discovery. In this tutorial, we will use the `deepchem` library to fit a simple statistical model that predicts the solubility of drug-like compounds. The process of fitting this model involves four steps:\n",
        "\n",
        "1. Loading a chemical dataset, consisting of a series of compounds along with aqueous solubility measurements.\n",
        "2. Transforming each compound into a feature vector $v \\in \\mathbb{R}^n$ comprehensible to statistical learning methods.\n",
        "3. Fitting a simple model that maps feature vectors to estimates of aqueous solubility.\n",
        "4. Visualizing the results.\n",
        "\n",
        "## Colab\n",
        "\n",
        "This tutorial and the rest in this sequence are designed to be done in Google colab. If you'd like to open this notebook in colab, you can use the following link.\n",
        "\n",
        "[![Open In Colab](https://colab.research.google.com/assets/colab-badge.svg)](https://colab.research.google.com/github/deepchem/deepchem/blob/master/examples/tutorials/03_Modeling_Solubility.ipynb)\n",
        "\n",
        "## Setup\n",
        "\n",
        "To run DeepChem within Colab, you'll need to run the following cell of installation commands. This will take about 5 minutes to run to completion and install your environment."
      ]
    },
    {
      "cell_type": "code",
      "metadata": {
        "id": "hagObl_sc_8_",
        "colab_type": "code",
        "colab": {}
      },
      "source": [
        "%%capture\n",
        "%tensorflow_version 1.x\n",
        "!wget -c https://repo.anaconda.com/miniconda/Miniconda3-latest-Linux-x86_64.sh\n",
        "!chmod +x Miniconda3-latest-Linux-x86_64.sh\n",
        "!bash ./Miniconda3-latest-Linux-x86_64.sh -b -f -p /usr/local\n",
        "!conda install -y -c deepchem -c rdkit -c conda-forge -c omnia deepchem-gpu=2.3.0\n",
        "import sys\n",
        "sys.path.append('/usr/local/lib/python3.7/site-packages/')"
      ],
      "execution_count": 0,
      "outputs": []
    },
    {
      "cell_type": "markdown",
      "metadata": {
        "id": "Jc4oiK4Bc_9C",
        "colab_type": "text"
      },
      "source": [
        "We need to load a dataset of estimated aqueous solubility measurements [1] into deepchem. The data is in CSV format and contains SMILES strings, predicted aqueaous solubilities, and a number of extraneous (for our purposes) molecular properties. Here is an example line from the dataset:\n",
        "\n",
        "<table style=\"width:100%\">\n",
        "  <tr>\n",
        "    <th> Compound ID </th>\n",
        "    <th> ESOL predicted log solubility (mols/liter) </th> \n",
        "      <th> Minimum Degree </th> \n",
        "      <th> Molecular Weight </th>\n",
        "      <th> # H-Bond Donors </th>\n",
        "      <th> # Rings </th>\n",
        "      <th> # Rotatable Bonds </th>\n",
        "      <th> Polar Surface Area </th>\n",
        "      <th> Measured log solubility (mols/liter) </th>\n",
        "      <th> smiles </th>\n",
        "  </tr>\n",
        "  <tr>\n",
        "    <td>benzothiazole</td>\n",
        "    <td>-2.733</td> \n",
        "    <td>2</td>\n",
        "      <td> 135.191 </td>\n",
        "      <td> 0 </td>\n",
        "      <td> 2 </td>\n",
        "      <td> 0 </td>\n",
        "      <td> 12.89 </td>\n",
        "      <td> -1.5 </td>\n",
        "      <td> c2ccc1scnc1c2 </td> \n",
        "  </tr>\n",
        "\n",
        "</table>\n",
        "\n",
        "\n",
        "Most of these fields are not useful for our purposes. The two fields that we will need are the \"smiles\" field and the \"measured log solubility in mols per litre\". The \"smiles\" field holds a SMILES string [2] that specifies the compound in question. Before we load this data into deepchem, we will load the data into python and do some simple preliminary analysis to gain some intuition for the dataset. We'll pull this dataset down from the DeepChem github repo. (If you're running this tutorial on a Mac, you may need to run `brew install wget` to get this command)"
      ]
    },
    {
      "cell_type": "code",
      "metadata": {
        "id": "58FAHaJOc_9D",
        "colab_type": "code",
        "outputId": "9903c971-0475-43f9-f6be-4011df24806a",
        "colab": {
          "base_uri": "https://localhost:8080/",
          "height": 204
        }
      },
      "source": [
        "!wget https://raw.githubusercontent.com/deepchem/deepchem/master/datasets/delaney-processed.csv"
      ],
      "execution_count": 2,
      "outputs": [
        {
          "output_type": "stream",
          "text": [
            "--2020-03-27 03:22:37--  https://raw.githubusercontent.com/deepchem/deepchem/master/datasets/delaney-processed.csv\n",
            "Resolving raw.githubusercontent.com (raw.githubusercontent.com)... 151.101.0.133, 151.101.64.133, 151.101.128.133, ...\n",
            "Connecting to raw.githubusercontent.com (raw.githubusercontent.com)|151.101.0.133|:443... connected.\n",
            "HTTP request sent, awaiting response... 200 OK\n",
            "Length: 96699 (94K) [text/plain]\n",
            "Saving to: ‘delaney-processed.csv’\n",
            "\n",
            "\rdelaney-processed.c   0%[                    ]       0  --.-KB/s               \rdelaney-processed.c 100%[===================>]  94.43K  --.-KB/s    in 0.001s  \n",
            "\n",
            "2020-03-27 03:22:37 (70.3 MB/s) - ‘delaney-processed.csv’ saved [96699/96699]\n",
            "\n"
          ],
          "name": "stdout"
        }
      ]
    },
    {
      "cell_type": "code",
      "metadata": {
        "id": "XXQteOIQc_9G",
        "colab_type": "code",
        "outputId": "820d03c2-cb3d-4d3a-888a-3de5018aac08",
        "colab": {
          "base_uri": "https://localhost:8080/",
          "height": 338
        }
      },
      "source": [
        "from deepchem.utils.save import load_from_disk\n",
        "\n",
        "dataset_file= \"delaney-processed.csv\"\n",
        "dataset = load_from_disk(dataset_file)\n",
        "print(\"Columns of dataset: %s\" % str(dataset.columns.values))\n",
        "print(\"Number of examples in dataset: %s\" % str(dataset.shape[0]))"
      ],
      "execution_count": 3,
      "outputs": [
        {
          "output_type": "stream",
          "text": [
            "/usr/local/lib/python3.6/dist-packages/sklearn/externals/joblib/__init__.py:15: FutureWarning: sklearn.externals.joblib is deprecated in 0.21 and will be removed in 0.23. Please import this functionality directly from joblib, which can be installed with: pip install joblib. If this warning is raised when loading pickled models, you may need to re-serialize those models with scikit-learn 0.21+.\n",
            "  warnings.warn(msg, category=FutureWarning)\n"
          ],
          "name": "stderr"
        },
        {
          "output_type": "display_data",
          "data": {
            "text/html": [
              "<p style=\"color: red;\">\n",
              "The default version of TensorFlow in Colab will switch to TensorFlow 2.x on the 27th of March, 2020.<br>\n",
              "We recommend you <a href=\"https://www.tensorflow.org/guide/migrate\" target=\"_blank\">upgrade</a> now\n",
              "or ensure your notebook will continue to use TensorFlow 1.x via the <code>%tensorflow_version 1.x</code> magic:\n",
              "<a href=\"https://colab.research.google.com/notebooks/tensorflow_version.ipynb\" target=\"_blank\">more info</a>.</p>\n"
            ],
            "text/plain": [
              "<IPython.core.display.HTML object>"
            ]
          },
          "metadata": {
            "tags": []
          }
        },
        {
          "output_type": "stream",
          "text": [
            "WARNING:tensorflow:\n",
            "The TensorFlow contrib module will not be included in TensorFlow 2.0.\n",
            "For more information, please see:\n",
            "  * https://github.com/tensorflow/community/blob/master/rfcs/20180907-contrib-sunset.md\n",
            "  * https://github.com/tensorflow/addons\n",
            "  * https://github.com/tensorflow/io (for I/O related ops)\n",
            "If you depend on functionality not listed there, please file an issue.\n",
            "\n",
            "Columns of dataset: ['Compound ID' 'ESOL predicted log solubility in mols per litre'\n",
            " 'Minimum Degree' 'Molecular Weight' 'Number of H-Bond Donors'\n",
            " 'Number of Rings' 'Number of Rotatable Bonds' 'Polar Surface Area'\n",
            " 'measured log solubility in mols per litre' 'smiles']\n",
            "Number of examples in dataset: 1128\n"
          ],
          "name": "stdout"
        }
      ]
    },
    {
      "cell_type": "markdown",
      "metadata": {
        "id": "x_pmi554c_9J",
        "colab_type": "text"
      },
      "source": [
        "To gain a visual understanding of compounds in our dataset, let's draw them using rdkit. We define a couple of helper functions to get started."
      ]
    },
    {
      "cell_type": "code",
      "metadata": {
        "id": "lpriB1Rfc_9J",
        "colab_type": "code",
        "colab": {}
      },
      "source": [
        "import tempfile\n",
        "from rdkit import Chem\n",
        "from rdkit.Chem import Draw\n",
        "from itertools import islice\n",
        "from IPython.display import Image, display\n",
        "\n",
        "def display_images(filenames):\n",
        "    \"\"\"Helper to pretty-print images.\"\"\"\n",
        "    for file in filenames:\n",
        "      display(Image(file))\n",
        "\n",
        "def mols_to_pngs(mols, basename=\"test\"):\n",
        "    \"\"\"Helper to write RDKit mols to png files.\"\"\"\n",
        "    filenames = []\n",
        "    for i, mol in enumerate(mols):\n",
        "        filename = \"%s%d.png\" % (basename, i)\n",
        "        Draw.MolToFile(mol, filename)\n",
        "        filenames.append(filename)\n",
        "    return filenames"
      ],
      "execution_count": 0,
      "outputs": []
    },
    {
      "cell_type": "markdown",
      "metadata": {
        "id": "dv3ZBhyQc_9M",
        "colab_type": "text"
      },
      "source": [
        "Now, we display some compounds from the dataset:"
      ]
    },
    {
      "cell_type": "code",
      "metadata": {
        "id": "iRNwkDU_c_9N",
        "colab_type": "code",
        "outputId": "da77eae0-fb5a-46ec-bbe4-2e6b22d1e2de",
        "colab": {
          "base_uri": "https://localhost:8080/",
          "height": 1000
        }
      },
      "source": [
        "num_to_display = 14\n",
        "molecules = []\n",
        "for _, data in islice(dataset.iterrows(), num_to_display):\n",
        "    molecules.append(Chem.MolFromSmiles(data[\"smiles\"]))\n",
        "display_images(mols_to_pngs(molecules))"
      ],
      "execution_count": 5,
      "outputs": [
        {
          "output_type": "display_data",
          "data": {
            "image/png": "[encoded data removed]",
            "text/plain": [
              "<IPython.core.display.Image object>"
            ]
          },
          "metadata": {
            "tags": []
          }
        },
        {
          "output_type": "display_data",
          "data": {
            "image/png": "[encoded data removed]",
            "text/plain": [
              "<IPython.core.display.Image object>"
            ]
          },
          "metadata": {
            "tags": []
          }
        },
        {
          "output_type": "display_data",
          "data": {
            "image/png": "[encoded data removed]",
            "text/plain": [
              "<IPython.core.display.Image object>"
            ]
          },
          "metadata": {
            "tags": []
          }
        },
        {
          "output_type": "display_data",
          "data": {
            "image/png": "[encoded data removed]",
            "text/plain": [
              "<IPython.core.display.Image object>"
            ]
          },
          "metadata": {
            "tags": []
          }
        },
        {
          "output_type": "display_data",
          "data": {
            "image/png": "[encoded data removed]",
            "text/plain": [
              "<IPython.core.display.Image object>"
            ]
          },
          "metadata": {
            "tags": []
          }
        },
        {
          "output_type": "display_data",
          "data": {
            "image/png": "[encoded data removed]",
            "text/plain": [
              "<IPython.core.display.Image object>"
            ]
          },
          "metadata": {
            "tags": []
          }
        },
        {
          "output_type": "display_data",
          "data": {
            "image/png": "[encoded data removed]",
            "text/plain": [
              "<IPython.core.display.Image object>"
            ]
          },
          "metadata": {
            "tags": []
          }
        },
        {
          "output_type": "display_data",
          "data": {
            "image/png": "[encoded data removed]",
            "text/plain": [
              "<IPython.core.display.Image object>"
            ]
          },
          "metadata": {
            "tags": []
          }
        },
        {
          "output_type": "display_data",
          "data": {
            "image/png": "[encoded data removed]",
            "text/plain": [
              "<IPython.core.display.Image object>"
            ]
          },
          "metadata": {
            "tags": []
          }
        },
        {
          "output_type": "display_data",
          "data": {
            "image/png": "[encoded data removed]",
            "text/plain": [
              "<IPython.core.display.Image object>"
            ]
          },
          "metadata": {
            "tags": []
          }
        },
        {
          "output_type": "display_data",
          "data": {
            "image/png": "[encoded data removed]",
            "text/plain": [
              "<IPython.core.display.Image object>"
            ]
          },
          "metadata": {
            "tags": []
          }
        },
        {
          "output_type": "display_data",
          "data": {
            "image/png": "[encoded data removed]",
            "text/plain": [
              "<IPython.core.display.Image object>"
            ]
          },
          "metadata": {
            "tags": []
          }
        },
        {
          "output_type": "display_data",
          "data": {
            "image/png": "[encoded data removed]",
            "text/plain": [
              "<IPython.core.display.Image object>"
            ]
          },
          "metadata": {
            "tags": []
          }
        },
        {
          "output_type": "display_data",
          "data": {
            "image/png": "[encoded data removed]",
            "text/plain": [
              "<IPython.core.display.Image object>"
            ]
          },
          "metadata": {
            "tags": []
          }
        }
      ]
    },
    {
      "cell_type": "markdown",
      "metadata": {
        "id": "WtMyOYmYc_9R",
        "colab_type": "text"
      },
      "source": [
        "Analyzing the distribution of solubilities shows us a nice spread of data."
      ]
    },
    {
      "cell_type": "code",
      "metadata": {
        "id": "t7V7o6x8c_9S",
        "colab_type": "code",
        "outputId": "2c179f67-979b-4da3-e36f-ecfd0da5e1a3",
        "colab": {
          "base_uri": "https://localhost:8080/",
          "height": 295
        }
      },
      "source": [
        "%matplotlib inline\n",
        "import matplotlib\n",
        "import numpy as np\n",
        "import matplotlib.pyplot as plt\n",
        "\n",
        "solubilities = np.array(dataset[\"measured log solubility in mols per litre\"])\n",
        "n, bins, patches = plt.hist(solubilities, 50, facecolor='green', alpha=0.75)\n",
        "plt.xlabel('Measured log-solubility in mols/liter')\n",
        "plt.ylabel('Number of compounds')\n",
        "plt.title(r'Histogram of solubilities')\n",
        "plt.grid(True)\n",
        "plt.show()\n"
      ],
      "execution_count": 6,
      "outputs": [
        {
          "output_type": "display_data",
          "data": {
            "image/png": "[encoded data removed]",
            "text/plain": [
              "<Figure size 432x288 with 1 Axes>"
            ]
          },
          "metadata": {
            "tags": []
          }
        }
      ]
    },
    {
      "cell_type": "markdown",
      "metadata": {
        "id": "2-kQjl9Nc_9U",
        "colab_type": "text"
      },
      "source": [
        "With our preliminary analysis completed, we return to the original goal of constructing a predictive statistical model of molecular solubility using `deepchem`. The first step in creating such a molecule is translating each compound into a vectorial format that can be understood by statistical learning techniques. This process is commonly called featurization. `deepchem` packages a number of commonly used featurization for user convenience. In this tutorial, we will use ECPF4 fingeprints [3].\n",
        "\n",
        "`deepchem` offers an object-oriented API for featurization. To get started with featurization, we first construct a ```Featurizer``` object. `deepchem` provides the ```CircularFingeprint``` class (a subclass of ```Featurizer``` that performs ECFP4 featurization).\n"
      ]
    },
    {
      "cell_type": "code",
      "metadata": {
        "id": "rJ1fDb9tc_9V",
        "colab_type": "code",
        "colab": {}
      },
      "source": [
        "import deepchem as dc\n",
        "\n",
        "featurizer = dc.feat.CircularFingerprint(size=1024)"
      ],
      "execution_count": 0,
      "outputs": []
    },
    {
      "cell_type": "markdown",
      "metadata": {
        "id": "ZzMWdf5Yc_9Y",
        "colab_type": "text"
      },
      "source": [
        "Now, let's perform the actual featurization. `deepchem` provides the ```CSVLoader``` class for this purpose. The ```featurize()``` method for this class loads data from disk and uses provided ```Featurizer```instances to transform the provided data into feature vectors. \n",
        "\n",
        "To perform machine learning upon these datasets, we need to convert the samples into datasets suitable for machine-learning (that is, into data matrix $X \\in \\mathbb{R}^{n\\times d}$ where $n$ is the number of samples and $d$ the dimensionality of the feature vector, and into label vector $y \\in \\mathbb{R}^n$). `deepchem` provides the `Dataset` class to facilitate this transformation. This style lends itself easily to validation-set hyperparameter searches, which we illustate below. "
      ]
    },
    {
      "cell_type": "code",
      "metadata": {
        "id": "UUiC9Z52c_9Z",
        "colab_type": "code",
        "outputId": "c0d42db9-3901-4b92-a728-537e88d64b00",
        "colab": {
          "base_uri": "https://localhost:8080/",
          "height": 170
        }
      },
      "source": [
        "loader = dc.data.CSVLoader(\n",
        "      tasks=[\"measured log solubility in mols per litre\"], smiles_field=\"smiles\",\n",
        "      featurizer=featurizer)\n",
        "dataset = loader.featurize(dataset_file)"
      ],
      "execution_count": 8,
      "outputs": [
        {
          "output_type": "stream",
          "text": [
            "Loading raw samples now.\n",
            "shard_size: 8192\n",
            "About to start loading CSV from delaney-processed.csv\n",
            "Loading shard 1 of size 8192.\n",
            "Featurizing sample 0\n",
            "Featurizing sample 1000\n",
            "TIMING: featurizing shard 0 took 3.792 s\n",
            "TIMING: dataset construction took 3.869 s\n",
            "Loading dataset from disk.\n"
          ],
          "name": "stdout"
        }
      ]
    },
    {
      "cell_type": "markdown",
      "metadata": {
        "id": "YWnh-dYOc_9b",
        "colab_type": "text"
      },
      "source": [
        "When constructing statistical models, it's necessary to separate the provided data into train/test subsets. The train subset is used to learn the statistical model, while the test subset is used to evaluate the learned model. In practice, it's often useful to elaborate this split further and perform a train/validation/test split. The validation set is used to perform model selection. Proposed models are evaluated on the validation-set, and the best performed model is at the end tested on the test-set.\n",
        "\n",
        "Choosing the proper method of performing a train/validation/test split can be challenging. Standard machine learning practice is to perform a random split of the data into train/validation/test, but random splits are not well suited for the purposes of chemical informatics. For our predictive models to be useful, we require them to have predictive power in portions of chemical space beyond the set of molecules in the training data. Consequently, our models should use splits of the data that separate compounds in the training set from those in the validation and test-sets. We use Bemis-Murcko scaffolds [5] to perform this separation (all compounds that share an underlying molecular scaffold will be placed into the same split in the train/test/validation split).\n"
      ]
    },
    {
      "cell_type": "code",
      "metadata": {
        "id": "_wEJ8mn_c_9c",
        "colab_type": "code",
        "outputId": "dc712aee-1a86-461e-ccad-1667ec1bdef6",
        "colab": {
          "base_uri": "https://localhost:8080/",
          "height": 204
        }
      },
      "source": [
        "splitter = dc.splits.ScaffoldSplitter(dataset_file)\n",
        "train_dataset, valid_dataset, test_dataset = splitter.train_valid_test_split(\n",
        "    dataset)"
      ],
      "execution_count": 9,
      "outputs": [
        {
          "output_type": "stream",
          "text": [
            "Computing train/valid/test indices\n",
            "About to generate scaffolds\n",
            "Generating scaffold 0/1128\n",
            "Generating scaffold 1000/1128\n",
            "About to sort in scaffold sets\n",
            "TIMING: dataset construction took 0.050 s\n",
            "Loading dataset from disk.\n",
            "TIMING: dataset construction took 0.028 s\n",
            "Loading dataset from disk.\n",
            "TIMING: dataset construction took 0.026 s\n",
            "Loading dataset from disk.\n"
          ],
          "name": "stdout"
        }
      ]
    },
    {
      "cell_type": "markdown",
      "metadata": {
        "id": "YsdH2vtqc_9f",
        "colab_type": "text"
      },
      "source": [
        "Let's visually inspect some of the molecules in the separate splits to verify that they appear structurally dissimilar. The `FeaturizedSamples` class provides an `itersamples` method that lets us obtain the underlying compounds in each split."
      ]
    },
    {
      "cell_type": "code",
      "metadata": {
        "scrolled": true,
        "id": "koTNAeQ8c_9g",
        "colab_type": "code",
        "outputId": "a93b3eb8-4ca9-422e-d861-9dd208ead702",
        "colab": {
          "base_uri": "https://localhost:8080/",
          "height": 1000
        }
      },
      "source": [
        "train_mols = [Chem.MolFromSmiles(compound)\n",
        "              for compound in train_dataset.ids]\n",
        "display_images(mols_to_pngs(train_mols[:10], basename=\"train\"))"
      ],
      "execution_count": 10,
      "outputs": [
        {
          "output_type": "display_data",
          "data": {
            "image/png": "[encoded data removed]",
            "text/plain": [
              "<IPython.core.display.Image object>"
            ]
          },
          "metadata": {
            "tags": []
          }
        },
        {
          "output_type": "display_data",
          "data": {
            "image/png": "[encoded data removed]",
            "text/plain": [
              "<IPython.core.display.Image object>"
            ]
          },
          "metadata": {
            "tags": []
          }
        },
        {
          "output_type": "display_data",
          "data": {
            "image/png": "[encoded data removed]",
            "text/plain": [
              "<IPython.core.display.Image object>"
            ]
          },
          "metadata": {
            "tags": []
          }
        },
        {
          "output_type": "display_data",
          "data": {
            "image/png": "[encoded data removed]",
            "text/plain": [
              "<IPython.core.display.Image object>"
            ]
          },
          "metadata": {
            "tags": []
          }
        },
        {
          "output_type": "display_data",
          "data": {
            "image/png": "[encoded data removed]",
            "text/plain": [
              "<IPython.core.display.Image object>"
            ]
          },
          "metadata": {
            "tags": []
          }
        },
        {
          "output_type": "display_data",
          "data": {
            "image/png": "[encoded data removed]",
            "text/plain": [
              "<IPython.core.display.Image object>"
            ]
          },
          "metadata": {
            "tags": []
          }
        },
        {
          "output_type": "display_data",
          "data": {
            "image/png": "[encoded data removed]",
            "text/plain": [
              "<IPython.core.display.Image object>"
            ]
          },
          "metadata": {
            "tags": []
          }
        },
        {
          "output_type": "display_data",
          "data": {
            "image/png": "[encoded data removed]",
            "text/plain": [
              "<IPython.core.display.Image object>"
            ]
          },
          "metadata": {
            "tags": []
          }
        },
        {
          "output_type": "display_data",
          "data": {
            "image/png": "[encoded data removed]",
            "text/plain": [
              "<IPython.core.display.Image object>"
            ]
          },
          "metadata": {
            "tags": []
          }
        },
        {
          "output_type": "display_data",
          "data": {
            "image/png": "[encoded data removed]",
            "text/plain": [
              "<IPython.core.display.Image object>"
            ]
          },
          "metadata": {
            "tags": []
          }
        }
      ]
    },
    {
      "cell_type": "code",
      "metadata": {
        "id": "wizZIO-Ec_9i",
        "colab_type": "code",
        "outputId": "9a50501a-981c-4091-ec48-59fae5fd7bea",
        "colab": {
          "base_uri": "https://localhost:8080/",
          "height": 1000
        }
      },
      "source": [
        "valid_mols = [Chem.MolFromSmiles(compound)\n",
        "              for compound in valid_dataset.ids]\n",
        "display_images(mols_to_pngs(valid_mols[:10], basename=\"valid\"))"
      ],
      "execution_count": 11,
      "outputs": [
        {
          "output_type": "display_data",
          "data": {
            "image/png": "[encoded data removed]",
            "text/plain": [
              "<IPython.core.display.Image object>"
            ]
          },
          "metadata": {
            "tags": []
          }
        },
        {
          "output_type": "display_data",
          "data": {
            "image/png": "[encoded data removed]",
            "text/plain": [
              "<IPython.core.display.Image object>"
            ]
          },
          "metadata": {
            "tags": []
          }
        },
        {
          "output_type": "display_data",
          "data": {
            "image/png": "[encoded data removed]",
            "text/plain": [
              "<IPython.core.display.Image object>"
            ]
          },
          "metadata": {
            "tags": []
          }
        },
        {
          "output_type": "display_data",
          "data": {
            "image/png": "[encoded data removed]",
            "text/plain": [
              "<IPython.core.display.Image object>"
            ]
          },
          "metadata": {
            "tags": []
          }
        },
        {
          "output_type": "display_data",
          "data": {
            "image/png": "[encoded data removed]",
            "text/plain": [
              "<IPython.core.display.Image object>"
            ]
          },
          "metadata": {
            "tags": []
          }
        },
        {
          "output_type": "display_data",
          "data": {
            "image/png": "[encoded data removed]",
            "text/plain": [
              "<IPython.core.display.Image object>"
            ]
          },
          "metadata": {
            "tags": []
          }
        },
        {
          "output_type": "display_data",
          "data": {
            "image/png": "[encoded data removed]",
            "text/plain": [
              "<IPython.core.display.Image object>"
            ]
          },
          "metadata": {
            "tags": []
          }
        },
        {
          "output_type": "display_data",
          "data": {
            "image/png": "[encoded data removed]",
            "text/plain": [
              "<IPython.core.display.Image object>"
            ]
          },
          "metadata": {
            "tags": []
          }
        },
        {
          "output_type": "display_data",
          "data": {
            "image/png": "[encoded data removed]",
            "text/plain": [
              "<IPython.core.display.Image object>"
            ]
          },
          "metadata": {
            "tags": []
          }
        },
        {
          "output_type": "display_data",
          "data": {
            "image/png": "[encoded data removed]",
            "text/plain": [
              "<IPython.core.display.Image object>"
            ]
          },
          "metadata": {
            "tags": []
          }
        }
      ]
    },
    {
      "cell_type": "markdown",
      "metadata": {
        "id": "xyHuYSjnc_9m",
        "colab_type": "text"
      },
      "source": [
        "Notice the visual distinction between the train/validation splits. The most-common scaffolds are reserved for the train split, with the rarer scaffolds allotted to validation/test."
      ]
    },
    {
      "cell_type": "markdown",
      "metadata": {
        "id": "51_rHNLPc_9n",
        "colab_type": "text"
      },
      "source": [
        "The performance of common machine-learning algorithms can be very sensitive to preprocessing of the data. One common transformation applied to data is to normalize it to have zero-mean and unit-standard-deviation. We will apply this transformation to the log-solubility (as seen above, the log-solubility ranges from -12 to 2)."
      ]
    },
    {
      "cell_type": "code",
      "metadata": {
        "id": "apAo3BJlc_9o",
        "colab_type": "code",
        "outputId": "9b05ab5f-8c4b-45eb-f626-03240816dbae",
        "colab": {
          "base_uri": "https://localhost:8080/",
          "height": 119
        }
      },
      "source": [
        "transformers = [\n",
        "    dc.trans.NormalizationTransformer(transform_y=True, dataset=train_dataset)]\n",
        "\n",
        "for dataset in [train_dataset, valid_dataset, test_dataset]:\n",
        "  for transformer in transformers:\n",
        "      dataset = transformer.transform(dataset)"
      ],
      "execution_count": 12,
      "outputs": [
        {
          "output_type": "stream",
          "text": [
            "TIMING: dataset construction took 0.046 s\n",
            "Loading dataset from disk.\n",
            "TIMING: dataset construction took 0.011 s\n",
            "Loading dataset from disk.\n",
            "TIMING: dataset construction took 0.014 s\n",
            "Loading dataset from disk.\n"
          ],
          "name": "stdout"
        }
      ]
    },
    {
      "cell_type": "markdown",
      "metadata": {
        "id": "hqEjFjU4c_9q",
        "colab_type": "text"
      },
      "source": [
        "The next step after processing the data is to start fitting simple learning models to our data. `deepchem` provides a number of machine-learning model classes.\n",
        "\n",
        "In particular, `deepchem` provides a convenience class, ```SklearnModel``` that wraps any machine-learning model available in scikit-learn [6]. Consequently, we will start by building a simple random-forest regressor that attempts to predict the log-solubility from our computed ECFP4 features. To train the model, we instantiate the ```SklearnModel``` object, then call the ```fit()``` method on the ```train_dataset``` we constructed above. We then save the model to disk."
      ]
    },
    {
      "cell_type": "code",
      "metadata": {
        "id": "kSpYdUDkc_9r",
        "colab_type": "code",
        "colab": {}
      },
      "source": [
        "from sklearn.ensemble import RandomForestRegressor\n",
        "\n",
        "sklearn_model = RandomForestRegressor(n_estimators=100)\n",
        "model = dc.models.SklearnModel(sklearn_model)\n",
        "model.fit(train_dataset)"
      ],
      "execution_count": 0,
      "outputs": []
    },
    {
      "cell_type": "markdown",
      "metadata": {
        "id": "63-ylGaPc_9t",
        "colab_type": "text"
      },
      "source": [
        "We next evaluate the model on the validation set to see its predictive power. `deepchem` provides the `Evaluator` class to facilitate this process. To evaluate the constructed `model` object, create a new `Evaluator` instance and call the `compute_model_performance()` method."
      ]
    },
    {
      "cell_type": "code",
      "metadata": {
        "id": "OG3FfI20c_9u",
        "colab_type": "code",
        "outputId": "991bf436-1fd6-4ad1-bdf5-bd85253724e9",
        "colab": {
          "base_uri": "https://localhost:8080/",
          "height": 51
        }
      },
      "source": [
        "from deepchem.utils.evaluate import Evaluator\n",
        "\n",
        "metric = dc.metrics.Metric(dc.metrics.r2_score)\n",
        "evaluator = Evaluator(model, valid_dataset, transformers)\n",
        "r2score = evaluator.compute_model_performance([metric])\n",
        "print(r2score)\n"
      ],
      "execution_count": 14,
      "outputs": [
        {
          "output_type": "stream",
          "text": [
            "computed_metrics: [0.1455729054263113]\n",
            "{'r2_score': 0.1455729054263113}\n"
          ],
          "name": "stdout"
        }
      ]
    },
    {
      "cell_type": "markdown",
      "metadata": {
        "id": "eDfVtZztc_9w",
        "colab_type": "text"
      },
      "source": [
        "The performance of this basic random-forest model isn't very strong. To construct stronger models, let's attempt to optimize the hyperparameters (choices made in the model-specification) to achieve better performance. For random forests, we can tweak `n_estimators` which controls the number of trees in the forest, and `max_features` which controls the number of features to consider when performing a split. We now build a series of `SklearnModel`s with different choices for `n_estimators` and `max_features` and evaluate performance on the validation set."
      ]
    },
    {
      "cell_type": "code",
      "metadata": {
        "id": "pT9oo7rUc_9x",
        "colab_type": "code",
        "outputId": "e567ea92-e5cf-4d00-c4ca-8e0210d2bb88",
        "colab": {
          "base_uri": "https://localhost:8080/",
          "height": 765
        }
      },
      "source": [
        "def rf_model_builder(model_params, model_dir):\n",
        "  sklearn_model = RandomForestRegressor(**model_params)\n",
        "  return dc.models.SklearnModel(sklearn_model, model_dir)\n",
        "params_dict = {\n",
        "    \"n_estimators\": [10, 100],\n",
        "    \"max_features\": [\"auto\", \"sqrt\", \"log2\", None],\n",
        "}\n",
        "\n",
        "metric = dc.metrics.Metric(dc.metrics.r2_score)\n",
        "optimizer = dc.hyper.HyperparamOpt(rf_model_builder)\n",
        "best_rf, best_rf_hyperparams, all_rf_results = optimizer.hyperparam_search(\n",
        "    params_dict, train_dataset, valid_dataset, transformers,\n",
        "    metric=metric)"
      ],
      "execution_count": 15,
      "outputs": [
        {
          "output_type": "stream",
          "text": [
            "Fitting model 1/8\n",
            "hyperparameters: {'n_estimators': 10, 'max_features': 'auto'}\n",
            "computed_metrics: [0.13866099937883025]\n",
            "Model 1/8, Metric r2_score, Validation set 0: 0.138661\n",
            "\tbest_validation_score so far: 0.138661\n",
            "Fitting model 2/8\n",
            "hyperparameters: {'n_estimators': 10, 'max_features': 'sqrt'}\n",
            "computed_metrics: [0.2538575265438803]\n",
            "Model 2/8, Metric r2_score, Validation set 1: 0.253858\n",
            "\tbest_validation_score so far: 0.253858\n",
            "Fitting model 3/8\n",
            "hyperparameters: {'n_estimators': 10, 'max_features': 'log2'}\n",
            "computed_metrics: [0.1297733089466333]\n",
            "Model 3/8, Metric r2_score, Validation set 2: 0.129773\n",
            "\tbest_validation_score so far: 0.253858\n",
            "Fitting model 4/8\n",
            "hyperparameters: {'n_estimators': 10, 'max_features': None}\n",
            "computed_metrics: [0.1033216553203602]\n",
            "Model 4/8, Metric r2_score, Validation set 3: 0.103322\n",
            "\tbest_validation_score so far: 0.253858\n",
            "Fitting model 5/8\n",
            "hyperparameters: {'n_estimators': 100, 'max_features': 'auto'}\n",
            "computed_metrics: [0.14669594256297458]\n",
            "Model 5/8, Metric r2_score, Validation set 4: 0.146696\n",
            "\tbest_validation_score so far: 0.253858\n",
            "Fitting model 6/8\n",
            "hyperparameters: {'n_estimators': 100, 'max_features': 'sqrt'}\n",
            "computed_metrics: [0.2987059189222484]\n",
            "Model 6/8, Metric r2_score, Validation set 5: 0.298706\n",
            "\tbest_validation_score so far: 0.298706\n",
            "Fitting model 7/8\n",
            "hyperparameters: {'n_estimators': 100, 'max_features': 'log2'}\n",
            "computed_metrics: [0.29910307975871175]\n",
            "Model 7/8, Metric r2_score, Validation set 6: 0.299103\n",
            "\tbest_validation_score so far: 0.299103\n",
            "Fitting model 8/8\n",
            "hyperparameters: {'n_estimators': 100, 'max_features': None}\n",
            "computed_metrics: [0.1428007486712679]\n",
            "Model 8/8, Metric r2_score, Validation set 7: 0.142801\n",
            "\tbest_validation_score so far: 0.299103\n",
            "computed_metrics: [0.9424213526630559]\n",
            "Best hyperparameters: (100, 'log2')\n",
            "train_score: 0.942421\n",
            "validation_score: 0.299103\n"
          ],
          "name": "stdout"
        }
      ]
    },
    {
      "cell_type": "markdown",
      "metadata": {
        "id": "ytSp1h9Zc_9z",
        "colab_type": "text"
      },
      "source": [
        "The best model achieves significantly higher $R^2$ on the validation set than the first model we constructed. Now, let's perform the same sort of hyperparameter search, but with a simple deep-network instead."
      ]
    },
    {
      "cell_type": "code",
      "metadata": {
        "id": "TS0-7gVYc_90",
        "colab_type": "code",
        "outputId": "c8913bde-27b4-4ee1-9905-4a953c7eac40",
        "colab": {
          "base_uri": "https://localhost:8080/",
          "height": 479
        }
      },
      "source": [
        "import numpy.random\n",
        "\n",
        "params_dict = {\"learning_rate\": np.power(10., np.random.uniform(-5, -3, size=1)),\n",
        "               \"decay\": np.power(10, np.random.uniform(-6, -4, size=1)),\n",
        "               \"nb_epoch\": [20] }\n",
        "n_features = train_dataset.get_data_shape()[0]\n",
        "def model_builder(model_params, model_dir):\n",
        "  model = dc.models.MultitaskRegressor(\n",
        "    1, n_features, layer_sizes=[1000], dropouts=[.25],\n",
        "    batch_size=50, **model_params)\n",
        "  return model\n",
        "\n",
        "optimizer = dc.hyper.HyperparamOpt(model_builder)\n",
        "best_dnn, best_dnn_hyperparams, all_dnn_results = optimizer.hyperparam_search(\n",
        "    params_dict, train_dataset, valid_dataset, transformers,\n",
        "    metric=metric)"
      ],
      "execution_count": 16,
      "outputs": [
        {
          "output_type": "stream",
          "text": [
            "Fitting model 1/1\n",
            "hyperparameters: {'learning_rate': 0.0002473807343696684, 'decay': 2.0100536048962377e-05, 'nb_epoch': 20}\n",
            "WARNING:tensorflow:From /tensorflow-1.15.2/python3.6/tensorflow_core/python/ops/resource_variable_ops.py:1630: calling BaseResourceVariable.__init__ (from tensorflow.python.ops.resource_variable_ops) with constraint is deprecated and will be removed in a future version.\n",
            "Instructions for updating:\n",
            "If using Keras pass *_constraint arguments to layers.\n",
            "WARNING:tensorflow:Entity <bound method SwitchedDropout.call of <deepchem.models.layers.SwitchedDropout object at 0x7fcf7f5d5048>> could not be transformed and will be executed as-is. Please report this to the AutoGraph team. When filing the bug, set the verbosity to 10 (on Linux, `export AUTOGRAPH_VERBOSITY=10`) and attach the full output. Cause: module 'gast' has no attribute 'Num'\n",
            "WARNING: Entity <bound method SwitchedDropout.call of <deepchem.models.layers.SwitchedDropout object at 0x7fcf7f5d5048>> could not be transformed and will be executed as-is. Please report this to the AutoGraph team. When filing the bug, set the verbosity to 10 (on Linux, `export AUTOGRAPH_VERBOSITY=10`) and attach the full output. Cause: module 'gast' has no attribute 'Num'\n",
            "WARNING:tensorflow:From /usr/local/lib/python3.7/site-packages/deepchem/models/keras_model.py:169: The name tf.Session is deprecated. Please use tf.compat.v1.Session instead.\n",
            "\n",
            "WARNING:tensorflow:From /usr/local/lib/python3.7/site-packages/deepchem/models/optimizers.py:76: The name tf.train.AdamOptimizer is deprecated. Please use tf.compat.v1.train.AdamOptimizer instead.\n",
            "\n",
            "WARNING:tensorflow:From /usr/local/lib/python3.7/site-packages/deepchem/models/keras_model.py:258: The name tf.global_variables is deprecated. Please use tf.compat.v1.global_variables instead.\n",
            "\n",
            "WARNING:tensorflow:From /usr/local/lib/python3.7/site-packages/deepchem/models/keras_model.py:260: The name tf.variables_initializer is deprecated. Please use tf.compat.v1.variables_initializer instead.\n",
            "\n",
            "WARNING:tensorflow:Entity <bound method SwitchedDropout.call of <deepchem.models.layers.SwitchedDropout object at 0x7fcf7f5d5048>> could not be transformed and will be executed as-is. Please report this to the AutoGraph team. When filing the bug, set the verbosity to 10 (on Linux, `export AUTOGRAPH_VERBOSITY=10`) and attach the full output. Cause: module 'gast' has no attribute 'Num'\n",
            "WARNING: Entity <bound method SwitchedDropout.call of <deepchem.models.layers.SwitchedDropout object at 0x7fcf7f5d5048>> could not be transformed and will be executed as-is. Please report this to the AutoGraph team. When filing the bug, set the verbosity to 10 (on Linux, `export AUTOGRAPH_VERBOSITY=10`) and attach the full output. Cause: module 'gast' has no attribute 'Num'\n",
            "WARNING:tensorflow:From /usr/local/lib/python3.7/site-packages/deepchem/models/keras_model.py:237: The name tf.placeholder is deprecated. Please use tf.compat.v1.placeholder instead.\n",
            "\n",
            "computed_metrics: [0.20106845265671158]\n",
            "Model 1/1, Metric r2_score, Validation set 0: 0.201068\n",
            "\tbest_validation_score so far: 0.201068\n",
            "computed_metrics: [0.6660189147153563]\n",
            "Best hyperparameters: (0.0002473807343696684, 2.0100536048962377e-05, 20)\n",
            "train_score: 0.666019\n",
            "validation_score: 0.201068\n"
          ],
          "name": "stdout"
        }
      ]
    },
    {
      "cell_type": "markdown",
      "metadata": {
        "id": "Qcn6BidDc_93",
        "colab_type": "text"
      },
      "source": [
        "Now that we have a reasonable choice of hyperparameters, let's evaluate the performance of our best models on the test-set."
      ]
    },
    {
      "cell_type": "code",
      "metadata": {
        "id": "s8TqBD6pc_94",
        "colab_type": "code",
        "outputId": "0bba718d-2194-4091-b499-8c935d4cdb0c",
        "colab": {
          "base_uri": "https://localhost:8080/",
          "height": 51
        }
      },
      "source": [
        "rf_test_evaluator = Evaluator(best_rf, test_dataset, transformers)\n",
        "rf_test_r2score = rf_test_evaluator.compute_model_performance([metric])\n",
        "print(\"RF Test set R^2 %f\" % (rf_test_r2score[\"r2_score\"]))"
      ],
      "execution_count": 17,
      "outputs": [
        {
          "output_type": "stream",
          "text": [
            "computed_metrics: [0.35314636080523587]\n",
            "RF Test set R^2 0.353146\n"
          ],
          "name": "stdout"
        }
      ]
    },
    {
      "cell_type": "code",
      "metadata": {
        "id": "U-clxvGhc_96",
        "colab_type": "code",
        "outputId": "2b91e3ef-1c57-4ef6-9c0c-e11cfddc1694",
        "colab": {
          "base_uri": "https://localhost:8080/",
          "height": 51
        }
      },
      "source": [
        "dnn_test_evaluator = Evaluator(best_dnn, test_dataset, transformers)\n",
        "dnn_test_r2score = dnn_test_evaluator.compute_model_performance([metric])\n",
        "print(\"DNN Test set R^2 %f\" % (dnn_test_r2score[\"r2_score\"]))"
      ],
      "execution_count": 18,
      "outputs": [
        {
          "output_type": "stream",
          "text": [
            "computed_metrics: [0.2861950851545907]\n",
            "DNN Test set R^2 0.286195\n"
          ],
          "name": "stdout"
        }
      ]
    },
    {
      "cell_type": "markdown",
      "metadata": {
        "id": "k5yQytmUc_98",
        "colab_type": "text"
      },
      "source": [
        "Now, let's plot the predicted $R^2$ scores versus the true $R^2$ scores for the constructed model."
      ]
    },
    {
      "cell_type": "code",
      "metadata": {
        "id": "887Zb1-5c_98",
        "colab_type": "code",
        "outputId": "86693051-f66b-416a-f9f8-2032333bf512",
        "colab": {
          "base_uri": "https://localhost:8080/",
          "height": 295
        }
      },
      "source": [
        "task = \"measured log solubility in mols per litre\"\n",
        "predicted_test = best_rf.predict(test_dataset)\n",
        "true_test = test_dataset.y\n",
        "plt.scatter(predicted_test, true_test)\n",
        "plt.xlabel('Predicted log-solubility in mols/liter')\n",
        "plt.ylabel('True log-solubility in mols/liter')\n",
        "plt.title(r'RF- predicted vs. true log-solubilities')\n",
        "plt.show()"
      ],
      "execution_count": 19,
      "outputs": [
        {
          "output_type": "display_data",
          "data": {
            "image/png": "[encoded data removed]",
            "text/plain": [
              "<Figure size 432x288 with 1 Axes>"
            ]
          },
          "metadata": {
            "tags": []
          }
        }
      ]
    },
    {
      "cell_type": "code",
      "metadata": {
        "id": "sai82xRPc_9-",
        "colab_type": "code",
        "outputId": "083ae71c-541a-4a3b-822f-f3d01ed0ac59",
        "colab": {
          "base_uri": "https://localhost:8080/",
          "height": 295
        }
      },
      "source": [
        "task = \"measured log solubility in mols per litre\"\n",
        "predicted_test = best_dnn.predict(test_dataset)\n",
        "true_test = test_dataset.y\n",
        "plt.scatter(predicted_test, true_test)\n",
        "plt.xlabel('Predicted log-solubility in mols/liter')\n",
        "plt.ylabel('True log-solubility in mols/liter')\n",
        "plt.title(r'DNN predicted vs. true log-solubilities')\n",
        "plt.show()"
      ],
      "execution_count": 20,
      "outputs": [
        {
          "output_type": "display_data",
          "data": {
            "image/png": "[encoded data removed]",
            "text/plain": [
              "<Figure size 432x288 with 1 Axes>"
            ]
          },
          "metadata": {
            "tags": []
          }
        }
      ]
    },
    {
      "cell_type": "markdown",
      "metadata": {
        "id": "zjq2lDjvc_-B",
        "colab_type": "text"
      },
      "source": [
        "# Congratulations! Time to join the Community!\n",
        "\n",
        "Congratulations on completing this tutorial notebook! If you enjoyed working through the tutorial, and want to continue working with DeepChem, we encourage you to finish the rest of the tutorials in this series. You can also help the DeepChem community in the following ways:\n",
        "\n",
        "## Star DeepChem on [GitHub](https://github.com/deepchem/deepchem)\n",
        "This helps build awareness of the DeepChem project and the tools for open source drug discovery that we're trying to build.\n",
        "\n",
        "## Join the DeepChem Gitter\n",
        "The DeepChem [Gitter](https://gitter.im/deepchem/Lobby) hosts a number of scientists, developers, and enthusiasts interested in deep learning for the life sciences. Join the conversation!"
      ]
    },
    {
      "cell_type": "markdown",
      "metadata": {
        "id": "LnfcVQsNc_-C",
        "colab_type": "text"
      },
      "source": [
        "# Bibliography\n",
        "\n",
        "[1] John S. Delaney. ESOL: Estimating aqueous solubility directly from molecular structure. Journal\n",
        "of Chemical Information and Computer Sciences, 44(3):1000–1005, 2004.\n",
        "\n",
        "[2] Anderson, Eric, Gilman D. Veith, and David Weininger. SMILES, a line notation and computerized\n",
        "interpreter for chemical structures. US Environmental Protection Agency, Environmental Research Laboratory, 1987.\n",
        "\n",
        "[3] Rogers, David, and Mathew Hahn. \"Extended-connectivity fingerprints.\" Journal of chemical information\n",
        "and modeling 50.5 (2010): 742-754.\n",
        "    \n",
        "[4] Van Der Walt, Stefan, S. Chris Colbert, and Gael Varoquaux.\n",
        "\"The NumPy array:a structure for efficient numerical computation.\" Computing in Science & Engineering 13.2 (2011): 22-30.\n",
        "    \n",
        "[5] Bemis, Guy W., and Mark A. Murcko. \"The properties of known drugs. 1. Molecular frameworks.\"\n",
        "Journal of medicinal chemistry 39.15 (1996): 2887-2893.\n",
        "\n",
        "[6] Pedregosa, Fabian, et al. \"Scikit-learn: Machine learning in Python.\" The Journal of Machine Learning Research 12 (2011): 2825-2830."
      ]
    }
  ]
}