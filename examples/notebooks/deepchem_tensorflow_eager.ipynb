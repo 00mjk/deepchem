{
 "cells": [
  {
   "cell_type": "markdown",
   "metadata": {},
   "source": [
    "### TensorGraph Layers and TensorFlow eager"
   ]
  },
  {
   "cell_type": "markdown",
   "metadata": {},
   "source": [
    " In this tutorial we will look at the working of TensorGraph layer with TensorFlow eager.\n",
    " But before that let's see what exactly is TensorFlow eager."
   ]
  },
  {
   "cell_type": "markdown",
   "metadata": {},
   "source": [
    "Eager execution is an imperative, define-by-run interface where operations are executed immediately as they are called from Python. In other words, eager execution is a feature that makes TensorFlow execute operations immediately. Concrete values are returned instead of a computational graph to be executed later.\n",
    "As a result:\n",
    "- It allows writing imperative coding style like numpy\n",
    "- Provides fast debugging with immediate run-time errors and integration with Python tools\n",
    "- Strong support for higher-order gradients"
   ]
  },
  {
   "cell_type": "code",
   "execution_count": 1,
   "metadata": {},
   "outputs": [
    {
     "name": "stderr",
     "output_type": "stream",
     "text": [
      "/home/nitin/anaconda3/envs/deepchem/lib/python3.5/site-packages/h5py/__init__.py:36: FutureWarning: Conversion of the second argument of issubdtype from `float` to `np.floating` is deprecated. In future, it will be treated as `np.float64 == np.dtype(float).type`.\n",
      "  from ._conv import register_converters as _register_converters\n"
     ]
    }
   ],
   "source": [
    "import tensorflow as tf\n",
    "import tensorflow.contrib.eager as tfe"
   ]
  },
  {
   "cell_type": "markdown",
   "metadata": {},
   "source": [
    "After importing neccessary modules, at the program startup we invoke `enable_eager_execution()`. "
   ]
  },
  {
   "cell_type": "code",
   "execution_count": 2,
   "metadata": {},
   "outputs": [],
   "source": [
    "tfe.enable_eager_execution()"
   ]
  },
  {
   "cell_type": "markdown",
   "metadata": {},
   "source": [
    "Enabling eager execution changes how TensorFlow functions behave. Tensor objects return concrete values instead of being a symbolic reference to nodes in a static computational graph(non-eager mode). As a result, eager execution should be enabled at the beginning of a program."
   ]
  },
  {
   "cell_type": "markdown",
   "metadata": {},
   "source": [
    "Note that with eager execution enabled, these operations consume and return multi-dimensional arrays as `Tensor` objects, similar to NumPy `ndarrays`"
   ]
  },
  {
   "cell_type": "markdown",
   "metadata": {},
   "source": [
    "### Dense layer"
   ]
  },
  {
   "cell_type": "code",
   "execution_count": 5,
   "metadata": {},
   "outputs": [],
   "source": [
    "import numpy as np\n",
    "import deepchem as dc\n",
    "from deepchem.models.tensorgraph import layers"
   ]
  },
  {
   "cell_type": "markdown",
   "metadata": {},
   "source": [
    "In the following snippet we describe how to create a `Dense` layer in eager mode. The good thing about calling a layer as a function is that we don't have to call `create_tensor()` directly. This is identical to tensorflow API and has no conflict. And since eager mode is enabled, it should return concrete tensors right away."
   ]
  },
  {
   "cell_type": "code",
   "execution_count": 21,
   "metadata": {},
   "outputs": [
    {
     "name": "stdout",
     "output_type": "stream",
     "text": [
      "tf.Tensor(\n",
      "[[-0.77381194  0.3746004  -0.40403765]\n",
      " [-0.15738854  0.22684044 -0.15630853]\n",
      " [-0.6225959   0.36593717 -0.35684004]\n",
      " [-1.1207535   0.5789795  -0.60311335]\n",
      " [-0.8380906   0.46433336 -0.46644312]\n",
      " [-0.5517248   0.38127697 -0.34426582]\n",
      " [-0.2866712   0.15383685 -0.1570929 ]\n",
      " [-0.7261716   0.52749324 -0.46574503]\n",
      " [-0.31120938  0.29527357 -0.2336567 ]\n",
      " [-0.29397526  0.16268769 -0.16352196]], shape=(10, 3), dtype=float32)\n"
     ]
    }
   ],
   "source": [
    "# Initialize parameters\n",
    "in_dim = 2\n",
    "out_dim = 3\n",
    "batch_size = 10\n",
    "\n",
    "inputs = np.random.rand(batch_size, in_dim).astype(np.float32) #Input \n",
    "\n",
    "layer = layers.Dense(out_dim) # Provide the number of output values as parameter. This creates a Dense layer\n",
    "result = layer(inputs) #get the ouput tensors\n",
    "\n",
    "print(result)"
   ]
  },
  {
   "cell_type": "markdown",
   "metadata": {},
   "source": [
    "Creating a second `Dense` layer should produce different results."
   ]
  },
  {
   "cell_type": "code",
   "execution_count": 22,
   "metadata": {},
   "outputs": [
    {
     "name": "stdout",
     "output_type": "stream",
     "text": [
      "tf.Tensor(\n",
      "[[ 0.512575   -0.61529964  0.037683  ]\n",
      " [ 1.0153202  -1.3131894   0.14326955]\n",
      " [ 0.6359642  -0.8698902   0.12416548]\n",
      " [ 1.1896548  -1.4594902   0.11030222]\n",
      " [ 0.48279178 -0.6796962   0.1083065 ]\n",
      " [ 0.2902518  -0.39702374  0.05667521]\n",
      " [ 0.74205726 -0.9366434   0.08790456]\n",
      " [ 0.39368296 -0.5724373   0.1015433 ]\n",
      " [ 0.2737925  -0.36055726  0.04331717]\n",
      " [ 0.10049869 -0.14127527  0.02239158]], shape=(10, 3), dtype=float32)\n"
     ]
    }
   ],
   "source": [
    "layer2 = layers.Dense(out_dim)\n",
    "result2 = layer2(_input)\n",
    "\n",
    "print(result2)"
   ]
  },
  {
   "cell_type": "markdown",
   "metadata": {},
   "source": [
    "We can also execute the layer in eager mode to compute its output as a function of inputs. If the layer defines any variables, they are created the first time it is invoked. This happens in the same exact way that we would create a single layer in non-eager mode."
   ]
  },
  {
   "cell_type": "markdown",
   "metadata": {},
   "source": [
    "The following is also a way to create a layer in eager mode. The `create_tensor()` is invoked by `__call__()` object. This gives us an advantage of directly passing the tensor as a parameter while constructing a TensorGraph layer. "
   ]
  },
  {
   "cell_type": "code",
   "execution_count": 24,
   "metadata": {},
   "outputs": [
    {
     "name": "stdout",
     "output_type": "stream",
     "text": [
      "tf.Tensor(\n",
      "[[ 0.6063089  -0.33124802 -0.6670617 ]\n",
      " [-0.79654586 -0.5481317  -1.3282237 ]\n",
      " [ 0.09374315 -0.4724797  -1.0476099 ]\n",
      " [ 0.65573484 -0.5960071  -1.2544882 ]\n",
      " [ 0.29876447 -0.54582137 -1.1864793 ]\n",
      " [-0.26494026 -0.6005815  -1.3795348 ]\n",
      " [ 0.13266012 -0.17077649 -0.3663401 ]\n",
      " [-0.5054053  -0.8723711  -2.0188677 ]\n",
      " [-0.63919556 -0.5947314  -1.4130814 ]\n",
      " [ 0.10592984 -0.1908645  -0.41471013]], shape=(10, 3), dtype=float32)\n"
     ]
    }
   ],
   "source": [
    "x = layers.Dense(out_dim)(inputs)\n",
    "\n",
    "print(x)"
   ]
  },
  {
   "cell_type": "markdown",
   "metadata": {},
   "source": [
    "### Conv1D layer"
   ]
  },
  {
   "cell_type": "markdown",
   "metadata": {},
   "source": [
    "`Dense` layers are one of the layers defined in Deepchem. Along with it there are several others like `Conv1D`, `Conv2D`, `conv3D` etc. We also take a look at how to construct a `Conv1D` layer below."
   ]
  },
  {
   "cell_type": "markdown",
   "metadata": {},
   "source": [
    "Basically this layer creates a convolution kernel that is convolved with the layer input over a single spatial (or temporal) dimension to produce a tensor of outputs.\n",
    "When using this layer as the first layer in a model, provide an `input_shape` argument (tuple of integers or `None`)"
   ]
  },
  {
   "cell_type": "markdown",
   "metadata": {},
   "source": [
    "When the argument `input_shape` is passed in as a tuple of integers e.g (2, 3) it would mean we are passing a sequence of 2 vectors of 3-Dimensional vectors.\n",
    "And when it is passed as (None, 3) it means that we want variable-length sequences of 3-dimensional vectors."
   ]
  },
  {
   "cell_type": "code",
   "execution_count": 25,
   "metadata": {},
   "outputs": [],
   "source": [
    "from deepchem.models.tensorgraph.layers import Conv1D"
   ]
  },
  {
   "cell_type": "code",
   "execution_count": 27,
   "metadata": {
    "scrolled": true
   },
   "outputs": [
    {
     "name": "stdout",
     "output_type": "stream",
     "text": [
      "tf.Tensor(\n",
      "[[[ 0.16718751  0.41467714  0.53308594]\n",
      "  [ 0.8072748   0.4133654  -0.087111  ]\n",
      "  [ 1.0664566   0.0294899  -0.45529532]\n",
      "  [ 0.664975    0.44647017  0.48668623]]\n",
      "\n",
      " [[ 0.7809639   0.05260526 -0.52216375]\n",
      "  [ 0.38356018  0.32880962  0.38497856]\n",
      "  [ 0.8670641   0.06841787 -0.4043518 ]\n",
      "  [ 0.31549102  0.27886432  0.15908808]]\n",
      "\n",
      " [[ 0.73353016  0.09838264 -0.04410204]\n",
      "  [ 0.8891646   0.32349965  0.32174024]\n",
      "  [ 0.8444354   0.22711298 -0.46212494]\n",
      "  [ 0.51807076  0.14952874 -0.00364152]]\n",
      "\n",
      " [[ 0.9953808   0.23604284 -0.10303459]\n",
      "  [ 1.107084    0.23554802 -0.07045144]\n",
      "  [ 0.6639515   0.49818707  0.06784821]\n",
      "  [ 1.0647542   0.2207219  -0.25918287]]\n",
      "\n",
      " [[ 0.7775067   0.3673722   0.29001912]\n",
      "  [ 0.8676886   0.2504439  -0.40269825]\n",
      "  [ 0.79185313  0.44505388  0.3931317 ]\n",
      "  [ 1.2621312   0.19907051 -0.502853  ]]\n",
      "\n",
      " [[ 0.3722831   0.3902715   0.44195828]\n",
      "  [ 0.8906034   0.302661   -0.19120318]\n",
      "  [ 1.0449145   0.12299128 -0.17524081]\n",
      "  [ 1.0373979   0.3089181   0.20360798]]\n",
      "\n",
      " [[ 0.6527485   0.10342199 -0.6394097 ]\n",
      "  [ 0.4306368   0.16461325  0.24278429]\n",
      "  [ 0.6019457   0.22662912 -0.0750919 ]\n",
      "  [ 0.61568844  0.29688197  0.09590039]]\n",
      "\n",
      " [[ 0.50753975 -0.01569382 -0.27454144]\n",
      "  [ 0.29632485  0.2529507   0.3574062 ]\n",
      "  [ 0.6842948   0.49452925  0.23067072]\n",
      "  [ 1.2439585   0.06419355 -0.54859996]]\n",
      "\n",
      " [[ 0.8870867   0.06665488 -0.61154896]\n",
      "  [ 0.74835956 -0.00460633  0.10247512]\n",
      "  [ 0.6352314   0.3038729   0.17522144]\n",
      "  [ 0.5640377   0.3927437  -0.0408814 ]]\n",
      "\n",
      " [[ 0.77545214  0.3243935   0.3093651 ]\n",
      "  [ 0.63182473  0.51197904 -0.05849534]\n",
      "  [ 0.79702044 -0.00464861 -0.6104475 ]\n",
      "  [ 0.16453324  0.20325702  0.2101992 ]]], shape=(10, 4, 3), dtype=float32)\n"
     ]
    }
   ],
   "source": [
    "width = 5\n",
    "in_channels = 2\n",
    "filters = 3\n",
    "kernel_size = 2\n",
    "batch_size = 10\n",
    "\n",
    "inputs = np.random.rand(batch_size, width, in_channels).astype(\n",
    "    np.float32)\n",
    "\n",
    "layer = layers.Conv1D(filters, kernel_size)\n",
    "\n",
    "result = layer(inputs)\n",
    "print(result)"
   ]
  },
  {
   "cell_type": "markdown",
   "metadata": {},
   "source": [
    "Again it should be noted that creating a second `Conv1D` layer would producr different results. "
   ]
  },
  {
   "cell_type": "markdown",
   "metadata": {},
   "source": [
    "So thats how we invoke different DeepChem layers in eager mode.\n",
    "\n",
    "One of the other interesting point is that we can mix tensorflow layers and DeepChem layers. Since they all take tensors as inputs and return tensors as outputs, so you can take the output from one kind of layer and pass it as input to a different kind of layer. But it should be noted that tensorflow layers can't be added to a TensorGraph."
   ]
  },
  {
   "cell_type": "code",
   "execution_count": null,
   "metadata": {},
   "outputs": [],
   "source": []
  },
  {
   "cell_type": "markdown",
   "metadata": {},
   "source": [
    "### Gradients"
   ]
  },
  {
   "cell_type": "markdown",
   "metadata": {},
   "source": [
    "Finding gradients under eager mode is much similar to the `autograd` API. The computational flow is very clean and logical.\n",
    "What happens is that different operations can occur during each call, all forward operations are recorded to a tape, which is then played backwards when computing gradients. After the gradients have been computed, the tape is discared.\n"
   ]
  },
  {
   "cell_type": "code",
   "execution_count": null,
   "metadata": {},
   "outputs": [],
   "source": [
    "def dense_squared(x):\n",
    "    return Dense(1)(Dense(1)(inputs))\n",
    "\n",
    "grad = tfe.gradients_function(dense_squared)\n",
    "\n",
    "print(dense_squared(3.0))\n",
    "print(grad(3.0))"
   ]
  },
  {
   "cell_type": "markdown",
   "metadata": {},
   "source": [
    "In the above example, The `gradients_function` call takes a Python function `dense_squared()` as an argument and returns a Python callable that computes the partial derivatives of `dense_squared()` with respect to its inputs."
   ]
  }
 ],
 "metadata": {
  "kernelspec": {
   "display_name": "Python [conda env:deepchem]",
   "language": "python",
   "name": "conda-env-deepchem-py"
  },
  "language_info": {
   "codemirror_mode": {
    "name": "ipython",
    "version": 3
   },
   "file_extension": ".py",
   "mimetype": "text/x-python",
   "name": "python",
   "nbconvert_exporter": "python",
   "pygments_lexer": "ipython3",
   "version": "3.5.5"
  }
 },
 "nbformat": 4,
 "nbformat_minor": 2
}
