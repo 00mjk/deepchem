{
 "cells": [
  {
   "cell_type": "markdown",
   "metadata": {},
   "source": [
    "SeqToSeq Fingerprint\n",
    "--------------------\n",
    "\n",
    "In this example, we will use a `SeqToSeq` model to generate fingerprints for classifying molecules.  This is based on the following paper, although some of the implementation details are different: Xu et al., \"Seq2seq Fingerprint: An Unsupervised Deep Molecular Embedding for Drug Discovery\" (https://doi.org/10.1145/3107411.3107424).\n",
    "\n",
    "Many types of models require their inputs to have a fixed shape.  Since molecules can vary widely in the numbers of atoms and bonds they contain, this makes it hard to apply those models to them.  We need a way of generating a fixed length \"fingerprint\" for each molecule.  Various ways of doing this have been designed, such as Extended-Connectivity Fingerprints (ECFPs).  But in this example, instead of designing a fingerprint by hand, we will let a `SeqToSeq` model learn its own method of creating fingerprints.\n",
    "\n",
    "A `SeqToSeq` model performs sequence to sequence translation.  For example, they are often used to translate text from one language to another.  It consists of two parts called the \"encoder\" and \"decoder\".  The encoder is a stack of recurrent layers.  The input sequence is fed into it, one token at a time, and it generates a fixed length vector called the \"embedding vector\".  The decoder is another stack of recurrent layers that performs the inverse operation: it takes the embedding vector as input, and generates the output sequence.  By training it on appropriately chosen input/output pairs, you can create a model that performs many sorts of transformations.\n",
    "\n",
    "In this case, we will use SMILES strings describing molecules as the input sequences.  We will train the model as an autoencoder, so it tries to make the output sequences identical to the input sequences.  For that to work, the encoder must create embedding vectors that contain all information from the original sequence.  That's exactly what we want in a fingerprint, so perhaps those embedding vectors will then be useful as a way to represent molecules in other models!\n",
    "\n",
    "Let's start by loading the data.  We will use the MUV dataset.  It includes 74,501 molecules in the training set, and 9313 molecules in the validation set, so it gives us plenty of SMILES strings to work with."
   ]
  },
  {
   "cell_type": "code",
   "execution_count": 1,
   "metadata": {
    "scrolled": false
   },
   "outputs": [
    {
     "name": "stderr",
     "output_type": "stream",
     "text": [
      "/home/leswing/miniconda3/envs/deepchem/lib/python3.5/site-packages/h5py/__init__.py:36: FutureWarning: Conversion of the second argument of issubdtype from `float` to `np.floating` is deprecated. In future, it will be treated as `np.float64 == np.dtype(float).type`.\n",
      "  from ._conv import register_converters as _register_converters\n"
     ]
    },
    {
     "name": "stdout",
     "output_type": "stream",
     "text": [
      "About to load MUV dataset.\n",
      "Loading dataset from disk.\n",
      "Loading dataset from disk.\n",
      "Loading dataset from disk.\n"
     ]
    }
   ],
   "source": [
    "import deepchem as dc\n",
    "tasks, datasets, transformers = dc.molnet.load_muv()\n",
    "train_dataset, valid_dataset, test_dataset = datasets\n",
    "train_smiles = train_dataset.ids\n",
    "valid_smiles = valid_dataset.ids"
   ]
  },
  {
   "cell_type": "markdown",
   "metadata": {},
   "source": [
    "We need to define the \"alphabet\" for our `SeqToSeq` model, the list of all tokens that can appear in sequences.  (It's also possible for input and output sequences to have different alphabets, but since we're training it as an autoencoder, they're identical in this case.)  Make a list of every character that appears in any training sequence."
   ]
  },
  {
   "cell_type": "code",
   "execution_count": 2,
   "metadata": {},
   "outputs": [],
   "source": [
    "tokens = set()\n",
    "for s in train_smiles:\n",
    "  tokens = tokens.union(set(c for c in s))\n",
    "tokens = sorted(list(tokens))"
   ]
  },
  {
   "cell_type": "markdown",
   "metadata": {},
   "source": [
    "Create the model and define the optimization method to use.  In this case, learning works much better if we gradually decrease the learning rate.  We use an `ExponentialDecay` to multiply the learning rate by 0.9 after each epoch."
   ]
  },
  {
   "cell_type": "code",
   "execution_count": 5,
   "metadata": {},
   "outputs": [],
   "source": [
    "from deepchem.models import SeqToSeq\n",
    "from deepchem.models.tensorgraph import layers\n",
    "from deepchem.models.tensorgraph.layers import Layer\n",
    "import tensorflow as tf\n",
    "\n",
    "class AspuruGuzikAutoEncoder(SeqToSeq):\n",
    "  def __init__(self,\n",
    "               input_tokens,\n",
    "               output_tokens,\n",
    "               max_output_length,\n",
    "               encoder_layers=4,\n",
    "               decoder_layers=4,\n",
    "               embedding_dimension=512,\n",
    "               dropout=0.0,\n",
    "               reverse_input=True,\n",
    "               variational=False,\n",
    "               annealing_start_step=5000,\n",
    "               annealing_final_step=10000,\n",
    "               **kwargs):\n",
    "    self.filter_sizes = [9, 9, 10]\n",
    "    self.kernel_sizes = [9, 9, 11]\n",
    "    super(AspuruGuzikAutoEncoder, self).__init__(\n",
    "      input_tokens,\n",
    "      output_tokens,\n",
    "      max_output_length,\n",
    "      encoder_layers,\n",
    "      decoder_layers,\n",
    "      embedding_dimension,\n",
    "      dropout,\n",
    "      reverse_input,\n",
    "      variational,\n",
    "      annealing_start_step,\n",
    "      annealing_final_step,\n",
    "    )\n",
    "\n",
    "\n",
    "  def _create_encoder(self, n_layers, dropout):\n",
    "    \"\"\"Create the encoder layers.\"\"\"\n",
    "    prev_layer = self._features\n",
    "    for i in range(len(self.filter_sizes)):\n",
    "      filter_size = self.filter_sizes[i]\n",
    "      kernel_size = self.kernel_sizes[i]\n",
    "      if dropout > 0.0:\n",
    "        prev_layer = layers.Dropout(dropout, in_layers=prev_layer)\n",
    "      prev_layer = layers.Conv1D(\n",
    "        kernel_size, filter_size, in_layers=prev_layer, activation_fn=tf.nn.relu)\n",
    "    prev_layer = layers.Gather(in_layers=[prev_layer, self._gather_indices])\n",
    "    if self._variational:\n",
    "      self._embedding_mean = layers.Dense(\n",
    "        196, in_layers=prev_layer)\n",
    "      self._embedding_stddev = layers.Dense(\n",
    "        196, in_layers=prev_layer)\n",
    "      prev_layer = layers.CombineMeanStd(\n",
    "        [self._embedding_mean, self._embedding_stddev], training_only=True)\n",
    "    return prev_layer\n",
    "\n",
    "  def _create_decoder(self, n_layers, dropout):\n",
    "    \"\"\"Create the decoder layers.\"\"\"\n",
    "    prev_layer = layers.Repeat(\n",
    "      self._max_output_length, in_layers=self.embedding)\n",
    "    for i in range(3):\n",
    "      if dropout > 0.0:\n",
    "        prev_layer = layers.Dropout(dropout, in_layers=prev_layer)\n",
    "      prev_layer = layers.GRU(\n",
    "        488, self.batch_size, in_layers=prev_layer)\n",
    "    retval = layers.Dense(\n",
    "      len(self._output_tokens),\n",
    "      in_layers=prev_layer,\n",
    "      activation_fn=tf.nn.softmax)\n",
    "    return retval\n"
   ]
  },
  {
   "cell_type": "code",
   "execution_count": 9,
   "metadata": {},
   "outputs": [],
   "source": [
    "from deepchem.models.tensorgraph.optimizers import Adam, ExponentialDecay\n",
    "\n",
    "\n",
    "max_length = max(len(s) for s in train_smiles)\n",
    "model = AspuruGuzikAutoEncoder(tokens,\n",
    "                           tokens,\n",
    "                           max_length,\n",
    "                           encoder_layers=2,\n",
    "                           decoder_layers=2,\n",
    "                           embedding_dimension=256,\n",
    "                           variational=False,\n",
    "                           model_dir='fingerprint')\n",
    "batches_per_epoch = len(train_smiles)/model.batch_size"
   ]
  },
  {
   "cell_type": "markdown",
   "metadata": {},
   "source": [
    "Let's train it!  The input to `fit_sequences()` is a generator that produces input/output pairs.  On a good GPU, this should take a few hours or less."
   ]
  },
  {
   "cell_type": "code",
   "execution_count": null,
   "metadata": {},
   "outputs": [
    {
     "name": "stdout",
     "output_type": "stream",
     "text": [
      "Ending global_step 999: Average loss 96.9049\n",
      "Ending global_step 1999: Average loss 95.9348\n"
     ]
    }
   ],
   "source": [
    "def generate_sequences(epochs):\n",
    "  for i in range(epochs):\n",
    "    for s in train_smiles:\n",
    "      yield (s, s)\n",
    "\n",
    "model.fit_sequences(generate_sequences(100000))"
   ]
  },
  {
   "cell_type": "markdown",
   "metadata": {},
   "source": [
    "Let's see how well it works as an autoencoder.  We'll run the first 500 molecules from the validation set through it, and see how many of them are exactly reproduced."
   ]
  },
  {
   "cell_type": "code",
   "execution_count": null,
   "metadata": {},
   "outputs": [],
   "source": [
    "predicted = model.predict_from_sequences(valid_smiles[:500])\n",
    "count = 0\n",
    "for s,p in zip(valid_smiles[:500], predicted):\n",
    "  print(''.join(p))\n",
    "  if ''.join(p) == s:\n",
    "    count += 1\n",
    "print('reproduced', count, 'of 500 validation SMILES strings')"
   ]
  },
  {
   "cell_type": "markdown",
   "metadata": {},
   "source": [
    "Now we'll trying using the encoder as a way to generate molecular fingerprints.  We compute the embedding vectors for all molecules in the training and validation datasets, and create new datasets that have those as their feature vectors.  The amount of data is small enough that we can just store everything in memory."
   ]
  },
  {
   "cell_type": "code",
   "execution_count": null,
   "metadata": {},
   "outputs": [],
   "source": [
    "train_embeddings = model.predict_embeddings(train_smiles)\n",
    "train_embeddings_dataset = dc.data.NumpyDataset(train_embeddings,\n",
    "                                                train_dataset.y,\n",
    "                                                train_dataset.w,\n",
    "                                                train_dataset.ids)\n",
    "\n",
    "valid_embeddings = model.predict_embeddings(valid_smiles)\n",
    "valid_embeddings_dataset = dc.data.NumpyDataset(valid_embeddings,\n",
    "                                                valid_dataset.y,\n",
    "                                                valid_dataset.w,\n",
    "                                                valid_dataset.ids)"
   ]
  },
  {
   "cell_type": "markdown",
   "metadata": {},
   "source": [
    "For classification, we'll use a simple fully connected network with one hidden layer."
   ]
  },
  {
   "cell_type": "code",
   "execution_count": null,
   "metadata": {},
   "outputs": [],
   "source": [
    "classifier = dc.models.MultiTaskClassifier(n_tasks=len(tasks),\n",
    "                                                      n_features=256,\n",
    "                                                      layer_sizes=[512])\n",
    "classifier.fit(train_embeddings_dataset, nb_epoch=10)"
   ]
  },
  {
   "cell_type": "markdown",
   "metadata": {},
   "source": [
    "Find out how well it worked.  Compute the ROC AUC for the training and validation datasets."
   ]
  },
  {
   "cell_type": "code",
   "execution_count": null,
   "metadata": {},
   "outputs": [],
   "source": [
    "import numpy as np\n",
    "metric = dc.metrics.Metric(dc.metrics.roc_auc_score, np.mean, mode=\"classification\")\n",
    "train_score = classifier.evaluate(train_embeddings_dataset, [metric], transformers)\n",
    "valid_score = classifier.evaluate(valid_embeddings_dataset, [metric], transformers)\n",
    "print('Training set ROC AUC:', train_score)\n",
    "print('Validation set ROC AUC:', valid_score)"
   ]
  }
 ],
 "metadata": {
  "kernelspec": {
   "display_name": "Python 3",
   "language": "python",
   "name": "python3"
  },
  "language_info": {
   "codemirror_mode": {
    "name": "ipython",
    "version": 3
   },
   "file_extension": ".py",
   "mimetype": "text/x-python",
   "name": "python",
   "nbconvert_exporter": "python",
   "pygments_lexer": "ipython3",
   "version": "3.5.4"
  }
 },
 "nbformat": 4,
 "nbformat_minor": 2
}
