{
 "cells": [
  {
   "cell_type": "markdown",
   "metadata": {},
   "source": [
    "# Predicting Ki of Ligands to a Protein\n",
    "In this notebook, we analyze the BACE enyzme and build machine learning models for predicting the Ki of ligands to the protein. We will use the `deepchem` library to load this data into memory, split into train/test/validation folds, build and cross-validate models, and report statistics."
   ]
  },
  {
   "cell_type": "code",
   "execution_count": 1,
   "metadata": {},
   "outputs": [
    {
     "name": "stdout",
     "output_type": "stream",
     "text": [
      "Automatic pdb calling has been turned OFF\n"
     ]
    }
   ],
   "source": [
    "%load_ext autoreload\n",
    "%autoreload 2\n",
    "%pdb off"
   ]
  },
  {
   "cell_type": "code",
   "execution_count": 2,
   "metadata": {},
   "outputs": [
    {
     "name": "stdout",
     "output_type": "stream",
     "text": [
      "Columns of dataset: ['mol','CID','Class','Model','pIC50','MW','AlogP','HBA','HBD','RB',...]\n",
      "Number of examples in dataset: 1522\n",
      "Number of examples in crystal dataset: 25\n"
     ]
    }
   ],
   "source": [
    "import os\n",
    "import sys\n",
    "import deepchem as dc\n",
    "from deepchem.utils.save import load_from_disk\n",
    "\n",
    "current_dir = os.path.dirname(os.path.realpath(\"__file__\"))\n",
    "dc.utils.download_url(\"https://s3-us-west-1.amazonaws.com/deepchem.io/datasets/desc_canvas_aug30.csv\",\n",
    "                      current_dir)\n",
    "dataset_file = \"desc_canvas_aug30.csv\"\n",
    "dataset = load_from_disk(dataset_file)\n",
    "num_display=10\n",
    "pretty_columns = (\n",
    "    \"[\" + \",\".join([\"'%s'\" % column for column in dataset.columns.values[:num_display]])\n",
    "    + \",...]\")\n",
    "\n",
    "dc.utils.download_url(\"https://s3-us-west-1.amazonaws.com/deepchem.io/datasets/crystal_desc_canvas_aug30.csv\",\n",
    "                      current_dir)\n",
    "crystal_dataset_file = \"crystal_desc_canvas_aug30.csv\"\n",
    "crystal_dataset = load_from_disk(crystal_dataset_file)\n",
    "\n",
    "print(\"Columns of dataset: %s\" % pretty_columns)\n",
    "print(\"Number of examples in dataset: %s\" % str(dataset.shape[0]))\n",
    "print(\"Number of examples in crystal dataset: %s\" % str(crystal_dataset.shape[0]))"
   ]
  },
  {
   "cell_type": "markdown",
   "metadata": {},
   "source": [
    "To gain a visual understanding of compounds in our dataset, let's draw them using rdkit. We define a couple of helper functions to get started."
   ]
  },
  {
   "cell_type": "code",
   "execution_count": 3,
   "metadata": {
    "collapsed": true
   },
   "outputs": [],
   "source": [
    "import tempfile\n",
    "from rdkit import Chem\n",
    "from rdkit.Chem import Draw\n",
    "from itertools import islice\n",
    "from IPython.display import Image, display, HTML\n",
    "\n",
    "def display_images(filenames):\n",
    "    \"\"\"Helper to pretty-print images.\"\"\"\n",
    "    for filename in filenames:\n",
    "        display(Image(filename))\n",
    "\n",
    "def mols_to_pngs(mols, basename=\"test\"):\n",
    "    \"\"\"Helper to write RDKit mols to png files.\"\"\"\n",
    "    filenames = []\n",
    "    for i, mol in enumerate(mols):\n",
    "        filename = \"BACE_%s%d.png\" % (basename, i)\n",
    "        Draw.MolToFile(mol, filename)\n",
    "        filenames.append(filename)\n",
    "    return filenames"
   ]
  },
  {
   "cell_type": "markdown",
   "metadata": {},
   "source": [
    "Now, we display a compound from the dataset. Note the complex ring structures and polar structures."
   ]
  },
  {
   "cell_type": "code",
   "execution_count": 4,
   "metadata": {},
   "outputs": [
    {
     "data": {
      "image/png": "[encoded data removed]",
      "text/plain": [
       "<IPython.core.display.Image object>"
      ]
     },
     "metadata": {},
     "output_type": "display_data"
    },
    {
     "data": {
      "image/png": "[encoded data removed]",
      "text/plain": [
       "<IPython.core.display.Image object>"
      ]
     },
     "metadata": {},
     "output_type": "display_data"
    },
    {
     "data": {
      "image/png": "[encoded data removed]",
      "text/plain": [
       "<IPython.core.display.Image object>"
      ]
     },
     "metadata": {},
     "output_type": "display_data"
    },
    {
     "data": {
      "image/png": "[encoded data removed]",
      "text/plain": [
       "<IPython.core.display.Image object>"
      ]
     },
     "metadata": {},
     "output_type": "display_data"
    },
    {
     "data": {
      "image/png": "[encoded data removed]",
      "text/plain": [
       "<IPython.core.display.Image object>"
      ]
     },
     "metadata": {},
     "output_type": "display_data"
    },
    {
     "data": {
      "image/png": "[encoded data removed]",
      "text/plain": [
       "<IPython.core.display.Image object>"
      ]
     },
     "metadata": {},
     "output_type": "display_data"
    },
    {
     "data": {
      "image/png": "[encoded data removed]",
      "text/plain": [
       "<IPython.core.display.Image object>"
      ]
     },
     "metadata": {},
     "output_type": "display_data"
    },
    {
     "data": {
      "image/png": "[encoded data removed]",
      "text/plain": [
       "<IPython.core.display.Image object>"
      ]
     },
     "metadata": {},
     "output_type": "display_data"
    },
    {
     "data": {
      "image/png": "[encoded data removed]",
      "text/plain": [
       "<IPython.core.display.Image object>"
      ]
     },
     "metadata": {},
     "output_type": "display_data"
    },
    {
     "data": {
      "image/png": "[encoded data removed]",
      "text/plain": [
       "<IPython.core.display.Image object>"
      ]
     },
     "metadata": {},
     "output_type": "display_data"
    },
    {
     "data": {
      "image/png": "[encoded data removed]",
      "text/plain": [
       "<IPython.core.display.Image object>"
      ]
     },
     "metadata": {},
     "output_type": "display_data"
    },
    {
     "data": {
      "image/png": "[encoded data removed]",
      "text/plain": [
       "<IPython.core.display.Image object>"
      ]
     },
     "metadata": {},
     "output_type": "display_data"
    }
   ],
   "source": [
    "num_to_display = 12\n",
    "molecules = []\n",
    "for _, data in islice(dataset.iterrows(), num_to_display):\n",
    "    molecules.append(Chem.MolFromSmiles(data[\"mol\"]))\n",
    "display_images(mols_to_pngs(molecules, basename=\"dataset\"))"
   ]
  },
  {
   "cell_type": "markdown",
   "metadata": {},
   "source": [
    "Now let's picture the compounds in the crystal structure collection"
   ]
  },
  {
   "cell_type": "code",
   "execution_count": 5,
   "metadata": {},
   "outputs": [
    {
     "data": {
      "image/png": "[encoded data removed]",
      "text/plain": [
       "<IPython.core.display.Image object>"
      ]
     },
     "metadata": {},
     "output_type": "display_data"
    },
    {
     "data": {
      "image/png": "[encoded data removed]",
      "text/plain": [
       "<IPython.core.display.Image object>"
      ]
     },
     "metadata": {},
     "output_type": "display_data"
    },
    {
     "data": {
      "image/png": "[encoded data removed]",
      "text/plain": [
       "<IPython.core.display.Image object>"
      ]
     },
     "metadata": {},
     "output_type": "display_data"
    },
    {
     "data": {
      "image/png": "[encoded data removed]",
      "text/plain": [
       "<IPython.core.display.Image object>"
      ]
     },
     "metadata": {},
     "output_type": "display_data"
    },
    {
     "data": {
      "image/png": "[encoded data removed]",
      "text/plain": [
       "<IPython.core.display.Image object>"
      ]
     },
     "metadata": {},
     "output_type": "display_data"
    },
    {
     "data": {
      "image/png": "[encoded data removed]",
      "text/plain": [
       "<IPython.core.display.Image object>"
      ]
     },
     "metadata": {},
     "output_type": "display_data"
    },
    {
     "data": {
      "image/png": "[encoded data removed]",
      "text/plain": [
       "<IPython.core.display.Image object>"
      ]
     },
     "metadata": {},
     "output_type": "display_data"
    },
    {
     "data": {
      "image/png": "[encoded data removed]",
      "text/plain": [
       "<IPython.core.display.Image object>"
      ]
     },
     "metadata": {},
     "output_type": "display_data"
    },
    {
     "data": {
      "image/png": "[encoded data removed]",
      "text/plain": [
       "<IPython.core.display.Image object>"
      ]
     },
     "metadata": {},
     "output_type": "display_data"
    },
    {
     "data": {
      "image/png": "[encoded data removed]",
      "text/plain": [
       "<IPython.core.display.Image object>"
      ]
     },
     "metadata": {},
     "output_type": "display_data"
    },
    {
     "data": {
      "image/png": "[encoded data removed]",
      "text/plain": [
       "<IPython.core.display.Image object>"
      ]
     },
     "metadata": {},
     "output_type": "display_data"
    },
    {
     "data": {
      "image/png": "[encoded data removed]",
      "text/plain": [
       "<IPython.core.display.Image object>"
      ]
     },
     "metadata": {},
     "output_type": "display_data"
    }
   ],
   "source": [
    "num_to_display = 12\n",
    "molecules = []\n",
    "for _, data in islice(crystal_dataset.iterrows(), num_to_display):\n",
    "    molecules.append(Chem.MolFromSmiles(data[\"mol\"]))\n",
    "display_images(mols_to_pngs(molecules, basename=\"crystal_dataset\"))"
   ]
  },
  {
   "cell_type": "markdown",
   "metadata": {},
   "source": [
    "Analyzing the distribution of pIC50 values in the dataset gives us a nice spread."
   ]
  },
  {
   "cell_type": "code",
   "execution_count": 6,
   "metadata": {},
   "outputs": [
    {
     "data": {
      "image/png": "[encoded data removed]",
      "text/plain": [
       "<matplotlib.figure.Figure at 0x7f2ee38cbfd0>"
      ]
     },
     "metadata": {},
     "output_type": "display_data"
    }
   ],
   "source": [
    "%matplotlib inline\n",
    "import matplotlib\n",
    "import numpy as np\n",
    "import matplotlib.pyplot as plt\n",
    "\n",
    "pIC50s = np.array(dataset[\"pIC50\"])\n",
    "# Remove some dirty data from the dataset\n",
    "pIC50s = [pIC50 for pIC50 in pIC50s if pIC50 != '']\n",
    "n, bins, patches = plt.hist(pIC50s, 50, facecolor='green', alpha=0.75)\n",
    "plt.xlabel('Measured pIC50')\n",
    "plt.ylabel('Number of compounds')\n",
    "plt.title(r'Histogram of pIC50 Values')\n",
    "plt.grid(True)\n",
    "plt.show()"
   ]
  },
  {
   "cell_type": "markdown",
   "metadata": {},
   "source": [
    "We now featurize the data using the Canvas samples. To do so, we must specify the columns in the data input that correspond to the features. (Note that CanvasUID is excluded!)"
   ]
  },
  {
   "cell_type": "code",
   "execution_count": 7,
   "metadata": {
    "collapsed": true
   },
   "outputs": [],
   "source": [
    "user_specified_features = ['MW','AlogP','HBA','HBD','RB','HeavyAtomCount','ChiralCenterCount','ChiralCenterCountAllPossible','RingCount','PSA','Estate','MR','Polar','sLi_Key','ssBe_Key','ssssBem_Key','sBH2_Key','ssBH_Key','sssB_Key','ssssBm_Key','sCH3_Key','dCH2_Key','ssCH2_Key','tCH_Key','dsCH_Key','aaCH_Key','sssCH_Key','ddC_Key','tsC_Key','dssC_Key','aasC_Key','aaaC_Key','ssssC_Key','sNH3_Key','sNH2_Key','ssNH2_Key','dNH_Key','ssNH_Key','aaNH_Key','tN_Key','sssNH_Key','dsN_Key','aaN_Key','sssN_Key','ddsN_Key','aasN_Key','ssssN_Key','daaN_Key','sOH_Key','dO_Key','ssO_Key','aaO_Key','aOm_Key','sOm_Key','sF_Key','sSiH3_Key','ssSiH2_Key','sssSiH_Key','ssssSi_Key','sPH2_Key','ssPH_Key','sssP_Key','dsssP_Key','ddsP_Key','sssssP_Key','sSH_Key','dS_Key','ssS_Key','aaS_Key','dssS_Key','ddssS_Key','ssssssS_Key','Sm_Key','sCl_Key','sGeH3_Key','ssGeH2_Key','sssGeH_Key','ssssGe_Key','sAsH2_Key','ssAsH_Key','sssAs_Key','dsssAs_Key','ddsAs_Key','sssssAs_Key','sSeH_Key','dSe_Key','ssSe_Key','aaSe_Key','dssSe_Key','ssssssSe_Key','ddssSe_Key','sBr_Key','sSnH3_Key','ssSnH2_Key','sssSnH_Key','ssssSn_Key','sI_Key','sPbH3_Key','ssPbH2_Key','sssPbH_Key','ssssPb_Key','sLi_Cnt','ssBe_Cnt','ssssBem_Cnt','sBH2_Cnt','ssBH_Cnt','sssB_Cnt','ssssBm_Cnt','sCH3_Cnt','dCH2_Cnt','ssCH2_Cnt','tCH_Cnt','dsCH_Cnt','aaCH_Cnt','sssCH_Cnt','ddC_Cnt','tsC_Cnt','dssC_Cnt','aasC_Cnt','aaaC_Cnt','ssssC_Cnt','sNH3_Cnt','sNH2_Cnt','ssNH2_Cnt','dNH_Cnt','ssNH_Cnt','aaNH_Cnt','tN_Cnt','sssNH_Cnt','dsN_Cnt','aaN_Cnt','sssN_Cnt','ddsN_Cnt','aasN_Cnt','ssssN_Cnt','daaN_Cnt','sOH_Cnt','dO_Cnt','ssO_Cnt','aaO_Cnt','aOm_Cnt','sOm_Cnt','sF_Cnt','sSiH3_Cnt','ssSiH2_Cnt','sssSiH_Cnt','ssssSi_Cnt','sPH2_Cnt','ssPH_Cnt','sssP_Cnt','dsssP_Cnt','ddsP_Cnt','sssssP_Cnt','sSH_Cnt','dS_Cnt','ssS_Cnt','aaS_Cnt','dssS_Cnt','ddssS_Cnt','ssssssS_Cnt','Sm_Cnt','sCl_Cnt','sGeH3_Cnt','ssGeH2_Cnt','sssGeH_Cnt','ssssGe_Cnt','sAsH2_Cnt','ssAsH_Cnt','sssAs_Cnt','dsssAs_Cnt','ddsAs_Cnt','sssssAs_Cnt','sSeH_Cnt','dSe_Cnt','ssSe_Cnt','aaSe_Cnt','dssSe_Cnt','ssssssSe_Cnt','ddssSe_Cnt','sBr_Cnt','sSnH3_Cnt','ssSnH2_Cnt','sssSnH_Cnt','ssssSn_Cnt','sI_Cnt','sPbH3_Cnt','ssPbH2_Cnt','sssPbH_Cnt','ssssPb_Cnt','sLi_Sum','ssBe_Sum','ssssBem_Sum','sBH2_Sum','ssBH_Sum','sssB_Sum','ssssBm_Sum','sCH3_Sum','dCH2_Sum','ssCH2_Sum','tCH_Sum','dsCH_Sum','aaCH_Sum','sssCH_Sum','ddC_Sum','tsC_Sum','dssC_Sum','aasC_Sum','aaaC_Sum','ssssC_Sum','sNH3_Sum','sNH2_Sum','ssNH2_Sum','dNH_Sum','ssNH_Sum','aaNH_Sum','tN_Sum','sssNH_Sum','dsN_Sum','aaN_Sum','sssN_Sum','ddsN_Sum','aasN_Sum','ssssN_Sum','daaN_Sum','sOH_Sum','dO_Sum','ssO_Sum','aaO_Sum','aOm_Sum','sOm_Sum','sF_Sum','sSiH3_Sum','ssSiH2_Sum','sssSiH_Sum','ssssSi_Sum','sPH2_Sum','ssPH_Sum','sssP_Sum','dsssP_Sum','ddsP_Sum','sssssP_Sum','sSH_Sum','dS_Sum','ssS_Sum','aaS_Sum','dssS_Sum','ddssS_Sum','ssssssS_Sum','Sm_Sum','sCl_Sum','sGeH3_Sum','ssGeH2_Sum','sssGeH_Sum','ssssGe_Sum','sAsH2_Sum','ssAsH_Sum','sssAs_Sum','dsssAs_Sum','ddsAs_Sum','sssssAs_Sum','sSeH_Sum','dSe_Sum','ssSe_Sum','aaSe_Sum','dssSe_Sum','ssssssSe_Sum','ddssSe_Sum','sBr_Sum','sSnH3_Sum','ssSnH2_Sum','sssSnH_Sum','ssssSn_Sum','sI_Sum','sPbH3_Sum','ssPbH2_Sum','sssPbH_Sum','ssssPb_Sum','sLi_Avg','ssBe_Avg','ssssBem_Avg','sBH2_Avg','ssBH_Avg','sssB_Avg','ssssBm_Avg','sCH3_Avg','dCH2_Avg','ssCH2_Avg','tCH_Avg','dsCH_Avg','aaCH_Avg','sssCH_Avg','ddC_Avg','tsC_Avg','dssC_Avg','aasC_Avg','aaaC_Avg','ssssC_Avg','sNH3_Avg','sNH2_Avg','ssNH2_Avg','dNH_Avg','ssNH_Avg','aaNH_Avg','tN_Avg','sssNH_Avg','dsN_Avg','aaN_Avg','sssN_Avg','ddsN_Avg','aasN_Avg','ssssN_Avg','daaN_Avg','sOH_Avg','dO_Avg','ssO_Avg','aaO_Avg','aOm_Avg','sOm_Avg','sF_Avg','sSiH3_Avg','ssSiH2_Avg','sssSiH_Avg','ssssSi_Avg','sPH2_Avg','ssPH_Avg','sssP_Avg','dsssP_Avg','ddsP_Avg','sssssP_Avg','sSH_Avg','dS_Avg','ssS_Avg','aaS_Avg','dssS_Avg','ddssS_Avg','ssssssS_Avg','Sm_Avg','sCl_Avg','sGeH3_Avg','ssGeH2_Avg','sssGeH_Avg','ssssGe_Avg','sAsH2_Avg','ssAsH_Avg','sssAs_Avg','dsssAs_Avg','ddsAs_Avg','sssssAs_Avg','sSeH_Avg','dSe_Avg','ssSe_Avg','aaSe_Avg','dssSe_Avg','ssssssSe_Avg','ddssSe_Avg','sBr_Avg','sSnH3_Avg','ssSnH2_Avg','sssSnH_Avg','ssssSn_Avg','sI_Avg','sPbH3_Avg','ssPbH2_Avg','sssPbH_Avg','ssssPb_Avg','First Zagreb (ZM1)','First Zagreb index by valence vertex degrees (ZM1V)','Second Zagreb (ZM2)','Second Zagreb index by valence vertex degrees (ZM2V)','Polarity (Pol)','Narumi Simple Topological (NST)','Narumi Harmonic Topological (NHT)','Narumi Geometric Topological (NGT)','Total structure connectivity (TSC)','Wiener (W)','Mean Wiener (MW)','Xu (Xu)','Quadratic (QIndex)','Radial centric (RC)','Mean Square Distance Balaban (MSDB)','Superpendentic (SP)','Harary (Har)','Log of product of row sums (LPRS)','Pogliani (Pog)','Schultz Molecular Topological (SMT)','Schultz Molecular Topological by valence vertex degrees (SMTV)','Mean Distance Degree Deviation (MDDD)','Ramification (Ram)','Gutman Molecular Topological (GMT)','Gutman MTI by valence vertex degrees (GMTV)','Average vertex distance degree (AVDD)','Unipolarity (UP)','Centralization (CENT)','Variation (VAR)','Molecular electrotopological variation (MEV)','Maximal electrotopological positive variation (MEPV)','Maximal electrotopological negative variation (MENV)','Eccentric connectivity (ECCc)','Eccentricity (ECC)','Average eccentricity (AECC)','Eccentric (DECC)','Valence connectivity index chi-0 (vX0)','Valence connectivity index chi-1 (vX1)','Valence connectivity index chi-2 (vX2)','Valence connectivity index chi-3 (vX3)','Valence connectivity index chi-4 (vX4)','Valence connectivity index chi-5 (vX5)','Average valence connectivity index chi-0 (AvX0)','Average valence connectivity index chi-1 (AvX1)','Average valence connectivity index chi-2 (AvX2)','Average valence connectivity index chi-3 (AvX3)','Average valence connectivity index chi-4 (AvX4)','Average valence connectivity index chi-5 (AvX5)','Quasi Wiener (QW)','First Mohar (FM)','Second Mohar (SM)','Spanning tree number (STN)','Kier benzene-likeliness index (KBLI)','Topological charge index of order 1 (TCI1)','Topological charge index of order 2 (TCI2)','Topological charge index of order 3 (TCI3)','Topological charge index of order 4 (TCI4)','Topological charge index of order 5 (TCI5)','Topological charge index of order 6 (TCI6)','Topological charge index of order 7 (TCI7)','Topological charge index of order 8 (TCI8)','Topological charge index of order 9 (TCI9)','Topological charge index of order 10 (TCI10)','Mean topological charge index of order 1 (MTCI1)','Mean topological charge index of order 2 (MTCI2)','Mean topological charge index of order 3 (MTCI3)','Mean topological charge index of order 4 (MTCI4)','Mean topological charge index of order 5 (MTCI5)','Mean topological charge index of order 6 (MTCI6)','Mean topological charge index of order 7 (MTCI7)','Mean topological charge index of order 8 (MTCI8)','Mean topological charge index of order 9 (MTCI9)','Mean topological charge index of order 10 (MTCI10)','Global topological charge (GTC)','Hyper-distance-path index (HDPI)','Reciprocal hyper-distance-path index (RHDPI)','Square reciprocal distance sum (SRDS)','Modified Randic connectivity (MRC)','Balaban centric (BC)','Lopping centric (LC)','Kier Hall electronegativity (KHE)','Sum of topological distances between N..N (STD(N N))','Sum of topological distances between N..O (STD(N O))','Sum of topological distances between N..S (STD(N S))','Sum of topological distances between N..P (STD(N P))','Sum of topological distances between N..F (STD(N F))','Sum of topological distances between N..Cl (STD(N Cl))','Sum of topological distances between N..Br (STD(N Br))','Sum of topological distances between N..I (STD(N I))','Sum of topological distances between O..O (STD(O O))','Sum of topological distances between O..S (STD(O S))','Sum of topological distances between O..P (STD(O P))','Sum of topological distances between O..F (STD(O F))','Sum of topological distances between O..Cl (STD(O Cl))','Sum of topological distances between O..Br (STD(O Br))','Sum of topological distances between O..I (STD(O I))','Sum of topological distances between S..S (STD(S S))','Sum of topological distances between S..P (STD(S P))','Sum of topological distances between S..F (STD(S F))','Sum of topological distances between S..Cl (STD(S Cl))','Sum of topological distances between S..Br (STD(S Br))','Sum of topological distances between S..I (STD(S I))','Sum of topological distances between P..P (STD(P P))','Sum of topological distances between P..F (STD(P F))','Sum of topological distances between P..Cl (STD(P Cl))','Sum of topological distances between P..Br (STD(P Br))','Sum of topological distances between P..I (STD(P I))','Sum of topological distances between F..F (STD(F F))','Sum of topological distances between F..Cl (STD(F Cl))','Sum of topological distances between F..Br (STD(F Br))','Sum of topological distances between F..I (STD(F I))','Sum of topological distances between Cl..Cl (STD(Cl Cl))','Sum of topological distances between Cl..Br (STD(Cl Br))','Sum of topological distances between Cl..I (STD(Cl I))','Sum of topological distances between Br..Br (STD(Br Br))','Sum of topological distances between Br..I (STD(Br I))','Sum of topological distances between I..I (STD(I I))','Wiener-type index from Z weighted distance matrix - Barysz matrix (WhetZ)','Wiener-type index from electronegativity weighted distance matrix (Whete)','Wiener-type index from mass weighted distance matrix (Whetm)','Wiener-type index from van der waals weighted distance matrix (Whetv)','Wiener-type index from polarizability weighted distance matrix (Whetp)','Balaban-type index from Z weighted distance matrix - Barysz matrix (JhetZ)','Balaban-type index from electronegativity weighted distance matrix (Jhete)','Balaban-type index from mass weighted distance matrix (Jhetm)','Balaban-type index from van der waals weighted distance matrix (Jhetv)','Balaban-type index from polarizability weighted distance matrix (Jhetp)','Topological diameter (TD)','Topological radius (TR)','Petitjean 2D shape (PJ2DS)','Balaban distance connectivity index (J)','Solvation connectivity index chi-0 (SCIX0)','Solvation connectivity index chi-1 (SCIX1)','Solvation connectivity index chi-2 (SCIX2)','Solvation connectivity index chi-3 (SCIX3)','Solvation connectivity index chi-4 (SCIX4)','Solvation connectivity index chi-5 (SCIX5)','Connectivity index chi-0 (CIX0)','Connectivity chi-1 [Randic connectivity] (CIX1)','Connectivity index chi-2 (CIX2)','Connectivity index chi-3 (CIX3)','Connectivity index chi-4 (CIX4)','Connectivity index chi-5 (CIX5)','Average connectivity index chi-0 (ACIX0)','Average connectivity index chi-1 (ACIX1)','Average connectivity index chi-2 (ACIX2)','Average connectivity index chi-3 (ACIX3)','Average connectivity index chi-4 (ACIX4)','Average connectivity index chi-5 (ACIX5)','reciprocal distance Randic-type index (RDR)','reciprocal distance square Randic-type index (RDSR)','1-path Kier alpha-modified shape index (KAMS1)','2-path Kier alpha-modified shape index (KAMS2)','3-path Kier alpha-modified shape index (KAMS3)','Kier flexibility (KF)','path/walk 2 - Randic shape index (RSIpw2)','path/walk 3 - Randic shape index (RSIpw3)','path/walk 4 - Randic shape index (RSIpw4)','path/walk 5 - Randic shape index (RSIpw5)','E-state topological parameter (ETP)','Ring Count 3 (RNGCNT3)','Ring Count 4 (RNGCNT4)','Ring Count 5 (RNGCNT5)','Ring Count 6 (RNGCNT6)','Ring Count 7 (RNGCNT7)','Ring Count 8 (RNGCNT8)','Ring Count 9 (RNGCNT9)','Ring Count 10 (RNGCNT10)','Ring Count 11 (RNGCNT11)','Ring Count 12 (RNGCNT12)','Ring Count 13 (RNGCNT13)','Ring Count 14 (RNGCNT14)','Ring Count 15 (RNGCNT15)','Ring Count 16 (RNGCNT16)','Ring Count 17 (RNGCNT17)','Ring Count 18 (RNGCNT18)','Ring Count 19 (RNGCNT19)','Ring Count 20 (RNGCNT20)','Atom Count (ATMCNT)','Bond Count (BNDCNT)','Atoms in Ring System (ATMRNGCNT)','Bonds in Ring System (BNDRNGCNT)','Cyclomatic number (CYCLONUM)','Number of ring systems (NRS)','Normalized number of ring systems (NNRS)','Ring Fusion degree (RFD)','Ring perimeter (RNGPERM)','Ring bridge count (RNGBDGE)','Molecule cyclized degree (MCD)','Ring Fusion density (RFDELTA)','Ring complexity index (RCI)','Van der Waals surface area (VSA)','MR1 (MR1)','MR2 (MR2)','MR3 (MR3)','MR4 (MR4)','MR5 (MR5)','MR6 (MR6)','MR7 (MR7)','MR8 (MR8)','ALOGP1 (ALOGP1)','ALOGP2 (ALOGP2)','ALOGP3 (ALOGP3)','ALOGP4 (ALOGP4)','ALOGP5 (ALOGP5)','ALOGP6 (ALOGP6)','ALOGP7 (ALOGP7)','ALOGP8 (ALOGP8)','ALOGP9 (ALOGP9)','ALOGP10 (ALOGP10)','PEOE1 (PEOE1)','PEOE2 (PEOE2)','PEOE3 (PEOE3)','PEOE4 (PEOE4)','PEOE5 (PEOE5)','PEOE6 (PEOE6)','PEOE7 (PEOE7)','PEOE8 (PEOE8)','PEOE9 (PEOE9)','PEOE10 (PEOE10)','PEOE11 (PEOE11)','PEOE12 (PEOE12)','PEOE13 (PEOE13)','PEOE14 (PEOE14)']"
   ]
  },
  {
   "cell_type": "code",
   "execution_count": 8,
   "metadata": {},
   "outputs": [
    {
     "name": "stdout",
     "output_type": "stream",
     "text": [
      "Loading raw samples now.\n",
      "shard_size: 8192\n",
      "About to start loading CSV from desc_canvas_aug30.csv\n",
      "Loading shard 1 of size 8192.\n",
      "TIMING: user specified processing took 0.097 s\n",
      "TIMING: featurizing shard 0 took 0.100 s\n",
      "TIMING: dataset construction took 0.362 s\n",
      "Loading dataset from disk.\n",
      "Loading raw samples now.\n",
      "shard_size: 8192\n",
      "About to start loading CSV from crystal_desc_canvas_aug30.csv\n",
      "Loading shard 1 of size 8192.\n",
      "TIMING: user specified processing took 0.145 s\n",
      "TIMING: featurizing shard 0 took 0.145 s\n",
      "TIMING: dataset construction took 0.172 s\n",
      "Loading dataset from disk.\n"
     ]
    }
   ],
   "source": [
    "import deepchem as dc\n",
    "import tempfile, shutil\n",
    "\n",
    "featurizer = dc.feat.UserDefinedFeaturizer(user_specified_features)\n",
    "loader = dc.data.UserCSVLoader(\n",
    "      tasks=[\"Class\"], smiles_field=\"mol\", id_field=\"mol\",\n",
    "      featurizer=featurizer)\n",
    "dataset = loader.featurize(dataset_file)\n",
    "crystal_dataset = loader.featurize(crystal_dataset_file)"
   ]
  },
  {
   "cell_type": "markdown",
   "metadata": {},
   "source": [
    "This data is already split into three subsets \"Train\" and \"Test\" with 20% and 80% respectively of the total data from the BACE enzyme. There is also a \"Validation\" set that contains data from a separate (but related assay). (Note that these names are really misnomers. The \"Test\" set would be called a validation set in standard machine-learning practice and the \"Validation\" set would typically be called an external test set.) Hence, we will rename the datasets after loading them."
   ]
  },
  {
   "cell_type": "code",
   "execution_count": 9,
   "metadata": {},
   "outputs": [
    {
     "name": "stdout",
     "output_type": "stream",
     "text": [
      "TIMING: dataset construction took 0.081 s\n",
      "Loading dataset from disk.\n",
      "TIMING: dataset construction took 0.059 s\n",
      "Loading dataset from disk.\n",
      "TIMING: dataset construction took 0.209 s\n",
      "Loading dataset from disk.\n"
     ]
    }
   ],
   "source": [
    "splitter = dc.splits.SpecifiedSplitter(dataset_file, \"Model\")\n",
    "train_dataset, valid_dataset, test_dataset = splitter.train_valid_test_split(\n",
    "    dataset)\n",
    "#NOTE THE RENAMING:\n",
    "valid_dataset, test_dataset = test_dataset, valid_dataset"
   ]
  },
  {
   "cell_type": "markdown",
   "metadata": {},
   "source": [
    "Let's quickly take a look at a compound in the validation set. (The compound displayed earlier was drawn from the train set)."
   ]
  },
  {
   "cell_type": "code",
   "execution_count": 10,
   "metadata": {},
   "outputs": [
    {
     "name": "stdout",
     "output_type": "stream",
     "text": [
      "[ 'S(=O)(=O)(N(C)c1cc(cc(c1)C(=O)NC(C(O)CC(OC)C(=O)NC(C(C)C)C(=O)NCc1ccccc1)COc1cc(F)cc(F)c1)C(=O)NC(C)c1ccccc1)C'\n",
      " 'O=C(NCCC(C)(C)C)C(Cc1cc2cc(ccc2nc1N)-c1ccccc1C)C'\n",
      " 'Fc1cc(cc(F)c1)CC(NC(=O)C(N1CCC(NC(=O)C)(C(CC)C)C1=O)CCc1ccccc1)C(O)C1[NH2+]CC(O)C1'\n",
      " ..., 'Brc1cc(ccc1)C1CC1C=1N=C(N)N(C)C(=O)C=1'\n",
      " 'O=C1N(C)C(=NC(=C1)C1CC1c1cc(ccc1)-c1ccccc1)N'\n",
      " 'Clc1cc2nc(n(c2cc1)CCCC(=O)NCC1CC1)N']\n"
     ]
    },
    {
     "data": {
      "image/png": "[encoded data removed]",
      "text/plain": [
       "<IPython.core.display.Image object>"
      ]
     },
     "metadata": {},
     "output_type": "display_data"
    },
    {
     "data": {
      "image/png": "[encoded data removed]",
      "text/plain": [
       "<IPython.core.display.Image object>"
      ]
     },
     "metadata": {},
     "output_type": "display_data"
    },
    {
     "data": {
      "image/png": "[encoded data removed]",
      "text/plain": [
       "<IPython.core.display.Image object>"
      ]
     },
     "metadata": {},
     "output_type": "display_data"
    },
    {
     "data": {
      "image/png": "[encoded data removed]",
      "text/plain": [
       "<IPython.core.display.Image object>"
      ]
     },
     "metadata": {},
     "output_type": "display_data"
    },
    {
     "data": {
      "image/png": "[encoded data removed]",
      "text/plain": [
       "<IPython.core.display.Image object>"
      ]
     },
     "metadata": {},
     "output_type": "display_data"
    },
    {
     "data": {
      "image/png": "[encoded data removed]",
      "text/plain": [
       "<IPython.core.display.Image object>"
      ]
     },
     "metadata": {},
     "output_type": "display_data"
    },
    {
     "data": {
      "image/png": "[encoded data removed]",
      "text/plain": [
       "<IPython.core.display.Image object>"
      ]
     },
     "metadata": {},
     "output_type": "display_data"
    },
    {
     "data": {
      "image/png": "[encoded data removed]",
      "text/plain": [
       "<IPython.core.display.Image object>"
      ]
     },
     "metadata": {},
     "output_type": "display_data"
    },
    {
     "data": {
      "image/png": "[encoded data removed]",
      "text/plain": [
       "<IPython.core.display.Image object>"
      ]
     },
     "metadata": {},
     "output_type": "display_data"
    },
    {
     "data": {
      "image/png": "[encoded data removed]",
      "text/plain": [
       "<IPython.core.display.Image object>"
      ]
     },
     "metadata": {},
     "output_type": "display_data"
    },
    {
     "data": {
      "image/png": "[encoded data removed]",
      "text/plain": [
       "<IPython.core.display.Image object>"
      ]
     },
     "metadata": {},
     "output_type": "display_data"
    },
    {
     "data": {
      "image/png": "[encoded data removed]",
      "text/plain": [
       "<IPython.core.display.Image object>"
      ]
     },
     "metadata": {},
     "output_type": "display_data"
    }
   ],
   "source": [
    "print(valid_dataset.ids)\n",
    "valid_mols = [Chem.MolFromSmiles(compound)\n",
    "              for compound in islice(valid_dataset.ids, num_to_display)]\n",
    "display_images(mols_to_pngs(valid_mols, basename=\"valid_set\"))"
   ]
  },
  {
   "cell_type": "markdown",
   "metadata": {},
   "source": [
    "Let's now write these datasets to disk"
   ]
  },
  {
   "cell_type": "code",
   "execution_count": 11,
   "metadata": {},
   "outputs": [
    {
     "name": "stdout",
     "output_type": "stream",
     "text": [
      "Number of compounds in train set\n",
      "204\n",
      "Number of compounds in validation set\n",
      "1273\n",
      "Number of compounds in test set\n",
      "45\n",
      "Number of compounds in crystal set\n",
      "25\n"
     ]
    }
   ],
   "source": [
    "print(\"Number of compounds in train set\")\n",
    "print(len(train_dataset))\n",
    "print(\"Number of compounds in validation set\")\n",
    "print(len(valid_dataset))\n",
    "print(\"Number of compounds in test set\")\n",
    "print(len(test_dataset))\n",
    "print(\"Number of compounds in crystal set\")\n",
    "print(len(crystal_dataset))"
   ]
  },
  {
   "cell_type": "markdown",
   "metadata": {
    "collapsed": true
   },
   "source": [
    "The performance of common machine-learning algorithms can be very sensitive to preprocessing of the data. One common transformation applied to data is to normalize it to have zero-mean and unit-standard-deviation. We will apply this transformation to the pIC50 values (as seen above, the pIC50s range from 2 to 11)."
   ]
  },
  {
   "cell_type": "code",
   "execution_count": 12,
   "metadata": {},
   "outputs": [
    {
     "name": "stderr",
     "output_type": "stream",
     "text": [
      "/home/leswing/Documents/deepchem/deepchem/trans/transformers.py:146: RuntimeWarning: invalid value encountered in true_divide\n",
      "  X = np.nan_to_num((X - self.X_means) / self.X_stds)\n"
     ]
    },
    {
     "name": "stdout",
     "output_type": "stream",
     "text": [
      "TIMING: dataset construction took 0.040 s\n",
      "Loading dataset from disk.\n",
      "TIMING: dataset construction took 0.027 s\n",
      "Loading dataset from disk.\n"
     ]
    },
    {
     "name": "stderr",
     "output_type": "stream",
     "text": [
      "/home/leswing/Documents/deepchem/deepchem/trans/transformers.py:146: RuntimeWarning: divide by zero encountered in true_divide\n",
      "  X = np.nan_to_num((X - self.X_means) / self.X_stds)\n"
     ]
    },
    {
     "name": "stdout",
     "output_type": "stream",
     "text": [
      "TIMING: dataset construction took 0.229 s\n",
      "Loading dataset from disk.\n",
      "TIMING: dataset construction took 0.147 s\n",
      "Loading dataset from disk.\n",
      "TIMING: dataset construction took 0.012 s\n",
      "Loading dataset from disk.\n",
      "TIMING: dataset construction took 0.008 s\n",
      "Loading dataset from disk.\n",
      "TIMING: dataset construction took 0.007 s\n",
      "Loading dataset from disk.\n",
      "TIMING: dataset construction took 0.005 s\n",
      "Loading dataset from disk.\n"
     ]
    }
   ],
   "source": [
    "transformers = [\n",
    "    dc.trans.NormalizationTransformer(transform_X=True, dataset=train_dataset),\n",
    "    dc.trans.ClippingTransformer(transform_X=True, dataset=train_dataset)]\n",
    "\n",
    "datasets = [train_dataset, valid_dataset, test_dataset, crystal_dataset]\n",
    "for i, dataset in enumerate(datasets):\n",
    "  for transformer in transformers:\n",
    "      datasets[i] = transformer.transform(dataset)\n",
    "train_dataset, valid_dataset, test_dataset, crystal_dataset = datasets"
   ]
  },
  {
   "cell_type": "markdown",
   "metadata": {},
   "source": [
    "We now fit simple random forest models to our datasets."
   ]
  },
  {
   "cell_type": "code",
   "execution_count": 13,
   "metadata": {},
   "outputs": [
    {
     "name": "stdout",
     "output_type": "stream",
     "text": [
      "Fitting model 1/8\n",
      "hyperparameters: {'max_features': 'auto', 'n_estimators': 10}\n",
      "computed_metrics: [0.73525596874984289]\n",
      "Model 1/8, Metric roc_auc_score, Validation set 0: 0.735256\n",
      "\tbest_validation_score so far: 0.735256\n",
      "Fitting model 2/8\n",
      "hyperparameters: {'max_features': 'auto', 'n_estimators': 100}\n",
      "computed_metrics: [0.77274195494467368]\n",
      "Model 2/8, Metric roc_auc_score, Validation set 1: 0.772742\n",
      "\tbest_validation_score so far: 0.772742\n",
      "Fitting model 3/8\n",
      "hyperparameters: {'max_features': 'sqrt', 'n_estimators': 10}\n",
      "computed_metrics: [0.76423878015795998]\n",
      "Model 3/8, Metric roc_auc_score, Validation set 2: 0.764239\n",
      "\tbest_validation_score so far: 0.772742\n",
      "Fitting model 4/8\n",
      "hyperparameters: {'max_features': 'sqrt', 'n_estimators': 100}\n",
      "computed_metrics: [0.79360618568103325]\n",
      "Model 4/8, Metric roc_auc_score, Validation set 3: 0.793606\n",
      "\tbest_validation_score so far: 0.793606\n",
      "Fitting model 5/8\n",
      "hyperparameters: {'max_features': 'log2', 'n_estimators': 10}\n",
      "computed_metrics: [0.73468033442092195]\n",
      "Model 5/8, Metric roc_auc_score, Validation set 4: 0.734680\n",
      "\tbest_validation_score so far: 0.793606\n",
      "Fitting model 6/8\n",
      "hyperparameters: {'max_features': 'log2', 'n_estimators': 100}\n",
      "computed_metrics: [0.79898673275987753]\n",
      "Model 6/8, Metric roc_auc_score, Validation set 5: 0.798987\n",
      "\tbest_validation_score so far: 0.798987\n",
      "Fitting model 7/8\n",
      "hyperparameters: {'max_features': None, 'n_estimators': 10}\n",
      "computed_metrics: [0.73567701132667374]\n",
      "Model 7/8, Metric roc_auc_score, Validation set 6: 0.735677\n",
      "\tbest_validation_score so far: 0.798987\n",
      "Fitting model 8/8\n",
      "hyperparameters: {'max_features': None, 'n_estimators': 100}\n",
      "computed_metrics: [0.76344068452725089]\n",
      "Model 8/8, Metric roc_auc_score, Validation set 7: 0.763441\n",
      "\tbest_validation_score so far: 0.798987\n",
      "computed_metrics: [0.99980776624375234]\n",
      "Best hyperparameters: ('log2', 100)\n",
      "train_score: 0.999808\n",
      "validation_score: 0.798987\n"
     ]
    }
   ],
   "source": [
    "from sklearn.ensemble import RandomForestClassifier\n",
    "\n",
    "def rf_model_builder(model_params, model_dir):\n",
    "  sklearn_model = RandomForestClassifier(**model_params)\n",
    "  return dc.models.SklearnModel(sklearn_model, model_dir)\n",
    "params_dict = {\n",
    "    \"n_estimators\": [10, 100],\n",
    "    \"max_features\": [\"auto\", \"sqrt\", \"log2\", None],\n",
    "}\n",
    "\n",
    "metric = dc.metrics.Metric(dc.metrics.roc_auc_score)\n",
    "optimizer = dc.hyper.HyperparamOpt(rf_model_builder)\n",
    "best_rf, best_rf_hyperparams, all_rf_results = optimizer.hyperparam_search(\n",
    "    params_dict, train_dataset, valid_dataset, transformers,\n",
    "    metric=metric)"
   ]
  },
  {
   "cell_type": "code",
   "execution_count": 14,
   "metadata": {},
   "outputs": [
    {
     "name": "stdout",
     "output_type": "stream",
     "text": [
      "Fitting model 1/1\n",
      "hyperparameters: {'learning_rate': 1.1588110606916644e-05, 'nb_epoch': 40, 'decay': 6.5187317989287731e-05}\n",
      "Training for 40 epochs\n",
      "On batch 0\n",
      "Ending epoch 0: Average loss 0.586493\n",
      "On batch 0\n",
      "Ending epoch 1: Average loss 0.57752\n",
      "On batch 0\n",
      "Ending epoch 2: Average loss 0.569648\n",
      "On batch 0\n",
      "Ending epoch 3: Average loss 0.558361\n",
      "On batch 0\n",
      "Ending epoch 4: Average loss 0.559763\n",
      "On batch 0\n",
      "Ending epoch 5: Average loss 0.542741\n",
      "On batch 0\n",
      "Ending epoch 6: Average loss 0.537798\n",
      "On batch 0\n",
      "Ending epoch 7: Average loss 0.543788\n",
      "On batch 0\n",
      "Ending epoch 8: Average loss 0.53856\n",
      "On batch 0\n",
      "Ending epoch 9: Average loss 0.531913\n",
      "On batch 0\n",
      "Ending epoch 10: Average loss 0.513602\n",
      "On batch 0\n",
      "Ending epoch 11: Average loss 0.519905\n",
      "On batch 0\n",
      "Ending epoch 12: Average loss 0.515951\n",
      "On batch 0\n",
      "Ending epoch 13: Average loss 0.516695\n",
      "On batch 0\n",
      "Ending epoch 14: Average loss 0.501685\n",
      "On batch 0\n",
      "Ending epoch 15: Average loss 0.506057\n",
      "On batch 0\n",
      "Ending epoch 16: Average loss 0.508485\n",
      "On batch 0\n",
      "Ending epoch 17: Average loss 0.485402\n",
      "On batch 0\n",
      "Ending epoch 18: Average loss 0.501582\n",
      "On batch 0\n",
      "Ending epoch 19: Average loss 0.495674\n",
      "On batch 0\n",
      "Ending epoch 20: Average loss 0.501355\n",
      "On batch 0\n",
      "Ending epoch 21: Average loss 0.496418\n",
      "On batch 0\n",
      "Ending epoch 22: Average loss 0.500187\n",
      "On batch 0\n",
      "Ending epoch 23: Average loss 0.46124\n",
      "On batch 0\n",
      "Ending epoch 24: Average loss 0.482887\n",
      "On batch 0\n",
      "Ending epoch 25: Average loss 0.469814\n",
      "On batch 0\n",
      "Ending epoch 26: Average loss 0.480295\n",
      "On batch 0\n",
      "Ending epoch 27: Average loss 0.468142\n",
      "On batch 0\n",
      "Ending epoch 28: Average loss 0.475563\n",
      "On batch 0\n",
      "Ending epoch 29: Average loss 0.459227\n",
      "On batch 0\n",
      "Ending epoch 30: Average loss 0.467055\n",
      "On batch 0\n",
      "Ending epoch 31: Average loss 0.463441\n",
      "On batch 0\n",
      "Ending epoch 32: Average loss 0.455907\n",
      "On batch 0\n",
      "Ending epoch 33: Average loss 0.466759\n",
      "On batch 0\n",
      "Ending epoch 34: Average loss 0.469635\n",
      "On batch 0\n",
      "Ending epoch 35: Average loss 0.462193\n",
      "On batch 0\n",
      "Ending epoch 36: Average loss 0.445454\n",
      "On batch 0\n",
      "Ending epoch 37: Average loss 0.441479\n",
      "On batch 0\n",
      "Ending epoch 38: Average loss 0.454146\n",
      "On batch 0\n",
      "Ending epoch 39: Average loss 0.446808\n",
      "On batch 0\n",
      "TIMING: model fitting took 1.910 s True\n",
      "INFO:tensorflow:Restoring parameters from /tmp/tmpr62mfn70/model.ckpt-41\n",
      "computed_metrics: [0.70862973892846548]\n",
      "Model 1/1, Metric roc_auc_score, Validation set 0: 0.708630\n",
      "\tbest_validation_score so far: 0.708630\n",
      "computed_metrics: [0.84025374855824686]\n",
      "Best hyperparameters: (1.1588110606916644e-05, 40, 6.5187317989287731e-05)\n",
      "train_score: 0.840254\n",
      "validation_score: 0.708630\n"
     ]
    }
   ],
   "source": [
    "import numpy.random\n",
    "\n",
    "params_dict = {\"learning_rate\": np.power(10., np.random.uniform(-5, -3, size=1)),\n",
    "               \"decay\": np.power(10, np.random.uniform(-6, -4, size=1)),\n",
    "               \"nb_epoch\": [40] }\n",
    "n_features = train_dataset.get_data_shape()[0]\n",
    "def model_builder(model_params, model_dir):\n",
    "  model = dc.models.TensorflowMultiTaskClassifier(\n",
    "    1, n_features, layer_sizes=[1000], dropouts=[.25],\n",
    "    batch_size=50, **model_params)\n",
    "  return model\n",
    "\n",
    "optimizer = dc.hyper.HyperparamOpt(model_builder)\n",
    "best_dnn, best_dnn_hyperparams, all_dnn_results = optimizer.hyperparam_search(\n",
    "    params_dict, train_dataset, valid_dataset, transformers,\n",
    "    metric=metric)"
   ]
  },
  {
   "cell_type": "markdown",
   "metadata": {},
   "source": [
    "Now let's evaluate the best model on the validation and test sets and save the results to csv."
   ]
  },
  {
   "cell_type": "code",
   "execution_count": 15,
   "metadata": {},
   "outputs": [
    {
     "name": "stdout",
     "output_type": "stream",
     "text": [
      "computed_metrics: [0.99980776624375234]\n",
      "RF Train set AUC 0.999808\n",
      "computed_metrics: [0.79898673275987753]\n",
      "RF Valid set AUC 0.798987\n",
      "computed_metrics: [0.56818181818181812]\n",
      "RF Test set AUC 0.568182\n",
      "computed_metrics: [nan]\n",
      "RF Crystal set R^2 nan\n"
     ]
    },
    {
     "name": "stderr",
     "output_type": "stream",
     "text": [
      "/home/leswing/Documents/deepchem/deepchem/metrics/__init__.py:297: UserWarning: Error calculating metric roc_auc_score: Only one class present in y_true. ROC AUC score is not defined in that case.\n",
      "  warnings.warn(\"Error calculating metric %s: %s\" % (self.name, e))\n"
     ]
    }
   ],
   "source": [
    "from deepchem.utils.evaluate import Evaluator\n",
    "\n",
    "rf_train_csv_out = \"rf_train_regressor.csv\"\n",
    "rf_train_stats_out = \"rf_train_stats_regressor.txt\"\n",
    "rf_train_evaluator = Evaluator(best_rf, train_dataset, transformers)\n",
    "rf_train_score = rf_train_evaluator.compute_model_performance(\n",
    "    [metric], rf_train_csv_out, rf_train_stats_out)\n",
    "print(\"RF Train set AUC %f\" % (rf_train_score[\"roc_auc_score\"]))\n",
    "\n",
    "rf_valid_csv_out = \"rf_valid_regressor.csv\"\n",
    "rf_valid_stats_out = \"rf_valid_stats_regressor.txt\"\n",
    "rf_valid_evaluator = Evaluator(best_rf, valid_dataset, transformers)\n",
    "rf_valid_score = rf_valid_evaluator.compute_model_performance(\n",
    "    [metric], rf_valid_csv_out, rf_valid_stats_out)\n",
    "print(\"RF Valid set AUC %f\" % (rf_valid_score[\"roc_auc_score\"]))\n",
    "\n",
    "rf_test_csv_out = \"rf_test_regressor.csv\"\n",
    "rf_test_stats_out = \"rf_test_stats_regressor.txt\"\n",
    "rf_test_evaluator = Evaluator(best_rf, test_dataset, transformers)\n",
    "rf_test_score = rf_test_evaluator.compute_model_performance(\n",
    "    [metric], rf_test_csv_out, rf_test_stats_out)\n",
    "print(\"RF Test set AUC %f\" % (rf_test_score[\"roc_auc_score\"]))\n",
    "\n",
    "rf_crystal_csv_out = \"rf_crystal_regressor.csv\"\n",
    "rf_crystal_stats_out = \"rf_crystal_stats_regressor.txt\"\n",
    "rf_crystal_evaluator = Evaluator(best_rf, crystal_dataset, transformers)\n",
    "rf_crystal_score = rf_crystal_evaluator.compute_model_performance(\n",
    "    [metric], rf_crystal_csv_out, rf_crystal_stats_out)\n",
    "print(\"RF Crystal set R^2 %f\" % (rf_crystal_score[\"roc_auc_score\"]))"
   ]
  },
  {
   "cell_type": "code",
   "execution_count": 16,
   "metadata": {},
   "outputs": [
    {
     "name": "stdout",
     "output_type": "stream",
     "text": [
      "computed_metrics: [0.84025374855824686]\n",
      "DNN Train set AUC 0.840254\n",
      "computed_metrics: [0.70862973892846548]\n",
      "DNN Valid set AUC 0.708630\n",
      "computed_metrics: [0.20454545454545459]\n",
      "DNN Test set AUC 0.204545\n",
      "computed_metrics: [nan]\n",
      "DNN Crystal set AUC nan\n"
     ]
    },
    {
     "name": "stderr",
     "output_type": "stream",
     "text": [
      "/home/leswing/Documents/deepchem/deepchem/metrics/__init__.py:297: UserWarning: Error calculating metric roc_auc_score: Only one class present in y_true. ROC AUC score is not defined in that case.\n",
      "  warnings.warn(\"Error calculating metric %s: %s\" % (self.name, e))\n"
     ]
    }
   ],
   "source": [
    "dnn_train_csv_out = \"dnn_train_classifier.csv\"\n",
    "dnn_train_stats_out = \"dnn_train_classifier_stats.txt\"\n",
    "dnn_train_evaluator = Evaluator(best_dnn, train_dataset, transformers)\n",
    "dnn_train_score = dnn_train_evaluator.compute_model_performance(\n",
    "    [metric], dnn_train_csv_out, dnn_train_stats_out)\n",
    "print(\"DNN Train set AUC %f\" % (dnn_train_score[\"roc_auc_score\"]))\n",
    "\n",
    "dnn_valid_csv_out = \"dnn_valid_classifier.csv\"\n",
    "dnn_valid_stats_out = \"dnn_valid_classifier_stats.txt\"\n",
    "dnn_valid_evaluator = Evaluator(best_dnn, valid_dataset, transformers)\n",
    "dnn_valid_score = dnn_valid_evaluator.compute_model_performance(\n",
    "    [metric], dnn_valid_csv_out, dnn_valid_stats_out)\n",
    "print(\"DNN Valid set AUC %f\" % (dnn_valid_score[\"roc_auc_score\"]))\n",
    "\n",
    "dnn_test_csv_out = \"dnn_test_classifier.csv\"\n",
    "dnn_test_stats_out = \"dnn_test_classifier_stats.txt\"\n",
    "dnn_test_evaluator = Evaluator(best_dnn, test_dataset, transformers)\n",
    "dnn_test_score = dnn_test_evaluator.compute_model_performance(\n",
    "    [metric], dnn_test_csv_out, dnn_test_stats_out)\n",
    "print(\"DNN Test set AUC %f\" % (dnn_test_score[\"roc_auc_score\"]))\n",
    "\n",
    "dnn_crystal_csv_out = \"dnn_crystal_classifier.csv\"\n",
    "dnn_crystal_stats_out = \"dnn_crystal_stats_classifier.txt\"\n",
    "dnn_crystal_evaluator = Evaluator(best_dnn, crystal_dataset, transformers)\n",
    "dnn_crystal_score = dnn_crystal_evaluator.compute_model_performance(\n",
    "    [metric], dnn_crystal_csv_out, dnn_crystal_stats_out)\n",
    "print(\"DNN Crystal set AUC %f\" % (dnn_crystal_score[\"roc_auc_score\"]))"
   ]
  },
  {
   "cell_type": "markdown",
   "metadata": {},
   "source": [
    "Now, we construct regression models for the data."
   ]
  },
  {
   "cell_type": "code",
   "execution_count": 18,
   "metadata": {},
   "outputs": [
    {
     "name": "stdout",
     "output_type": "stream",
     "text": [
      "Loading raw samples now.\n",
      "shard_size: 8192\n",
      "About to start loading CSV from desc_canvas_aug30.csv\n",
      "Loading shard 1 of size 8192.\n",
      "TIMING: user specified processing took 0.095 s\n",
      "TIMING: featurizing shard 0 took 0.098 s\n",
      "TIMING: dataset construction took 0.359 s\n",
      "Loading dataset from disk.\n",
      "Loading raw samples now.\n",
      "shard_size: 8192\n",
      "About to start loading CSV from crystal_desc_canvas_aug30.csv\n",
      "Loading shard 1 of size 8192.\n",
      "TIMING: user specified processing took 0.090 s\n",
      "TIMING: featurizing shard 0 took 0.090 s\n",
      "TIMING: dataset construction took 0.119 s\n",
      "Loading dataset from disk.\n"
     ]
    }
   ],
   "source": [
    "#Make directories to store the raw and featurized datasets.\n",
    "featurizer = dc.feat.UserDefinedFeaturizer(user_specified_features)\n",
    "loader = dc.data.UserCSVLoader(\n",
    "    tasks=[\"pIC50\"], smiles_field=\"mol\", id_field=\"CID\",\n",
    "    featurizer=featurizer)\n",
    "dataset = loader.featurize(dataset_file)\n",
    "crystal_dataset = loader.featurize(crystal_dataset_file)"
   ]
  },
  {
   "cell_type": "code",
   "execution_count": 19,
   "metadata": {},
   "outputs": [
    {
     "name": "stdout",
     "output_type": "stream",
     "text": [
      "TIMING: dataset construction took 0.078 s\n",
      "Loading dataset from disk.\n",
      "TIMING: dataset construction took 0.057 s\n",
      "Loading dataset from disk.\n",
      "TIMING: dataset construction took 0.208 s\n",
      "Loading dataset from disk.\n"
     ]
    }
   ],
   "source": [
    "splitter = dc.splits.SpecifiedSplitter(dataset_file, \"Model\")\n",
    "train_dataset, valid_dataset, test_dataset = splitter.train_valid_test_split(\n",
    "    dataset)\n",
    "#NOTE THE RENAMING:\n",
    "valid_dataset, test_dataset = test_dataset, valid_dataset"
   ]
  },
  {
   "cell_type": "code",
   "execution_count": 20,
   "metadata": {},
   "outputs": [
    {
     "name": "stdout",
     "output_type": "stream",
     "text": [
      "Number of compounds in train set\n",
      "204\n",
      "Number of compounds in validation set\n",
      "1273\n",
      "Number of compounds in test set\n",
      "45\n",
      "Number of compounds in crystal set\n",
      "25\n"
     ]
    }
   ],
   "source": [
    "print(\"Number of compounds in train set\")\n",
    "print(len(train_dataset))\n",
    "print(\"Number of compounds in validation set\")\n",
    "print(len(valid_dataset))\n",
    "print(\"Number of compounds in test set\")\n",
    "print(len(test_dataset))\n",
    "print(\"Number of compounds in crystal set\")\n",
    "print(len(crystal_dataset))"
   ]
  },
  {
   "cell_type": "code",
   "execution_count": 21,
   "metadata": {},
   "outputs": [
    {
     "name": "stderr",
     "output_type": "stream",
     "text": [
      "/home/leswing/Documents/deepchem/deepchem/trans/transformers.py:146: RuntimeWarning: invalid value encountered in true_divide\n",
      "  X = np.nan_to_num((X - self.X_means) / self.X_stds)\n"
     ]
    },
    {
     "name": "stdout",
     "output_type": "stream",
     "text": [
      "TIMING: dataset construction took 0.043 s\n",
      "Loading dataset from disk.\n",
      "TIMING: dataset construction took 0.026 s\n",
      "Loading dataset from disk.\n"
     ]
    },
    {
     "name": "stderr",
     "output_type": "stream",
     "text": [
      "/home/leswing/Documents/deepchem/deepchem/trans/transformers.py:146: RuntimeWarning: divide by zero encountered in true_divide\n",
      "  X = np.nan_to_num((X - self.X_means) / self.X_stds)\n"
     ]
    },
    {
     "name": "stdout",
     "output_type": "stream",
     "text": [
      "TIMING: dataset construction took 0.228 s\n",
      "Loading dataset from disk.\n",
      "TIMING: dataset construction took 0.146 s\n",
      "Loading dataset from disk.\n",
      "TIMING: dataset construction took 0.010 s\n",
      "Loading dataset from disk.\n",
      "TIMING: dataset construction took 0.008 s\n",
      "Loading dataset from disk.\n",
      "TIMING: dataset construction took 0.007 s\n",
      "Loading dataset from disk.\n",
      "TIMING: dataset construction took 0.006 s\n",
      "Loading dataset from disk.\n"
     ]
    }
   ],
   "source": [
    "transformers = [\n",
    "    dc.trans.NormalizationTransformer(transform_X=True, dataset=train_dataset),\n",
    "    dc.trans.ClippingTransformer(transform_X=True, dataset=train_dataset)]\n",
    "\n",
    "datasets = [train_dataset, valid_dataset, test_dataset, crystal_dataset]\n",
    "for i, dataset in enumerate(datasets):\n",
    "  for transformer in transformers:\n",
    "      datasets[i] = transformer.transform(dataset)\n",
    "train_dataset, valid_dataset, test_dataset, crystal_dataset = datasets"
   ]
  },
  {
   "cell_type": "code",
   "execution_count": 22,
   "metadata": {},
   "outputs": [
    {
     "name": "stdout",
     "output_type": "stream",
     "text": [
      "Fitting model 1/8\n",
      "hyperparameters: {'max_features': 'auto', 'n_estimators': 10}\n",
      "computed_metrics: [0.21132783265314437]\n",
      "Model 1/8, Metric r2_score, Validation set 0: 0.211328\n",
      "\tbest_validation_score so far: 0.211328\n",
      "Fitting model 2/8\n",
      "hyperparameters: {'max_features': 'auto', 'n_estimators': 100}\n",
      "computed_metrics: [0.23081975791443776]\n",
      "Model 2/8, Metric r2_score, Validation set 1: 0.230820\n",
      "\tbest_validation_score so far: 0.230820\n",
      "Fitting model 3/8\n",
      "hyperparameters: {'max_features': 'sqrt', 'n_estimators': 10}\n",
      "computed_metrics: [0.18644628439499977]\n",
      "Model 3/8, Metric r2_score, Validation set 2: 0.186446\n",
      "\tbest_validation_score so far: 0.230820\n",
      "Fitting model 4/8\n",
      "hyperparameters: {'max_features': 'sqrt', 'n_estimators': 100}\n",
      "computed_metrics: [0.26556798502978141]\n",
      "Model 4/8, Metric r2_score, Validation set 3: 0.265568\n",
      "\tbest_validation_score so far: 0.265568\n",
      "Fitting model 5/8\n",
      "hyperparameters: {'max_features': 'log2', 'n_estimators': 10}\n",
      "computed_metrics: [0.24114128692710213]\n",
      "Model 5/8, Metric r2_score, Validation set 4: 0.241141\n",
      "\tbest_validation_score so far: 0.265568\n",
      "Fitting model 6/8\n",
      "hyperparameters: {'max_features': 'log2', 'n_estimators': 100}\n",
      "computed_metrics: [0.27579226094824005]\n",
      "Model 6/8, Metric r2_score, Validation set 5: 0.275792\n",
      "\tbest_validation_score so far: 0.275792\n",
      "Fitting model 7/8\n",
      "hyperparameters: {'max_features': None, 'n_estimators': 10}\n",
      "computed_metrics: [0.20909054945312344]\n",
      "Model 7/8, Metric r2_score, Validation set 6: 0.209091\n",
      "\tbest_validation_score so far: 0.275792\n",
      "Fitting model 8/8\n",
      "hyperparameters: {'max_features': None, 'n_estimators': 100}\n",
      "computed_metrics: [0.23180610983119687]\n",
      "Model 8/8, Metric r2_score, Validation set 7: 0.231806\n",
      "\tbest_validation_score so far: 0.275792\n",
      "computed_metrics: [0.94702933486142615]\n",
      "Best hyperparameters: ('log2', 100)\n",
      "train_score: 0.947029\n",
      "validation_score: 0.275792\n"
     ]
    }
   ],
   "source": [
    "from sklearn.ensemble import RandomForestRegressor\n",
    "\n",
    "def rf_model_builder(model_params, model_dir):\n",
    "  sklearn_model = RandomForestRegressor(**model_params)\n",
    "  return dc.models.SklearnModel(sklearn_model, model_dir)\n",
    "params_dict = {\n",
    "    \"n_estimators\": [10, 100],\n",
    "    \"max_features\": [\"auto\", \"sqrt\", \"log2\", None],\n",
    "}\n",
    "\n",
    "metric = dc.metrics.Metric(dc.metrics.r2_score)\n",
    "optimizer = dc.hyper.HyperparamOpt(rf_model_builder)\n",
    "best_rf, best_rf_hyperparams, all_rf_results = optimizer.hyperparam_search(\n",
    "    params_dict, train_dataset, valid_dataset, transformers,\n",
    "    metric=metric)"
   ]
  },
  {
   "cell_type": "code",
   "execution_count": 23,
   "metadata": {},
   "outputs": [
    {
     "name": "stdout",
     "output_type": "stream",
     "text": [
      "Fitting model 1/4\n",
      "hyperparameters: {'learning_rate': 0.00023801856507253691, 'nb_epoch': 20, 'decay': 1.9407990796313953e-05}\n",
      "Training for 20 epochs\n",
      "On batch 0\n",
      "Ending epoch 0: Average loss 5.4111\n",
      "On batch 0\n",
      "Ending epoch 1: Average loss 4.30889\n",
      "On batch 0\n",
      "Ending epoch 2: Average loss 0.967438\n",
      "On batch 0\n",
      "Ending epoch 3: Average loss 2.0145\n",
      "On batch 0\n",
      "Ending epoch 4: Average loss 0.766012\n",
      "On batch 0\n",
      "Ending epoch 5: Average loss 0.977316\n",
      "On batch 0\n",
      "Ending epoch 6: Average loss 0.643117\n",
      "On batch 0\n",
      "Ending epoch 7: Average loss 0.657846\n",
      "On batch 0\n",
      "Ending epoch 8: Average loss 0.539509\n",
      "On batch 0\n",
      "Ending epoch 9: Average loss 0.487108\n",
      "On batch 0\n",
      "Ending epoch 10: Average loss 0.475462\n",
      "On batch 0\n",
      "Ending epoch 11: Average loss 0.560729\n",
      "On batch 0\n",
      "Ending epoch 12: Average loss 0.43135\n",
      "On batch 0\n",
      "Ending epoch 13: Average loss 0.437764\n",
      "On batch 0\n",
      "Ending epoch 14: Average loss 0.379395\n",
      "On batch 0\n",
      "Ending epoch 15: Average loss 0.397375\n",
      "On batch 0\n",
      "Ending epoch 16: Average loss 0.390616\n",
      "On batch 0\n",
      "Ending epoch 17: Average loss 0.37077\n",
      "On batch 0\n",
      "Ending epoch 18: Average loss 0.374354\n",
      "On batch 0\n",
      "Ending epoch 19: Average loss 0.380677\n",
      "On batch 0\n",
      "TIMING: model fitting took 0.727 s True\n",
      "INFO:tensorflow:Restoring parameters from /tmp/tmp7l7ay1w4/model.ckpt-21\n",
      "computed_metrics: [0.15072911519771104]\n",
      "Model 1/4, Metric r2_score, Validation set 0: 0.150729\n",
      "\tbest_validation_score so far: 0.150729\n",
      "Fitting model 2/4\n",
      "hyperparameters: {'learning_rate': 0.00023801856507253691, 'nb_epoch': 20, 'decay': 2.385765891938455e-06}\n",
      "Training for 20 epochs\n",
      "On batch 0\n",
      "Ending epoch 0: Average loss 3.90712\n",
      "On batch 0\n",
      "Ending epoch 1: Average loss 2.76781\n",
      "On batch 0\n",
      "Ending epoch 2: Average loss 1.24009\n",
      "On batch 0\n",
      "Ending epoch 3: Average loss 1.29841\n",
      "On batch 0\n",
      "Ending epoch 4: Average loss 0.744026\n",
      "On batch 0\n",
      "Ending epoch 5: Average loss 0.804177\n",
      "On batch 0\n",
      "Ending epoch 6: Average loss 0.55269\n",
      "On batch 0\n",
      "Ending epoch 7: Average loss 0.572779\n",
      "On batch 0\n",
      "Ending epoch 8: Average loss 0.509929\n",
      "On batch 0\n",
      "Ending epoch 9: Average loss 0.460939\n",
      "On batch 0\n",
      "Ending epoch 10: Average loss 0.462461\n",
      "On batch 0\n",
      "Ending epoch 11: Average loss 0.397954\n",
      "On batch 0\n",
      "Ending epoch 12: Average loss 0.446785\n",
      "On batch 0\n",
      "Ending epoch 13: Average loss 0.399715\n",
      "On batch 0\n",
      "Ending epoch 14: Average loss 0.392988\n",
      "On batch 0\n",
      "Ending epoch 15: Average loss 0.343605\n",
      "On batch 0\n",
      "Ending epoch 16: Average loss 0.349899\n",
      "On batch 0\n",
      "Ending epoch 17: Average loss 0.349407\n",
      "On batch 0\n",
      "Ending epoch 18: Average loss 0.346456\n",
      "On batch 0\n",
      "Ending epoch 19: Average loss 0.335633\n",
      "On batch 0\n",
      "TIMING: model fitting took 0.798 s True\n",
      "INFO:tensorflow:Restoring parameters from /tmp/tmp11m1dzzd/model.ckpt-21\n",
      "computed_metrics: [0.15295913438068165]\n",
      "Model 2/4, Metric r2_score, Validation set 1: 0.152959\n",
      "\tbest_validation_score so far: 0.152959\n",
      "Fitting model 3/4\n",
      "hyperparameters: {'learning_rate': 1.0254941267508483e-05, 'nb_epoch': 20, 'decay': 1.9407990796313953e-05}\n",
      "Training for 20 epochs\n",
      "On batch 0\n",
      "Ending epoch 0: Average loss 11.6941\n",
      "On batch 0\n",
      "Ending epoch 1: Average loss 9.83022\n",
      "On batch 0\n",
      "Ending epoch 2: Average loss 8.34628\n",
      "On batch 0\n",
      "Ending epoch 3: Average loss 6.8221\n",
      "On batch 0\n",
      "Ending epoch 4: Average loss 5.48557\n",
      "On batch 0\n",
      "Ending epoch 5: Average loss 4.38996\n",
      "On batch 0\n",
      "Ending epoch 6: Average loss 3.57688\n",
      "On batch 0\n",
      "Ending epoch 7: Average loss 2.99653\n",
      "On batch 0\n",
      "Ending epoch 8: Average loss 2.43034\n",
      "On batch 0\n",
      "Ending epoch 9: Average loss 1.85634\n",
      "On batch 0\n",
      "Ending epoch 10: Average loss 1.53518\n",
      "On batch 0\n",
      "Ending epoch 11: Average loss 1.18306\n",
      "On batch 0\n",
      "Ending epoch 12: Average loss 1.10711\n",
      "On batch 0\n",
      "Ending epoch 13: Average loss 0.928754\n",
      "On batch 0\n",
      "Ending epoch 14: Average loss 0.898216\n",
      "On batch 0\n",
      "Ending epoch 15: Average loss 0.760161\n",
      "On batch 0\n",
      "Ending epoch 16: Average loss 0.829814\n",
      "On batch 0\n",
      "Ending epoch 17: Average loss 0.8469\n",
      "On batch 0\n",
      "Ending epoch 18: Average loss 0.762343\n",
      "On batch 0\n",
      "Ending epoch 19: Average loss 0.804141\n",
      "On batch 0\n",
      "TIMING: model fitting took 0.808 s True\n",
      "INFO:tensorflow:Restoring parameters from /tmp/tmpuzj65l4w/model.ckpt-21\n",
      "computed_metrics: [0.075109976014512303]\n",
      "Model 3/4, Metric r2_score, Validation set 2: 0.075110\n",
      "\tbest_validation_score so far: 0.152959\n",
      "Fitting model 4/4\n",
      "hyperparameters: {'learning_rate': 1.0254941267508483e-05, 'nb_epoch': 20, 'decay': 2.385765891938455e-06}\n",
      "Training for 20 epochs\n",
      "On batch 0\n",
      "Ending epoch 0: Average loss 6.7267\n",
      "On batch 0\n",
      "Ending epoch 1: Average loss 5.49524\n",
      "On batch 0\n",
      "Ending epoch 2: Average loss 4.20657\n",
      "On batch 0\n",
      "Ending epoch 3: Average loss 3.21978\n",
      "On batch 0\n",
      "Ending epoch 4: Average loss 2.54962\n",
      "On batch 0\n",
      "Ending epoch 5: Average loss 2.08162\n",
      "On batch 0\n",
      "Ending epoch 6: Average loss 1.48184\n",
      "On batch 0\n",
      "Ending epoch 7: Average loss 1.07677\n",
      "On batch 0\n",
      "Ending epoch 8: Average loss 0.993488\n",
      "On batch 0\n",
      "Ending epoch 9: Average loss 0.906016\n",
      "On batch 0\n",
      "Ending epoch 10: Average loss 0.78221\n",
      "On batch 0\n",
      "Ending epoch 11: Average loss 0.883097\n",
      "On batch 0\n",
      "Ending epoch 12: Average loss 0.75379\n",
      "On batch 0\n",
      "Ending epoch 13: Average loss 0.753941\n",
      "On batch 0\n",
      "Ending epoch 14: Average loss 0.791315\n",
      "On batch 0\n",
      "Ending epoch 15: Average loss 0.785464\n",
      "On batch 0\n",
      "Ending epoch 16: Average loss 0.781863\n",
      "On batch 0\n",
      "Ending epoch 17: Average loss 0.737477\n",
      "On batch 0\n",
      "Ending epoch 18: Average loss 0.727583\n",
      "On batch 0\n",
      "Ending epoch 19: Average loss 0.798161\n",
      "On batch 0\n",
      "TIMING: model fitting took 0.886 s True\n",
      "INFO:tensorflow:Restoring parameters from /tmp/tmp_zbemfw0/model.ckpt-21\n",
      "computed_metrics: [0.10606599413584084]\n",
      "Model 4/4, Metric r2_score, Validation set 3: 0.106066\n",
      "\tbest_validation_score so far: 0.152959\n",
      "computed_metrics: [0.71971742145345607]\n",
      "Best hyperparameters: (0.00023801856507253691, 20, 2.385765891938455e-06)\n",
      "train_score: 0.719717\n",
      "validation_score: 0.152959\n"
     ]
    }
   ],
   "source": [
    "import numpy.random\n",
    "\n",
    "params_dict = {\"learning_rate\": np.power(10., np.random.uniform(-5, -3, size=2)),\n",
    "               \"decay\": np.power(10, np.random.uniform(-6, -4, size=2)),\n",
    "               \"nb_epoch\": [20] }\n",
    "n_features = train_dataset.get_data_shape()[0]\n",
    "def model_builder(model_params, model_dir):\n",
    "  model = dc.models.TensorflowMultiTaskRegressor(\n",
    "    1, n_features, layer_sizes=[1000], dropouts=[.25],\n",
    "    batch_size=50, **model_params)\n",
    "  return model\n",
    "\n",
    "optimizer = dc.hyper.HyperparamOpt(model_builder)\n",
    "best_dnn, best_dnn_hyperparams, all_dnn_results = optimizer.hyperparam_search(\n",
    "    params_dict, train_dataset, valid_dataset, transformers,\n",
    "    metric=metric)"
   ]
  },
  {
   "cell_type": "code",
   "execution_count": 24,
   "metadata": {},
   "outputs": [
    {
     "name": "stdout",
     "output_type": "stream",
     "text": [
      "computed_metrics: [0.94702933486142615]\n",
      "RF Train set R^2 0.947029\n",
      "computed_metrics: [0.27579226094824005]\n",
      "RF Valid set R^2 0.275792\n",
      "computed_metrics: [0.48848092408435073]\n",
      "RF Test set R^2 0.488481\n",
      "computed_metrics: [nan]\n",
      "RF Crystal set R^2 nan\n"
     ]
    }
   ],
   "source": [
    "from deepchem.utils.evaluate import Evaluator\n",
    "\n",
    "rf_train_csv_out = \"rf_train_regressor.csv\"\n",
    "rf_train_stats_out = \"rf_train_stats_regressor.txt\"\n",
    "rf_train_evaluator = Evaluator(best_rf, train_dataset, transformers)\n",
    "rf_train_score = rf_train_evaluator.compute_model_performance(\n",
    "    [metric], rf_train_csv_out, rf_train_stats_out)\n",
    "print(\"RF Train set R^2 %f\" % (rf_train_score[\"r2_score\"]))\n",
    "\n",
    "rf_valid_csv_out = \"rf_valid_regressor.csv\"\n",
    "rf_valid_stats_out = \"rf_valid_stats_regressor.txt\"\n",
    "rf_valid_evaluator = Evaluator(best_rf, valid_dataset, transformers)\n",
    "rf_valid_score = rf_valid_evaluator.compute_model_performance(\n",
    "    [metric], rf_valid_csv_out, rf_valid_stats_out)\n",
    "print(\"RF Valid set R^2 %f\" % (rf_valid_score[\"r2_score\"]))\n",
    "\n",
    "rf_test_csv_out = \"rf_test_regressor.csv\"\n",
    "rf_test_stats_out = \"rf_test_stats_regressor.txt\"\n",
    "rf_test_evaluator = Evaluator(best_rf, test_dataset, transformers)\n",
    "rf_test_score = rf_test_evaluator.compute_model_performance(\n",
    "    [metric], rf_test_csv_out, rf_test_stats_out)\n",
    "print(\"RF Test set R^2 %f\" % (rf_test_score[\"r2_score\"]))\n",
    "\n",
    "rf_crystal_csv_out = \"rf_crystal_regressor.csv\"\n",
    "rf_crystal_stats_out = \"rf_crystal_stats_regressor.txt\"\n",
    "rf_crystal_evaluator = Evaluator(best_rf, crystal_dataset, transformers)\n",
    "rf_crystal_score = rf_crystal_evaluator.compute_model_performance(\n",
    "    [metric], rf_crystal_csv_out, rf_crystal_stats_out)\n",
    "print(\"RF Crystal set R^2 %f\" % (rf_crystal_score[\"r2_score\"]))"
   ]
  },
  {
   "cell_type": "code",
   "execution_count": 25,
   "metadata": {},
   "outputs": [
    {
     "name": "stdout",
     "output_type": "stream",
     "text": [
      "computed_metrics: [0.71971742145345607]\n",
      "DNN Train set R^2 0.719717\n",
      "computed_metrics: [0.15295913438068165]\n",
      "DNN Valid set R^2 0.152959\n",
      "computed_metrics: [0.56629237713549796]\n",
      "DNN Test set R^2 0.566292\n",
      "computed_metrics: [nan]\n",
      "DNN Crystal set R^2 nan\n"
     ]
    }
   ],
   "source": [
    "dnn_train_csv_out = \"dnn_train_regressor.csv\"\n",
    "dnn_train_stats_out = \"dnn_train_regressor_stats.txt\"\n",
    "dnn_train_evaluator = Evaluator(best_dnn, train_dataset, transformers)\n",
    "dnn_train_score = dnn_train_evaluator.compute_model_performance(\n",
    "    [metric], dnn_train_csv_out, dnn_train_stats_out)\n",
    "print(\"DNN Train set R^2 %f\" % (dnn_train_score[\"r2_score\"]))\n",
    "\n",
    "dnn_valid_csv_out = \"dnn_valid_regressor.csv\"\n",
    "dnn_valid_stats_out = \"dnn_valid_regressor_stats.txt\"\n",
    "dnn_valid_evaluator = Evaluator(best_dnn, valid_dataset, transformers)\n",
    "dnn_valid_score = dnn_valid_evaluator.compute_model_performance(\n",
    "    [metric], dnn_valid_csv_out, dnn_valid_stats_out)\n",
    "print(\"DNN Valid set R^2 %f\" % (dnn_valid_score[\"r2_score\"]))\n",
    "\n",
    "dnn_test_csv_out = \"dnn_test_regressor.csv\"\n",
    "dnn_test_stats_out = \"dnn_test_regressor_stats.txt\"\n",
    "dnn_test_evaluator = Evaluator(best_dnn, test_dataset, transformers)\n",
    "dnn_test_score = dnn_test_evaluator.compute_model_performance(\n",
    "    [metric], dnn_test_csv_out, dnn_test_stats_out)\n",
    "print(\"DNN Test set R^2 %f\" % (dnn_test_score[\"r2_score\"]))\n",
    "\n",
    "dnn_crystal_csv_out = \"dnn_crystal_regressor.csv\"\n",
    "dnn_crystal_stats_out = \"dnn_crystal_stats_regressor.txt\"\n",
    "dnn_crystal_evaluator = Evaluator(best_dnn, crystal_dataset, transformers)\n",
    "dnn_crystal_score = dnn_crystal_evaluator.compute_model_performance(\n",
    "    [metric], dnn_crystal_csv_out, dnn_crystal_stats_out)\n",
    "print(\"DNN Crystal set R^2 %f\" % (dnn_crystal_score[\"r2_score\"]))\n"
   ]
  },
  {
   "cell_type": "code",
   "execution_count": 26,
   "metadata": {},
   "outputs": [
    {
     "data": {
      "image/png": "[encoded data removed]",
      "text/plain": [
       "<matplotlib.figure.Figure at 0x7f2ec471c550>"
      ]
     },
     "metadata": {},
     "output_type": "display_data"
    }
   ],
   "source": [
    "task = \"pIC50\"\n",
    "rf_predicted_test = best_rf.predict(test_dataset)\n",
    "rf_true_test = test_dataset.y\n",
    "plt.scatter(rf_predicted_test, rf_true_test)\n",
    "plt.xlabel('Predicted pIC50s')\n",
    "plt.ylabel('Secondary Assay')\n",
    "plt.title(r'RF predicted IC50 vs. Secondary Assay')\n",
    "plt.xlim([2, 11])\n",
    "plt.ylim([2, 11])\n",
    "plt.plot([2, 11], [2, 11], color='k')\n",
    "plt.show()"
   ]
  },
  {
   "cell_type": "code",
   "execution_count": 27,
   "metadata": {},
   "outputs": [
    {
     "data": {
      "image/png": "[encoded data removed]",
      "text/plain": [
       "<matplotlib.figure.Figure at 0x7f2ee2f3efd0>"
      ]
     },
     "metadata": {},
     "output_type": "display_data"
    }
   ],
   "source": [
    "task = \"pIC50\"\n",
    "dnn_predicted_test = best_dnn.predict(test_dataset)\n",
    "dnn_true_test = test_dataset.y\n",
    "plt.scatter(dnn_predicted_test, dnn_true_test)\n",
    "plt.xlabel('Predicted pIC50s')\n",
    "plt.ylabel('Secondary Assay')\n",
    "plt.title(r'DNN predicted IC50 vs. Secondary Assay')\n",
    "plt.xlim([2, 11])\n",
    "plt.ylim([2, 11])\n",
    "plt.plot([2, 11], [2, 11], color='k')\n",
    "plt.show()"
   ]
  },
  {
   "cell_type": "code",
   "execution_count": null,
   "metadata": {
    "collapsed": true
   },
   "outputs": [],
   "source": []
  }
 ],
 "metadata": {
  "kernelspec": {
   "display_name": "Python 3",
   "language": "python",
   "name": "python3"
  },
  "language_info": {
   "codemirror_mode": {
    "name": "ipython",
    "version": 3
   },
   "file_extension": ".py",
   "mimetype": "text/x-python",
   "name": "python",
   "nbconvert_exporter": "python",
   "pygments_lexer": "ipython3",
   "version": "3.5.4"
  }
 },
 "nbformat": 4,
 "nbformat_minor": 1
}
