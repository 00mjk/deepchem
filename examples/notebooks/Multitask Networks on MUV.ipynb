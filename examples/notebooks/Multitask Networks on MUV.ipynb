{
 "cells": [
  {
   "cell_type": "markdown",
   "metadata": {},
   "source": [
    "This notebook walks through the creation of multitask models on MUV. The goal is to demonstrate that multitask methods outperform singletask methods on MUV."
   ]
  },
  {
   "cell_type": "code",
   "execution_count": null,
   "metadata": {
    "collapsed": false
   },
   "outputs": [],
   "source": [
    "%reload_ext autoreload\n",
    "%autoreload 2\n",
    "%pdb off\n",
    "reload = True"
   ]
  },
  {
   "cell_type": "code",
   "execution_count": null,
   "metadata": {
    "collapsed": false
   },
   "outputs": [],
   "source": [
    "import deepchem as dc\n",
    "\n",
    "dataset_file= \"../../datasets/muv.csv.gz\"\n",
    "dataset = dc.utils.save.load_from_disk(dataset_file)\n",
    "print(\"Columns of dataset: %s\" % str(dataset.columns.values))\n",
    "print(\"Number of examples in dataset: %s\" % str(dataset.shape[0]))"
   ]
  },
  {
   "cell_type": "markdown",
   "metadata": {},
   "source": [
    "Now, let's visualize some compounds from our dataset"
   ]
  },
  {
   "cell_type": "code",
   "execution_count": null,
   "metadata": {
    "collapsed": false
   },
   "outputs": [],
   "source": [
    "from rdkit import Chem\n",
    "from rdkit.Chem import Draw\n",
    "from itertools import islice\n",
    "from IPython.display import Image, display, HTML\n",
    "\n",
    "def display_images(filenames):\n",
    "    \"\"\"Helper to pretty-print images.\"\"\"\n",
    "    imagesList=''.join(\n",
    "        [\"<img style='width: 140px; margin: 0px; float: left; border: 1px solid black;' src='%s' />\"\n",
    "         % str(s) for s in sorted(filenames)])\n",
    "    display(HTML(imagesList))    \n",
    "\n",
    "def mols_to_pngs(mols, basename=\"test\"):\n",
    "    \"\"\"Helper to write RDKit mols to png files.\"\"\"\n",
    "    filenames = []\n",
    "    for i, mol in enumerate(mols):\n",
    "        filename = \"%s%d.png\" % (basename, i)\n",
    "        Draw.MolToFile(mol, filename)\n",
    "        filenames.append(filename)\n",
    "    return filenames\n",
    "\n",
    "num_to_display = 12\n",
    "molecules = []\n",
    "for _, data in islice(dataset.iterrows(), num_to_display):\n",
    "    molecules.append(Chem.MolFromSmiles(data[\"smiles\"]))\n",
    "display_images(mols_to_pngs(molecules))"
   ]
  },
  {
   "cell_type": "code",
   "execution_count": null,
   "metadata": {
    "collapsed": false
   },
   "outputs": [],
   "source": [
    "MUV_tasks = ['MUV-692', 'MUV-689', 'MUV-846', 'MUV-859', 'MUV-644',\n",
    "             'MUV-548', 'MUV-852', 'MUV-600', 'MUV-810', 'MUV-712',\n",
    "             'MUV-737', 'MUV-858', 'MUV-713', 'MUV-733', 'MUV-652',\n",
    "             'MUV-466', 'MUV-832']\n",
    "\n",
    "featurizer = dc.feat.CircularFingerprint(size=1024)\n",
    "loader = dc.data.CSVLoader(\n",
    "      tasks=MUV_tasks, smiles_field=\"smiles\",\n",
    "      featurizer=featurizer)\n",
    "dataset = loader.featurize(dataset_file)"
   ]
  },
  {
   "cell_type": "code",
   "execution_count": null,
   "metadata": {
    "collapsed": false
   },
   "outputs": [],
   "source": [
    "splitter = dc.splits.RandomSplitter(dataset_file)\n",
    "train_dataset, valid_dataset, test_dataset = splitter.train_valid_test_split(\n",
    "    dataset)\n",
    "#NOTE THE RENAMING:\n",
    "valid_dataset, test_dataset = test_dataset, valid_dataset"
   ]
  },
  {
   "cell_type": "code",
   "execution_count": null,
   "metadata": {
    "collapsed": false
   },
   "outputs": [],
   "source": [
    "import numpy as np\n",
    "import numpy.random\n",
    "\n",
    "params_dict = {\"activation\": [\"relu\"],\n",
    "               \"momentum\": [.9],\n",
    "               \"batch_size\": [50],\n",
    "               \"init\": [\"glorot_uniform\"],\n",
    "               \"data_shape\": [train_dataset.get_data_shape()],\n",
    "               \"learning_rate\": [1e-3],\n",
    "               \"decay\": [1e-6],\n",
    "               \"nb_epoch\": [1],\n",
    "               \"nesterov\": [False],\n",
    "               \"dropouts\": [(.5,)],\n",
    "               \"nb_layers\": [1],\n",
    "               \"batchnorm\": [False],\n",
    "               \"layer_sizes\": [(1000,)],\n",
    "               \"weight_init_stddevs\": [(.1,)],\n",
    "               \"bias_init_consts\": [(1.,)],\n",
    "               \"penalty\": [0.], \n",
    "              } \n",
    "\n",
    "\n",
    "n_features = train_dataset.get_data_shape()[0]\n",
    "def model_builder(model_params, model_dir):\n",
    "  model = dc.models.TensorflowMultiTaskClassifier(\n",
    "    len(MUV_tasks), n_features, **model_params)\n",
    "  return model\n",
    "\n",
    "metric = dc.metrics.Metric(dc.metrics.roc_auc_score, np.mean)\n",
    "optimizer = dc.hyper.HyperparamOpt(model_builder)\n",
    "best_dnn, best_hyperparams, all_results = optimizer.hyperparam_search(\n",
    "    params_dict, train_dataset, valid_dataset, [], metric)"
   ]
  }
 ],
 "metadata": {
  "kernelspec": {
   "display_name": "Python 2",
   "language": "python",
   "name": "python2"
  },
  "language_info": {
   "codemirror_mode": {
    "name": "ipython",
    "version": 2
   },
   "file_extension": ".py",
   "mimetype": "text/x-python",
   "name": "python",
   "nbconvert_exporter": "python",
   "pygments_lexer": "ipython2",
   "version": "2.7.13"
  }
 },
 "nbformat": 4,
 "nbformat_minor": 0
}
