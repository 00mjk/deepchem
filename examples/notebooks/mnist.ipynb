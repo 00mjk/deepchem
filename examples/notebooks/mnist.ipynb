{
 "cells": [
  {
   "cell_type": "code",
   "execution_count": 1,
   "metadata": {
    "collapsed": true
   },
   "outputs": [],
   "source": [
    "from tensorflow.examples.tutorials.mnist import input_data"
   ]
  },
  {
   "cell_type": "code",
   "execution_count": 2,
   "metadata": {},
   "outputs": [
    {
     "name": "stdout",
     "output_type": "stream",
     "text": [
      "Extracting MNIST_data/train-images-idx3-ubyte.gz\n",
      "Extracting MNIST_data/train-labels-idx1-ubyte.gz\n",
      "Extracting MNIST_data/t10k-images-idx3-ubyte.gz\n",
      "Extracting MNIST_data/t10k-labels-idx1-ubyte.gz\n"
     ]
    }
   ],
   "source": [
    "mnist = input_data.read_data_sets(\"MNIST_data/\", one_hot=True)"
   ]
  },
  {
   "cell_type": "code",
   "execution_count": 3,
   "metadata": {},
   "outputs": [
    {
     "name": "stderr",
     "output_type": "stream",
     "text": [
      "/home/kleswing/miniconda3/envs/j3udBScCYSIoPrpc/lib/python2.7/site-packages/sklearn/cross_validation.py:44: DeprecationWarning: This module was deprecated in version 0.18 in favor of the model_selection module into which all the refactored classes and functions are moved. Also note that the interface of the new CV iterators are different from that of this module. This module will be removed in 0.20.\n",
      "  \"This module will be removed in 0.20.\", DeprecationWarning)\n"
     ]
    }
   ],
   "source": [
    "import deepchem as dc\n",
    "import tensorflow as tf\n",
    "from deepchem.models.tensorgraph.layers import Layer, Input, Reshape, Flatten, Conv2D, Label, Feature\n",
    "from deepchem.models.tensorgraph.layers import Dense, SoftMaxCrossEntropy, ReduceMean, SoftMax"
   ]
  },
  {
   "cell_type": "code",
   "execution_count": 4,
   "metadata": {
    "collapsed": true
   },
   "outputs": [],
   "source": [
    "train = dc.data.NumpyDataset(mnist.train.images, mnist.train.labels)\n",
    "valid = dc.data.NumpyDataset(mnist.validation.images, mnist.validation.labels)"
   ]
  },
  {
   "cell_type": "code",
   "execution_count": 5,
   "metadata": {
    "collapsed": true
   },
   "outputs": [],
   "source": [
    "tg = dc.models.TensorGraph(tensorboard=True, model_dir='/tmp/mnist')\n",
    "feature = Feature(shape=(None, 784))\n",
    "\n",
    "# Images are square 28x28 (batch, height, width, channel)\n",
    "make_image = Reshape(shape=(-1, 28, 28, 1), in_layers=[feature])\n",
    "\n",
    "conv2d_1 = Conv2D(num_outputs=32, in_layers=[make_image])\n",
    "\n",
    "conv2d_2 = Conv2D(num_outputs=64, in_layers=[conv2d_1])\n",
    "\n",
    "flatten = Flatten(in_layers=[conv2d_2])\n",
    "\n",
    "dense1 = Dense(out_channels=1024, activation_fn=tf.nn.relu, in_layers=[flatten])\n",
    "\n",
    "dense2 = Dense(out_channels=10, in_layers=[dense1])\n",
    "\n",
    "label = Label(shape=(None, 10))\n",
    "\n",
    "smce = SoftMaxCrossEntropy(in_layers=[label, dense2])\n",
    "loss = ReduceMean(in_layers=[smce])\n",
    "tg.set_loss(loss)\n",
    "\n",
    "output = SoftMax(in_layers=[dense2])\n",
    "tg.add_output(output)"
   ]
  },
  {
   "cell_type": "code",
   "execution_count": 6,
   "metadata": {},
   "outputs": [
    {
     "name": "stdout",
     "output_type": "stream",
     "text": [
      "Ending global_step 999: Average loss 0.0826627\n",
      "Ending global_step 1999: Average loss 0.0179067\n",
      "Ending global_step 2999: Average loss 0.0104273\n",
      "Ending global_step 3999: Average loss 0.00756823\n",
      "Ending global_step 4999: Average loss 0.00675081\n",
      "Ending global_step 5446: Average loss 0.00677046\n",
      "TIMING: model fitting took 91.544 s\n"
     ]
    }
   ],
   "source": [
    "tg.fit(train, nb_epoch=10)\n",
    "tg.save()"
   ]
  },
  {
   "cell_type": "code",
   "execution_count": 7,
   "metadata": {},
   "outputs": [
    {
     "name": "stdout",
     "output_type": "stream",
     "text": [
      "Validation\n",
      "class 0:auc=0.99998060547\n",
      "class 1:auc=0.999953963742\n",
      "class 2:auc=0.999864659633\n",
      "class 3:auc=0.99996714599\n",
      "class 4:auc=0.999773524087\n",
      "class 5:auc=0.999956097059\n",
      "class 6:auc=0.999952972472\n",
      "class 7:auc=0.99973442288\n",
      "class 8:auc=0.999880756822\n",
      "class 9:auc=0.999752015157\n"
     ]
    }
   ],
   "source": [
    "from sklearn.metrics import roc_curve, auc\n",
    "import numpy as np\n",
    "\n",
    "print(\"Validation\")\n",
    "prediction = np.squeeze(tg.predict_on_batch(valid.X))\n",
    "\n",
    "fpr = dict()\n",
    "tpr = dict()\n",
    "roc_auc = dict()\n",
    "for i in range(10):\n",
    "    fpr[i], tpr[i], thresh = roc_curve(valid.y[:, i], prediction[:, i])\n",
    "    roc_auc[i] = auc(fpr[i], tpr[i])\n",
    "    print(\"class %s:auc=%s\" % (i, roc_auc[i]))"
   ]
  },
  {
   "cell_type": "code",
   "execution_count": null,
   "metadata": {
    "collapsed": true
   },
   "outputs": [],
   "source": []
  },
  {
   "cell_type": "code",
   "execution_count": null,
   "metadata": {
    "collapsed": true
   },
   "outputs": [],
   "source": []
  }
 ],
 "metadata": {
  "kernelspec": {
   "display_name": "Python 2",
   "language": "python",
   "name": "python2"
  },
  "language_info": {
   "codemirror_mode": {
    "name": "ipython",
    "version": 2
   },
   "file_extension": ".py",
   "mimetype": "text/x-python",
   "name": "python",
   "nbconvert_exporter": "python",
   "pygments_lexer": "ipython2",
   "version": "2.7.13"
  }
 },
 "nbformat": 4,
 "nbformat_minor": 2
}
