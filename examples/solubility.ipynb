{
 "cells": [
  {
   "cell_type": "markdown",
   "metadata": {},
   "source": [
    "Written by Bharath Ramsundar and Evan Feinberg\n",
    "\n",
    "Copyright 2016, Stanford University\n"
   ]
  },
  {
   "cell_type": "markdown",
   "metadata": {},
   "source": [
    "Computationally predicting molecular solubility through is useful for drug-discovery. In this tutorial, we will use the `deepchem` library to fit a simple statistical model that predicts the solubility of drug-like compounds. The process of fitting this model involves four steps:\n",
    "\n",
    "1. Loading a chemical dataset, consisting of a series of compounds along with aqueous solubility measurements.\n",
    "2. Transforming each compound into a feature vector $v \\in \\mathbb{R}^n$ comprehensible to statistical learning methods.\n",
    "3. Fitting a simple model that maps feature vectors to estimates of aqueous solubility.\n",
    "4. Visualizing the results."
   ]
  },
  {
   "cell_type": "markdown",
   "metadata": {},
   "source": [
    "We need to load a dataset of estimated aqueous solubility measurements [1] into deepchem. The data is in CSV format and contains SMILES strings, predicted aqueaous solubilities, and a number of extraneous (for our purposes) molecular properties. Here is an example line from the dataset:\n",
    "\n",
    "|Compound ID|ESOL predicted log solubility in mols per litre|Minimum Degree|Molecular Weight|Number of H-Bond Donors|Number of Rings|Number of Rotatable Bonds|Polar Surface Area|measured log solubility in mols per litre|smiles|\n",
    "|-----------|-----------------------------------------------|--------------|----------------|----------------------------|---------------|-------------------------|-----------------------------------------------------------------------|------|\n",
    "|benzothiazole|-2.733|2|135.191|0|2|0|12.89|-1.5|c2ccc1scnc1c2|\n",
    "\n",
    "Most of these fields are not useful for our purposes. The two fields that we will need are the \"smiles\" field and the \"measured log solubility in mols per litre\". The \"smiles\" field holds a SMILES string [2] that specifies the compound in question. Before we load this data into deepchem, we will load the data into python and do some simple preliminary analysis to gain some intuition for the dataset. "
   ]
  },
  {
   "cell_type": "code",
   "execution_count": 153,
   "metadata": {
    "collapsed": false
   },
   "outputs": [
    {
     "name": "stdout",
     "output_type": "stream",
     "text": [
      "Columns of dataset: ['Compound ID' 'ESOL predicted log solubility in mols per litre'\n",
      " 'Minimum Degree' 'Molecular Weight' 'Number of H-Bond Donors'\n",
      " 'Number of Rings' 'Number of Rotatable Bonds' 'Polar Surface Area'\n",
      " 'measured log solubility in mols per litre' 'smiles']\n",
      "Number of examples in dataset: 1128\n"
     ]
    }
   ],
   "source": [
    "%autoreload 2\n",
    "from deepchem.utils.save import load_from_disk\n",
    "\n",
    "dataset_file= \"../datasets/delaney-processed.csv\"\n",
    "dataset = load_from_disk(dataset_file)\n",
    "print(\"Columns of dataset: %s\" % str(dataset.columns.values))\n",
    "print(\"Number of examples in dataset: %s\" % str(dataset.shape[0]))"
   ]
  },
  {
   "cell_type": "markdown",
   "metadata": {},
   "source": [
    "To gain a visual understanding of compounds in our dataset, let's draw them using rdkit. We define a couple of helper functions to get started."
   ]
  },
  {
   "cell_type": "code",
   "execution_count": 154,
   "metadata": {
    "collapsed": false
   },
   "outputs": [],
   "source": [
    "import tempfile\n",
    "from rdkit import Chem\n",
    "from rdkit.Chem import Draw\n",
    "from itertools import islice\n",
    "from IPython.display import Image, HTML, display\n",
    "\n",
    "def display_images(filenames):\n",
    "    \"\"\"Helper to pretty-print images.\"\"\"\n",
    "    imagesList=''.join(\n",
    "        [\"<img style='width: 140px; margin: 0px; float: left; border: 1px solid black;' src='%s' />\"\n",
    "         % str(s) for s in sorted(filenames)])\n",
    "    display(HTML(imagesList))\n",
    "\n",
    "def mols_to_pngs(mols, basename=\"test\"):\n",
    "    \"\"\"Helper to write RDKit mols to png files.\"\"\"\n",
    "    filenames = []\n",
    "    for i, mol in enumerate(mols):\n",
    "        filename = \"%s%d.png\" % (basename, i)\n",
    "        Draw.MolToFile(mol, filename)\n",
    "        filenames.append(filename)\n",
    "    return filenames"
   ]
  },
  {
   "cell_type": "markdown",
   "metadata": {},
   "source": [
    "Now, we display some compounds from the dataset:"
   ]
  },
  {
   "cell_type": "code",
   "execution_count": 155,
   "metadata": {
    "collapsed": false
   },
   "outputs": [
    {
     "data": {
      "text/html": [
       "<img style='width: 140px; margin: 0px; float: left; border: 1px solid black;' src='test0.png' /><img style='width: 140px; margin: 0px; float: left; border: 1px solid black;' src='test1.png' /><img style='width: 140px; margin: 0px; float: left; border: 1px solid black;' src='test10.png' /><img style='width: 140px; margin: 0px; float: left; border: 1px solid black;' src='test11.png' /><img style='width: 140px; margin: 0px; float: left; border: 1px solid black;' src='test2.png' /><img style='width: 140px; margin: 0px; float: left; border: 1px solid black;' src='test3.png' /><img style='width: 140px; margin: 0px; float: left; border: 1px solid black;' src='test4.png' /><img style='width: 140px; margin: 0px; float: left; border: 1px solid black;' src='test5.png' /><img style='width: 140px; margin: 0px; float: left; border: 1px solid black;' src='test6.png' /><img style='width: 140px; margin: 0px; float: left; border: 1px solid black;' src='test7.png' /><img style='width: 140px; margin: 0px; float: left; border: 1px solid black;' src='test8.png' /><img style='width: 140px; margin: 0px; float: left; border: 1px solid black;' src='test9.png' />"
      ],
      "text/plain": [
       "<IPython.core.display.HTML object>"
      ]
     },
     "metadata": {},
     "output_type": "display_data"
    }
   ],
   "source": [
    "num_to_display = 12\n",
    "molecules = []\n",
    "for _, data in islice(dataset.iterrows(), num_to_display):\n",
    "    molecules.append(Chem.MolFromSmiles(data[\"smiles\"]))\n",
    "display_images(mols_to_pngs(molecules))"
   ]
  },
  {
   "cell_type": "markdown",
   "metadata": {},
   "source": [
    "Analyzing the distribution of solubilities shows us a nice spread of data."
   ]
  },
  {
   "cell_type": "code",
   "execution_count": 157,
   "metadata": {
    "collapsed": false
   },
   "outputs": [
    {
     "data": {
      "image/png": "[encoded data removed]",
      "text/plain": [
       "<matplotlib.figure.Figure at 0x7fe886c87950>"
      ]
     },
     "metadata": {},
     "output_type": "display_data"
    }
   ],
   "source": [
    "%matplotlib inline\n",
    "import matplotlib\n",
    "import numpy as np\n",
    "import matplotlib.pyplot as plt\n",
    "\n",
    "solubilities = np.array(dataset[\"measured log solubility in mols per litre\"])\n",
    "n, bins, patches = plt.hist(solubilities, 50, facecolor='green', alpha=0.75)\n",
    "plt.xlabel('Measured log-solubility in mols/liter')\n",
    "plt.ylabel('Number of compounds')\n",
    "plt.title(r'Histogram of log-solubilities')\n",
    "plt.grid(True)\n",
    "plt.show()\n"
   ]
  },
  {
   "cell_type": "markdown",
   "metadata": {},
   "source": [
    "With our preliminary analysis completed, we return to the original goal of constructing a predictive statistical model of molecular solubility using `deepchem`. The first step in creating such a molecule is translating each compound into a vectorial format that can be understood by statistical learning techniques. This process is commonly called featurization. `deepchem` packages a number of commonly used featurization for user convenience. In this tutorial, we will use ECPF4 fingeprints [3].\n",
    "\n",
    "`deepchem` offers an object-oriented API for featurization. To get started with featurization, we first construct a ```Featurizer``` object. `deepchem` provides the ```CircularFingeprint``` class (a subclass of ```Featurizer``` that performs ECFP4 featurization).\n"
   ]
  },
  {
   "cell_type": "code",
   "execution_count": 158,
   "metadata": {
    "collapsed": false
   },
   "outputs": [],
   "source": [
    "from deepchem.featurizers.fingerprints import CircularFingerprint\n",
    "\n",
    "featurizers = [CircularFingerprint(size=1024)]"
   ]
  },
  {
   "cell_type": "markdown",
   "metadata": {},
   "source": [
    "Now, let's perform the actual featurization. `deepchem` provides the ```DataFeaturizer``` class for this purpose. The ```featurize()``` method for this class loads data from disk and uses provided ```Featurizer```instances to transform the provided data into feature vectors. The method constructs an instance of class ```FeaturizedSamples``` that has useful methods, such as an iterator, over the featurized data."
   ]
  },
  {
   "cell_type": "code",
   "execution_count": 159,
   "metadata": {
    "collapsed": false
   },
   "outputs": [],
   "source": [
    "import tempfile, shutil\n",
    "from deepchem.featurizers.featurize import DataFeaturizer\n",
    "\n",
    "#Make directories to store the raw and featurized datasets.\n",
    "feature_dir = tempfile.mkdtemp()\n",
    "samples_dir = tempfile.mkdtemp()\n",
    "\n",
    "featurizer = DataFeaturizer(tasks=[\"measured log solubility in mols per litre\"],\n",
    "                            smiles_field=\"smiles\",\n",
    "                            compound_featurizers=featurizers)\n",
    "featurized_samples = featurizer.featurize(dataset_file, feature_dir, samples_dir)"
   ]
  },
  {
   "cell_type": "markdown",
   "metadata": {},
   "source": [
    "When constructing statistical models, it's necessary to separate the provided data into train/test subsets. The train subset is used to learn the statistical model, while the test subset is used to evaluate the learned model. In practice, it's often useful to elaborate this split further and perform a train/validation/test split. The validation set is used to perform model selection. Proposed models are evaluated on the validation-set, and the best performed model is at the end tested on the test-set.\n",
    "\n",
    "Choosing the proper method of performing a train/validation/test split can be challenging. Standard machine learning practice is to perform a random split of the data into train/validation/test, but random splits are not well suited for the purposes of chemical informatics. For our predictive models to be useful, we require them to have predictive power in portions of chemical space beyond the set of molecules in the training data. Consequently, our models should use splits of the data that separate compounds in the training set from those in the validation and test-sets. We use Bemis-Murcko scaffolds [5] to perform this separation (all compounds that share an underlying molecular scaffold will be placed into the same split in the train/test/validation split).\n"
   ]
  },
  {
   "cell_type": "code",
   "execution_count": 160,
   "metadata": {
    "collapsed": false
   },
   "outputs": [],
   "source": [
    "splittype = \"scaffold\"\n",
    "\n",
    "train_samples, valid_samples, test_samples = featurized_samples.train_valid_test_split(\n",
    "    splittype, train_dir, valid_dir, test_dir)"
   ]
  },
  {
   "cell_type": "markdown",
   "metadata": {},
   "source": [
    "Let's visually inspect some of the molecules in the separate splits to verify that they appear structurally dissimilar. The `FeaturizedSamples` class provides an `itersamples` method that lets us obtain the underlying compounds in each split."
   ]
  },
  {
   "cell_type": "code",
   "execution_count": 161,
   "metadata": {
    "collapsed": false,
    "scrolled": true
   },
   "outputs": [
    {
     "data": {
      "text/html": [
       "<img style='width: 140px; margin: 0px; float: left; border: 1px solid black;' src='train0.png' /><img style='width: 140px; margin: 0px; float: left; border: 1px solid black;' src='train1.png' /><img style='width: 140px; margin: 0px; float: left; border: 1px solid black;' src='train10.png' /><img style='width: 140px; margin: 0px; float: left; border: 1px solid black;' src='train11.png' /><img style='width: 140px; margin: 0px; float: left; border: 1px solid black;' src='train2.png' /><img style='width: 140px; margin: 0px; float: left; border: 1px solid black;' src='train3.png' /><img style='width: 140px; margin: 0px; float: left; border: 1px solid black;' src='train4.png' /><img style='width: 140px; margin: 0px; float: left; border: 1px solid black;' src='train5.png' /><img style='width: 140px; margin: 0px; float: left; border: 1px solid black;' src='train6.png' /><img style='width: 140px; margin: 0px; float: left; border: 1px solid black;' src='train7.png' /><img style='width: 140px; margin: 0px; float: left; border: 1px solid black;' src='train8.png' /><img style='width: 140px; margin: 0px; float: left; border: 1px solid black;' src='train9.png' />"
      ],
      "text/plain": [
       "<IPython.core.display.HTML object>"
      ]
     },
     "metadata": {},
     "output_type": "display_data"
    }
   ],
   "source": [
    "train_mols = [Chem.MolFromSmiles(str(compound[\"smiles\"]))\n",
    "              for compound in islice(train_samples.itersamples(), num_to_display)]\n",
    "display_images(mols_to_pngs(train_mols, basename=\"train\"))"
   ]
  },
  {
   "cell_type": "code",
   "execution_count": 162,
   "metadata": {
    "collapsed": false
   },
   "outputs": [
    {
     "data": {
      "text/html": [
       "<img style='width: 140px; margin: 0px; float: left; border: 1px solid black;' src='valid0.png' /><img style='width: 140px; margin: 0px; float: left; border: 1px solid black;' src='valid1.png' /><img style='width: 140px; margin: 0px; float: left; border: 1px solid black;' src='valid10.png' /><img style='width: 140px; margin: 0px; float: left; border: 1px solid black;' src='valid11.png' /><img style='width: 140px; margin: 0px; float: left; border: 1px solid black;' src='valid2.png' /><img style='width: 140px; margin: 0px; float: left; border: 1px solid black;' src='valid3.png' /><img style='width: 140px; margin: 0px; float: left; border: 1px solid black;' src='valid4.png' /><img style='width: 140px; margin: 0px; float: left; border: 1px solid black;' src='valid5.png' /><img style='width: 140px; margin: 0px; float: left; border: 1px solid black;' src='valid6.png' /><img style='width: 140px; margin: 0px; float: left; border: 1px solid black;' src='valid7.png' /><img style='width: 140px; margin: 0px; float: left; border: 1px solid black;' src='valid8.png' /><img style='width: 140px; margin: 0px; float: left; border: 1px solid black;' src='valid9.png' />"
      ],
      "text/plain": [
       "<IPython.core.display.HTML object>"
      ]
     },
     "metadata": {},
     "output_type": "display_data"
    }
   ],
   "source": [
    "valid_mols = [Chem.MolFromSmiles(str(compound[\"smiles\"]))\n",
    "              for compound in islice(valid_samples.itersamples(), num_to_display)]\n",
    "display_images(mols_to_pngs(valid_mols, basename=\"valid\"))"
   ]
  },
  {
   "cell_type": "markdown",
   "metadata": {},
   "source": [
    "Notice the visual distinction between the train/validation splits. The most-common scaffolds are reserved for the train split, with the rarer scaffolds allotted to validation/test.\n",
    "\n",
    "To perform machine learning upon these datasets, we need to convert the samples into datasets suitable for machine-learning (that is, into data matrix $X \\in \\mathbb{R}^{n\\times d}$ where $n$ is the number of samples and $d$ the dimensionality of the feature vector, and into label vector $y \\in \\mathbb{R}^n$). `deepchem` provides the `Dataset` class to facilitate this transformation. We simply need to instantiate separate instances of the Dataset() class, one corresponding to each split of the data. This style lends itself easily to validation-set hyperparameter searches, which we illustate below."
   ]
  },
  {
   "cell_type": "code",
   "execution_count": 163,
   "metadata": {
    "collapsed": false
   },
   "outputs": [],
   "source": [
    "from deepchem.utils.dataset import Dataset\n",
    "train_dataset = Dataset(data_dir=train_dir, samples=train_samples, \n",
    "                        featurizers=featurizers, tasks=[\"measured log solubility in mols per litre\"])\n",
    "valid_dataset = Dataset(data_dir=valid_dir, samples=valid_samples, \n",
    "                        featurizers=featurizers, tasks=[\"measured log solubility in mols per litre\"])\n",
    "test_dataset = Dataset(data_dir=test_dir, samples=test_samples, \n",
    "                       featurizers=featurizers, tasks=[\"measured log solubility in mols per litre\"])"
   ]
  },
  {
   "cell_type": "markdown",
   "metadata": {},
   "source": [
    "The performance of common machine-learning algorithms can be very sensitive to preprocessing of the data. One common transformation applied to data is to normalize it to have zero-mean and unit-standard-deviation. We will apply this transformation to the log-solubility (as seen above, the log-solubility ranges from -12 to 2)."
   ]
  },
  {
   "cell_type": "code",
   "execution_count": 164,
   "metadata": {
    "collapsed": true
   },
   "outputs": [],
   "source": [
    "input_transforms = []\n",
    "output_transforms = [\"normalize\"]\n",
    "train_dataset.transform(input_transforms, output_transforms)\n",
    "valid_dataset.transform(input_transforms, output_transforms)\n",
    "test_dataset.transform(input_transforms, output_transforms)"
   ]
  },
  {
   "cell_type": "markdown",
   "metadata": {},
   "source": [
    "The next step after processing the data is to start fitting simple learning models to our data. `deepchem` provides a number of machine-learning model classes.\n",
    "\n",
    "In particular, `deepchem` provides a convenience class, ```SklearnModel``` that wraps any machine-learning model available in scikit-learn [6]. Consequently, we will start by building a simple random-forest regressor that attempts to predict the log-solubility from our computed ECFP4 features. To train the model, we instantiate the ```SklearnModel``` object, then call the ```fit()``` method on the ```train_dataset``` we constructed above. We then save the model to disk."
   ]
  },
  {
   "cell_type": "code",
   "execution_count": 165,
   "metadata": {
    "collapsed": false
   },
   "outputs": [],
   "source": [
    "from sklearn.ensemble import RandomForestRegressor\n",
    "from deepchem.models.standard import SklearnModel\n",
    "\n",
    "model_dir = tempfile.mkdtemp()\n",
    "task_types = {\"measured log solubility in mols per litre\": \"regression\"}\n",
    "model_params = {\"data_shape\": train_dataset.get_data_shape()}\n",
    "model = SklearnModel(task_types, model_params, model_instance=RandomForestRegressor())\n",
    "model.fit(train_dataset)\n",
    "model.save(model_dir)\n",
    "shutil.rmtree(model_dir)\n"
   ]
  },
  {
   "cell_type": "markdown",
   "metadata": {},
   "source": [
    "We next evaluate the model on the validation set to see its predictive power. `deepchem` provides the `Evaluator` class to facilitate this process. To evaluate the constructed `model` object, create a new `Evaluator` instance and call the `compute_model_performance()` method."
   ]
  },
  {
   "cell_type": "code",
   "execution_count": 166,
   "metadata": {
    "collapsed": false
   },
   "outputs": [
    {
     "name": "stdout",
     "output_type": "stream",
     "text": [
      "                                   task_name  r2_score  rms_error\n",
      "0  measured log solubility in mols per litre  0.292117   1.706157\n"
     ]
    }
   ],
   "source": [
    "from deepchem.utils.evaluate import Evaluator\n",
    "valid_csv_out = tempfile.NamedTemporaryFile()\n",
    "valid_stats_out = tempfile.NamedTemporaryFile()\n",
    "\n",
    "evaluator = Evaluator(model, valid_dataset)\n",
    "df, r2score = evaluator.compute_model_performance(\n",
    "    valid_csv_out, valid_stats_out)\n",
    "print(r2score)\n"
   ]
  },
  {
   "cell_type": "markdown",
   "metadata": {},
   "source": [
    "The performance of this basic random-forest model isn't very strong. To construct stronger models, let's attempt to optimize the hyperparameters (choices made in the model-specification) to achieve better performance. For random forests, we can tweak `n_estimators` which controls the number of trees in the forest, and `max_features` which controls the number of features to consider when performing a split. We now build a series of `SklearnModel`s with different choices for `n_estimators` and `max_features` and evaluate performance on the validation set."
   ]
  },
  {
   "cell_type": "code",
   "execution_count": 167,
   "metadata": {
    "collapsed": false
   },
   "outputs": [
    {
     "name": "stdout",
     "output_type": "stream",
     "text": [
      "n_estimators 10, max_features auto => Validation set R^2 0.275310\n",
      "n_estimators 10, max_features sqrt => Validation set R^2 0.345035\n",
      "n_estimators 10, max_features log2 => Validation set R^2 0.329496\n",
      "n_estimators 10, max_features None => Validation set R^2 0.127057\n",
      "n_estimators 100, max_features auto => Validation set R^2 0.196733\n",
      "n_estimators 100, max_features sqrt => Validation set R^2 0.438105\n",
      "n_estimators 100, max_features log2 => Validation set R^2 0.459810\n",
      "n_estimators 100, max_features None => Validation set R^2 0.239324\n",
      "n_estimators 500, max_features auto => Validation set R^2 0.265137\n",
      "n_estimators 500, max_features sqrt => Validation set R^2 0.453186\n",
      "n_estimators 500, max_features log2 => Validation set R^2 0.459532\n",
      "n_estimators 500, max_features None => Validation set R^2 0.275151\n",
      "Best hyperparameters: (100, 'log2')\n"
     ]
    }
   ],
   "source": [
    "import itertools\n",
    "\n",
    "n_estimators_list = [10, 100, 500]\n",
    "max_features_list = [\"auto\", \"sqrt\", \"log2\", None]\n",
    "hyperparameters = [n_estimators_list, max_features_list]\n",
    "best_validation_score = -np.inf\n",
    "best_hyperparams = None\n",
    "best_model, best_model_dir = None, None\n",
    "for hyperparameter_tuple in itertools.product(*hyperparameters):\n",
    "    n_estimators, max_features = hyperparameter_tuple\n",
    "    \n",
    "    model_dir = tempfile.mkdtemp()\n",
    "    model = SklearnModel(\n",
    "        task_types, model_params,\n",
    "        model_instance=RandomForestRegressor(n_estimators=n_estimators,\n",
    "                                             max_features=max_features))\n",
    "    model.fit(train_dataset)\n",
    "    model.save(model_dir)\n",
    "    \n",
    "    evaluator = Evaluator(model, valid_dataset)\n",
    "    df, r2score = evaluator.compute_model_performance(\n",
    "        valid_csv_out, valid_stats_out)\n",
    "    valid_r2_score = r2score.iloc[0][\"r2_score\"]\n",
    "    print(\"n_estimators %d, max_features %s => Validation set R^2 %f\" %\n",
    "          (n_estimators, str(max_features), valid_r2_score))\n",
    "    if valid_r2_score > best_validation_score:\n",
    "        best_validation_score = valid_r2_score\n",
    "        best_hyperparams = hyperparameter_tuple\n",
    "        if best_model_dir is not None:\n",
    "            shutil.rmtree(best_model_dir)\n",
    "        best_model_dir = model_dir\n",
    "        best_model = model\n",
    "    else:\n",
    "        shutil.rmtree(model_dir)\n",
    "\n",
    "print(\"Best hyperparameters: %s\" % str(best_hyperparams))\n",
    "best_rf_hyperparams = best_hyperparams\n",
    "best_rf = best_model"
   ]
  },
  {
   "cell_type": "markdown",
   "metadata": {},
   "source": [
    "The best model achieves significantly higher $R^2$ on the validation set than the first model we constructed. Now, let's perform the same sort of hyperparameter search, but with a simple deep-network instead."
   ]
  },
  {
   "cell_type": "code",
   "execution_count": 168,
   "metadata": {
    "collapsed": false
   },
   "outputs": [
    {
     "name": "stdout",
     "output_type": "stream",
     "text": [
      "lr_list\n",
      "[ 0.00203878  0.00978338  0.02080256  0.00306652  0.00376356]\n",
      "Testing (0.0020387786468546959, 100, 10, False, 0.0)\n",
      "Starting epoch 1\n",
      "Starting epoch 2\n",
      "Starting epoch 3\n",
      "Starting epoch 4\n",
      "Starting epoch 5\n",
      "Starting epoch 6\n",
      "Starting epoch 7\n",
      "Starting epoch 8\n",
      "Starting epoch 9\n",
      "Starting epoch 10\n",
      "learning_rate 0.002039, nb_hidden 100, nb_epoch 10, nesterov False, dropout 0.000000 => Validation set R^2 0.314515\n",
      "Testing (0.0020387786468546959, 100, 10, False, 0.25)\n",
      "Starting epoch 1\n",
      "Starting epoch 2\n",
      "Starting epoch 3\n",
      "Starting epoch 4\n",
      "Starting epoch 5\n",
      "Starting epoch 6\n",
      "Starting epoch 7\n",
      "Starting epoch 8\n",
      "Starting epoch 9\n",
      "Starting epoch 10\n",
      "learning_rate 0.002039, nb_hidden 100, nb_epoch 10, nesterov False, dropout 0.250000 => Validation set R^2 0.395234\n",
      "Testing (0.0020387786468546959, 100, 10, False, 0.5)\n",
      "Starting epoch 1\n",
      "Starting epoch 2\n",
      "Starting epoch 3\n",
      "Starting epoch 4\n",
      "Starting epoch 5\n",
      "Starting epoch 6\n",
      "Starting epoch 7\n",
      "Starting epoch 8\n",
      "Starting epoch 9\n",
      "Starting epoch 10\n",
      "learning_rate 0.002039, nb_hidden 100, nb_epoch 10, nesterov False, dropout 0.500000 => Validation set R^2 0.408454\n",
      "Testing (0.0020387786468546959, 100, 10, False, 0.75)\n",
      "Starting epoch 1\n",
      "Starting epoch 2\n",
      "Starting epoch 3\n",
      "Starting epoch 4\n",
      "Starting epoch 5\n",
      "Starting epoch 6\n",
      "Starting epoch 7\n",
      "Starting epoch 8\n",
      "Starting epoch 9\n",
      "Starting epoch 10\n",
      "learning_rate 0.002039, nb_hidden 100, nb_epoch 10, nesterov False, dropout 0.750000 => Validation set R^2 0.416504\n",
      "Testing (0.0097833814653024067, 100, 10, False, 0.0)\n",
      "Starting epoch 1\n",
      "Starting epoch 2\n",
      "Starting epoch 3\n",
      "Starting epoch 4\n",
      "Starting epoch 5\n",
      "Starting epoch 6\n",
      "Starting epoch 7\n",
      "Starting epoch 8\n",
      "Starting epoch 9\n",
      "Starting epoch 10\n",
      "learning_rate 0.009783, nb_hidden 100, nb_epoch 10, nesterov False, dropout 0.000000 => Validation set R^2 0.287466\n",
      "Testing (0.0097833814653024067, 100, 10, False, 0.25)\n",
      "Starting epoch 1\n",
      "Starting epoch 2\n",
      "Starting epoch 3\n",
      "Starting epoch 4\n",
      "Starting epoch 5\n",
      "Starting epoch 6\n",
      "Starting epoch 7\n",
      "Starting epoch 8\n",
      "Starting epoch 9\n",
      "Starting epoch 10\n",
      "learning_rate 0.009783, nb_hidden 100, nb_epoch 10, nesterov False, dropout 0.250000 => Validation set R^2 0.439214\n",
      "Testing (0.0097833814653024067, 100, 10, False, 0.5)\n",
      "Starting epoch 1\n",
      "Starting epoch 2\n",
      "Starting epoch 3\n",
      "Starting epoch 4\n",
      "Starting epoch 5\n",
      "Starting epoch 6\n",
      "Starting epoch 7\n",
      "Starting epoch 8\n",
      "Starting epoch 9\n",
      "Starting epoch 10\n",
      "learning_rate 0.009783, nb_hidden 100, nb_epoch 10, nesterov False, dropout 0.500000 => Validation set R^2 0.446655\n",
      "Testing (0.0097833814653024067, 100, 10, False, 0.75)\n",
      "Starting epoch 1\n",
      "Starting epoch 2\n",
      "Starting epoch 3\n",
      "Starting epoch 4\n",
      "Starting epoch 5\n",
      "Starting epoch 6\n",
      "Starting epoch 7\n",
      "Starting epoch 8\n",
      "Starting epoch 9\n",
      "Starting epoch 10\n",
      "learning_rate 0.009783, nb_hidden 100, nb_epoch 10, nesterov False, dropout 0.750000 => Validation set R^2 0.153605\n",
      "Testing (0.020802562749032891, 100, 10, False, 0.0)\n",
      "Starting epoch 1\n",
      "Starting epoch 2\n",
      "Starting epoch 3\n",
      "Starting epoch 4\n",
      "Starting epoch 5\n",
      "Starting epoch 6\n",
      "Starting epoch 7\n",
      "Starting epoch 8\n",
      "Starting epoch 9\n",
      "Starting epoch 10\n",
      "learning_rate 0.020803, nb_hidden 100, nb_epoch 10, nesterov False, dropout 0.000000 => Validation set R^2 0.383864\n",
      "Testing (0.020802562749032891, 100, 10, False, 0.25)\n",
      "Starting epoch 1\n",
      "Starting epoch 2\n",
      "Starting epoch 3\n",
      "Starting epoch 4\n",
      "Starting epoch 5\n",
      "Starting epoch 6\n",
      "Starting epoch 7\n",
      "Starting epoch 8\n",
      "Starting epoch 9\n",
      "Starting epoch 10\n",
      "learning_rate 0.020803, nb_hidden 100, nb_epoch 10, nesterov False, dropout 0.250000 => Validation set R^2 0.414405\n",
      "Testing (0.020802562749032891, 100, 10, False, 0.5)\n",
      "Starting epoch 1\n",
      "Starting epoch 2\n",
      "Starting epoch 3\n",
      "Starting epoch 4\n",
      "Starting epoch 5\n",
      "Starting epoch 6\n",
      "Starting epoch 7\n",
      "Starting epoch 8\n",
      "Starting epoch 9\n",
      "Starting epoch 10\n",
      "learning_rate 0.020803, nb_hidden 100, nb_epoch 10, nesterov False, dropout 0.500000 => Validation set R^2 0.227259\n",
      "Testing (0.020802562749032891, 100, 10, False, 0.75)\n",
      "Starting epoch 1\n",
      "Starting epoch 2\n",
      "Starting epoch 3\n",
      "Starting epoch 4\n",
      "Starting epoch 5\n",
      "Starting epoch 6\n",
      "Starting epoch 7\n",
      "Starting epoch 8\n",
      "Starting epoch 9\n",
      "Starting epoch 10\n",
      "learning_rate 0.020803, nb_hidden 100, nb_epoch 10, nesterov False, dropout 0.750000 => Validation set R^2 -0.013486\n",
      "Testing (0.0030665204062961093, 100, 10, False, 0.0)\n",
      "Starting epoch 1\n",
      "Starting epoch 2\n",
      "Starting epoch 3\n",
      "Starting epoch 4\n",
      "Starting epoch 5\n",
      "Starting epoch 6\n",
      "Starting epoch 7\n",
      "Starting epoch 8\n",
      "Starting epoch 9\n",
      "Starting epoch 10\n",
      "learning_rate 0.003067, nb_hidden 100, nb_epoch 10, nesterov False, dropout 0.000000 => Validation set R^2 0.250118\n",
      "Testing (0.0030665204062961093, 100, 10, False, 0.25)\n",
      "Starting epoch 1\n",
      "Starting epoch 2\n",
      "Starting epoch 3\n",
      "Starting epoch 4\n",
      "Starting epoch 5\n",
      "Starting epoch 6\n",
      "Starting epoch 7\n",
      "Starting epoch 8\n",
      "Starting epoch 9\n",
      "Starting epoch 10\n",
      "learning_rate 0.003067, nb_hidden 100, nb_epoch 10, nesterov False, dropout 0.250000 => Validation set R^2 0.334353\n",
      "Testing (0.0030665204062961093, 100, 10, False, 0.5)\n",
      "Starting epoch 1\n",
      "Starting epoch 2\n",
      "Starting epoch 3\n",
      "Starting epoch 4\n",
      "Starting epoch 5\n",
      "Starting epoch 6\n",
      "Starting epoch 7\n",
      "Starting epoch 8\n",
      "Starting epoch 9\n",
      "Starting epoch 10\n",
      "learning_rate 0.003067, nb_hidden 100, nb_epoch 10, nesterov False, dropout 0.500000 => Validation set R^2 0.414900\n",
      "Testing (0.0030665204062961093, 100, 10, False, 0.75)\n",
      "Starting epoch 1\n",
      "Starting epoch 2\n",
      "Starting epoch 3\n",
      "Starting epoch 4\n",
      "Starting epoch 5\n",
      "Starting epoch 6\n",
      "Starting epoch 7\n",
      "Starting epoch 8\n",
      "Starting epoch 9\n",
      "Starting epoch 10\n",
      "learning_rate 0.003067, nb_hidden 100, nb_epoch 10, nesterov False, dropout 0.750000 => Validation set R^2 0.445751\n",
      "Testing (0.003763561784320212, 100, 10, False, 0.0)\n",
      "Starting epoch 1\n",
      "Starting epoch 2\n",
      "Starting epoch 3\n",
      "Starting epoch 4\n",
      "Starting epoch 5\n",
      "Starting epoch 6\n",
      "Starting epoch 7\n",
      "Starting epoch 8\n",
      "Starting epoch 9\n",
      "Starting epoch 10\n",
      "learning_rate 0.003764, nb_hidden 100, nb_epoch 10, nesterov False, dropout 0.000000 => Validation set R^2 0.264233\n",
      "Testing (0.003763561784320212, 100, 10, False, 0.25)\n",
      "Starting epoch 1\n",
      "Starting epoch 2\n",
      "Starting epoch 3\n",
      "Starting epoch 4\n",
      "Starting epoch 5\n",
      "Starting epoch 6\n",
      "Starting epoch 7\n",
      "Starting epoch 8\n",
      "Starting epoch 9\n",
      "Starting epoch 10\n",
      "learning_rate 0.003764, nb_hidden 100, nb_epoch 10, nesterov False, dropout 0.250000 => Validation set R^2 0.431978\n",
      "Testing (0.003763561784320212, 100, 10, False, 0.5)\n",
      "Starting epoch 1\n",
      "Starting epoch 2\n",
      "Starting epoch 3\n",
      "Starting epoch 4\n",
      "Starting epoch 5\n",
      "Starting epoch 6\n",
      "Starting epoch 7\n",
      "Starting epoch 8\n",
      "Starting epoch 9\n",
      "Starting epoch 10\n",
      "learning_rate 0.003764, nb_hidden 100, nb_epoch 10, nesterov False, dropout 0.500000 => Validation set R^2 0.424752\n",
      "Testing (0.003763561784320212, 100, 10, False, 0.75)\n",
      "Starting epoch 1\n",
      "Starting epoch 2\n",
      "Starting epoch 3\n",
      "Starting epoch 4\n",
      "Starting epoch 5\n",
      "Starting epoch 6\n",
      "Starting epoch 7\n",
      "Starting epoch 8\n",
      "Starting epoch 9\n",
      "Starting epoch 10\n",
      "learning_rate 0.003764, nb_hidden 100, nb_epoch 10, nesterov False, dropout 0.750000 => Validation set R^2 0.384378\n",
      "Best hyperparameters: (0.0097833814653024067, 100, 10, False, 0.5)\n",
      "best_validation_score: 0.446655\n"
     ]
    }
   ],
   "source": [
    "from deepchem.models.deep import SingleTaskDNN\n",
    "import numpy.random\n",
    "\n",
    "model_params = {\"activation\": \"relu\",\n",
    "                \"dropout\": 0.5,\n",
    "                \"momentum\": .9, \"nesterov\": True,\n",
    "                \"decay\": 1e-4, \"batch_size\": 5,\n",
    "                \"nb_epoch\": 10,\n",
    "                \"init\": \"glorot_uniform\",\n",
    "                \"data_shape\": train_dataset.get_data_shape()}\n",
    "\n",
    "lr_list = np.power(10., 4*np.random.uniform(size=5)-5)\n",
    "print(\"lr_list\")\n",
    "print(lr_list)\n",
    "nb_hidden_list = [100]\n",
    "nb_epoch_list = [10]\n",
    "nesterov_list = [False]\n",
    "dropout_list = [0., .25, .5, .75]\n",
    "hyperparameters = [lr_list, nb_hidden_list, nb_epoch_list, nesterov_list, dropout_list]\n",
    "best_validation_score = -np.inf\n",
    "best_hyperparams = None\n",
    "best_model, best_model_dir = None, None\n",
    "for hyperparameter_tuple in itertools.product(*hyperparameters):\n",
    "    print(\"Testing %s\" % str(hyperparameter_tuple))\n",
    "    lr, nb_hidden, nb_epoch, nesterov, dropout = hyperparameter_tuple\n",
    "    model_params[\"nb_hidden\"] = nb_hidden\n",
    "    model_params[\"learning_rate\"] = lr\n",
    "    model_params[\"nb_epoch\"] = nb_epoch\n",
    "    model_params[\"nesterov\"] = nesterov\n",
    "    model_params[\"dropout\"] = dropout\n",
    "    model_dir = tempfile.mkdtemp()\n",
    "    model = SingleTaskDNN(task_types, model_params)\n",
    "    model.fit(train_dataset)\n",
    "    model.save(model_dir)\n",
    "    \n",
    "    evaluator = Evaluator(model, valid_dataset)\n",
    "    df, r2score = evaluator.compute_model_performance(\n",
    "        valid_csv_out, valid_stats_out)\n",
    "    valid_r2_score = r2score.iloc[0][\"r2_score\"]\n",
    "    print(\"learning_rate %f, nb_hidden %d, nb_epoch %d, nesterov %s, dropout %f => Validation set R^2 %f\" %\n",
    "          (lr, nb_hidden, nb_epoch, str(nesterov), dropout, valid_r2_score))\n",
    "    if valid_r2_score > best_validation_score:\n",
    "        best_validation_score = valid_r2_score\n",
    "        best_hyperparams = hyperparameter_tuple\n",
    "        if best_model_dir is not None:\n",
    "            shutil.rmtree(best_model_dir)\n",
    "        best_model_dir = model_dir\n",
    "        best_model = model\n",
    "    else:\n",
    "        shutil.rmtree(model_dir)\n",
    "\n",
    "print(\"Best hyperparameters: %s\" % str(best_hyperparams))\n",
    "print(\"best_validation_score: %f\" % best_validation_score)\n",
    "best_dnn = best_model"
   ]
  },
  {
   "cell_type": "markdown",
   "metadata": {},
   "source": [
    "Now that we have a reasonable choice of hyperparameters, let's evaluate the performance of our best models on the test-set."
   ]
  },
  {
   "cell_type": "code",
   "execution_count": 169,
   "metadata": {
    "collapsed": false
   },
   "outputs": [
    {
     "name": "stdout",
     "output_type": "stream",
     "text": [
      "RF Test set R^2 0.460045\n"
     ]
    }
   ],
   "source": [
    "rf_test_csv_out = tempfile.NamedTemporaryFile()\n",
    "rf_test_stats_out = tempfile.NamedTemporaryFile()\n",
    "rf_test_evaluator = Evaluator(best_rf, test_dataset)\n",
    "rf_test_df, rf_test_r2score = rf_test_evaluator.compute_model_performance(\n",
    "    rf_test_csv_out, rf_test_stats_out)\n",
    "rf_test_r2_score = rf_test_r2score.iloc[0][\"r2_score\"]\n",
    "print(\"RF Test set R^2 %f\" % (rf_test_r2_score))"
   ]
  },
  {
   "cell_type": "code",
   "execution_count": 170,
   "metadata": {
    "collapsed": false
   },
   "outputs": [
    {
     "name": "stdout",
     "output_type": "stream",
     "text": [
      "DNN Test set R^2 0.470761\n"
     ]
    }
   ],
   "source": [
    "dnn_test_csv_out = tempfile.NamedTemporaryFile()\n",
    "dnn_test_stats_out = tempfile.NamedTemporaryFile()\n",
    "dnn_test_evaluator = Evaluator(best_dnn, test_dataset)\n",
    "dnn_test_df, dnn_test_r2score = test_evaluator.compute_model_performance(\n",
    "    dnn_test_csv_out, dnn_test_stats_out)\n",
    "dnn_test_r2_score = dnn_test_r2score.iloc[0][\"r2_score\"]\n",
    "print(\"DNN Test set R^2 %f\" % (dnn_test_r2_score))"
   ]
  },
  {
   "cell_type": "markdown",
   "metadata": {},
   "source": [
    "Now, let's plot the predicted $R^2$ scores versus the true $R^2$ scores for the constructed model."
   ]
  },
  {
   "cell_type": "code",
   "execution_count": 171,
   "metadata": {
    "collapsed": false
   },
   "outputs": [
    {
     "data": {
      "image/png": "[encoded data removed]",
      "text/plain": [
       "<matplotlib.figure.Figure at 0x7fe8872d43d0>"
      ]
     },
     "metadata": {},
     "output_type": "display_data"
    }
   ],
   "source": [
    "task = \"measured log solubility in mols per litre\"\n",
    "rf_predicted_test = np.array(rf_test_df[task + \"_pred\"])\n",
    "rf_true_test = np.array(rf_test_df[task])\n",
    "plt.scatter(rf_predicted_test, rf_true_test)\n",
    "plt.xlabel('Predicted log-solubility in mols/liter')\n",
    "plt.ylabel('True log-solubility in mols/liter')\n",
    "plt.title(r'RF- predicted vs. true log-solubilities')\n",
    "plt.show()"
   ]
  },
  {
   "cell_type": "code",
   "execution_count": 172,
   "metadata": {
    "collapsed": false
   },
   "outputs": [
    {
     "data": {
      "image/png": "[encoded data removed]",
      "text/plain": [
       "<matplotlib.figure.Figure at 0x7fe8873a0390>"
      ]
     },
     "metadata": {},
     "output_type": "display_data"
    }
   ],
   "source": [
    "task = \"measured log solubility in mols per litre\"\n",
    "predicted_test = np.array(test_df[task + \"_pred\"])\n",
    "true_test = np.array(test_df[task])\n",
    "plt.scatter(predicted_test, true_test)\n",
    "plt.xlabel('Predicted log-solubility in mols/liter')\n",
    "plt.ylabel('True log-solubility in mols/liter')\n",
    "plt.title(r'DNN predicted vs. true log-solubilities')\n",
    "plt.show()"
   ]
  },
  {
   "cell_type": "markdown",
   "metadata": {},
   "source": [
    "[1] John S. Delaney. ESOL: Estimating aqueous solubility directly from molecular structure. Journal\n",
    "of Chemical Information and Computer Sciences, 44(3):1000–1005, 2004.\n",
    "\n",
    "[2] Anderson, Eric, Gilman D. Veith, and David Weininger. SMILES, a line notation and computerized\n",
    "interpreter for chemical structures. US Environmental Protection Agency, Environmental Research Laboratory, 1987.\n",
    "\n",
    "[3] Rogers, David, and Mathew Hahn. \"Extended-connectivity fingerprints.\" Journal of chemical information\n",
    "and modeling 50.5 (2010): 742-754.\n",
    "    \n",
    "[4] Van Der Walt, Stefan, S. Chris Colbert, and Gael Varoquaux.\n",
    "\"The NumPy array:a structure for efficient numerical computation.\" Computing in Science & Engineering 13.2 (2011): 22-30.\n",
    "    \n",
    "[5] Bemis, Guy W., and Mark A. Murcko. \"The properties of known drugs. 1. Molecular frameworks.\"\n",
    "Journal of medicinal chemistry 39.15 (1996): 2887-2893.\n",
    "\n",
    "[6] Pedregosa, Fabian, et al. \"Scikit-learn: Machine learning in Python.\" The Journal of Machine Learning Research 12 (2011): 2825-2830."
   ]
  }
 ],
 "metadata": {
  "kernelspec": {
   "display_name": "Python 2",
   "language": "python",
   "name": "python2"
  },
  "language_info": {
   "codemirror_mode": {
    "name": "ipython",
    "version": 2
   },
   "file_extension": ".py",
   "mimetype": "text/x-python",
   "name": "python",
   "nbconvert_exporter": "python",
   "pygments_lexer": "ipython2",
   "version": "2.7.11"
  }
 },
 "nbformat": 4,
 "nbformat_minor": 0
}
