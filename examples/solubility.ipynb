{
 "cells": [
  {
   "cell_type": "markdown",
   "metadata": {},
   "source": [
    "Written by Bharath Ramsundar and Evan Feinberg\n",
    "\n",
    "Copyright 2016, Stanford University\n"
   ]
  },
  {
   "cell_type": "markdown",
   "metadata": {},
   "source": [
    "Computationally predicting molecular solubility through is useful for drug-discovery. In this tutorial, we will use the `deepchem` library to fit a simple statistical model that predicts the solubility of drug-like compounds. The process of fitting this model involves four steps:\n",
    "\n",
    "1. Loading a chemical dataset, consisting of a series of compounds along with aqueous solubility measurements.\n",
    "2. Transforming each compound into a feature vector $v \\in \\mathbb{R}^n$ comprehensible to statistical learning methods.\n",
    "3. Fitting a simple model that maps feature vectors to estimates of aqueous solubility.\n",
    "4. Visualizing the results."
   ]
  },
  {
   "cell_type": "markdown",
   "metadata": {},
   "source": [
    "We need to load a dataset of estimated aqueous solubility measurements [1] into deepchem. The data is in CSV format and contains SMILES strings, predicted aqueaous solubilities, and a number of extraneous (for our purposes) molecular properties. Here is an example line from the dataset:\n",
    "\n",
    "|Compound ID|ESOL predicted log solubility in mols per litre|Minimum Degree|Molecular Weight|Number of H-Bond Donors|Number of Rings|Number of Rotatable Bonds|Polar Surface Area|measured log solubility in mols per litre|smiles|\n",
    "|-----------|-----------------------------------------------|--------------|----------------|----------------------------|---------------|-------------------------|-----------------------------------------------------------------------|------|\n",
    "|benzothiazole|-2.733|2|135.191|0|2|0|12.89|-1.5|c2ccc1scnc1c2|\n",
    "\n",
    "Most of these fields are not useful for our purposes. The two fields that we will need are the \"smiles\" field and the \"measured log solubility in mols per litre\". The \"smiles\" field holds a SMILES string [2] that specifies the compound in question. Before we load this data into deepchem, we will load the data into python and do some simple preliminary analysis to gain some intuition for the dataset. "
   ]
  },
  {
   "cell_type": "code",
   "execution_count": 1,
   "metadata": {
    "collapsed": false
   },
   "outputs": [
    {
     "name": "stdout",
     "output_type": "stream",
     "text": [
      "Columns of dataset: ['Compound ID' 'ESOL predicted log solubility in mols per litre'\n",
      " 'Minimum Degree' 'Molecular Weight' 'Number of H-Bond Donors'\n",
      " 'Number of Rings' 'Number of Rotatable Bonds' 'Polar Surface Area'\n",
      " 'measured log solubility in mols per litre' 'smiles']\n",
      "Number of examples in dataset: 1128\n"
     ]
    }
   ],
   "source": [
    "%autoreload 2\n",
    "from deepchem.utils.save import load_from_disk\n",
    "\n",
    "dataset_file= \"../datasets/delaney-processed.csv\"\n",
    "dataset = load_from_disk(dataset_file)\n",
    "print(\"Columns of dataset: %s\" % str(dataset.columns.values))\n",
    "print(\"Number of examples in dataset: %s\" % str(dataset.shape[0]))"
   ]
  },
  {
   "cell_type": "markdown",
   "metadata": {},
   "source": [
    "To gain a visual understanding of compounds in our dataset, let's draw them using rdkit. We define a couple of helper functions to get started."
   ]
  },
  {
   "cell_type": "code",
   "execution_count": 2,
   "metadata": {
    "collapsed": false
   },
   "outputs": [],
   "source": [
    "import tempfile\n",
    "from rdkit import Chem\n",
    "from rdkit.Chem import Draw\n",
    "from itertools import islice\n",
    "from IPython.display import Image, HTML, display\n",
    "\n",
    "def display_images(filenames):\n",
    "    \"\"\"Helper to pretty-print images.\"\"\"\n",
    "    imagesList=''.join(\n",
    "        [\"<img style='width: 140px; margin: 0px; float: left; border: 1px solid black;' src='%s' />\"\n",
    "         % str(s) for s in sorted(filenames)])\n",
    "    display(HTML(imagesList))\n",
    "\n",
    "def mols_to_pngs(mols, basename=\"test\"):\n",
    "    \"\"\"Helper to write RDKit mols to png files.\"\"\"\n",
    "    filenames = []\n",
    "    for i, mol in enumerate(mols):\n",
    "        filename = \"%s%d.png\" % (basename, i)\n",
    "        Draw.MolToFile(mol, filename)\n",
    "        filenames.append(filename)\n",
    "    return filenames"
   ]
  },
  {
   "cell_type": "markdown",
   "metadata": {},
   "source": [
    "Now, we display some compounds from the dataset:"
   ]
  },
  {
   "cell_type": "code",
   "execution_count": 3,
   "metadata": {
    "collapsed": false
   },
   "outputs": [
    {
     "data": {
      "text/html": [
       "<img style='width: 140px; margin: 0px; float: left; border: 1px solid black;' src='test0.png' /><img style='width: 140px; margin: 0px; float: left; border: 1px solid black;' src='test1.png' /><img style='width: 140px; margin: 0px; float: left; border: 1px solid black;' src='test10.png' /><img style='width: 140px; margin: 0px; float: left; border: 1px solid black;' src='test11.png' /><img style='width: 140px; margin: 0px; float: left; border: 1px solid black;' src='test12.png' /><img style='width: 140px; margin: 0px; float: left; border: 1px solid black;' src='test13.png' /><img style='width: 140px; margin: 0px; float: left; border: 1px solid black;' src='test2.png' /><img style='width: 140px; margin: 0px; float: left; border: 1px solid black;' src='test3.png' /><img style='width: 140px; margin: 0px; float: left; border: 1px solid black;' src='test4.png' /><img style='width: 140px; margin: 0px; float: left; border: 1px solid black;' src='test5.png' /><img style='width: 140px; margin: 0px; float: left; border: 1px solid black;' src='test6.png' /><img style='width: 140px; margin: 0px; float: left; border: 1px solid black;' src='test7.png' /><img style='width: 140px; margin: 0px; float: left; border: 1px solid black;' src='test8.png' /><img style='width: 140px; margin: 0px; float: left; border: 1px solid black;' src='test9.png' />"
      ],
      "text/plain": [
       "<IPython.core.display.HTML object>"
      ]
     },
     "metadata": {},
     "output_type": "display_data"
    }
   ],
   "source": [
    "num_to_display = 14\n",
    "molecules = []\n",
    "for _, data in islice(dataset.iterrows(), num_to_display):\n",
    "    molecules.append(Chem.MolFromSmiles(data[\"smiles\"]))\n",
    "display_images(mols_to_pngs(molecules))"
   ]
  },
  {
   "cell_type": "markdown",
   "metadata": {},
   "source": [
    "Analyzing the distribution of solubilities shows us a nice spread of data."
   ]
  },
  {
   "cell_type": "code",
   "execution_count": 4,
   "metadata": {
    "collapsed": false
   },
   "outputs": [
    {
     "data": {
      "image/png": "[encoded data removed]",
      "text/plain": [
       "<matplotlib.figure.Figure at 0x7f24aedc2290>"
      ]
     },
     "metadata": {},
     "output_type": "display_data"
    }
   ],
   "source": [
    "%matplotlib inline\n",
    "import matplotlib\n",
    "import numpy as np\n",
    "import matplotlib.pyplot as plt\n",
    "\n",
    "solubilities = np.array(dataset[\"measured log solubility in mols per litre\"])\n",
    "n, bins, patches = plt.hist(solubilities, 50, facecolor='green', alpha=0.75)\n",
    "plt.xlabel('Measured log-solubility in mols/liter')\n",
    "plt.ylabel('Number of compounds')\n",
    "plt.title(r'Histogram of solubilities')\n",
    "plt.grid(True)\n",
    "plt.show()\n"
   ]
  },
  {
   "cell_type": "markdown",
   "metadata": {},
   "source": [
    "With our preliminary analysis completed, we return to the original goal of constructing a predictive statistical model of molecular solubility using `deepchem`. The first step in creating such a molecule is translating each compound into a vectorial format that can be understood by statistical learning techniques. This process is commonly called featurization. `deepchem` packages a number of commonly used featurization for user convenience. In this tutorial, we will use ECPF4 fingeprints [3].\n",
    "\n",
    "`deepchem` offers an object-oriented API for featurization. To get started with featurization, we first construct a ```Featurizer``` object. `deepchem` provides the ```CircularFingeprint``` class (a subclass of ```Featurizer``` that performs ECFP4 featurization).\n"
   ]
  },
  {
   "cell_type": "code",
   "execution_count": 5,
   "metadata": {
    "collapsed": false
   },
   "outputs": [],
   "source": [
    "from deepchem.featurizers.fingerprints import CircularFingerprint\n",
    "\n",
    "featurizers = [CircularFingerprint(size=1024)]"
   ]
  },
  {
   "cell_type": "markdown",
   "metadata": {},
   "source": [
    "Now, let's perform the actual featurization. `deepchem` provides the ```DataFeaturizer``` class for this purpose. The ```featurize()``` method for this class loads data from disk and uses provided ```Featurizer```instances to transform the provided data into feature vectors. The method constructs an instance of class ```FeaturizedSamples``` that has useful methods, such as an iterator, over the featurized data."
   ]
  },
  {
   "cell_type": "code",
   "execution_count": 6,
   "metadata": {
    "collapsed": false
   },
   "outputs": [],
   "source": [
    "import tempfile, shutil\n",
    "from deepchem.featurizers.featurize import DataFeaturizer\n",
    "\n",
    "#Make directories to store the raw and featurized datasets.\n",
    "feature_dir = tempfile.mkdtemp()\n",
    "samples_dir = tempfile.mkdtemp()\n",
    "\n",
    "featurizer = DataFeaturizer(tasks=[\"measured log solubility in mols per litre\"],\n",
    "                            smiles_field=\"smiles\",\n",
    "                            compound_featurizers=featurizers)\n",
    "featurized_samples = featurizer.featurize(dataset_file, feature_dir, samples_dir)"
   ]
  },
  {
   "cell_type": "markdown",
   "metadata": {},
   "source": [
    "When constructing statistical models, it's necessary to separate the provided data into train/test subsets. The train subset is used to learn the statistical model, while the test subset is used to evaluate the learned model. In practice, it's often useful to elaborate this split further and perform a train/validation/test split. The validation set is used to perform model selection. Proposed models are evaluated on the validation-set, and the best performed model is at the end tested on the test-set.\n",
    "\n",
    "Choosing the proper method of performing a train/validation/test split can be challenging. Standard machine learning practice is to perform a random split of the data into train/validation/test, but random splits are not well suited for the purposes of chemical informatics. For our predictive models to be useful, we require them to have predictive power in portions of chemical space beyond the set of molecules in the training data. Consequently, our models should use splits of the data that separate compounds in the training set from those in the validation and test-sets. We use Bemis-Murcko scaffolds [5] to perform this separation (all compounds that share an underlying molecular scaffold will be placed into the same split in the train/test/validation split).\n"
   ]
  },
  {
   "cell_type": "code",
   "execution_count": 7,
   "metadata": {
    "collapsed": false
   },
   "outputs": [],
   "source": [
    "splittype = \"scaffold\"\n",
    "train_dir = tempfile.mkdtemp()\n",
    "valid_dir = tempfile.mkdtemp()\n",
    "test_dir = tempfile.mkdtemp()\n",
    "\n",
    "train_samples, valid_samples, test_samples = featurized_samples.train_valid_test_split(\n",
    "    splittype, train_dir, valid_dir, test_dir)"
   ]
  },
  {
   "cell_type": "markdown",
   "metadata": {},
   "source": [
    "Let's visually inspect some of the molecules in the separate splits to verify that they appear structurally dissimilar. The `FeaturizedSamples` class provides an `itersamples` method that lets us obtain the underlying compounds in each split."
   ]
  },
  {
   "cell_type": "code",
   "execution_count": 8,
   "metadata": {
    "collapsed": false,
    "scrolled": true
   },
   "outputs": [
    {
     "data": {
      "text/html": [
       "<img style='width: 140px; margin: 0px; float: left; border: 1px solid black;' src='train0.png' /><img style='width: 140px; margin: 0px; float: left; border: 1px solid black;' src='train1.png' /><img style='width: 140px; margin: 0px; float: left; border: 1px solid black;' src='train10.png' /><img style='width: 140px; margin: 0px; float: left; border: 1px solid black;' src='train11.png' /><img style='width: 140px; margin: 0px; float: left; border: 1px solid black;' src='train12.png' /><img style='width: 140px; margin: 0px; float: left; border: 1px solid black;' src='train13.png' /><img style='width: 140px; margin: 0px; float: left; border: 1px solid black;' src='train2.png' /><img style='width: 140px; margin: 0px; float: left; border: 1px solid black;' src='train3.png' /><img style='width: 140px; margin: 0px; float: left; border: 1px solid black;' src='train4.png' /><img style='width: 140px; margin: 0px; float: left; border: 1px solid black;' src='train5.png' /><img style='width: 140px; margin: 0px; float: left; border: 1px solid black;' src='train6.png' /><img style='width: 140px; margin: 0px; float: left; border: 1px solid black;' src='train7.png' /><img style='width: 140px; margin: 0px; float: left; border: 1px solid black;' src='train8.png' /><img style='width: 140px; margin: 0px; float: left; border: 1px solid black;' src='train9.png' />"
      ],
      "text/plain": [
       "<IPython.core.display.HTML object>"
      ]
     },
     "metadata": {},
     "output_type": "display_data"
    }
   ],
   "source": [
    "train_mols = [Chem.MolFromSmiles(str(compound[\"smiles\"]))\n",
    "              for compound in islice(train_samples.itersamples(), num_to_display)]\n",
    "display_images(mols_to_pngs(train_mols, basename=\"train\"))"
   ]
  },
  {
   "cell_type": "code",
   "execution_count": 9,
   "metadata": {
    "collapsed": false
   },
   "outputs": [
    {
     "data": {
      "text/html": [
       "<img style='width: 140px; margin: 0px; float: left; border: 1px solid black;' src='valid0.png' /><img style='width: 140px; margin: 0px; float: left; border: 1px solid black;' src='valid1.png' /><img style='width: 140px; margin: 0px; float: left; border: 1px solid black;' src='valid10.png' /><img style='width: 140px; margin: 0px; float: left; border: 1px solid black;' src='valid11.png' /><img style='width: 140px; margin: 0px; float: left; border: 1px solid black;' src='valid12.png' /><img style='width: 140px; margin: 0px; float: left; border: 1px solid black;' src='valid13.png' /><img style='width: 140px; margin: 0px; float: left; border: 1px solid black;' src='valid2.png' /><img style='width: 140px; margin: 0px; float: left; border: 1px solid black;' src='valid3.png' /><img style='width: 140px; margin: 0px; float: left; border: 1px solid black;' src='valid4.png' /><img style='width: 140px; margin: 0px; float: left; border: 1px solid black;' src='valid5.png' /><img style='width: 140px; margin: 0px; float: left; border: 1px solid black;' src='valid6.png' /><img style='width: 140px; margin: 0px; float: left; border: 1px solid black;' src='valid7.png' /><img style='width: 140px; margin: 0px; float: left; border: 1px solid black;' src='valid8.png' /><img style='width: 140px; margin: 0px; float: left; border: 1px solid black;' src='valid9.png' />"
      ],
      "text/plain": [
       "<IPython.core.display.HTML object>"
      ]
     },
     "metadata": {},
     "output_type": "display_data"
    }
   ],
   "source": [
    "valid_mols = [Chem.MolFromSmiles(str(compound[\"smiles\"]))\n",
    "              for compound in islice(valid_samples.itersamples(), num_to_display)]\n",
    "display_images(mols_to_pngs(valid_mols, basename=\"valid\"))"
   ]
  },
  {
   "cell_type": "markdown",
   "metadata": {},
   "source": [
    "Notice the visual distinction between the train/validation splits. The most-common scaffolds are reserved for the train split, with the rarer scaffolds allotted to validation/test.\n",
    "\n",
    "To perform machine learning upon these datasets, we need to convert the samples into datasets suitable for machine-learning (that is, into data matrix $X \\in \\mathbb{R}^{n\\times d}$ where $n$ is the number of samples and $d$ the dimensionality of the feature vector, and into label vector $y \\in \\mathbb{R}^n$). `deepchem` provides the `Dataset` class to facilitate this transformation. We simply need to instantiate separate instances of the Dataset() class, one corresponding to each split of the data. This style lends itself easily to validation-set hyperparameter searches, which we illustate below."
   ]
  },
  {
   "cell_type": "code",
   "execution_count": null,
   "metadata": {
    "collapsed": false
   },
   "outputs": [
    {
     "ename": "TypeError",
     "evalue": "save_to_disk() takes no arguments (1 given)",
     "output_type": "error",
     "traceback": [
      "\u001b[1;31m---------------------------------------------------------------------------\u001b[0m",
      "\u001b[1;31mTypeError\u001b[0m                                 Traceback (most recent call last)",
      "\u001b[1;32m<ipython-input-10-a2a36b9c5e9e>\u001b[0m in \u001b[0;36m<module>\u001b[1;34m()\u001b[0m\n\u001b[0;32m      1\u001b[0m \u001b[1;32mfrom\u001b[0m \u001b[0mdeepchem\u001b[0m\u001b[1;33m.\u001b[0m\u001b[0mutils\u001b[0m\u001b[1;33m.\u001b[0m\u001b[0mdataset\u001b[0m \u001b[1;32mimport\u001b[0m \u001b[0mDataset\u001b[0m\u001b[1;33m\u001b[0m\u001b[0m\n\u001b[0;32m      2\u001b[0m train_dataset = Dataset(data_dir=train_dir, samples=train_samples, \n\u001b[1;32m----> 3\u001b[1;33m                         featurizers=featurizers, tasks=[\"measured log solubility in mols per litre\"])\n\u001b[0m\u001b[0;32m      4\u001b[0m valid_dataset = Dataset(data_dir=valid_dir, samples=valid_samples, \n\u001b[0;32m      5\u001b[0m                         featurizers=featurizers, tasks=[\"measured log solubility in mols per litre\"])\n",
      "\u001b[1;32m/home/rbharath/deepchem/deepchem/utils/dataset.pyc\u001b[0m in \u001b[0;36m__init__\u001b[1;34m(self, data_dir, tasks, samples, featurizers, use_user_specified_features)\u001b[0m\n\u001b[0;32m     57\u001b[0m                    \u001b[1;34m'X_sums'\u001b[0m\u001b[1;33m,\u001b[0m \u001b[1;34m'X_sum_squares'\u001b[0m\u001b[1;33m,\u001b[0m \u001b[1;34m'X_n'\u001b[0m\u001b[1;33m,\u001b[0m\u001b[1;33m\u001b[0m\u001b[0m\n\u001b[0;32m     58\u001b[0m                    'y_sums', 'y_sum_squares', 'y_n'))\n\u001b[1;32m---> 59\u001b[1;33m       \u001b[0mself\u001b[0m\u001b[1;33m.\u001b[0m\u001b[0msave_to_disk\u001b[0m\u001b[1;33m(\u001b[0m\u001b[1;33m)\u001b[0m\u001b[1;33m\u001b[0m\u001b[0m\n\u001b[0m\u001b[0;32m     60\u001b[0m       \u001b[1;31m#save_to_disk(\u001b[0m\u001b[1;33m\u001b[0m\u001b[1;33m\u001b[0m\u001b[0m\n\u001b[0;32m     61\u001b[0m       \u001b[1;31m#    self.metadata_df, self._get_metadata_filename())\u001b[0m\u001b[1;33m\u001b[0m\u001b[1;33m\u001b[0m\u001b[0m\n",
      "\u001b[1;31mTypeError\u001b[0m: save_to_disk() takes no arguments (1 given)"
     ]
    },
    {
     "name": "stdout",
     "output_type": "stream",
     "text": [
      "> \u001b[1;32m/home/rbharath/deepchem/deepchem/utils/dataset.py\u001b[0m(59)\u001b[0;36m__init__\u001b[1;34m()\u001b[0m\n",
      "\u001b[1;32m     57 \u001b[1;33m                   \u001b[1;34m'X_sums'\u001b[0m\u001b[1;33m,\u001b[0m \u001b[1;34m'X_sum_squares'\u001b[0m\u001b[1;33m,\u001b[0m \u001b[1;34m'X_n'\u001b[0m\u001b[1;33m,\u001b[0m\u001b[1;33m\u001b[0m\u001b[0m\n",
      "\u001b[0m\u001b[1;32m     58 \u001b[1;33m                   'y_sums', 'y_sum_squares', 'y_n'))\n",
      "\u001b[0m\u001b[1;32m---> 59 \u001b[1;33m      \u001b[0mself\u001b[0m\u001b[1;33m.\u001b[0m\u001b[0msave_to_disk\u001b[0m\u001b[1;33m(\u001b[0m\u001b[1;33m)\u001b[0m\u001b[1;33m\u001b[0m\u001b[0m\n",
      "\u001b[0m\u001b[1;32m     60 \u001b[1;33m      \u001b[1;31m#save_to_disk(\u001b[0m\u001b[1;33m\u001b[0m\u001b[1;33m\u001b[0m\u001b[0m\n",
      "\u001b[0m\u001b[1;32m     61 \u001b[1;33m      \u001b[1;31m#    self.metadata_df, self._get_metadata_filename())\u001b[0m\u001b[1;33m\u001b[0m\u001b[1;33m\u001b[0m\u001b[0m\n",
      "\u001b[0m\n"
     ]
    }
   ],
   "source": [
    "from deepchem.utils.dataset import Dataset\n",
    "train_dataset = Dataset(data_dir=train_dir, samples=train_samples, \n",
    "                        featurizers=featurizers, tasks=[\"measured log solubility in mols per litre\"])\n",
    "valid_dataset = Dataset(data_dir=valid_dir, samples=valid_samples, \n",
    "                        featurizers=featurizers, tasks=[\"measured log solubility in mols per litre\"])\n",
    "test_dataset = Dataset(data_dir=test_dir, samples=test_samples, \n",
    "                       featurizers=featurizers, tasks=[\"measured log solubility in mols per litre\"])"
   ]
  },
  {
   "cell_type": "markdown",
   "metadata": {},
   "source": [
    "The performance of common machine-learning algorithms can be very sensitive to preprocessing of the data. One common transformation applied to data is to normalize it to have zero-mean and unit-standard-deviation. We will apply this transformation to the log-solubility (as seen above, the log-solubility ranges from -12 to 2)."
   ]
  },
  {
   "cell_type": "code",
   "execution_count": 60,
   "metadata": {
    "collapsed": true
   },
   "outputs": [],
   "source": [
    "input_transforms = []\n",
    "output_transforms = [\"normalize\"]\n",
    "train_dataset.transform(input_transforms, output_transforms)\n",
    "valid_dataset.transform(input_transforms, output_transforms)\n",
    "test_dataset.transform(input_transforms, output_transforms)"
   ]
  },
  {
   "cell_type": "markdown",
   "metadata": {},
   "source": [
    "The next step after processing the data is to start fitting simple learning models to our data. `deepchem` provides a number of machine-learning model classes.\n",
    "\n",
    "In particular, `deepchem` provides a convenience class, ```SklearnModel``` that wraps any machine-learning model available in scikit-learn [6]. Consequently, we will start by building a simple random-forest regressor that attempts to predict the log-solubility from our computed ECFP4 features. To train the model, we instantiate the ```SklearnModel``` object, then call the ```fit()``` method on the ```train_dataset``` we constructed above. We then save the model to disk."
   ]
  },
  {
   "cell_type": "code",
   "execution_count": 22,
   "metadata": {
    "collapsed": false
   },
   "outputs": [
    {
     "ename": "IOError",
     "evalue": "[Errno 2] No such file or directory: u'/local-scratch/enf/19089/tmpZwr0sE/features_shard0-X-transformed.joblib'",
     "output_type": "error",
     "traceback": [
      "\u001b[1;31m---------------------------------------------------------------------------\u001b[0m",
      "\u001b[1;31mIOError\u001b[0m                                   Traceback (most recent call last)",
      "\u001b[1;32m<ipython-input-22-108152a144a8>\u001b[0m in \u001b[0;36m<module>\u001b[1;34m()\u001b[0m\n\u001b[0;32m      6\u001b[0m \u001b[0mmodel_params\u001b[0m \u001b[1;33m=\u001b[0m \u001b[1;33m{\u001b[0m\u001b[1;34m\"data_shape\"\u001b[0m\u001b[1;33m:\u001b[0m \u001b[0mtrain_dataset\u001b[0m\u001b[1;33m.\u001b[0m\u001b[0mget_data_shape\u001b[0m\u001b[1;33m(\u001b[0m\u001b[1;33m)\u001b[0m\u001b[1;33m}\u001b[0m\u001b[1;33m\u001b[0m\u001b[0m\n\u001b[0;32m      7\u001b[0m \u001b[0mmodel\u001b[0m \u001b[1;33m=\u001b[0m \u001b[0mSklearnModel\u001b[0m\u001b[1;33m(\u001b[0m\u001b[0mtask_types\u001b[0m\u001b[1;33m,\u001b[0m \u001b[0mmodel_params\u001b[0m\u001b[1;33m,\u001b[0m \u001b[0mmodel_instance\u001b[0m\u001b[1;33m=\u001b[0m\u001b[0mRandomForestRegressor\u001b[0m\u001b[1;33m(\u001b[0m\u001b[1;33m)\u001b[0m\u001b[1;33m)\u001b[0m\u001b[1;33m\u001b[0m\u001b[0m\n\u001b[1;32m----> 8\u001b[1;33m \u001b[0mmodel\u001b[0m\u001b[1;33m.\u001b[0m\u001b[0mfit\u001b[0m\u001b[1;33m(\u001b[0m\u001b[0mtrain_dataset\u001b[0m\u001b[1;33m)\u001b[0m\u001b[1;33m\u001b[0m\u001b[0m\n\u001b[0m\u001b[0;32m      9\u001b[0m \u001b[0mmodel\u001b[0m\u001b[1;33m.\u001b[0m\u001b[0msave\u001b[0m\u001b[1;33m(\u001b[0m\u001b[0mmodel_dir\u001b[0m\u001b[1;33m)\u001b[0m\u001b[1;33m\u001b[0m\u001b[0m\n\u001b[0;32m     10\u001b[0m \u001b[0mshutil\u001b[0m\u001b[1;33m.\u001b[0m\u001b[0mrmtree\u001b[0m\u001b[1;33m(\u001b[0m\u001b[0mmodel_dir\u001b[0m\u001b[1;33m)\u001b[0m\u001b[1;33m\u001b[0m\u001b[0m\n",
      "\u001b[1;32m/scratch/users/enf/deep-docking/deepchem/deepchem/models/standard.pyc\u001b[0m in \u001b[0;36mfit\u001b[1;34m(self, numpy_dataset)\u001b[0m\n\u001b[0;32m     36\u001b[0m     \"\"\"\n\u001b[0;32m     37\u001b[0m     \u001b[0mXs\u001b[0m\u001b[1;33m,\u001b[0m \u001b[0mys\u001b[0m \u001b[1;33m=\u001b[0m \u001b[1;33m[\u001b[0m\u001b[1;33m]\u001b[0m\u001b[1;33m,\u001b[0m \u001b[1;33m[\u001b[0m\u001b[1;33m]\u001b[0m\u001b[1;33m\u001b[0m\u001b[0m\n\u001b[1;32m---> 38\u001b[1;33m     \u001b[1;32mfor\u001b[0m \u001b[1;33m(\u001b[0m\u001b[0mX\u001b[0m\u001b[1;33m,\u001b[0m \u001b[0my\u001b[0m\u001b[1;33m,\u001b[0m \u001b[0m_\u001b[0m\u001b[1;33m,\u001b[0m \u001b[0m_\u001b[0m\u001b[1;33m)\u001b[0m \u001b[1;32min\u001b[0m \u001b[0mnumpy_dataset\u001b[0m\u001b[1;33m.\u001b[0m\u001b[0mitershards\u001b[0m\u001b[1;33m(\u001b[0m\u001b[1;33m)\u001b[0m\u001b[1;33m:\u001b[0m\u001b[1;33m\u001b[0m\u001b[0m\n\u001b[0m\u001b[0;32m     39\u001b[0m       \u001b[0mXs\u001b[0m\u001b[1;33m.\u001b[0m\u001b[0mappend\u001b[0m\u001b[1;33m(\u001b[0m\u001b[0mX\u001b[0m\u001b[1;33m)\u001b[0m\u001b[1;33m\u001b[0m\u001b[0m\n\u001b[0;32m     40\u001b[0m       \u001b[0mys\u001b[0m\u001b[1;33m.\u001b[0m\u001b[0mappend\u001b[0m\u001b[1;33m(\u001b[0m\u001b[0my\u001b[0m\u001b[1;33m)\u001b[0m\u001b[1;33m\u001b[0m\u001b[0m\n",
      "\u001b[1;32m/scratch/users/enf/deep-docking/deepchem/deepchem/utils/dataset.pyc\u001b[0m in \u001b[0;36mitershards\u001b[1;34m(self)\u001b[0m\n\u001b[0;32m    117\u001b[0m     \"\"\"\n\u001b[0;32m    118\u001b[0m     \u001b[1;32mfor\u001b[0m \u001b[0m_\u001b[0m\u001b[1;33m,\u001b[0m \u001b[0mrow\u001b[0m \u001b[1;32min\u001b[0m \u001b[0mself\u001b[0m\u001b[1;33m.\u001b[0m\u001b[0mmetadata_df\u001b[0m\u001b[1;33m.\u001b[0m\u001b[0miterrows\u001b[0m\u001b[1;33m(\u001b[0m\u001b[1;33m)\u001b[0m\u001b[1;33m:\u001b[0m\u001b[1;33m\u001b[0m\u001b[0m\n\u001b[1;32m--> 119\u001b[1;33m       \u001b[0mX\u001b[0m \u001b[1;33m=\u001b[0m \u001b[0mload_from_disk\u001b[0m\u001b[1;33m(\u001b[0m\u001b[0mrow\u001b[0m\u001b[1;33m[\u001b[0m\u001b[1;34m'X-transformed'\u001b[0m\u001b[1;33m]\u001b[0m\u001b[1;33m)\u001b[0m\u001b[1;33m\u001b[0m\u001b[0m\n\u001b[0m\u001b[0;32m    120\u001b[0m       \u001b[0my\u001b[0m \u001b[1;33m=\u001b[0m \u001b[0mload_from_disk\u001b[0m\u001b[1;33m(\u001b[0m\u001b[0mrow\u001b[0m\u001b[1;33m[\u001b[0m\u001b[1;34m'y-transformed'\u001b[0m\u001b[1;33m]\u001b[0m\u001b[1;33m)\u001b[0m\u001b[1;33m\u001b[0m\u001b[0m\n\u001b[0;32m    121\u001b[0m       \u001b[0mw\u001b[0m \u001b[1;33m=\u001b[0m \u001b[0mload_from_disk\u001b[0m\u001b[1;33m(\u001b[0m\u001b[0mrow\u001b[0m\u001b[1;33m[\u001b[0m\u001b[1;34m'w'\u001b[0m\u001b[1;33m]\u001b[0m\u001b[1;33m)\u001b[0m\u001b[1;33m\u001b[0m\u001b[0m\n",
      "\u001b[1;32m/scratch/users/enf/deep-docking/deepchem/deepchem/utils/save.pyc\u001b[0m in \u001b[0;36mload_from_disk\u001b[1;34m(filename)\u001b[0m\n\u001b[0;32m     32\u001b[0m     \u001b[1;32mreturn\u001b[0m \u001b[0mload_pickle_from_disk\u001b[0m\u001b[1;33m(\u001b[0m\u001b[0mfilename\u001b[0m\u001b[1;33m)\u001b[0m\u001b[1;33m\u001b[0m\u001b[0m\n\u001b[0;32m     33\u001b[0m   \u001b[1;32melif\u001b[0m \u001b[0mos\u001b[0m\u001b[1;33m.\u001b[0m\u001b[0mpath\u001b[0m\u001b[1;33m.\u001b[0m\u001b[0msplitext\u001b[0m\u001b[1;33m(\u001b[0m\u001b[0mname\u001b[0m\u001b[1;33m)\u001b[0m\u001b[1;33m[\u001b[0m\u001b[1;36m1\u001b[0m\u001b[1;33m]\u001b[0m \u001b[1;33m==\u001b[0m \u001b[1;34m\".joblib\"\u001b[0m\u001b[1;33m:\u001b[0m\u001b[1;33m\u001b[0m\u001b[0m\n\u001b[1;32m---> 34\u001b[1;33m     \u001b[1;32mreturn\u001b[0m \u001b[0mjoblib\u001b[0m\u001b[1;33m.\u001b[0m\u001b[0mload\u001b[0m\u001b[1;33m(\u001b[0m\u001b[0mfilename\u001b[0m\u001b[1;33m)\u001b[0m\u001b[1;33m\u001b[0m\u001b[0m\n\u001b[0m\u001b[0;32m     35\u001b[0m   \u001b[1;32melif\u001b[0m \u001b[0mos\u001b[0m\u001b[1;33m.\u001b[0m\u001b[0mpath\u001b[0m\u001b[1;33m.\u001b[0m\u001b[0msplitext\u001b[0m\u001b[1;33m(\u001b[0m\u001b[0mname\u001b[0m\u001b[1;33m)\u001b[0m\u001b[1;33m[\u001b[0m\u001b[1;36m1\u001b[0m\u001b[1;33m]\u001b[0m \u001b[1;33m==\u001b[0m \u001b[1;34m\".csv\"\u001b[0m\u001b[1;33m:\u001b[0m\u001b[1;33m\u001b[0m\u001b[0m\n\u001b[0;32m     36\u001b[0m     \u001b[1;31m# First line of user-specified CSV *must* be header.\u001b[0m\u001b[1;33m\u001b[0m\u001b[1;33m\u001b[0m\u001b[0m\n",
      "\u001b[1;32m/home/enf/anaconda/lib/python2.7/site-packages/sklearn/externals/joblib/numpy_pickle.pyc\u001b[0m in \u001b[0;36mload\u001b[1;34m(filename, mmap_mode)\u001b[0m\n\u001b[0;32m    407\u001b[0m     \u001b[0mfile\u001b[0m \u001b[0mwas\u001b[0m \u001b[0msaved\u001b[0m \u001b[1;32mwith\u001b[0m \u001b[0mcompression\u001b[0m\u001b[1;33m,\u001b[0m \u001b[0mthe\u001b[0m \u001b[0marrays\u001b[0m \u001b[0mcannot\u001b[0m \u001b[0mbe\u001b[0m \u001b[0mmemmaped\u001b[0m\u001b[1;33m.\u001b[0m\u001b[1;33m\u001b[0m\u001b[0m\n\u001b[0;32m    408\u001b[0m     \"\"\"\n\u001b[1;32m--> 409\u001b[1;33m     \u001b[1;32mwith\u001b[0m \u001b[0mopen\u001b[0m\u001b[1;33m(\u001b[0m\u001b[0mfilename\u001b[0m\u001b[1;33m,\u001b[0m \u001b[1;34m'rb'\u001b[0m\u001b[1;33m)\u001b[0m \u001b[1;32mas\u001b[0m \u001b[0mfile_handle\u001b[0m\u001b[1;33m:\u001b[0m\u001b[1;33m\u001b[0m\u001b[0m\n\u001b[0m\u001b[0;32m    410\u001b[0m         \u001b[1;31m# We are careful to open the file handle early and keep it open to\u001b[0m\u001b[1;33m\u001b[0m\u001b[1;33m\u001b[0m\u001b[0m\n\u001b[0;32m    411\u001b[0m         \u001b[1;31m# avoid race-conditions on renames. That said, if data are stored in\u001b[0m\u001b[1;33m\u001b[0m\u001b[1;33m\u001b[0m\u001b[0m\n",
      "\u001b[1;31mIOError\u001b[0m: [Errno 2] No such file or directory: u'/local-scratch/enf/19089/tmpZwr0sE/features_shard0-X-transformed.joblib'"
     ]
    }
   ],
   "source": [
    "from sklearn.ensemble import RandomForestRegressor\n",
    "from deepchem.models.standard import SklearnModel\n",
    "\n",
    "model_dir = tempfile.mkdtemp()\n",
    "task_types = {\"measured log solubility in mols per litre\": \"regression\"}\n",
    "model_params = {\"data_shape\": train_dataset.get_data_shape()}\n",
    "model = SklearnModel(task_types, model_params, model_instance=RandomForestRegressor())\n",
    "model.fit(train_dataset)\n",
    "model.save(model_dir)\n",
    "shutil.rmtree(model_dir)\n"
   ]
  },
  {
   "cell_type": "markdown",
   "metadata": {},
   "source": [
    "We next evaluate the model on the validation set to see its predictive power. `deepchem` provides the `Evaluator` class to facilitate this process. To evaluate the constructed `model` object, create a new `Evaluator` instance and call the `compute_model_performance()` method."
   ]
  },
  {
   "cell_type": "code",
   "execution_count": 64,
   "metadata": {
    "collapsed": false
   },
   "outputs": [
    {
     "name": "stdout",
     "output_type": "stream",
     "text": [
      "                                   task_name  r2_score  rms_error\n",
      "0  measured log solubility in mols per litre  0.176769    1.83992\n"
     ]
    }
   ],
   "source": [
    "from deepchem.utils.evaluate import Evaluator\n",
    "valid_csv_out = tempfile.NamedTemporaryFile()\n",
    "valid_stats_out = tempfile.NamedTemporaryFile()\n",
    "\n",
    "evaluator = Evaluator(model, valid_dataset)\n",
    "df, r2score = evaluator.compute_model_performance(\n",
    "    valid_csv_out, valid_stats_out)\n",
    "print(r2score)\n"
   ]
  },
  {
   "cell_type": "markdown",
   "metadata": {},
   "source": [
    "The performance of this basic random-forest model isn't very strong. To construct stronger models, let's attempt to optimize the hyperparameters (choices made in the model-specification) to achieve better performance. For random forests, we can tweak `n_estimators` which controls the number of trees in the forest, and `max_features` which controls the number of features to consider when performing a split. We now build a series of `SklearnModel`s with different choices for `n_estimators` and `max_features` and evaluate performance on the validation set."
   ]
  },
  {
   "cell_type": "code",
   "execution_count": 141,
   "metadata": {
    "collapsed": false
   },
   "outputs": [
    {
     "name": "stdout",
     "output_type": "stream",
     "text": [
      "n_estimators 10, max_features auto => Validation set R^2 0.305771\n",
      "n_estimators 10, max_features sqrt => Validation set R^2 0.327592\n",
      "n_estimators 10, max_features log2 => Validation set R^2 0.419252\n",
      "n_estimators 10, max_features None => Validation set R^2 0.278484\n",
      "n_estimators 100, max_features auto => Validation set R^2 0.251110\n",
      "n_estimators 100, max_features sqrt => Validation set R^2 0.471870\n",
      "n_estimators 100, max_features log2 => Validation set R^2 0.443198\n",
      "n_estimators 100, max_features None => Validation set R^2 0.259212\n",
      "n_estimators 500, max_features auto => Validation set R^2 0.267352\n",
      "n_estimators 500, max_features sqrt => Validation set R^2 0.448045\n",
      "n_estimators 500, max_features log2 => Validation set R^2 0.466974\n",
      "n_estimators 500, max_features None => Validation set R^2 0.272636\n",
      "Best hyperparameters: (100, 'sqrt')\n"
     ]
    }
   ],
   "source": [
    "import itertools\n",
    "\n",
    "n_estimators_list = [10, 100, 500]\n",
    "max_features_list = [\"auto\", \"sqrt\", \"log2\", None]\n",
    "hyperparameters = [n_estimators_list, max_features_list]\n",
    "best_validation_score = -np.inf\n",
    "best_hyperparams = None\n",
    "best_model, best_model_dir = None, None\n",
    "for hyperparameter_tuple in itertools.product(*hyperparameters):\n",
    "    n_estimators, max_features = hyperparameter_tuple\n",
    "    \n",
    "    model_dir = tempfile.mkdtemp()\n",
    "    model = SklearnModel(\n",
    "        task_types, model_params,\n",
    "        model_instance=RandomForestRegressor(n_estimators=n_estimators,\n",
    "                                             max_features=max_features))\n",
    "    model.fit(train_dataset)\n",
    "    model.save(model_dir)\n",
    "    \n",
    "    evaluator = Evaluator(model, valid_dataset)\n",
    "    df, r2score = evaluator.compute_model_performance(\n",
    "        valid_csv_out, valid_stats_out)\n",
    "    valid_r2_score = r2score.iloc[0][\"r2_score\"]\n",
    "    print(\"n_estimators %d, max_features %s => Validation set R^2 %f\" %\n",
    "          (n_estimators, str(max_features), valid_r2_score))\n",
    "    if valid_r2_score > best_validation_score:\n",
    "        best_validation_score = valid_r2_score\n",
    "        best_hyperparams = hyperparameter_tuple\n",
    "        if best_model_dir is not None:\n",
    "            shutil.rmtree(best_model_dir)\n",
    "        best_model_dir = model_dir\n",
    "        best_model = model\n",
    "    else:\n",
    "        shutil.rmtree(model_dir)\n",
    "\n",
    "print(\"Best hyperparameters: %s\" % str(best_hyperparams))\n",
    "best_rf_hyperparams = best_hyperparams\n",
    "best_rf = best_model"
   ]
  },
  {
   "cell_type": "markdown",
   "metadata": {},
   "source": [
    "The best model achieves significantly higher $R^2$ on the validation set than the first model we constructed. Now, let's perform the same sort of hyperparameter search, but with a simple deep-network instead."
   ]
  },
  {
   "cell_type": "code",
   "execution_count": 147,
   "metadata": {
    "collapsed": false
   },
   "outputs": [
    {
     "name": "stdout",
     "output_type": "stream",
     "text": [
      "lr_list\n",
      "[  1.12125384e-03   5.51758743e-03   3.75965456e-03   9.34933370e-05\n",
      "   1.85777405e-05]\n",
      "Testing (0.0011212538444611492, 100, 10, False, 0.0)\n",
      "Starting epoch 1\n",
      "Starting epoch 2\n",
      "Starting epoch 3\n",
      "Starting epoch 4\n",
      "Starting epoch 5\n",
      "Starting epoch 6\n",
      "Starting epoch 7\n",
      "Starting epoch 8\n",
      "Starting epoch 9\n",
      "Starting epoch 10\n",
      "learning_rate 0.001121, nb_hidden 100, nb_epoch 10, nesterov False, dropout 0.000000 => Validation set R^2 0.203314\n",
      "Testing (0.0011212538444611492, 100, 10, False, 0.25)\n",
      "Starting epoch 1\n",
      "Starting epoch 2\n",
      "Starting epoch 3\n",
      "Starting epoch 4\n",
      "Starting epoch 5\n",
      "Starting epoch 6\n",
      "Starting epoch 7\n",
      "Starting epoch 8\n",
      "Starting epoch 9\n",
      "Starting epoch 10\n",
      "learning_rate 0.001121, nb_hidden 100, nb_epoch 10, nesterov False, dropout 0.250000 => Validation set R^2 0.357918\n",
      "Testing (0.0011212538444611492, 100, 10, False, 0.5)\n",
      "Starting epoch 1\n",
      "Starting epoch 2\n",
      "Starting epoch 3\n",
      "Starting epoch 4\n",
      "Starting epoch 5\n",
      "Starting epoch 6\n",
      "Starting epoch 7\n",
      "Starting epoch 8\n",
      "Starting epoch 9\n",
      "Starting epoch 10\n",
      "learning_rate 0.001121, nb_hidden 100, nb_epoch 10, nesterov False, dropout 0.500000 => Validation set R^2 0.395000\n",
      "Testing (0.0011212538444611492, 100, 10, False, 0.75)\n",
      "Starting epoch 1\n",
      "Starting epoch 2\n",
      "Starting epoch 3\n",
      "Starting epoch 4\n",
      "Starting epoch 5\n",
      "Starting epoch 6\n",
      "Starting epoch 7\n",
      "Starting epoch 8\n",
      "Starting epoch 9\n",
      "Starting epoch 10\n",
      "learning_rate 0.001121, nb_hidden 100, nb_epoch 10, nesterov False, dropout 0.750000 => Validation set R^2 0.395798\n",
      "Testing (0.0055175874270435351, 100, 10, False, 0.0)\n",
      "Starting epoch 1\n",
      "Starting epoch 2\n",
      "Starting epoch 3\n",
      "Starting epoch 4\n",
      "Starting epoch 5\n",
      "Starting epoch 6\n",
      "Starting epoch 7\n",
      "Starting epoch 8\n",
      "Starting epoch 9\n",
      "Starting epoch 10\n",
      "learning_rate 0.005518, nb_hidden 100, nb_epoch 10, nesterov False, dropout 0.000000 => Validation set R^2 0.215655\n",
      "Testing (0.0055175874270435351, 100, 10, False, 0.25)\n",
      "Starting epoch 1\n",
      "Starting epoch 2\n",
      "Starting epoch 3\n",
      "Starting epoch 4\n",
      "Starting epoch 5\n",
      "Starting epoch 6\n",
      "Starting epoch 7\n",
      "Starting epoch 8\n",
      "Starting epoch 9\n",
      "Starting epoch 10\n",
      "learning_rate 0.005518, nb_hidden 100, nb_epoch 10, nesterov False, dropout 0.250000 => Validation set R^2 0.389452\n",
      "Testing (0.0055175874270435351, 100, 10, False, 0.5)\n",
      "Starting epoch 1\n",
      "Starting epoch 2\n",
      "Starting epoch 3\n",
      "Starting epoch 4\n",
      "Starting epoch 5\n",
      "Starting epoch 6\n",
      "Starting epoch 7\n",
      "Starting epoch 8\n",
      "Starting epoch 9\n",
      "Starting epoch 10\n",
      "learning_rate 0.005518, nb_hidden 100, nb_epoch 10, nesterov False, dropout 0.500000 => Validation set R^2 0.401802\n",
      "Testing (0.0055175874270435351, 100, 10, False, 0.75)\n",
      "Starting epoch 1\n",
      "Starting epoch 2\n",
      "Starting epoch 3\n",
      "Starting epoch 4\n",
      "Starting epoch 5\n",
      "Starting epoch 6\n",
      "Starting epoch 7\n",
      "Starting epoch 8\n",
      "Starting epoch 9\n",
      "Starting epoch 10\n",
      "learning_rate 0.005518, nb_hidden 100, nb_epoch 10, nesterov False, dropout 0.750000 => Validation set R^2 0.401824\n",
      "Testing (0.0037596545566852138, 100, 10, False, 0.0)\n",
      "Starting epoch 1\n",
      "Starting epoch 2\n",
      "Starting epoch 3\n",
      "Starting epoch 4\n",
      "Starting epoch 5\n",
      "Starting epoch 6\n",
      "Starting epoch 7\n",
      "Starting epoch 8\n",
      "Starting epoch 9\n",
      "Starting epoch 10\n",
      "learning_rate 0.003760, nb_hidden 100, nb_epoch 10, nesterov False, dropout 0.000000 => Validation set R^2 0.207145\n",
      "Testing (0.0037596545566852138, 100, 10, False, 0.25)\n",
      "Starting epoch 1\n",
      "Starting epoch 2\n",
      "Starting epoch 3\n",
      "Starting epoch 4\n",
      "Starting epoch 5\n",
      "Starting epoch 6\n",
      "Starting epoch 7\n",
      "Starting epoch 8\n",
      "Starting epoch 9\n",
      "Starting epoch 10\n",
      "learning_rate 0.003760, nb_hidden 100, nb_epoch 10, nesterov False, dropout 0.250000 => Validation set R^2 0.398401\n",
      "Testing (0.0037596545566852138, 100, 10, False, 0.5)\n",
      "Starting epoch 1\n",
      "Starting epoch 2\n",
      "Starting epoch 3\n",
      "Starting epoch 4\n",
      "Starting epoch 5\n",
      "Starting epoch 6\n",
      "Starting epoch 7\n",
      "Starting epoch 8\n",
      "Starting epoch 9\n",
      "Starting epoch 10\n",
      "learning_rate 0.003760, nb_hidden 100, nb_epoch 10, nesterov False, dropout 0.500000 => Validation set R^2 0.414763\n",
      "Testing (0.0037596545566852138, 100, 10, False, 0.75)\n",
      "Starting epoch 1\n",
      "Starting epoch 2\n",
      "Starting epoch 3\n",
      "Starting epoch 4\n",
      "Starting epoch 5\n",
      "Starting epoch 6\n",
      "Starting epoch 7\n",
      "Starting epoch 8\n",
      "Starting epoch 9\n",
      "Starting epoch 10\n",
      "learning_rate 0.003760, nb_hidden 100, nb_epoch 10, nesterov False, dropout 0.750000 => Validation set R^2 0.446210\n",
      "Testing (9.3493337034238281e-05, 100, 10, False, 0.0)\n",
      "Starting epoch 1\n",
      "Starting epoch 2\n",
      "Starting epoch 3\n",
      "Starting epoch 4\n",
      "Starting epoch 5\n",
      "Starting epoch 6\n",
      "Starting epoch 7\n",
      "Starting epoch 8\n",
      "Starting epoch 9\n",
      "Starting epoch 10\n",
      "learning_rate 0.000093, nb_hidden 100, nb_epoch 10, nesterov False, dropout 0.000000 => Validation set R^2 0.170371\n",
      "Testing (9.3493337034238281e-05, 100, 10, False, 0.25)\n",
      "Starting epoch 1\n",
      "Starting epoch 2\n",
      "Starting epoch 3\n",
      "Starting epoch 4\n",
      "Starting epoch 5\n",
      "Starting epoch 6\n",
      "Starting epoch 7\n",
      "Starting epoch 8\n",
      "Starting epoch 9\n",
      "Starting epoch 10\n",
      "learning_rate 0.000093, nb_hidden 100, nb_epoch 10, nesterov False, dropout 0.250000 => Validation set R^2 0.228162\n",
      "Testing (9.3493337034238281e-05, 100, 10, False, 0.5)\n",
      "Starting epoch 1\n",
      "Starting epoch 2\n",
      "Starting epoch 3\n",
      "Starting epoch 4\n",
      "Starting epoch 5\n",
      "Starting epoch 6\n",
      "Starting epoch 7\n",
      "Starting epoch 8\n",
      "Starting epoch 9\n",
      "Starting epoch 10\n",
      "learning_rate 0.000093, nb_hidden 100, nb_epoch 10, nesterov False, dropout 0.500000 => Validation set R^2 0.148650\n",
      "Testing (9.3493337034238281e-05, 100, 10, False, 0.75)\n",
      "Starting epoch 1\n",
      "Starting epoch 2\n",
      "Starting epoch 3\n",
      "Starting epoch 4\n",
      "Starting epoch 5\n",
      "Starting epoch 6\n",
      "Starting epoch 7\n",
      "Starting epoch 8\n",
      "Starting epoch 9\n",
      "Starting epoch 10\n",
      "learning_rate 0.000093, nb_hidden 100, nb_epoch 10, nesterov False, dropout 0.750000 => Validation set R^2 0.203523\n",
      "Testing (1.8577740504128131e-05, 100, 10, False, 0.0)\n",
      "Starting epoch 1\n",
      "Starting epoch 2\n",
      "Starting epoch 3\n",
      "Starting epoch 4\n",
      "Starting epoch 5\n",
      "Starting epoch 6\n",
      "Starting epoch 7\n",
      "Starting epoch 8\n",
      "Starting epoch 9\n",
      "Starting epoch 10\n",
      "learning_rate 0.000019, nb_hidden 100, nb_epoch 10, nesterov False, dropout 0.000000 => Validation set R^2 0.077826\n",
      "Testing (1.8577740504128131e-05, 100, 10, False, 0.25)\n",
      "Starting epoch 1\n",
      "Starting epoch 2\n",
      "Starting epoch 3\n",
      "Starting epoch 4\n",
      "Starting epoch 5\n",
      "Starting epoch 6\n",
      "Starting epoch 7\n",
      "Starting epoch 8\n",
      "Starting epoch 9\n",
      "Starting epoch 10\n",
      "learning_rate 0.000019, nb_hidden 100, nb_epoch 10, nesterov False, dropout 0.250000 => Validation set R^2 0.066918\n",
      "Testing (1.8577740504128131e-05, 100, 10, False, 0.5)\n",
      "Starting epoch 1\n",
      "Starting epoch 2\n",
      "Starting epoch 3\n",
      "Starting epoch 4\n",
      "Starting epoch 5\n",
      "Starting epoch 6\n",
      "Starting epoch 7\n",
      "Starting epoch 8\n",
      "Starting epoch 9\n",
      "Starting epoch 10\n",
      "learning_rate 0.000019, nb_hidden 100, nb_epoch 10, nesterov False, dropout 0.500000 => Validation set R^2 0.044817\n",
      "Testing (1.8577740504128131e-05, 100, 10, False, 0.75)\n",
      "Starting epoch 1\n",
      "Starting epoch 2\n",
      "Starting epoch 3\n",
      "Starting epoch 4\n",
      "Starting epoch 5\n",
      "Starting epoch 6\n",
      "Starting epoch 7\n",
      "Starting epoch 8\n",
      "Starting epoch 9\n",
      "Starting epoch 10\n",
      "learning_rate 0.000019, nb_hidden 100, nb_epoch 10, nesterov False, dropout 0.750000 => Validation set R^2 -0.022335\n",
      "Best hyperparameters: (0.0037596545566852138, 100, 10, False, 0.75)\n",
      "best_validation_score: 0.446210\n"
     ]
    }
   ],
   "source": [
    "from deepchem.models.deep import SingleTaskDNN\n",
    "import numpy.random\n",
    "\n",
    "model_params = {\"activation\": \"relu\",\n",
    "                \"dropout\": 0.5,\n",
    "                \"momentum\": .9, \"nesterov\": True,\n",
    "                \"decay\": 1e-4, \"batch_size\": 5,\n",
    "                \"nb_epoch\": 10,\n",
    "                \"init\": \"glorot_uniform\",\n",
    "                \"data_shape\": train_dataset.get_data_shape()}\n",
    "\n",
    "lr_list = np.power(10., 4*np.random.uniform(size=5)-5)\n",
    "print(\"lr_list\")\n",
    "print(lr_list)\n",
    "nb_hidden_list = [100]\n",
    "nb_epoch_list = [10]\n",
    "nesterov_list = [False]\n",
    "dropout_list = [0., .25, .5, .75]\n",
    "hyperparameters = [lr_list, nb_hidden_list, nb_epoch_list, nesterov_list, dropout_list]\n",
    "best_validation_score = -np.inf\n",
    "best_hyperparams = None\n",
    "best_model, best_model_dir = None, None\n",
    "for hyperparameter_tuple in itertools.product(*hyperparameters):\n",
    "    print(\"Testing %s\" % str(hyperparameter_tuple))\n",
    "    lr, nb_hidden, nb_epoch, nesterov, dropout = hyperparameter_tuple\n",
    "    model_params[\"nb_hidden\"] = nb_hidden\n",
    "    model_params[\"learning_rate\"] = lr\n",
    "    model_params[\"nb_epoch\"] = nb_epoch\n",
    "    model_params[\"nesterov\"] = nesterov\n",
    "    model_params[\"dropout\"] = dropout\n",
    "    model_dir = tempfile.mkdtemp()\n",
    "    model = SingleTaskDNN(task_types, model_params)\n",
    "    model.fit(train_dataset)\n",
    "    model.save(model_dir)\n",
    "    \n",
    "    evaluator = Evaluator(model, valid_dataset)\n",
    "    df, r2score = evaluator.compute_model_performance(\n",
    "        valid_csv_out, valid_stats_out)\n",
    "    valid_r2_score = r2score.iloc[0][\"r2_score\"]\n",
    "    print(\"learning_rate %f, nb_hidden %d, nb_epoch %d, nesterov %s, dropout %f => Validation set R^2 %f\" %\n",
    "          (lr, nb_hidden, nb_epoch, str(nesterov), dropout, valid_r2_score))\n",
    "    if valid_r2_score > best_validation_score:\n",
    "        best_validation_score = valid_r2_score\n",
    "        best_hyperparams = hyperparameter_tuple\n",
    "        if best_model_dir is not None:\n",
    "            shutil.rmtree(best_model_dir)\n",
    "        best_model_dir = model_dir\n",
    "        best_model = model\n",
    "    else:\n",
    "        shutil.rmtree(model_dir)\n",
    "\n",
    "print(\"Best hyperparameters: %s\" % str(best_hyperparams))\n",
    "print(\"best_validation_score: %f\" % best_validation_score)\n",
    "best_dnn = best_model"
   ]
  },
  {
   "cell_type": "markdown",
   "metadata": {},
   "source": [
    "Now that we have a reasonable choice of hyperparameters, let's evaluate the performance of our best models on the test-set."
   ]
  },
  {
   "cell_type": "code",
   "execution_count": 149,
   "metadata": {
    "collapsed": false
   },
   "outputs": [
    {
     "name": "stdout",
     "output_type": "stream",
     "text": [
      "RF Test set R^2 0.464968\n"
     ]
    }
   ],
   "source": [
    "rf_test_csv_out = tempfile.NamedTemporaryFile()\n",
    "rf_test_stats_out = tempfile.NamedTemporaryFile()\n",
    "rf_test_evaluator = Evaluator(best_rf, test_dataset)\n",
    "rf_test_df, rf_test_r2score = rf_test_evaluator.compute_model_performance(\n",
    "    rf_test_csv_out, rf_test_stats_out)\n",
    "rf_test_r2_score = rf_test_r2score.iloc[0][\"r2_score\"]\n",
    "print(\"RF Test set R^2 %f\" % (rf_test_r2_score))"
   ]
  },
  {
   "cell_type": "code",
   "execution_count": 150,
   "metadata": {
    "collapsed": false
   },
   "outputs": [
    {
     "name": "stdout",
     "output_type": "stream",
     "text": [
      "DNN Test set R^2 0.470761\n"
     ]
    }
   ],
   "source": [
    "dnn_test_csv_out = tempfile.NamedTemporaryFile()\n",
    "dnn_test_stats_out = tempfile.NamedTemporaryFile()\n",
    "dnn_test_evaluator = Evaluator(best_dnn, test_dataset)\n",
    "dnn_test_df, dnn_test_r2score = test_evaluator.compute_model_performance(\n",
    "    dnn_test_csv_out, dnn_test_stats_out)\n",
    "dnn_test_r2_score = dnn_test_r2score.iloc[0][\"r2_score\"]\n",
    "print(\"DNN Test set R^2 %f\" % (dnn_test_r2_score))"
   ]
  },
  {
   "cell_type": "markdown",
   "metadata": {},
   "source": [
    "Now, let's plot the predicted $R^2$ scores versus the true $R^2$ scores for the constructed model."
   ]
  },
  {
   "cell_type": "code",
   "execution_count": 151,
   "metadata": {
    "collapsed": false
   },
   "outputs": [
    {
     "data": {
      "image/png": "[encoded data removed]",
      "text/plain": [
       "<matplotlib.figure.Figure at 0x7fe872ab3910>"
      ]
     },
     "metadata": {},
     "output_type": "display_data"
    }
   ],
   "source": [
    "task = \"measured log solubility in mols per litre\"\n",
    "rf_predicted_test = np.array(rf_test_df[task + \"_pred\"])\n",
    "rf_true_test = np.array(rf_test_df[task])\n",
    "plt.scatter(rf_predicted_test, rf_true_test)\n",
    "plt.xlabel('Predicted log-solubility in mols/liter')\n",
    "plt.ylabel('True log-solubility in mols/liter')\n",
    "plt.title(r'RF- predicted vs. true log-solubilities')\n",
    "plt.show()"
   ]
  },
  {
   "cell_type": "code",
   "execution_count": 152,
   "metadata": {
    "collapsed": false
   },
   "outputs": [
    {
     "data": {
      "image/png": "[encoded data removed]",
      "text/plain": [
       "<matplotlib.figure.Figure at 0x7fe8727cc6d0>"
      ]
     },
     "metadata": {},
     "output_type": "display_data"
    }
   ],
   "source": [
    "task = \"measured log solubility in mols per litre\"\n",
    "predicted_test = np.array(test_df[task + \"_pred\"])\n",
    "true_test = np.array(test_df[task])\n",
    "plt.scatter(predicted_test, true_test)\n",
    "plt.xlabel('Predicted log-solubility in mols/liter')\n",
    "plt.ylabel('True log-solubility in mols/liter')\n",
    "plt.title(r'DNN predicted vs. true log-solubilities')\n",
    "plt.show()"
   ]
  },
  {
   "cell_type": "markdown",
   "metadata": {},
   "source": [
    "[1] John S. Delaney. ESOL: Estimating aqueous solubility directly from molecular structure. Journal\n",
    "of Chemical Information and Computer Sciences, 44(3):1000–1005, 2004.\n",
    "\n",
    "[2] Anderson, Eric, Gilman D. Veith, and David Weininger. SMILES, a line notation and computerized\n",
    "interpreter for chemical structures. US Environmental Protection Agency, Environmental Research Laboratory, 1987.\n",
    "\n",
    "[3] Rogers, David, and Mathew Hahn. \"Extended-connectivity fingerprints.\" Journal of chemical information\n",
    "and modeling 50.5 (2010): 742-754.\n",
    "    \n",
    "[4] Van Der Walt, Stefan, S. Chris Colbert, and Gael Varoquaux.\n",
    "\"The NumPy array:a structure for efficient numerical computation.\" Computing in Science & Engineering 13.2 (2011): 22-30.\n",
    "    \n",
    "[5] Bemis, Guy W., and Mark A. Murcko. \"The properties of known drugs. 1. Molecular frameworks.\"\n",
    "Journal of medicinal chemistry 39.15 (1996): 2887-2893.\n",
    "\n",
    "[6] Pedregosa, Fabian, et al. \"Scikit-learn: Machine learning in Python.\" The Journal of Machine Learning Research 12 (2011): 2825-2830."
   ]
  },
  {
   "cell_type": "code",
   "execution_count": null,
   "metadata": {
    "collapsed": true
   },
   "outputs": [],
   "source": []
  }
 ],
 "metadata": {
  "kernelspec": {
   "display_name": "Python 2",
   "language": "python",
   "name": "python2"
  },
  "language_info": {
   "codemirror_mode": {
    "name": "ipython",
    "version": 2
   },
   "file_extension": ".py",
   "mimetype": "text/x-python",
   "name": "python",
   "nbconvert_exporter": "python",
   "pygments_lexer": "ipython2",
   "version": "2.7.11"
  }
 },
 "nbformat": 4,
 "nbformat_minor": 0
}
