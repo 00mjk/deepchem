{
 "cells": [
  {
   "cell_type": "markdown",
   "metadata": {},
   "source": [
    "Written by Bharath Ramsundar and Evan Feinberg\n",
    "\n",
    "Copyright 2016, Stanford University\n"
   ]
  },
  {
   "cell_type": "markdown",
   "metadata": {},
   "source": [
    "Computationally predicting molecular solubility through is useful for drug-discovery. In this tutorial, we will use the `deepchem` library to fit a simple statistical model that predicts the solubility of drug-like compounds. The process of fitting this model involves four steps:\n",
    "\n",
    "1. Loading a chemical dataset, consisting of a series of compounds along with aqueous solubility measurements.\n",
    "2. Transforming each compound into a feature vector $v \\in \\mathbb{R}^n$ comprehensible to statistical learning methods.\n",
    "3. Fitting a simple model that maps feature vectors to estimates of aqueous solubility.\n",
    "4. Visualizing the results."
   ]
  },
  {
   "cell_type": "markdown",
   "metadata": {},
   "source": [
    "We need to load a dataset of estimated aqueous solubility measurements [1] into deepchem. The data is in CSV format and contains SMILES strings, predicted aqueaous solubilities, and a number of extraneous (for our purposes) molecular properties. Here is an example line from the dataset:\n",
    "\n",
    "|Compound ID|ESOL predicted log solubility in mols per litre|Minimum Degree|Molecular Weight|Number of H-Bond Donors|Number of Rings|Number of Rotatable Bonds|Polar Surface Area|measured log solubility in mols per litre|smiles|\n",
    "|-----------|-----------------------------------------------|--------------|----------------|----------------------------|---------------|-------------------------|-----------------------------------------------------------------------|------|\n",
    "|benzothiazole|-2.733|2|135.191|0|2|0|12.89|-1.5|c2ccc1scnc1c2|\n",
    "\n",
    "Most of these fields are not useful for our purposes. The two fields that we will need are the \"smiles\" field and the \"measured log solubility in mols per litre\". The \"smiles\" field holds a SMILES string [2] that specifies the compound in question. Before we load this data into deepchem, we will load the data into python and do some simple preliminary analysis to gain some intuition for the dataset. "
   ]
  },
  {
   "cell_type": "code",
   "execution_count": null,
   "metadata": {
    "collapsed": false
   },
   "outputs": [],
   "source": [
    "%autoreload 2\n",
    "from deepchem.utils.save import load_from_disk\n",
    "\n",
    "dataset_file= \"../datasets/delaney-processed.csv\"\n",
    "dataset = load_from_disk(dataset_file)\n",
    "print(\"Columns of dataset: %s\" % str(dataset.columns.values))\n",
    "print(\"Number of examples in dataset: %s\" % str(dataset.shape[0]))"
   ]
  },
  {
   "cell_type": "markdown",
   "metadata": {},
   "source": [
    "To gain a visual understanding of compounds in our dataset, let's draw them using rdkit."
   ]
  },
  {
   "cell_type": "code",
   "execution_count": 49,
   "metadata": {
    "collapsed": false
   },
   "outputs": [
    {
     "data": {
      "text/html": [
       "<img style='width: 140px; margin: 0px; float: left; border: 1px solid black;' src='test0.png' /><img style='width: 140px; margin: 0px; float: left; border: 1px solid black;' src='test1.png' /><img style='width: 140px; margin: 0px; float: left; border: 1px solid black;' src='test10.png' /><img style='width: 140px; margin: 0px; float: left; border: 1px solid black;' src='test11.png' /><img style='width: 140px; margin: 0px; float: left; border: 1px solid black;' src='test2.png' /><img style='width: 140px; margin: 0px; float: left; border: 1px solid black;' src='test3.png' /><img style='width: 140px; margin: 0px; float: left; border: 1px solid black;' src='test4.png' /><img style='width: 140px; margin: 0px; float: left; border: 1px solid black;' src='test5.png' /><img style='width: 140px; margin: 0px; float: left; border: 1px solid black;' src='test6.png' /><img style='width: 140px; margin: 0px; float: left; border: 1px solid black;' src='test7.png' /><img style='width: 140px; margin: 0px; float: left; border: 1px solid black;' src='test8.png' /><img style='width: 140px; margin: 0px; float: left; border: 1px solid black;' src='test9.png' />"
      ],
      "text/plain": [
       "<IPython.core.display.HTML object>"
      ]
     },
     "metadata": {},
     "output_type": "display_data"
    }
   ],
   "source": [
    "import tempfile\n",
    "from rdkit import Chem\n",
    "from rdkit.Chem import Draw\n",
    "from IPython.display import Image, HTML, display\n",
    "\n",
    "def display_images(filenames):\n",
    "    \"\"\"Helper to pretty-print images.\"\"\"\n",
    "    imagesList=''.join(\n",
    "        [\"<img style='width: 140px; margin: 0px; float: left; border: 1px solid black;' src='%s' />\"\n",
    "         % str(s) for s in sorted(filenames)])\n",
    "    display(HTML(imagesList))\n",
    "\n",
    "num_to_display = 12\n",
    "filenames = []\n",
    "for i, data in dataset.iterrows():\n",
    "    if i >= num_to_display:\n",
    "        break\n",
    "    filename = \"test%d.png\" % i\n",
    "    Draw.MolToFile(Chem.MolFromSmiles(data[\"smiles\"]), filename)\n",
    "    filenames.append(filename)\n",
    "display_images(filenames)"
   ]
  },
  {
   "cell_type": "markdown",
   "metadata": {},
   "source": [
    "Analyzing the distribution of solubilities shows us a nice spread of data."
   ]
  },
  {
   "cell_type": "code",
   "execution_count": 50,
   "metadata": {
    "collapsed": false
   },
   "outputs": [
    {
     "data": {
      "image/png": "[encoded data removed]",
      "text/plain": [
       "<matplotlib.figure.Figure at 0x7fe886febe10>"
      ]
     },
     "metadata": {},
     "output_type": "display_data"
    }
   ],
   "source": [
    "%matplotlib inline\n",
    "import matplotlib\n",
    "import numpy as np\n",
    "import matplotlib.pyplot as plt\n",
    "\n",
    "solubilities = np.array(dataset[\"measured log solubility in mols per litre\"])\n",
    "n, bins, patches = plt.hist(solubilities, 50, facecolor='green', alpha=0.75)\n",
    "plt.xlabel('Measured log-solubility in mols/liter')\n",
    "plt.ylabel('Number of compounds')\n",
    "plt.title(r'Histogram of solubilities')\n",
    "plt.grid(True)\n",
    "plt.show()\n"
   ]
  },
  {
   "cell_type": "markdown",
   "metadata": {},
   "source": [
    "With our preliminary analysis completed, we return to the original goal of constructing a predictive statistical model of molecular solubility using `deepchem`. The first step in creating such a molecule is translating each compound into a vectorial format that can be understood by statistical learning techniques. This process is commonly called featurization. `deepchem` packages a number of commonly used featurization for user convenience. In this tutorial, we will use ECPF4 fingeprints [3].\n",
    "\n",
    "`deepchem` offers an object-oriented API for featurization. To get started with featurization, we first construct a ```Featurizer``` object. `deepchem` provides the ```CircularFingeprint``` class (a subclass of ```Featurizer``` that performs ECFP4 featurization).\n"
   ]
  },
  {
   "cell_type": "code",
   "execution_count": 51,
   "metadata": {
    "collapsed": false
   },
   "outputs": [],
   "source": [
    "from deepchem.featurizers.fingerprints import CircularFingerprint\n",
    "\n",
    "featurizers = [CircularFingerprint(size=1024)]"
   ]
  },
  {
   "cell_type": "markdown",
   "metadata": {},
   "source": [
    "Now, let's perform the actual featurization. `deepchem` provides the ```DataFeaturizer``` class for this purpose. The ```featurize()``` method for this class loads data from disk and uses provided ```Featurizer```instances to transform the provided data into feature vectors. The method constructs an instance of class ```FeaturizedSamples``` that has useful methods, such as an iterator, over the featurized data."
   ]
  },
  {
   "cell_type": "code",
   "execution_count": 52,
   "metadata": {
    "collapsed": false
   },
   "outputs": [],
   "source": [
    "import tempfile, shutil\n",
    "from deepchem.featurizers.featurize import DataFeaturizer\n",
    "\n",
    "#Make directories to store the raw and featurized datasets.\n",
    "feature_dir = tempfile.mkdtemp()\n",
    "samples_dir = tempfile.mkdtemp()\n",
    "\n",
    "featurizer = DataFeaturizer(tasks=[\"measured log solubility in mols per litre\"],\n",
    "                            smiles_field=\"smiles\",\n",
    "                            compound_featurizers=featurizers)\n",
    "featurized_samples = featurizer.featurize(dataset_file, feature_dir, samples_dir)"
   ]
  },
  {
   "cell_type": "markdown",
   "metadata": {},
   "source": [
    "When constructing statistical models, it's necessary to separate the provided data into train/test subsets. The train subset is used to learn the statistical model, while the test subset is used to evaluate the learned model. In practice, it's often useful to elaborate this split further and perform a train/validation/test split. The validation set is used to perform model selection. Proposed models are evaluated on the validation-set, and the best performed model is at the end tested on the test-set.\n",
    "\n",
    "Choosing the proper method of performing a train/validation/test split can be challenging. Standard machine learning practice \n",
    "\n",
    "Now, we conduct a train-test split. If you'd like, you can choose `splittype=\"scaffold\"` instead to perform a train-test split based on Bemis-Murcko scaffolds."
   ]
  },
  {
   "cell_type": "code",
   "execution_count": 9,
   "metadata": {
    "collapsed": false
   },
   "outputs": [],
   "source": [
    "splittype = \"random\"\n",
    "train_dir, test_dir = tempfile.mkdtemp(), tempfile.mkdtemp()\n",
    "\n",
    "\n",
    "train_samples, test_samples = featurized_samples.train_test_split(\n",
    "    splittype, train_dir, test_dir)"
   ]
  },
  {
   "cell_type": "markdown",
   "metadata": {},
   "source": [
    "We generate separate instances of the Dataset() object to hermetically seal the train dataset from the test dataset. This style lends itself easily to validation-set type hyperparameter searches, which we will illustate in a separate tutorial. "
   ]
  },
  {
   "cell_type": "code",
   "execution_count": 14,
   "metadata": {
    "collapsed": false
   },
   "outputs": [],
   "source": [
    "from deepchem.utils.dataset import Dataset\n",
    "train_dataset = Dataset(data_dir=train_dir, samples=train_samples, \n",
    "                        featurizers=featurizers, tasks=[\"label\"])\n",
    "test_dataset = Dataset(data_dir=test_dir, samples=test_samples, \n",
    "                       featurizers=featurizers, tasks=[\"label\"])"
   ]
  },
  {
   "cell_type": "markdown",
   "metadata": {},
   "source": [
    "The performance of many ML algorithms hinges greatly on careful data preprocessing. Deepchem comes standard with a few options for such preprocessing."
   ]
  },
  {
   "cell_type": "code",
   "execution_count": 15,
   "metadata": {
    "collapsed": true
   },
   "outputs": [],
   "source": [
    "input_transforms = [\"normalize\", \"truncate\"]\n",
    "output_transforms = [\"normalize\"]\n",
    "train_dataset.transform(input_transforms, output_transforms)\n",
    "test_dataset.transform(input_transforms, output_transforms)"
   ]
  },
  {
   "cell_type": "markdown",
   "metadata": {},
   "source": [
    "Now, we're ready to do some learning! To set up a model, we will need: (a) a dictionary ```task_types``` that maps a task, in this case ```label```, i.e. the Ki, to the type of the task, in this case ```regression```. For the multitask use case, one will have a series of keys, each of which is a different task (Ki, solubility, renal half-life, etc.) that maps to a different task type (regression or classification).\n",
    "\n",
    "To fit a deepchem model, first we instantiate one of the provided (or user-written) model classes. In this case, we have a created a convenience class to wrap around any ML model available in Sci-Kit Learn that can in turn be used to interoperate with deepchem. To instantiate an ```SklearnModel```, you will need (a) task_types, (b) model_params, another ```dict``` as illustrated below, and (c) a ```model_instance``` defining the type of model you would like to fit, in this case a ```RandomForestRegressor```."
   ]
  },
  {
   "cell_type": "code",
   "execution_count": 17,
   "metadata": {
    "collapsed": false
   },
   "outputs": [],
   "source": [
    "task_types = {\"label\": \"regression\"}\n",
    "model_params = {\"data_shape\": train_dataset.get_data_shape()}\n",
    "\n",
    "from sklearn.ensemble import RandomForestRegressor\n",
    "from deepchem.models.standard import SklearnModel\n",
    "model = SklearnModel(task_types, model_params, model_instance=RandomForestRegressor())\n",
    "model.fit(train_dataset)\n",
    "model_dir = tempfile.mkdtemp()\n",
    "model.save(model_dir)"
   ]
  },
  {
   "cell_type": "code",
   "execution_count": 19,
   "metadata": {
    "collapsed": false
   },
   "outputs": [
    {
     "name": "stdout",
     "output_type": "stream",
     "text": [
      "Saving predictions to <open file '<fdopen>', mode 'w+b' at 0x7f9aeae9ac00>\n",
      "Saving model performance scores to <open file '<fdopen>', mode 'w+b' at 0x7f9aeae9ab70>\n"
     ]
    }
   ],
   "source": [
    "from deepchem.utils.evaluate import Evaluator\n",
    "evaluator = Evaluator(model, train_dataset, verbose=True)\n",
    "with tempfile.NamedTemporaryFile() as train_csv_out:\n",
    "  with tempfile.NamedTemporaryFile() as train_stats_out:\n",
    "    df, r2score = evaluator.compute_model_performance(\n",
    "        train_csv_out, train_stats_out)\n"
   ]
  },
  {
   "cell_type": "code",
   "execution_count": 21,
   "metadata": {
    "collapsed": false
   },
   "outputs": [
    {
     "data": {
      "text/html": [
       "<div>\n",
       "<table border=\"1\" class=\"dataframe\">\n",
       "  <thead>\n",
       "    <tr style=\"text-align: right;\">\n",
       "      <th></th>\n",
       "      <th>task_name</th>\n",
       "      <th>r2_score</th>\n",
       "      <th>rms_error</th>\n",
       "    </tr>\n",
       "  </thead>\n",
       "  <tbody>\n",
       "    <tr>\n",
       "      <th>0</th>\n",
       "      <td>label</td>\n",
       "      <td>0.826262</td>\n",
       "      <td>0.939944</td>\n",
       "    </tr>\n",
       "  </tbody>\n",
       "</table>\n",
       "</div>"
      ],
      "text/plain": [
       "  task_name  r2_score  rms_error\n",
       "0     label  0.826262   0.939944"
      ]
     },
     "execution_count": 21,
     "metadata": {},
     "output_type": "execute_result"
    }
   ],
   "source": [
    "r2score"
   ]
  },
  {
   "cell_type": "markdown",
   "metadata": {},
   "source": [
    "While we have computed three separate featurizations -- ECFP4, RDKitDescriptors, and NNScore -- in this example we choose to use the RDKitDescriptors featurization. This will serve as a baseline as you apply more advanced featurization schemes."
   ]
  },
  {
   "cell_type": "markdown",
   "metadata": {},
   "source": [
    "It is essential for many ML methods, depending on the data type, to perform preprocessing in order to attain optimal performance. Here, we choose to normalize and truncate the inputs (X, the featurized complexes) while normalizing the output (y, the binding affinities):"
   ]
  },
  {
   "cell_type": "markdown",
   "metadata": {},
   "source": [
    "To recap, the initial dataset has now been featurized, split into train and test sets, and transformed. We are now ready to learn some chemistry! To warm up, let's apply a more traditional but quite robust statistical learning technique: random forests."
   ]
  },
  {
   "cell_type": "markdown",
   "metadata": {},
   "source": [
    "Now that we've fit an Random Forest Regressor on the data, let's evaluate its performance:"
   ]
  },
  {
   "cell_type": "markdown",
   "metadata": {},
   "source": [
    "Let's compare this to performance with a deep neural network."
   ]
  },
  {
   "cell_type": "code",
   "execution_count": null,
   "metadata": {
    "collapsed": true
   },
   "outputs": [],
   "source": [
    "from deepchem.models import Model\n",
    "\n",
    "task_type = \"regression\"\n",
    "model_params = {\"activation\": \"relu\",\n",
    "              \"dropout\": 0.,\n",
    "              \"momentum\": .9, \"nesterov\": False,\n",
    "              \"decay\": 1e-4, \"batch_size\": 5,\n",
    "              \"nb_epoch\": 10}\n",
    "model_name = \"singletask_deep_regressor\"\n",
    "\n",
    "nb_hidden_vals = [10, 100]\n",
    "learning_rate_vals = [.01, .001]\n",
    "init_vals = [\"glorot_uniform\"]\n",
    "hyperparameters = [nb_hidden_vals, learning_rate_vals, init_vals]\n",
    "hyperparameter_rows = []\n",
    "for hyperparameter_tuple in itertools.product(*hyperparameters):\n",
    "    nb_hidden, learning_rate, init = hyperparameter_tuple\n",
    "    model_params[\"nb_hidden\"] = nb_hidden\n",
    "    model_params[\"learning_rate\"] = learning_rate\n",
    "    model_params[\"init\"] = init\n",
    "\n",
    "    model_dir = tempfile.mkdtemp()\n",
    "\n",
    "    r2_score = create_and_eval_model(train_dataset, test_dataset, task_type,\n",
    "                                     model_params, model_name, model_dir, tasks)\n",
    "\n",
    "    print(\"%s: %s\" % (hyperparameter_tuple, r2_score))\n",
    "    hyperparameter_rows.append(list(hyperparameter_tuple) + [r2_score])\n",
    "\n",
    "    shutil.rmtree(model_dir)\n",
    "\n",
    "hyperparameter_df = pd.DataFrame(hyperparameter_rows,\n",
    "                               columns=('nb_hidden', 'learning_rate',\n",
    "                                        'init', 'r2_score'))\n",
    "\n",
    "hyperparameter_df"
   ]
  },
  {
   "cell_type": "code",
   "execution_count": null,
   "metadata": {
    "collapsed": true
   },
   "outputs": [],
   "source": [
    "[1] John S. Delaney. ESOL: Estimating aqueous solubility directly from molecular structure. Journal\n",
    "of Chemical Information and Computer Sciences, 44(3):1000–1005, 2004.\n",
    "\n",
    "[2] Anderson, Eric, Gilman D. Veith, and David Weininger. SMILES, a line notation and computerized\n",
    "interpreter for chemical structures. US Environmental Protection Agency, Environmental Research Laboratory, 1987.\n",
    "\n",
    "[3] Rogers, David, and Mathew Hahn. \"Extended-connectivity fingerprints.\" Journal of chemical information\n",
    "and modeling 50.5 (2010): 742-754.\n",
    "    \n",
    "[4] Van Der Walt, Stefan, S. Chris Colbert, and Gael Varoquaux.\n",
    "\"The NumPy array:a structure for efficient numerical computation.\" Computing in Science & Engineering 13.2 (2011): 22-30."
   ]
  }
 ],
 "metadata": {
  "kernelspec": {
   "display_name": "Python 2",
   "language": "python",
   "name": "python2"
  },
  "language_info": {
   "codemirror_mode": {
    "name": "ipython",
    "version": 2
   },
   "file_extension": ".py",
   "mimetype": "text/x-python",
   "name": "python",
   "nbconvert_exporter": "python",
   "pygments_lexer": "ipython2",
   "version": "2.7.11"
  }
 },
 "nbformat": 4,
 "nbformat_minor": 0
}
