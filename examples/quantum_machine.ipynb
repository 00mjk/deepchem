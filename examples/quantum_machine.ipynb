{
 "cells": [
  {
   "cell_type": "markdown",
   "metadata": {
    "collapsed": true
   },
   "source": [
    "Setting up imports"
   ]
  },
  {
   "cell_type": "code",
   "execution_count": 1,
   "metadata": {
    "collapsed": false
   },
   "outputs": [
    {
     "name": "stdout",
     "output_type": "stream",
     "text": [
      "Automatic pdb calling has been turned OFF\n"
     ]
    },
    {
     "name": "stderr",
     "output_type": "stream",
     "text": [
      "Using Theano backend.\n"
     ]
    }
   ],
   "source": [
    "%load_ext autoreload\n",
    "%autoreload 2\n",
    "%pdb off\n",
    "from __future__ import print_function\n",
    "from __future__ import division\n",
    "from __future__ import unicode_literals\n",
    "\n",
    "__author__ = \"Joseph Gomes\"\n",
    "__copyright__ = \"Copyright 2016, Stanford University\"\n",
    "__license__ = \"LGPL\"\n",
    "\n",
    "import os\n",
    "import unittest\n",
    "import tempfile\n",
    "import shutil\n",
    "\n",
    "import numpy as np\n",
    "import numpy.random\n",
    "\n",
    "from deepchem.utils.evaluate import Evaluator\n",
    "from deepchem.featurizers.featurize import DataFeaturizer\n",
    "from deepchem.featurizers.featurize import FeaturizedSamples\n",
    "from deepchem.hyperparameters import HyperparamOpt\n",
    "from deepchem.models import Model\n",
    "from deepchem.models.deep import SingleTaskDNN\n",
    "from deepchem.models.sklearn_models import SklearnModel\n",
    "from deepchem.transformers import NormalizationTransformer\n",
    "from deepchem.datasets import Dataset\n",
    "from deepchem.utils.evaluate import Evaluator\n",
    "\n",
    "from sklearn.ensemble import RandomForestRegressor\n",
    "from sklearn.kernel_ridge import KernelRidge"
   ]
  },
  {
   "cell_type": "markdown",
   "metadata": {},
   "source": [
    "Creating temporary directories"
   ]
  },
  {
   "cell_type": "code",
   "execution_count": 2,
   "metadata": {
    "collapsed": true
   },
   "outputs": [],
   "source": [
    "feature_dir = tempfile.mkdtemp()\n",
    "samples_dir = tempfile.mkdtemp()\n",
    "train_dir = tempfile.mkdtemp()\n",
    "valid_dir = tempfile.mkdtemp()\n",
    "test_dir = tempfile.mkdtemp()\n",
    "model_dir = tempfile.mkdtemp()"
   ]
  },
  {
   "cell_type": "markdown",
   "metadata": {},
   "source": [
    "Setting up model variables"
   ]
  },
  {
   "cell_type": "code",
   "execution_count": 3,
   "metadata": {
    "collapsed": true
   },
   "outputs": [],
   "source": [
    "splittype = \"random\"\n",
    "compound_featurizers = []\n",
    "complex_featurizers = []\n",
    "feature_types = [\"user_specified_features\"]\n",
    "user_specified_features = [\"evals\"]\n",
    "task_types = {\"u0_atom\": \"regression\"}\n",
    "#input_file = \"../datasets/gdb7k.csv\"\n",
    "input_file = \"../datasets/gdb7k.pkl.gz\"\n",
    "smiles_field = \"smiles\"\n",
    "protein_pdb_field = None\n",
    "ligand_pdb_field = None"
   ]
  },
  {
   "cell_type": "markdown",
   "metadata": {},
   "source": [
    "Load featurized data"
   ]
  },
  {
   "cell_type": "code",
   "execution_count": 4,
   "metadata": {
    "collapsed": false
   },
   "outputs": [],
   "source": [
    "featurizers = compound_featurizers + complex_featurizers\n",
    "featurizer = DataFeaturizer(tasks=task_types.keys(),\n",
    "                            smiles_field=smiles_field,\n",
    "                            protein_pdb_field=protein_pdb_field,\n",
    "                            ligand_pdb_field=ligand_pdb_field,\n",
    "                            compound_featurizers=compound_featurizers,\n",
    "                            complex_featurizers=complex_featurizers,\n",
    "                            user_specified_features=user_specified_features,\n",
    "                            verbose=False)\n",
    "featurized_samples = featurizer.featurize(input_file, feature_dir, samples_dir)"
   ]
  },
  {
   "cell_type": "markdown",
   "metadata": {},
   "source": [
    "Perform Train, Validation, and Testing Split"
   ]
  },
  {
   "cell_type": "code",
   "execution_count": 5,
   "metadata": {
    "collapsed": false
   },
   "outputs": [],
   "source": [
    "train_samples, valid_samples, test_samples = featurized_samples.train_valid_test_split(\n",
    "    splittype, train_dir, valid_dir, test_dir)"
   ]
  },
  {
   "cell_type": "markdown",
   "metadata": {},
   "source": [
    "Creating datasets"
   ]
  },
  {
   "cell_type": "code",
   "execution_count": 6,
   "metadata": {
    "collapsed": false
   },
   "outputs": [
    {
     "name": "stderr",
     "output_type": "stream",
     "text": [
      "/home/joegomes/deepchem/deepchem/datasets/__init__.py:252: UnicodeWarning: Unicode equal comparison failed to convert both arguments to Unicode - interpreting them as being unequal\n",
      "  if features[feature_ind] == \"\":\n",
      "/home/joegomes/deepchem/deepchem/datasets/__init__.py:260: UnicodeWarning: Unicode equal comparison failed to convert both arguments to Unicode - interpreting them as being unequal\n",
      "  if y[ind, task] == \"\":\n"
     ]
    }
   ],
   "source": [
    "train_dataset = Dataset(data_dir=train_dir, samples=train_samples, \n",
    "                        featurizers=featurizers, tasks=task_types.keys(),\n",
    "                        use_user_specified_features=True)\n",
    "valid_dataset = Dataset(data_dir=valid_dir, samples=valid_samples, \n",
    "                        featurizers=featurizers, tasks=task_types.keys(),\n",
    "                        use_user_specified_features=True)\n",
    "test_dataset = Dataset(data_dir=test_dir, samples=test_samples, \n",
    "                       featurizers=featurizers, tasks=task_types.keys(),\n",
    "                       use_user_specified_features=True)"
   ]
  },
  {
   "cell_type": "markdown",
   "metadata": {},
   "source": [
    "Transforming datasets"
   ]
  },
  {
   "cell_type": "code",
   "execution_count": 7,
   "metadata": {
    "collapsed": false
   },
   "outputs": [],
   "source": [
    "input_transformers = [NormalizationTransformer(transform_X=True, dataset=train_dataset)]\n",
    "output_transformers = [NormalizationTransformer(transform_y=True, dataset=train_dataset)]\n",
    "transformers = input_transformers + output_transformers\n",
    "for transformer in transformers:\n",
    "    transformer.transform(train_dataset)\n",
    "for transformer in transformers:\n",
    "    transformer.transform(valid_dataset)\n",
    "for transformer in transformers:\n",
    "    transformer.transform(test_dataset)"
   ]
  },
  {
   "cell_type": "markdown",
   "metadata": {
    "collapsed": true
   },
   "source": [
    "Fit Random Forest with hyperparameter search"
   ]
  },
  {
   "cell_type": "code",
   "execution_count": 8,
   "metadata": {
    "collapsed": false
   },
   "outputs": [
    {
     "name": "stdout",
     "output_type": "stream",
     "text": [
      "Model 0/8, Metric mae, Validation set 0: 14.402511\n",
      "\tbest_validation_score so  far: 14.402511\n",
      "Model 1/8, Metric mae, Validation set 1: 18.296759\n",
      "\tbest_validation_score so  far: 14.402511\n",
      "Model 2/8, Metric mae, Validation set 2: 18.351203\n",
      "\tbest_validation_score so  far: 14.402511\n",
      "Model 3/8, Metric mae, Validation set 3: 14.947294\n",
      "\tbest_validation_score so  far: 14.402511\n",
      "Model 4/8, Metric mae, Validation set 4: 14.215261\n",
      "\tbest_validation_score so  far: 14.215261\n",
      "Model 5/8, Metric mae, Validation set 5: 16.048053\n",
      "\tbest_validation_score so  far: 14.215261\n",
      "Model 6/8, Metric mae, Validation set 6: 16.323176\n",
      "\tbest_validation_score so  far: 14.215261\n",
      "Model 7/8, Metric mae, Validation set 7: 14.138251\n",
      "\tbest_validation_score so  far: 14.138251\n",
      "Best hyperparameters: [(u'n_estimators', 100), (u'data_shape', (23,)), (u'max_features', None)]\n",
      "train_score: 5.003712\n",
      "validation_score: 14.138251\n"
     ]
    }
   ],
   "source": [
    "def model_builder(task_types, params_dict, verbosity):\n",
    "    n_estimators = params_dict[\"n_estimators\"]\n",
    "    max_features = params_dict[\"max_features\"]\n",
    "    return SklearnModel(\n",
    "        task_types, params_dict,\n",
    "        model_instance=RandomForestRegressor(n_estimators=n_estimators,\n",
    "                                             max_features=max_features))\n",
    "params_dict = {\n",
    "    \"n_estimators\": [10, 100],\n",
    "    \"data_shape\": [train_dataset.get_data_shape()],\n",
    "    \"max_features\": [\"auto\", \"sqrt\", \"log2\", None],\n",
    "    }\n",
    "optimizer = HyperparamOpt(model_builder, task_types)\n",
    "best_rf, best_rf_hyperparams, all_rf_results = optimizer.hyperparam_search(\n",
    "    params_dict, train_dataset, valid_dataset, output_transformers, metric=\"mae\", use_max=False)"
   ]
  },
  {
   "cell_type": "markdown",
   "metadata": {},
   "source": [
    "Compute train/valid/test set mean absolute error for best RF hyperparameters"
   ]
  },
  {
   "cell_type": "code",
   "execution_count": 9,
   "metadata": {
    "collapsed": false
   },
   "outputs": [
    {
     "name": "stdout",
     "output_type": "stream",
     "text": [
      "RF Train set MAE 5.003712\n",
      "RF Valid set MAE 14.138251\n",
      "RF Test set MAE error 13.182236\n"
     ]
    }
   ],
   "source": [
    "rf_train_csv_out = \"rf_train_regressor.csv\"\n",
    "rf_train_stats_out = \"rf_train_stats_regressor.txt\"\n",
    "rf_train_evaluator = Evaluator(best_rf, train_dataset, output_transformers)\n",
    "rf_train_df, rf_train_mae = rf_train_evaluator.compute_model_performance(\n",
    "    rf_train_csv_out, rf_train_stats_out)\n",
    "rf_train_mae = rf_train_mae.iloc[0][\"mae\"]\n",
    "print(\"RF Train set MAE %f\" % (rf_train_mae))\n",
    "\n",
    "rf_valid_csv_out = \"rf_valid_regressor.csv\"\n",
    "rf_valid_stats_out = \"rf_valid_stats_regressor.txt\"\n",
    "rf_valid_evaluator = Evaluator(best_rf, valid_dataset, output_transformers)\n",
    "rf_valid_df, rf_valid_mae = rf_valid_evaluator.compute_model_performance(\n",
    "    rf_valid_csv_out, rf_valid_stats_out)\n",
    "rf_valid_mae = rf_valid_mae.iloc[0][\"mae\"]\n",
    "print(\"RF Valid set MAE %f\" % (rf_valid_mae))\n",
    "\n",
    "rf_test_csv_out = \"rf_test_regressor.csv\"\n",
    "rf_test_stats_out = \"rf_test_stats_regressor.txt\"\n",
    "rf_test_evaluator = Evaluator(best_rf, test_dataset, output_transformers)\n",
    "rf_test_df, rf_test_mae = rf_test_evaluator.compute_model_performance(\n",
    "    rf_test_csv_out, rf_test_stats_out)\n",
    "rf_test_mae = rf_test_mae.iloc[0][\"mae\"]\n",
    "print(\"RF Test set MAE error %f\" % (rf_test_mae))"
   ]
  },
  {
   "cell_type": "markdown",
   "metadata": {},
   "source": [
    "Fit Kernal Ridge Regression with hyperparameter search"
   ]
  },
  {
   "cell_type": "code",
   "execution_count": 10,
   "metadata": {
    "collapsed": false
   },
   "outputs": [
    {
     "name": "stdout",
     "output_type": "stream",
     "text": [
      "Model 0/32, Metric mae, Validation set 0: 17.442589\n",
      "\tbest_validation_score so  far: 17.442589\n",
      "Model 1/32, Metric mae, Validation set 1: 20.738077\n",
      "\tbest_validation_score so  far: 17.442589\n",
      "Model 2/32, Metric mae, Validation set 2: 24.711658\n",
      "\tbest_validation_score so  far: 17.442589\n",
      "Model 3/32, Metric mae, Validation set 3: 28.887619\n",
      "\tbest_validation_score so  far: 17.442589\n",
      "Model 4/32, Metric mae, Validation set 4: 11.886870\n",
      "\tbest_validation_score so  far: 11.886870\n",
      "Model 5/32, Metric mae, Validation set 5: 13.795266\n",
      "\tbest_validation_score so  far: 11.886870\n",
      "Model 6/32, Metric mae, Validation set 6: 16.789905\n",
      "\tbest_validation_score so  far: 11.886870\n",
      "Model 7/32, Metric mae, Validation set 7: 20.518218\n",
      "\tbest_validation_score so  far: 11.886870\n",
      "Model 8/32, Metric mae, Validation set 8: 10.047228\n",
      "\tbest_validation_score so  far: 10.047228\n",
      "Model 9/32, Metric mae, Validation set 9: 10.179862\n",
      "\tbest_validation_score so  far: 10.047228\n",
      "Model 10/32, Metric mae, Validation set 10: 11.114865\n",
      "\tbest_validation_score so  far: 10.047228\n",
      "Model 11/32, Metric mae, Validation set 11: 13.676673\n",
      "\tbest_validation_score so  far: 10.047228\n",
      "Model 12/32, Metric mae, Validation set 12: 12.853101\n",
      "\tbest_validation_score so  far: 10.047228\n",
      "Model 13/32, Metric mae, Validation set 13: 11.392317\n",
      "\tbest_validation_score so  far: 10.047228\n",
      "Model 14/32, Metric mae, Validation set 14: 11.119340\n",
      "\tbest_validation_score so  far: 10.047228\n",
      "Model 15/32, Metric mae, Validation set 15: 12.525421\n",
      "\tbest_validation_score so  far: 10.047228\n",
      "Model 16/32, Metric mae, Validation set 16: 10.393173\n",
      "\tbest_validation_score so  far: 10.047228\n",
      "Model 17/32, Metric mae, Validation set 17: 10.541343\n",
      "\tbest_validation_score so  far: 10.047228\n",
      "Model 18/32, Metric mae, Validation set 18: 13.208075\n",
      "\tbest_validation_score so  far: 10.047228\n",
      "Model 19/32, Metric mae, Validation set 19: 22.621189\n",
      "\tbest_validation_score so  far: 10.047228\n",
      "Model 20/32, Metric mae, Validation set 20: 10.372002\n",
      "\tbest_validation_score so  far: 10.047228\n",
      "Model 21/32, Metric mae, Validation set 21: 10.068803\n",
      "\tbest_validation_score so  far: 10.047228\n",
      "Model 22/32, Metric mae, Validation set 22: 10.350311\n",
      "\tbest_validation_score so  far: 10.047228\n",
      "Model 23/32, Metric mae, Validation set 23: 13.182704\n",
      "\tbest_validation_score so  far: 10.047228\n",
      "Model 24/32, Metric mae, Validation set 24: 9.738578\n",
      "\tbest_validation_score so  far: 9.738578\n",
      "Model 25/32, Metric mae, Validation set 25: 9.414958\n",
      "\tbest_validation_score so  far: 9.414958\n",
      "Model 26/32, Metric mae, Validation set 26: 9.458250\n",
      "\tbest_validation_score so  far: 9.414958\n",
      "Model 27/32, Metric mae, Validation set 27: 10.039154\n",
      "\tbest_validation_score so  far: 9.414958\n",
      "Model 28/32, Metric mae, Validation set 28: 9.295678\n",
      "\tbest_validation_score so  far: 9.295678\n",
      "Model 29/32, Metric mae, Validation set 29: 9.296774\n",
      "\tbest_validation_score so  far: 9.295678\n",
      "Model 30/32, Metric mae, Validation set 30: 9.319664\n",
      "\tbest_validation_score so  far: 9.295678\n",
      "Model 31/32, Metric mae, Validation set 31: 9.702773\n",
      "\tbest_validation_score so  far: 9.295678\n",
      "Best hyperparameters: [(u'kernel', u'laplacian'), (u'gamma', 0.1), (u'alpha', 0.0001)]\n",
      "train_score: 0.011386\n",
      "validation_score: 9.295678\n"
     ]
    }
   ],
   "source": [
    "def model_builder(task_types, params_dict, verbosity):\n",
    "    kernel = params_dict[\"kernel\"]\n",
    "    alpha = params_dict[\"alpha\"]\n",
    "    gamma = params_dict[\"gamma\"]\n",
    "    return SklearnModel(\n",
    "        task_types, params_dict,\n",
    "        model_instance=KernelRidge(alpha=alpha,kernel=kernel,gamma=gamma))\n",
    "params_dict = {\n",
    "    \"kernel\": [\"rbf\", \"laplacian\"],\n",
    "    \"alpha\": [0.0001,0.001,0.01,0.1],\n",
    "    \"gamma\": [0.0001,0.001,0.01,0.1]\n",
    "    }\n",
    "optimizer = HyperparamOpt(model_builder, task_types)\n",
    "best_krr, best_krr_hyperparams, all_krr_results = optimizer.hyperparam_search(\n",
    "    params_dict, train_dataset, valid_dataset, output_transformers, metric=\"mae\", use_max=False)"
   ]
  },
  {
   "cell_type": "markdown",
   "metadata": {},
   "source": [
    "Compute train/valid/test set mean absolute error for best KRR hyperparameters"
   ]
  },
  {
   "cell_type": "code",
   "execution_count": 11,
   "metadata": {
    "collapsed": false
   },
   "outputs": [
    {
     "name": "stdout",
     "output_type": "stream",
     "text": [
      "KRR Train set MAE 0.011386\n",
      "KRR Valid set MAE 9.295678\n",
      "KRR Test set MAE error 8.475528\n"
     ]
    }
   ],
   "source": [
    "krr_train_csv_out = \"krr_train_regressor.csv\"\n",
    "krr_train_stats_out = \"krr_train_stats_regressor.txt\"\n",
    "krr_train_evaluator = Evaluator(best_krr, train_dataset, output_transformers)\n",
    "krr_train_df, krr_train_mae = krr_train_evaluator.compute_model_performance(\n",
    "    krr_train_csv_out, krr_train_stats_out)\n",
    "krr_train_mae = krr_train_mae.iloc[0][\"mae\"]\n",
    "print(\"KRR Train set MAE %f\" % (krr_train_mae))\n",
    "\n",
    "krr_valid_csv_out = \"krr_valid_regressor.csv\"\n",
    "krr_valid_stats_out = \"krr_valid_stats_regressor.txt\"\n",
    "krr_valid_evaluator = Evaluator(best_krr, valid_dataset, output_transformers)\n",
    "krr_valid_df, krr_valid_mae = krr_valid_evaluator.compute_model_performance(\n",
    "    krr_valid_csv_out, krr_valid_stats_out)\n",
    "krr_valid_mae = krr_valid_mae.iloc[0][\"mae\"]\n",
    "print(\"KRR Valid set MAE %f\" % (krr_valid_mae))\n",
    "\n",
    "krr_test_csv_out = \"krr_test_regressor.csv\"\n",
    "krr_test_stats_out = \"krr_test_stats_regressor.txt\"\n",
    "krr_test_evaluator = Evaluator(best_krr, test_dataset, output_transformers)\n",
    "krr_test_df, krr_test_mae = krr_test_evaluator.compute_model_performance(\n",
    "    krr_test_csv_out, krr_test_stats_out)\n",
    "krr_test_mae = krr_test_mae.iloc[0][\"mae\"]\n",
    "print(\"KRR Test set MAE error %f\" % (krr_test_mae))"
   ]
  },
  {
   "cell_type": "markdown",
   "metadata": {},
   "source": [
    "Fit Single-task DNN with hyperparameter search"
   ]
  },
  {
   "cell_type": "code",
   "execution_count": 12,
   "metadata": {
    "collapsed": false
   },
   "outputs": [
    {
     "name": "stdout",
     "output_type": "stream",
     "text": [
      "Model 0/50, Metric mae, Validation set 0: 16.893898\n",
      "\tbest_validation_score so  far: 16.893898\n",
      "Model 1/50, Metric mae, Validation set 1: 23.639633\n",
      "\tbest_validation_score so  far: 16.893898\n",
      "Model 2/50, Metric mae, Validation set 2: 16.960870\n",
      "\tbest_validation_score so  far: 16.893898\n",
      "Model 3/50, Metric mae, Validation set 3: 18.988264\n",
      "\tbest_validation_score so  far: 16.893898\n",
      "Model 4/50, Metric mae, Validation set 4: nan\n",
      "\tbest_validation_score so  far: 16.893898\n",
      "Model 5/50, Metric mae, Validation set 5: 16.960815\n",
      "\tbest_validation_score so  far: 16.893898\n",
      "Model 6/50, Metric mae, Validation set 6: 24.852288\n",
      "\tbest_validation_score so  far: 16.893898\n",
      "Model 7/50, Metric mae, Validation set 7: 16.984414\n",
      "\tbest_validation_score so  far: 16.893898\n",
      "Model 8/50, Metric mae, Validation set 8: 19.151421\n",
      "\tbest_validation_score so  far: 16.893898\n",
      "Model 9/50, Metric mae, Validation set 9: nan\n",
      "\tbest_validation_score so  far: 16.893898\n",
      "Model 10/50, Metric mae, Validation set 10: 16.896120\n",
      "\tbest_validation_score so  far: 16.893898\n",
      "Model 11/50, Metric mae, Validation set 11: 24.065200\n",
      "\tbest_validation_score so  far: 16.893898\n",
      "Model 12/50, Metric mae, Validation set 12: 16.554714\n",
      "\tbest_validation_score so  far: 16.554714\n",
      "Model 13/50, Metric mae, Validation set 13: 18.615458\n",
      "\tbest_validation_score so  far: 16.554714\n",
      "Model 14/50, Metric mae, Validation set 14: nan\n",
      "\tbest_validation_score so  far: 16.554714\n",
      "Model 15/50, Metric mae, Validation set 15: 16.691008\n",
      "\tbest_validation_score so  far: 16.554714\n",
      "Model 16/50, Metric mae, Validation set 16: 26.785887\n",
      "\tbest_validation_score so  far: 16.554714\n",
      "Model 17/50, Metric mae, Validation set 17: 16.968494\n",
      "\tbest_validation_score so  far: 16.554714\n",
      "Model 18/50, Metric mae, Validation set 18: 19.024821\n",
      "\tbest_validation_score so  far: 16.554714\n",
      "Model 19/50, Metric mae, Validation set 19: nan\n",
      "\tbest_validation_score so  far: 16.554714\n",
      "Model 20/50, Metric mae, Validation set 20: 16.655503\n",
      "\tbest_validation_score so  far: 16.554714\n",
      "Model 21/50, Metric mae, Validation set 21: 24.454552\n",
      "\tbest_validation_score so  far: 16.554714\n",
      "Model 22/50, Metric mae, Validation set 22: 16.901522\n",
      "\tbest_validation_score so  far: 16.554714\n",
      "Model 23/50, Metric mae, Validation set 23: 18.608702\n",
      "\tbest_validation_score so  far: 16.554714\n",
      "Model 24/50, Metric mae, Validation set 24: nan\n",
      "\tbest_validation_score so  far: 16.554714\n",
      "Model 25/50, Metric mae, Validation set 25: 16.109592\n",
      "\tbest_validation_score so  far: 16.109592\n",
      "Model 26/50, Metric mae, Validation set 26: 24.653540\n",
      "\tbest_validation_score so  far: 16.109592\n",
      "Model 27/50, Metric mae, Validation set 27: 16.385990\n",
      "\tbest_validation_score so  far: 16.109592\n",
      "Model 28/50, Metric mae, Validation set 28: 17.936302\n",
      "\tbest_validation_score so  far: 16.109592\n",
      "Model 29/50, Metric mae, Validation set 29: 19.840381\n",
      "\tbest_validation_score so  far: 16.109592\n",
      "Model 30/50, Metric mae, Validation set 30: 15.977344\n",
      "\tbest_validation_score so  far: 15.977344\n",
      "Model 31/50, Metric mae, Validation set 31: 24.147172\n",
      "\tbest_validation_score so  far: 15.977344\n",
      "Model 32/50, Metric mae, Validation set 32: 16.176972\n",
      "\tbest_validation_score so  far: 15.977344\n",
      "Model 33/50, Metric mae, Validation set 33: 18.216468\n",
      "\tbest_validation_score so  far: 15.977344\n",
      "Model 34/50, Metric mae, Validation set 34: 18.203847\n",
      "\tbest_validation_score so  far: 15.977344\n",
      "Model 35/50, Metric mae, Validation set 35: 16.190024\n",
      "\tbest_validation_score so  far: 15.977344\n",
      "Model 36/50, Metric mae, Validation set 36: 23.095421\n",
      "\tbest_validation_score so  far: 15.977344\n",
      "Model 37/50, Metric mae, Validation set 37: 16.383400\n",
      "\tbest_validation_score so  far: 15.977344\n",
      "Model 38/50, Metric mae, Validation set 38: 18.372743\n",
      "\tbest_validation_score so  far: 15.977344\n",
      "Model 39/50, Metric mae, Validation set 39: nan\n",
      "\tbest_validation_score so  far: 15.977344\n",
      "Model 40/50, Metric mae, Validation set 40: 16.185664\n",
      "\tbest_validation_score so  far: 15.977344\n",
      "Model 41/50, Metric mae, Validation set 41: 25.150945\n",
      "\tbest_validation_score so  far: 15.977344\n",
      "Model 42/50, Metric mae, Validation set 42: 16.227827\n",
      "\tbest_validation_score so  far: 15.977344\n",
      "Model 43/50, Metric mae, Validation set 43: 18.775972\n",
      "\tbest_validation_score so  far: 15.977344\n",
      "Model 44/50, Metric mae, Validation set 44: 20.465551\n",
      "\tbest_validation_score so  far: 15.977344\n",
      "Model 45/50, Metric mae, Validation set 45: 15.957421\n",
      "\tbest_validation_score so  far: 15.957421\n",
      "Model 46/50, Metric mae, Validation set 46: 23.816754\n",
      "\tbest_validation_score so  far: 15.957421\n",
      "Model 47/50, Metric mae, Validation set 47: 16.067526\n",
      "\tbest_validation_score so  far: 15.957421\n",
      "Model 48/50, Metric mae, Validation set 48: 18.219173\n",
      "\tbest_validation_score so  far: 15.957421\n",
      "Model 49/50, Metric mae, Validation set 49: 32.712455\n",
      "\tbest_validation_score so  far: 15.957421\n",
      "Best hyperparameters: [(u'data_shape', (23,)), (u'activation', u'relu'), (u'batch_size', 50), (u'nb_layers', 2), (u'decay', 2.1082531264299641e-05), (u'nesterov', True), (u'nb_epoch', 50), (u'learning_rate', 0.0010809218725085883), (u'init', u'glorot_uniform'), (u'nb_hidden', 1000), (u'batchnorm', False), (u'dropout', 0.1), (u'momentum', 0.9)]\n",
      "train_score: 15.519322\n",
      "validation_score: 15.957421\n"
     ]
    }
   ],
   "source": [
    "np.random.seed()\n",
    "params_dict = {\"activation\": [\"relu\"],\n",
    "                \"momentum\": [.9],\n",
    "                \"batch_size\": [50],\n",
    "                \"init\": [\"glorot_uniform\"],\n",
    "                \"data_shape\": [train_dataset.get_data_shape()],\n",
    "                \"learning_rate\": np.power(10., np.random.uniform(-5, -2, size=5)),\n",
    "                \"decay\": np.power(10., np.random.uniform(-6, -4, size=5)),\n",
    "                \"nb_hidden\": [1000],\n",
    "                \"nb_epoch\": [50],\n",
    "                \"nesterov\": [True],\n",
    "                \"dropout\": [.1],\n",
    "                \"nb_layers\": [1, 2],\n",
    "                \"batchnorm\": [False],\n",
    "              }\n",
    "\n",
    "optimizer = HyperparamOpt(SingleTaskDNN, task_types)\n",
    "best_dnn, best_hyperparams, all_results = optimizer.hyperparam_search(\n",
    "    params_dict, train_dataset, valid_dataset, output_transformers, metric=\"mae\", \n",
    "    use_max=False, verbosity=None)"
   ]
  },
  {
   "cell_type": "markdown",
   "metadata": {},
   "source": [
    "Compute train/valid/test set mean absolute error for best DNN hyperparameters"
   ]
  },
  {
   "cell_type": "code",
   "execution_count": 13,
   "metadata": {
    "collapsed": false
   },
   "outputs": [
    {
     "name": "stdout",
     "output_type": "stream",
     "text": [
      "DNN Train set MAE error 15.519321\n",
      "DNN Valid set MAE error 15.957421\n",
      "DNN Test set MAE error 16.124620\n"
     ]
    }
   ],
   "source": [
    "dnn_train_csv_out = \"dnn_train_regressor.csv\"\n",
    "dnn_train_stats_out = \"dnn_train_regressor_stats.txt\"\n",
    "dnn_train_evaluator = Evaluator(best_dnn, train_dataset, output_transformers)\n",
    "dnn_train_df, dnn_train_mae = dnn_train_evaluator.compute_model_performance(\n",
    "    dnn_train_csv_out, dnn_train_stats_out)\n",
    "dnn_train_mae = dnn_train_mae.iloc[0][\"mae\"]\n",
    "print(\"DNN Train set MAE error %f\" % (dnn_train_mae))\n",
    "\n",
    "dnn_valid_csv_out = \"dnn_valid_regressor.csv\"\n",
    "dnn_valid_stats_out = \"dnn_valid_regressor_stats.txt\"\n",
    "dnn_valid_evaluator = Evaluator(best_dnn, valid_dataset, output_transformers)\n",
    "dnn_valid_df, dnn_valid_mae = dnn_valid_evaluator.compute_model_performance(\n",
    "    dnn_valid_csv_out, dnn_valid_stats_out)\n",
    "dnn_valid_mae = dnn_valid_mae.iloc[0][\"mae\"]\n",
    "print(\"DNN Valid set MAE error %f\" % (dnn_valid_mae))\n",
    "\n",
    "dnn_test_csv_out = \"dnn_test_regressor.csv\"\n",
    "dnn_test_stats_out = \"dnn_test_regressor_stats.txt\"\n",
    "dnn_test_evaluator = Evaluator(best_dnn, test_dataset, output_transformers)\n",
    "dnn_test_df, dnn_test_mae = dnn_test_evaluator.compute_model_performance(\n",
    "    dnn_test_csv_out, dnn_test_stats_out)\n",
    "dnn_test_mae = dnn_test_mae.iloc[0][\"mae\"]\n",
    "print(\"DNN Test set MAE error %f\" % (dnn_test_mae))"
   ]
  },
  {
   "cell_type": "code",
   "execution_count": null,
   "metadata": {
    "collapsed": true
   },
   "outputs": [],
   "source": []
  }
 ],
 "metadata": {
  "kernelspec": {
   "display_name": "Python 2",
   "language": "python",
   "name": "python2"
  },
  "language_info": {
   "codemirror_mode": {
    "name": "ipython",
    "version": 2
   },
   "file_extension": ".py",
   "mimetype": "text/x-python",
   "name": "python",
   "nbconvert_exporter": "python",
   "pygments_lexer": "ipython2",
   "version": "2.7.11"
  }
 },
 "nbformat": 4,
 "nbformat_minor": 0
}
